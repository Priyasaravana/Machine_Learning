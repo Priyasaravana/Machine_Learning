{
  "cells": [
    {
      "cell_type": "markdown",
      "id": "430cc475-c17f-4aa5-8b13-93513ec90793",
      "metadata": {
        "id": "430cc475-c17f-4aa5-8b13-93513ec90793"
      },
      "source": [
        "### Sources:\n",
        "* This notebook used (and modified) code from the following repos:\n",
        "    * https://github.com/jonkrohn/ML-foundations\n",
        "    * https://github.com/mrdbourke/pytorch-deep-learning\n",
        "    * https://github.com/valerija-h/CS551G-Assignment-1.git\n",
        "    * [CNN Explainer](https://poloclub.github.io/cnn-explainer/) - Detailed visualisation of what happens inside a CNN\n",
        "    * [CNN Explainer paper](https://arxiv.org/abs/2004.15004)\n",
        "    * [What is a convolution?](https://www.youtube.com/watch?v=KuXjwB4LzSA) from the 3Blue1Brown youtube channel\n",
        "    * [Convolution arithmetic](https://github.com/vdumoulin/conv_arithmetic/blob/master/README.md) - An excellent visual illustration of convolutional operations (stride, padding,..etc)\n",
        "    * https://lilianweng.github.io/\n",
        "    \n",
        "For any questions please contact the demonstrators:\n",
        "* [Kam Woh Ng](kamwoh.ng@surrey.ac.uk)\n",
        "* [Swapnil Bhosale](s.bhosale@surrey.ac.uk)\n",
        "* [Haosen \"Happy\" Yang](h.yang@surrey.ac.uk)\n",
        "* [Al-Hussein Abutaleb](a.abutaleb@surrey.ac.uk)"
      ]
    },
    {
      "cell_type": "markdown",
      "id": "12b9997b-f59a-4376-81fd-67201e4c8fc0",
      "metadata": {
        "id": "12b9997b-f59a-4376-81fd-67201e4c8fc0"
      },
      "source": [
        "# Introduction to solving Computer Vision problems using PyTorch"
      ]
    },
    {
      "cell_type": "markdown",
      "id": "bd2fff23-587b-4b3a-be70-3fa3b70b8b86",
      "metadata": {
        "id": "bd2fff23-587b-4b3a-be70-3fa3b70b8b86"
      },
      "source": [
        "## Computer vision libraries in PyTorch\n",
        "* `torchvision` - baseline library for PyTorch computer vision\n",
        "* `torchvision.datasets` - gets datasets and data loading functions for computer vision here\n",
        "* `torchvision.models` - get pretrained computer vision models\n",
        "* `torchvision.transforms` - functions for manipulating your vision data to be suitable for use with an ml model\n",
        "* `torch.utils.data.Dataset` - Base dataset class for PyTorch\n",
        "* `torch.utils.data.DataLoader` - Creates a Python iterable over a dataset"
      ]
    },
    {
      "cell_type": "code",
      "execution_count": null,
      "id": "7fc74c53-5210-4ac7-adab-486918d6e0b0",
      "metadata": {
        "colab": {
          "base_uri": "https://localhost:8080/"
        },
        "id": "7fc74c53-5210-4ac7-adab-486918d6e0b0",
        "outputId": "4402ef9f-56bb-47ad-d970-9453a7724591"
      },
      "outputs": [
        {
          "output_type": "stream",
          "name": "stdout",
          "text": [
            "PyTorch version: 1.13.1+cu116\n",
            "torchvision version: 0.14.1+cu116\n",
            "GPU is available\n"
          ]
        }
      ],
      "source": [
        "# Import PyTorch\n",
        "\n",
        "import torch\n",
        "from torch import nn\n",
        "\n",
        "# Import torchvision\n",
        "import torchvision\n",
        "from torchvision import datasets\n",
        "from torchvision import transforms\n",
        "from torchvision.transforms import ToTensor\n",
        "\n",
        "# Import matplotlib for visualization\n",
        "import matplotlib.pyplot as plt\n",
        "\n",
        "# Check versions\n",
        "print(f\"PyTorch version: {torch.__version__}\\ntorchvision version: {torchvision.__version__}\")\n",
        "\n",
        "\n",
        "# Check if GPU is available\n",
        "if torch.cuda.is_available():\n",
        "   print(\"GPU is available\")\n",
        "else:\n",
        "   print(\"Change the setting in Colab, under Runtime to 'GPU'\")"
      ]
    },
    {
      "cell_type": "markdown",
      "id": "b93014ae-3cf7-46f0-ac81-79c461cf4dfc",
      "metadata": {
        "id": "b93014ae-3cf7-46f0-ac81-79c461cf4dfc"
      },
      "source": [
        "## 1. Getting a dataset: [FashionMNIST](https://github.com/zalandoresearch/fashion-mnist)\n",
        "\n",
        "To begin working on a computer vision problem, let's get a computer vision dataset.\n",
        "\n",
        "We're going to start with FashionMNIST. MNIST stands for Modified National Institute of Standards and Technology. The [original MNIST dataset](https://en.wikipedia.org/wiki/MNIST_database) contains thousands of examples of handwritten digits (from 0 to 9) and was used to build computer vision models to identify numbers for postal services. Amongst Deep Learning enthusiasts, solving MNIST is largely considered the equivalent to printing your first 'Hello World!' in a new programming language.\n",
        "\n",
        "[FashionMNIST](https://github.com/zalandoresearch/fashion-mnist), made by Zalando Research, is a similar to MNIST but with a data that is slightly harder to classifiy. It contains grayscale images of 10 different kinds of clothing items, as opposed to handwritten digits in MNIST.\n",
        "\n",
        "*[`torchvision.datasets`](https://pytorch.org/vision/stable/datasets.html) contains a lot of example datasets you can use to practice writing computer vision code on. FashionMNIST is one of those datasets. And since it has 10 different image classes, it's a multi-class classification problem. We're going to use `torchvision.datasets` buil-in functions to gain access to FashionMNIST.\n",
        "This is done via [`torchvision.datasets.FashionMNIST()`](https://pytorch.org/vision/main/generated/torchvision.datasets.FashionMNIST.html).\n",
        "\n",
        "To download it, we provide the following parameters:\n",
        "* `root: str` - which folder do you want to download the data to?\n",
        "* `train: Bool` - do you want the training or test split?\n",
        "* `download: Bool` - should the data be downloaded?\n",
        "* [`transform: torchvision.transforms`](https://pytorch.org/vision/stable/transforms.html) - what transformations would you like to do on the data?\n",
        "* `target_transform` - you can transform the targets (labels) if you like too.\n",
        "\n",
        "Many other datasets in `torchvision` have these parameter options.\n",
        "\n",
        "\n",
        "## This Notebook:\n",
        "\n",
        "You will be introduced to a variety techniques in this notebook. First, you will learn how to download the data, prepare it, and conduct basic exploratory data analysis (EPA). Following that you will be three neural networks to attempt to solve the problem of classifiying the images in the dataset. With each network a degree of complexity will be added. You will then conduct basic evaluation and comparison of all the models you created. Finally, you will learn how to save your models and re-load them for future use.\n",
        "\n",
        "* Note: We included extra exercises for the interested investigator toward the end. Please do no hesitate to contact us should you need any help in tackling those.\n",
        "\n",
        "May the force be with you!"
      ]
    },
    {
      "cell_type": "code",
      "execution_count": null,
      "id": "4487b2aa-c303-4f6e-8321-aaf068ff2d86",
      "metadata": {
        "id": "4487b2aa-c303-4f6e-8321-aaf068ff2d86"
      },
      "outputs": [],
      "source": [
        " # Setup the training data. Here we will use PyTorch's own build in functions to facilitate downloading the dataset\n",
        "\n",
        "train_data = datasets.FashionMNIST(\n",
        "    root=\"data\",  # where to download data to?\n",
        "    train=True, # do we want the training dataset?\n",
        "    download=True, # do we want to download yes/no?\n",
        "    transform=torchvision.transforms.ToTensor(), # how do we want to transform the data?\n",
        "    target_transform=None, # how do we want to transform the labels/targets?\n",
        ")\n",
        "\n",
        "test_data = datasets.FashionMNIST(\n",
        "        root=\"data\",\n",
        "        train=False,\n",
        "        download=True,\n",
        "        transform=torchvision.transforms.ToTensor(),\n",
        "        target_transform=None\n",
        ")\n"
      ]
    },
    {
      "cell_type": "code",
      "execution_count": null,
      "id": "85989148-6354-4dbc-8b5e-21e76d7b534f",
      "metadata": {
        "colab": {
          "base_uri": "https://localhost:8080/"
        },
        "id": "85989148-6354-4dbc-8b5e-21e76d7b534f",
        "outputId": "22f4d5ef-04e5-49bc-a5fe-2160487a51d8"
      },
      "outputs": [
        {
          "output_type": "execute_result",
          "data": {
            "text/plain": [
              "(60000, 10000)"
            ]
          },
          "metadata": {},
          "execution_count": 3
        }
      ],
      "source": [
        "# Confirming the size of the train/test split. That's 60k images and labels in the training data and 10k images and labels in the testing data\n",
        "len(train_data), len(test_data)"
      ]
    },
    {
      "cell_type": "code",
      "execution_count": null,
      "id": "796da16b-0bad-483a-a608-b6f205596505",
      "metadata": {
        "colab": {
          "base_uri": "https://localhost:8080/"
        },
        "id": "796da16b-0bad-483a-a608-b6f205596505",
        "outputId": "e6072244-2e07-457b-ab56-6e75af622569"
      },
      "outputs": [
        {
          "output_type": "execute_result",
          "data": {
            "text/plain": [
              "(tensor([[[0.0000, 0.0000, 0.0000, 0.0000, 0.0000, 0.0000, 0.0000, 0.0000,\n",
              "           0.0000, 0.0000, 0.0000, 0.0000, 0.0000, 0.0000, 0.0000, 0.0000,\n",
              "           0.0000, 0.0000, 0.0000, 0.0000, 0.0000, 0.0000, 0.0000, 0.0000,\n",
              "           0.0000, 0.0000, 0.0000, 0.0000],\n",
              "          [0.0000, 0.0000, 0.0000, 0.0000, 0.0000, 0.0000, 0.0000, 0.0000,\n",
              "           0.0000, 0.0000, 0.0000, 0.0000, 0.0000, 0.0000, 0.0000, 0.0000,\n",
              "           0.0000, 0.0000, 0.0000, 0.0000, 0.0000, 0.0000, 0.0000, 0.0000,\n",
              "           0.0000, 0.0000, 0.0000, 0.0000],\n",
              "          [0.0000, 0.0000, 0.0000, 0.0000, 0.0000, 0.0000, 0.0000, 0.0000,\n",
              "           0.0000, 0.0000, 0.0000, 0.0000, 0.0000, 0.0000, 0.0000, 0.0000,\n",
              "           0.0000, 0.0000, 0.0000, 0.0000, 0.0000, 0.0000, 0.0000, 0.0000,\n",
              "           0.0000, 0.0000, 0.0000, 0.0000],\n",
              "          [0.0000, 0.0000, 0.0000, 0.0000, 0.0000, 0.0000, 0.0000, 0.0000,\n",
              "           0.0000, 0.0000, 0.0000, 0.0000, 0.0039, 0.0000, 0.0000, 0.0510,\n",
              "           0.2863, 0.0000, 0.0000, 0.0039, 0.0157, 0.0000, 0.0000, 0.0000,\n",
              "           0.0000, 0.0039, 0.0039, 0.0000],\n",
              "          [0.0000, 0.0000, 0.0000, 0.0000, 0.0000, 0.0000, 0.0000, 0.0000,\n",
              "           0.0000, 0.0000, 0.0000, 0.0000, 0.0118, 0.0000, 0.1412, 0.5333,\n",
              "           0.4980, 0.2431, 0.2118, 0.0000, 0.0000, 0.0000, 0.0039, 0.0118,\n",
              "           0.0157, 0.0000, 0.0000, 0.0118],\n",
              "          [0.0000, 0.0000, 0.0000, 0.0000, 0.0000, 0.0000, 0.0000, 0.0000,\n",
              "           0.0000, 0.0000, 0.0000, 0.0000, 0.0235, 0.0000, 0.4000, 0.8000,\n",
              "           0.6902, 0.5255, 0.5647, 0.4824, 0.0902, 0.0000, 0.0000, 0.0000,\n",
              "           0.0000, 0.0471, 0.0392, 0.0000],\n",
              "          [0.0000, 0.0000, 0.0000, 0.0000, 0.0000, 0.0000, 0.0000, 0.0000,\n",
              "           0.0000, 0.0000, 0.0000, 0.0000, 0.0000, 0.0000, 0.6078, 0.9255,\n",
              "           0.8118, 0.6980, 0.4196, 0.6118, 0.6314, 0.4275, 0.2510, 0.0902,\n",
              "           0.3020, 0.5098, 0.2824, 0.0588],\n",
              "          [0.0000, 0.0000, 0.0000, 0.0000, 0.0000, 0.0000, 0.0000, 0.0000,\n",
              "           0.0000, 0.0000, 0.0000, 0.0039, 0.0000, 0.2706, 0.8118, 0.8745,\n",
              "           0.8549, 0.8471, 0.8471, 0.6392, 0.4980, 0.4745, 0.4784, 0.5725,\n",
              "           0.5529, 0.3451, 0.6745, 0.2588],\n",
              "          [0.0000, 0.0000, 0.0000, 0.0000, 0.0000, 0.0000, 0.0000, 0.0000,\n",
              "           0.0000, 0.0039, 0.0039, 0.0039, 0.0000, 0.7843, 0.9098, 0.9098,\n",
              "           0.9137, 0.8980, 0.8745, 0.8745, 0.8431, 0.8353, 0.6431, 0.4980,\n",
              "           0.4824, 0.7686, 0.8980, 0.0000],\n",
              "          [0.0000, 0.0000, 0.0000, 0.0000, 0.0000, 0.0000, 0.0000, 0.0000,\n",
              "           0.0000, 0.0000, 0.0000, 0.0000, 0.0000, 0.7176, 0.8824, 0.8471,\n",
              "           0.8745, 0.8941, 0.9216, 0.8902, 0.8784, 0.8706, 0.8784, 0.8667,\n",
              "           0.8745, 0.9608, 0.6784, 0.0000],\n",
              "          [0.0000, 0.0000, 0.0000, 0.0000, 0.0000, 0.0000, 0.0000, 0.0000,\n",
              "           0.0000, 0.0000, 0.0000, 0.0000, 0.0000, 0.7569, 0.8941, 0.8549,\n",
              "           0.8353, 0.7765, 0.7059, 0.8314, 0.8235, 0.8275, 0.8353, 0.8745,\n",
              "           0.8627, 0.9529, 0.7922, 0.0000],\n",
              "          [0.0000, 0.0000, 0.0000, 0.0000, 0.0000, 0.0000, 0.0000, 0.0000,\n",
              "           0.0000, 0.0039, 0.0118, 0.0000, 0.0471, 0.8588, 0.8627, 0.8314,\n",
              "           0.8549, 0.7529, 0.6627, 0.8902, 0.8157, 0.8549, 0.8784, 0.8314,\n",
              "           0.8863, 0.7725, 0.8196, 0.2039],\n",
              "          [0.0000, 0.0000, 0.0000, 0.0000, 0.0000, 0.0000, 0.0000, 0.0000,\n",
              "           0.0000, 0.0000, 0.0235, 0.0000, 0.3882, 0.9569, 0.8706, 0.8627,\n",
              "           0.8549, 0.7961, 0.7765, 0.8667, 0.8431, 0.8353, 0.8706, 0.8627,\n",
              "           0.9608, 0.4667, 0.6549, 0.2196],\n",
              "          [0.0000, 0.0000, 0.0000, 0.0000, 0.0000, 0.0000, 0.0000, 0.0000,\n",
              "           0.0000, 0.0157, 0.0000, 0.0000, 0.2157, 0.9255, 0.8941, 0.9020,\n",
              "           0.8941, 0.9412, 0.9098, 0.8353, 0.8549, 0.8745, 0.9176, 0.8510,\n",
              "           0.8510, 0.8196, 0.3608, 0.0000],\n",
              "          [0.0000, 0.0000, 0.0039, 0.0157, 0.0235, 0.0275, 0.0078, 0.0000,\n",
              "           0.0000, 0.0000, 0.0000, 0.0000, 0.9294, 0.8863, 0.8510, 0.8745,\n",
              "           0.8706, 0.8588, 0.8706, 0.8667, 0.8471, 0.8745, 0.8980, 0.8431,\n",
              "           0.8549, 1.0000, 0.3020, 0.0000],\n",
              "          [0.0000, 0.0118, 0.0000, 0.0000, 0.0000, 0.0000, 0.0000, 0.0000,\n",
              "           0.0000, 0.2431, 0.5686, 0.8000, 0.8941, 0.8118, 0.8353, 0.8667,\n",
              "           0.8549, 0.8157, 0.8275, 0.8549, 0.8784, 0.8745, 0.8588, 0.8431,\n",
              "           0.8784, 0.9569, 0.6235, 0.0000],\n",
              "          [0.0000, 0.0000, 0.0000, 0.0000, 0.0706, 0.1725, 0.3216, 0.4196,\n",
              "           0.7412, 0.8941, 0.8627, 0.8706, 0.8510, 0.8863, 0.7843, 0.8039,\n",
              "           0.8275, 0.9020, 0.8784, 0.9176, 0.6902, 0.7373, 0.9804, 0.9725,\n",
              "           0.9137, 0.9333, 0.8431, 0.0000],\n",
              "          [0.0000, 0.2235, 0.7333, 0.8157, 0.8784, 0.8667, 0.8784, 0.8157,\n",
              "           0.8000, 0.8392, 0.8157, 0.8196, 0.7843, 0.6235, 0.9608, 0.7569,\n",
              "           0.8078, 0.8745, 1.0000, 1.0000, 0.8667, 0.9176, 0.8667, 0.8275,\n",
              "           0.8627, 0.9098, 0.9647, 0.0000],\n",
              "          [0.0118, 0.7922, 0.8941, 0.8784, 0.8667, 0.8275, 0.8275, 0.8392,\n",
              "           0.8039, 0.8039, 0.8039, 0.8627, 0.9412, 0.3137, 0.5882, 1.0000,\n",
              "           0.8980, 0.8667, 0.7373, 0.6039, 0.7490, 0.8235, 0.8000, 0.8196,\n",
              "           0.8706, 0.8941, 0.8824, 0.0000],\n",
              "          [0.3843, 0.9137, 0.7765, 0.8235, 0.8706, 0.8980, 0.8980, 0.9176,\n",
              "           0.9765, 0.8627, 0.7608, 0.8431, 0.8510, 0.9451, 0.2549, 0.2863,\n",
              "           0.4157, 0.4588, 0.6588, 0.8588, 0.8667, 0.8431, 0.8510, 0.8745,\n",
              "           0.8745, 0.8784, 0.8980, 0.1137],\n",
              "          [0.2941, 0.8000, 0.8314, 0.8000, 0.7569, 0.8039, 0.8275, 0.8824,\n",
              "           0.8471, 0.7255, 0.7725, 0.8078, 0.7765, 0.8353, 0.9412, 0.7647,\n",
              "           0.8902, 0.9608, 0.9373, 0.8745, 0.8549, 0.8314, 0.8196, 0.8706,\n",
              "           0.8627, 0.8667, 0.9020, 0.2627],\n",
              "          [0.1882, 0.7961, 0.7176, 0.7608, 0.8353, 0.7725, 0.7255, 0.7451,\n",
              "           0.7608, 0.7529, 0.7922, 0.8392, 0.8588, 0.8667, 0.8627, 0.9255,\n",
              "           0.8824, 0.8471, 0.7804, 0.8078, 0.7294, 0.7098, 0.6941, 0.6745,\n",
              "           0.7098, 0.8039, 0.8078, 0.4510],\n",
              "          [0.0000, 0.4784, 0.8588, 0.7569, 0.7020, 0.6706, 0.7176, 0.7686,\n",
              "           0.8000, 0.8235, 0.8353, 0.8118, 0.8275, 0.8235, 0.7843, 0.7686,\n",
              "           0.7608, 0.7490, 0.7647, 0.7490, 0.7765, 0.7529, 0.6902, 0.6118,\n",
              "           0.6549, 0.6941, 0.8235, 0.3608],\n",
              "          [0.0000, 0.0000, 0.2902, 0.7412, 0.8314, 0.7490, 0.6863, 0.6745,\n",
              "           0.6863, 0.7098, 0.7255, 0.7373, 0.7412, 0.7373, 0.7569, 0.7765,\n",
              "           0.8000, 0.8196, 0.8235, 0.8235, 0.8275, 0.7373, 0.7373, 0.7608,\n",
              "           0.7529, 0.8471, 0.6667, 0.0000],\n",
              "          [0.0078, 0.0000, 0.0000, 0.0000, 0.2588, 0.7843, 0.8706, 0.9294,\n",
              "           0.9373, 0.9490, 0.9647, 0.9529, 0.9569, 0.8667, 0.8627, 0.7569,\n",
              "           0.7490, 0.7020, 0.7137, 0.7137, 0.7098, 0.6902, 0.6510, 0.6588,\n",
              "           0.3882, 0.2275, 0.0000, 0.0000],\n",
              "          [0.0000, 0.0000, 0.0000, 0.0000, 0.0000, 0.0000, 0.0000, 0.1569,\n",
              "           0.2392, 0.1725, 0.2824, 0.1608, 0.1373, 0.0000, 0.0000, 0.0000,\n",
              "           0.0000, 0.0000, 0.0000, 0.0000, 0.0000, 0.0000, 0.0000, 0.0000,\n",
              "           0.0000, 0.0000, 0.0000, 0.0000],\n",
              "          [0.0000, 0.0000, 0.0000, 0.0000, 0.0000, 0.0000, 0.0000, 0.0000,\n",
              "           0.0000, 0.0000, 0.0000, 0.0000, 0.0000, 0.0000, 0.0000, 0.0000,\n",
              "           0.0000, 0.0000, 0.0000, 0.0000, 0.0000, 0.0000, 0.0000, 0.0000,\n",
              "           0.0000, 0.0000, 0.0000, 0.0000],\n",
              "          [0.0000, 0.0000, 0.0000, 0.0000, 0.0000, 0.0000, 0.0000, 0.0000,\n",
              "           0.0000, 0.0000, 0.0000, 0.0000, 0.0000, 0.0000, 0.0000, 0.0000,\n",
              "           0.0000, 0.0000, 0.0000, 0.0000, 0.0000, 0.0000, 0.0000, 0.0000,\n",
              "           0.0000, 0.0000, 0.0000, 0.0000]]]), 9)"
            ]
          },
          "metadata": {},
          "execution_count": 4
        }
      ],
      "source": [
        "\n",
        "# see first the training exmaple\n",
        "image,label=train_data[0]\n",
        "image,label\n",
        "\n",
        "# these are the pixels representing the first image in the data + the label (the number 9 at the bottom)\n",
        "# Do you notice anything about the values of the pixels in the image?"
      ]
    },
    {
      "cell_type": "code",
      "execution_count": null,
      "id": "53b4c8b9-7ca9-4367-bc5e-8cde54cde81d",
      "metadata": {
        "colab": {
          "base_uri": "https://localhost:8080/"
        },
        "id": "53b4c8b9-7ca9-4367-bc5e-8cde54cde81d",
        "outputId": "a325513d-17b4-40ab-ba6d-ad456a5a7e9e"
      },
      "outputs": [
        {
          "output_type": "execute_result",
          "data": {
            "text/plain": [
              "['T-shirt/top',\n",
              " 'Trouser',\n",
              " 'Pullover',\n",
              " 'Dress',\n",
              " 'Coat',\n",
              " 'Sandal',\n",
              " 'Shirt',\n",
              " 'Sneaker',\n",
              " 'Bag',\n",
              " 'Ankle boot']"
            ]
          },
          "metadata": {},
          "execution_count": 5
        }
      ],
      "source": [
        "class_names = train_data.classes\n",
        "class_names\n",
        "# Which one of these do you think correspond to the number 9 above? [the label that appeared after the pixels odf the image]"
      ]
    },
    {
      "cell_type": "code",
      "source": [
        "print(f\"The first image has a label:{label} representing a: {class_names[label]}\")"
      ],
      "metadata": {
        "colab": {
          "base_uri": "https://localhost:8080/"
        },
        "id": "KS20wG5ICX4c",
        "outputId": "bda9d394-c4b0-47ad-dd31-49a00c9824be"
      },
      "id": "KS20wG5ICX4c",
      "execution_count": null,
      "outputs": [
        {
          "output_type": "stream",
          "name": "stdout",
          "text": [
            "The first image has a label:9 representing a: Ankle boot\n"
          ]
        }
      ]
    },
    {
      "cell_type": "code",
      "execution_count": null,
      "id": "7d1a5878-95b5-4e3d-8f61-d6e83a912299",
      "metadata": {
        "colab": {
          "base_uri": "https://localhost:8080/"
        },
        "id": "7d1a5878-95b5-4e3d-8f61-d6e83a912299",
        "outputId": "882e3e9e-82a5-48e0-8a1e-61b199c604a1"
      },
      "outputs": [
        {
          "output_type": "execute_result",
          "data": {
            "text/plain": [
              "{'T-shirt/top': 0,\n",
              " 'Trouser': 1,\n",
              " 'Pullover': 2,\n",
              " 'Dress': 3,\n",
              " 'Coat': 4,\n",
              " 'Sandal': 5,\n",
              " 'Shirt': 6,\n",
              " 'Sneaker': 7,\n",
              " 'Bag': 8,\n",
              " 'Ankle boot': 9}"
            ]
          },
          "metadata": {},
          "execution_count": 7
        }
      ],
      "source": [
        "class_to_idx = train_data.class_to_idx\n",
        "class_to_idx"
      ]
    },
    {
      "cell_type": "code",
      "execution_count": null,
      "id": "7fe7618d-3f2b-43e8-8d86-e2383b671514",
      "metadata": {
        "colab": {
          "base_uri": "https://localhost:8080/"
        },
        "id": "7fe7618d-3f2b-43e8-8d86-e2383b671514",
        "outputId": "e41d1b02-458e-4412-d402-b94cf0641ffa"
      },
      "outputs": [
        {
          "output_type": "execute_result",
          "data": {
            "text/plain": [
              "tensor([9, 0, 0,  ..., 3, 0, 5])"
            ]
          },
          "metadata": {},
          "execution_count": 8
        }
      ],
      "source": [
        "# These are the y_train! Or the ground truths! Each entry corresponds to an image in train_data[0]\n",
        "train_data.targets"
      ]
    },
    {
      "cell_type": "code",
      "execution_count": null,
      "id": "5c00a915-735a-4a15-9c7b-7a081a3b2106",
      "metadata": {
        "colab": {
          "base_uri": "https://localhost:8080/"
        },
        "id": "5c00a915-735a-4a15-9c7b-7a081a3b2106",
        "outputId": "e8c8f3b7-3ba4-4afc-ef16-0edcb6f9cad2"
      },
      "outputs": [
        {
          "output_type": "stream",
          "name": "stdout",
          "text": [
            "Image shape: torch.Size([1, 28, 28]) -> [c,h,w]\n",
            "Image label: Ankle boot\n"
          ]
        }
      ],
      "source": [
        "# check the shape\n",
        "print(f\"Image shape: {image.shape} -> [c,h,w]\")\n",
        "print(f\"Image label: {class_names[label]}\")\n",
        "\n",
        "# Remember that c= channel, in this case c=1 since we are processing black and white images only"
      ]
    },
    {
      "cell_type": "markdown",
      "id": "49cdc182-ee96-4433-89ee-fbec320c0ee6",
      "metadata": {
        "id": "49cdc182-ee96-4433-89ee-fbec320c0ee6"
      },
      "source": [
        "### 1.2 Visualising our data"
      ]
    },
    {
      "cell_type": "code",
      "execution_count": null,
      "id": "982fbb46-eb8f-4997-a06d-5992566f7158",
      "metadata": {
        "colab": {
          "base_uri": "https://localhost:8080/",
          "height": 281
        },
        "id": "982fbb46-eb8f-4997-a06d-5992566f7158",
        "outputId": "3f51c7f7-f5f7-4243-d6ac-e4f2c54cb11c"
      },
      "outputs": [
        {
          "output_type": "stream",
          "name": "stdout",
          "text": [
            "Image shape: torch.Size([1, 28, 28])\n"
          ]
        },
        {
          "output_type": "display_data",
          "data": {
            "text/plain": [
              "<Figure size 432x288 with 1 Axes>"
            ],
            "image/png": "[encoded data removed]"
          },
          "metadata": {
            "needs_background": "light"
          }
        }
      ],
      "source": [
        "import matplotlib.pyplot as plt\n",
        "image, label = train_data[0]\n",
        "print(f\"Image shape: {image.shape}\")\n",
        "plt.imshow(image.squeeze(), cmap=\"gray\")\n",
        "plt.title(class_names[label]);\n",
        "plt.axis(False);"
      ]
    },
    {
      "cell_type": "code",
      "execution_count": null,
      "id": "97f1b72b-f762-4a32-8e75-a11bc62c3a6a",
      "metadata": {
        "colab": {
          "base_uri": "https://localhost:8080/",
          "height": 917
        },
        "id": "97f1b72b-f762-4a32-8e75-a11bc62c3a6a",
        "outputId": "6ba17ffa-e772-4252-d6d2-59b19e7432a4"
      },
      "outputs": [
        {
          "output_type": "display_data",
          "data": {
            "text/plain": [
              "<Figure size 1152x1152 with 25 Axes>"
            ],
            "image/png": "[encoded data removed]"
          },
          "metadata": {
            "needs_background": "light"
          }
        }
      ],
      "source": [
        "# plot more images\n",
        "torch.manual_seed(42)\n",
        "torch.cuda.manual_seed(42)\n",
        "\n",
        "fig = plt.figure(figsize=(16,16))\n",
        "rows, cols = 5, 5\n",
        "for i in range(1, rows*cols+1):\n",
        "    random_idx = torch.randint(0,len(train_data), size=[1]).item()\n",
        "    img, label = train_data[random_idx]\n",
        "    fig.add_subplot(rows,cols,i);\n",
        "    plt.imshow(img.squeeze(), cmap=\"gray\")\n",
        "    plt.title(class_names[label])\n",
        "    plt.axis(False);"
      ]
    },
    {
      "cell_type": "code",
      "execution_count": null,
      "id": "386f4c48-0840-428c-8802-6c3aab72f1b1",
      "metadata": {
        "colab": {
          "base_uri": "https://localhost:8080/"
        },
        "id": "386f4c48-0840-428c-8802-6c3aab72f1b1",
        "outputId": "3b434d62-1620-4167-bfe4-975968eb132e"
      },
      "outputs": [
        {
          "output_type": "execute_result",
          "data": {
            "text/plain": [
              "(Dataset FashionMNIST\n",
              "     Number of datapoints: 60000\n",
              "     Root location: data\n",
              "     Split: Train\n",
              "     StandardTransform\n",
              " Transform: ToTensor(), Dataset FashionMNIST\n",
              "     Number of datapoints: 10000\n",
              "     Root location: data\n",
              "     Split: Test\n",
              "     StandardTransform\n",
              " Transform: ToTensor())"
            ]
          },
          "metadata": {},
          "execution_count": 12
        }
      ],
      "source": [
        "# Summary of our data\n",
        "train_data, test_data"
      ]
    },
    {
      "cell_type": "markdown",
      "id": "45e0d667-1b66-4dcc-9cdb-44e3cbf70485",
      "metadata": {
        "id": "45e0d667-1b66-4dcc-9cdb-44e3cbf70485"
      },
      "source": [
        "## 2. Prepare DataLoader\n",
        "Right now, our data is in the form of PyTorch Datasets.\n",
        "Dataloaders turn our dataset into a python iterable.\n",
        "More specifically, we want to turn our data into batches (or mini-batches).\n",
        "Why would we do this?\n",
        "\n",
        "1. It is more computationally efficient, as in, your computing hardware may not be able to look (store in memory) 60000 images in one go.So we break it down to 32 images at a time (batch size of 32).\n",
        "2. It gives our neural network more chances to update its gradient per epoch. Recall that Gradient Descent updates will happen at the end of every batch (every 32 images) rather at the end of 60k images."
      ]
    },
    {
      "cell_type": "code",
      "execution_count": null,
      "id": "2c7d7f4a-5f1d-472d-9890-d75138f0708f",
      "metadata": {
        "id": "2c7d7f4a-5f1d-472d-9890-d75138f0708f",
        "outputId": "a8f246ce-c4e1-4f91-ec4b-25869663ba2e",
        "colab": {
          "base_uri": "https://localhost:8080/"
        }
      },
      "outputs": [
        {
          "output_type": "execute_result",
          "data": {
            "text/plain": [
              "(<torch.utils.data.dataloader.DataLoader at 0x7f669e5b15b0>,\n",
              " <torch.utils.data.dataloader.DataLoader at 0x7f669e5b1550>)"
            ]
          },
          "metadata": {},
          "execution_count": 13
        }
      ],
      "source": [
        "# turn train_data into DataLoader\n",
        "from torch.utils.data import DataLoader\n",
        "\n",
        "# set up the batch size hyperparameter. 32 is usually a good size to start from. More often than not, it will suit the pipeline you're developing\n",
        "BATCH_SIZE = 32\n",
        "\n",
        "# turn data into iterables\n",
        "train_dataloader = DataLoader(dataset=train_data,\n",
        "                                 batch_size=BATCH_SIZE,\n",
        "                                 shuffle=True)\n",
        "test_dataloader = DataLoader(dataset=test_data,\n",
        "                                batch_size=BATCH_SIZE,\n",
        "                                shuffle=False) # test data is only used for evaluation, shuffling it makes no difference and makes the process of comparing different models easier\n",
        "\n",
        "train_dataloader, test_dataloader"
      ]
    },
    {
      "cell_type": "code",
      "execution_count": null,
      "id": "af1bab67-4f23-43eb-b2ee-c8f7bb836c2a",
      "metadata": {
        "id": "af1bab67-4f23-43eb-b2ee-c8f7bb836c2a",
        "outputId": "50744084-488c-4f17-bbb6-8d1dc4cb8a85",
        "colab": {
          "base_uri": "https://localhost:8080/"
        }
      },
      "outputs": [
        {
          "output_type": "stream",
          "name": "stdout",
          "text": [
            "DataLoaders: (<torch.utils.data.dataloader.DataLoader object at 0x7f669e5b15b0>, <torch.utils.data.dataloader.DataLoader object at 0x7f669e5b1550>)\n",
            "Length of train_dataloader: 1875 batches of 32...\n",
            "Length of test_dataloader: 313 batches of 32...\n"
          ]
        }
      ],
      "source": [
        "# Let's check out what what we've created\n",
        "print(f\"DataLoaders: {train_dataloader, test_dataloader}\")\n",
        "print(f\"Length of train_dataloader: {len(train_dataloader)} batches of {BATCH_SIZE}...\")\n",
        "print(f\"Length of test_dataloader: {len(test_dataloader)} batches of {BATCH_SIZE}...\")\n",
        "\n",
        "# You can double check the above by dividing 60k by 32"
      ]
    },
    {
      "cell_type": "code",
      "execution_count": null,
      "id": "06955f56-fd44-43b7-9fa5-0361752c2201",
      "metadata": {
        "id": "06955f56-fd44-43b7-9fa5-0361752c2201",
        "outputId": "31aa4a94-ea83-4d58-d55c-26b33d6f7d35",
        "colab": {
          "base_uri": "https://localhost:8080/"
        }
      },
      "outputs": [
        {
          "output_type": "execute_result",
          "data": {
            "text/plain": [
              "(torch.Size([32, 1, 28, 28]), torch.Size([32]))"
            ]
          },
          "metadata": {},
          "execution_count": 15
        }
      ],
      "source": [
        "# Check out what's inside the training dataloader\n",
        "train_features_batch, train_labels_batch = next(iter(train_dataloader))\n",
        "train_features_batch.shape, train_labels_batch.shape\n",
        "# you can read the output as a batch of 32 images, each with size [1,28,28], with corresponding 32 labels"
      ]
    },
    {
      "cell_type": "code",
      "execution_count": null,
      "id": "a6e8bb92-70ac-4253-b9a4-f7463805ed73",
      "metadata": {
        "id": "a6e8bb92-70ac-4253-b9a4-f7463805ed73",
        "outputId": "01c7cce2-fcd6-479b-ef89-559c5a5d92c7",
        "colab": {
          "base_uri": "https://localhost:8080/",
          "height": 299
        }
      },
      "outputs": [
        {
          "output_type": "stream",
          "name": "stdout",
          "text": [
            "Image size: torch.Size([1, 28, 28])\n",
            "Label: 1, label size: torch.Size([])\n"
          ]
        },
        {
          "output_type": "display_data",
          "data": {
            "text/plain": [
              "<Figure size 432x288 with 1 Axes>"
            ],
            "image/png": "[encoded data removed]"
          },
          "metadata": {
            "needs_background": "light"
          }
        }
      ],
      "source": [
        "# show a sample\n",
        "torch.manual_seed(42)\n",
        "# generate a random index\n",
        "random_idx = torch.randint(0, len(train_features_batch), size=[1]).item()\n",
        "# pick out a random image and its label\n",
        "img, label = train_features_batch[random_idx], train_labels_batch[random_idx]\n",
        "\n",
        "plt.imshow(img.squeeze(), cmap=\"gray\")\n",
        "plt.title(class_names[label])\n",
        "plt.axis(False)\n",
        "print(f\"Image size: {img.shape}\")\n",
        "print(f\"Label: {label}, label size: {label.shape}\")"
      ]
    },
    {
      "cell_type": "markdown",
      "id": "4573cbbe-5a6b-4b81-b960-b2ca9bea8601",
      "metadata": {
        "id": "4573cbbe-5a6b-4b81-b960-b2ca9bea8601"
      },
      "source": [
        "## 3. Model 0: Build a baseline model\n",
        "When starting to build a series of machine learning modelling experiements, it's best practice to start with a baseline model.\n",
        "A baseline model is a simple model you will try and improve upon with subsequent models/expirements.\n",
        "In other words, start simply and add complextiy when necessary.\n",
        "\n",
        "\n",
        "[`torch.nn.Flatten()`](https://pytorch.org/docs/stable/generated/torch.nn.Flatten.html) - Please read the documentation. Can you guess what this layer is doing to the input data (image)?"
      ]
    },
    {
      "cell_type": "code",
      "execution_count": null,
      "id": "b3a811e5-b055-4002-bcf7-59eb4d7b09d2",
      "metadata": {
        "id": "b3a811e5-b055-4002-bcf7-59eb4d7b09d2",
        "outputId": "5611b922-a40f-4f44-bc17-a279605d53d7",
        "colab": {
          "base_uri": "https://localhost:8080/"
        }
      },
      "outputs": [
        {
          "output_type": "stream",
          "name": "stdout",
          "text": [
            "Shape before flattening: torch.Size([1, 28, 28]) -> [color_channels, height, width]\n",
            "Shape after flattening: torch.Size([1, 784]) -> [color_channels, height*width]\n"
          ]
        }
      ],
      "source": [
        "# create a flatten later\n",
        "flatten_model = nn.Flatten()\n",
        "\n",
        "# Get a single sample (the first sample image)\n",
        "x = train_features_batch[0]\n",
        "\n",
        "output = flatten_model(x)  # will perform a forward pass on the flatten layer\n",
        "\n",
        "# Print out what happened\n",
        "print(f\"Shape before flattening: {x.shape} -> [color_channels, height, width]\")\n",
        "print(f\"Shape after flattening: {output.shape} -> [color_channels, height*width]\")"
      ]
    },
    {
      "cell_type": "markdown",
      "source": [
        "## Please a have a look at PyTorch [documentation](https://pytorch.org/tutorials/beginner/basics/buildmodel_tutorial.html) before running the cell below."
      ],
      "metadata": {
        "id": "B4f7HaG95a9X"
      },
      "id": "B4f7HaG95a9X"
    },
    {
      "cell_type": "code",
      "execution_count": null,
      "id": "b7b638f0-b666-4922-bb67-7002254b9f9f",
      "metadata": {
        "id": "b7b638f0-b666-4922-bb67-7002254b9f9f"
      },
      "outputs": [],
      "source": [
        "from torch import nn\n",
        "\n",
        "# We now create a our first neural network. This will be a basic feed forward linear network\n",
        "\n",
        "class FashionMNISTModelV0(nn.Module):\n",
        "    def __init__(self,\n",
        "                 input_shape: int,\n",
        "                 hidden_units: int,\n",
        "                 output_shape: int):\n",
        "        super().__init__()\n",
        "        # Here we build the architecure of the model\n",
        "        self.layer_stack = nn.Sequential(\n",
        "            nn.Flatten(),\n",
        "            nn.Linear(in_features=input_shape,\n",
        "                      out_features=hidden_units),\n",
        "            nn.Linear(in_features=hidden_units,\n",
        "                      out_features=output_shape)\n",
        "        )\n",
        "\n",
        "    def forward(self, x):  # x is the batch of images\n",
        "        return self.layer_stack(x)"
      ]
    },
    {
      "cell_type": "code",
      "execution_count": null,
      "id": "9aacaf3c-e422-44c3-8b52-c7aa302c1e99",
      "metadata": {
        "id": "9aacaf3c-e422-44c3-8b52-c7aa302c1e99",
        "outputId": "c243c75d-0144-40a5-8653-c9d8de39b798",
        "colab": {
          "base_uri": "https://localhost:8080/"
        }
      },
      "outputs": [
        {
          "output_type": "execute_result",
          "data": {
            "text/plain": [
              "FashionMNISTModelV0(\n",
              "  (layer_stack): Sequential(\n",
              "    (0): Flatten(start_dim=1, end_dim=-1)\n",
              "    (1): Linear(in_features=784, out_features=10, bias=True)\n",
              "    (2): Linear(in_features=10, out_features=10, bias=True)\n",
              "  )\n",
              ")"
            ]
          },
          "metadata": {},
          "execution_count": 19
        }
      ],
      "source": [
        "torch.manual_seed(42)\n",
        "# We create one instance of the model and set up the model with desired input parameters. These will be the size of the images the model will receive\n",
        "# the number of hidden units inside the model (higher is more computationally expensive and complex) and the output shape (usually the number of classes in the data)\n",
        "model_0 = FashionMNISTModelV0(\n",
        "    input_shape=28*28,\n",
        "    hidden_units=10,\n",
        "    output_shape=len(class_names) # one for every class\n",
        ").to(\"cpu\") # Let's stay on the cpu for now\n",
        "\n",
        "\n",
        "model_0"
      ]
    },
    {
      "cell_type": "code",
      "execution_count": null,
      "id": "cc078177-605a-4bfb-9d7a-4053e0278cbb",
      "metadata": {
        "id": "cc078177-605a-4bfb-9d7a-4053e0278cbb",
        "outputId": "5d49f299-fdef-430e-8d63-32008dd2bb64",
        "colab": {
          "base_uri": "https://localhost:8080/"
        }
      },
      "outputs": [
        {
          "output_type": "execute_result",
          "data": {
            "text/plain": [
              "tensor([[-0.0315,  0.3171,  0.0531, -0.2525,  0.5959,  0.2112,  0.3233,  0.2694,\n",
              "         -0.1004,  0.0157]], grad_fn=<AddmmBackward0>)"
            ]
          },
          "metadata": {},
          "execution_count": 20
        }
      ],
      "source": [
        "# random data tensor\n",
        "dummy_x = torch.rand([1, 1, 28, 28])\n",
        "# forward pass with the random data\n",
        "model_0(dummy_x)\n",
        "\n"
      ]
    },
    {
      "cell_type": "code",
      "execution_count": null,
      "id": "f322931e-7a28-4556-9eb6-f2c1664773c7",
      "metadata": {
        "id": "f322931e-7a28-4556-9eb6-f2c1664773c7",
        "outputId": "78e1c990-8814-4f1e-91df-a5a408d4b382",
        "colab": {
          "base_uri": "https://localhost:8080/"
        }
      },
      "outputs": [
        {
          "output_type": "execute_result",
          "data": {
            "text/plain": [
              "OrderedDict([('layer_stack.1.weight',\n",
              "              tensor([[ 0.0273,  0.0296, -0.0084,  ..., -0.0142,  0.0093,  0.0135],\n",
              "                      [-0.0188, -0.0354,  0.0187,  ..., -0.0106, -0.0001,  0.0115],\n",
              "                      [-0.0008,  0.0017,  0.0045,  ..., -0.0127, -0.0188,  0.0059],\n",
              "                      ...,\n",
              "                      [-0.0116,  0.0273, -0.0344,  ...,  0.0176,  0.0283, -0.0011],\n",
              "                      [-0.0230,  0.0257,  0.0291,  ..., -0.0187, -0.0087,  0.0001],\n",
              "                      [ 0.0176, -0.0147,  0.0053,  ..., -0.0336, -0.0221,  0.0205]])),\n",
              "             ('layer_stack.1.bias',\n",
              "              tensor([-0.0093,  0.0283, -0.0033,  0.0255,  0.0017,  0.0037, -0.0302, -0.0123,\n",
              "                       0.0018,  0.0163])),\n",
              "             ('layer_stack.2.weight',\n",
              "              tensor([[ 0.0614, -0.0687,  0.0021,  0.2718,  0.2109,  0.1079, -0.2279, -0.1063,\n",
              "                        0.2019,  0.2847],\n",
              "                      [-0.1495,  0.1344, -0.0740,  0.2006, -0.0475, -0.2514, -0.3130, -0.0118,\n",
              "                        0.0932, -0.1864],\n",
              "                      [ 0.2488,  0.1500,  0.1907,  0.1457, -0.3050, -0.0580,  0.1643,  0.1565,\n",
              "                       -0.2877, -0.1792],\n",
              "                      [ 0.2305, -0.2618,  0.2397, -0.0610,  0.0232,  0.1542,  0.0851, -0.2027,\n",
              "                        0.1030, -0.2715],\n",
              "                      [-0.1596, -0.0555, -0.0633,  0.2302, -0.1726,  0.2654,  0.1473,  0.1029,\n",
              "                        0.2252, -0.2160],\n",
              "                      [-0.2725,  0.0118,  0.1559,  0.1596,  0.0132,  0.3024,  0.1124,  0.1366,\n",
              "                       -0.1533,  0.0965],\n",
              "                      [-0.1184, -0.2555, -0.2057, -0.1909, -0.0477, -0.1324,  0.2905,  0.1307,\n",
              "                       -0.2629,  0.0133],\n",
              "                      [ 0.2727, -0.0127,  0.0513,  0.0863, -0.1043, -0.2047, -0.1185, -0.0825,\n",
              "                        0.2488, -0.2571],\n",
              "                      [ 0.0425, -0.1209, -0.0336, -0.0281, -0.1227,  0.0730,  0.0747, -0.1816,\n",
              "                        0.1943,  0.2853],\n",
              "                      [-0.1310,  0.0645, -0.1171,  0.2168, -0.0245, -0.2820,  0.0736,  0.2621,\n",
              "                        0.0012, -0.0810]])),\n",
              "             ('layer_stack.2.bias',\n",
              "              tensor([-0.0087,  0.1791,  0.2712, -0.0791,  0.1685,  0.1762,  0.2825,  0.2266,\n",
              "                      -0.2612, -0.2613]))])"
            ]
          },
          "metadata": {},
          "execution_count": 21
        }
      ],
      "source": [
        "model_0.state_dict()"
      ]
    },
    {
      "cell_type": "code",
      "source": [],
      "metadata": {
        "id": "y8CjurlJHo_Q"
      },
      "id": "y8CjurlJHo_Q",
      "execution_count": null,
      "outputs": []
    },
    {
      "cell_type": "markdown",
      "id": "705ba8d7-2279-4235-8caf-d4fdf01204e1",
      "metadata": {
        "id": "705ba8d7-2279-4235-8caf-d4fdf01204e1"
      },
      "source": [
        "### 3.1 Setup loss, optimizer and evaluation metrics\n",
        "* Loss function - since we're working with multi-class data, our loss function will be [`nn.CrossEntropyLoss()`](https://pytorch.org/docs/stable/generated/torch.nn.CrossEntropyLoss.html)\n",
        "* Optimizer - our optimizer [`torch.optim.SGD()`](https://pytorch.org/docs/stable/generated/torch.optim.SGD.html)\n",
        "* Evaluation metric - since we're working on a classification problem, let's use accuracy as our evaluation metric. You can either use torchmetrics or use the function provided below (accuracy_fn())"
      ]
    },
    {
      "cell_type": "code",
      "source": [
        "# You can use torchmetrics library's Accuracy class to measure the accuracy of your model (the code below is meant to ensure we have the correct version of torchmetrics)\n",
        "# Or you can use the function accuracy_fn declared below, which we will use for the remainder of this notebook\n",
        "\n",
        "try:\n",
        "    from torchmetrics import Accuracy\n",
        "except:\n",
        "    !pip install torchmetrics==0.9.3 # this is the version we're using in this notebook (later versions exist here: https://torchmetrics.readthedocs.io/en/stable/generated/CHANGELOG.html#changelog)\n",
        "    from torchmetrics import Accuracy\n",
        "\n",
        "# Setup metric and make sure it's on the target device\n",
        "# Note that the task is set to 'multiclass' since we're dealing with 10 labels\n",
        "torchmetrics_accuracy = Accuracy(task='multiclass', num_classes=4).to(\"cpu\") # since model_0 is on cpu\n",
        "\n",
        "# Calculate accuracy\n",
        "# torchmetrics_accuracy(y_preds, y_blob_test)"
      ],
      "metadata": {
        "id": "hzK4mv_J34UC"
      },
      "id": "hzK4mv_J34UC",
      "execution_count": null,
      "outputs": []
    },
    {
      "cell_type": "code",
      "source": [
        "def accuracy_fn(y_true, y_pred):\n",
        "    \"\"\"Calculates accuracy between truth labels and predictions.\n",
        "\n",
        "    Args:\n",
        "        y_true (torch.Tensor): Truth labels for predictions.\n",
        "        y_pred (torch.Tensor): Predictions to be compared to predictions.\n",
        "\n",
        "    Returns:\n",
        "        [torch.float]: Accuracy value between y_true and y_pred, e.g. 78.45\n",
        "    \"\"\"\n",
        "    correct = torch.eq(y_true, y_pred).sum().item()\n",
        "    acc = (correct / len(y_pred)) * 100\n",
        "    return acc"
      ],
      "metadata": {
        "id": "Qt_V6Z8I34Zd"
      },
      "id": "Qt_V6Z8I34Zd",
      "execution_count": null,
      "outputs": []
    },
    {
      "cell_type": "code",
      "execution_count": null,
      "id": "4217baa5-946b-4628-ae4b-3db18773f4f6",
      "metadata": {
        "id": "4217baa5-946b-4628-ae4b-3db18773f4f6"
      },
      "outputs": [],
      "source": [
        "# setup loss function and optimizer\n",
        "loss_fn = nn.CrossEntropyLoss()\n",
        "optimizer = torch.optim.SGD(params=model_0.parameters(), lr=0.1)\n"
      ]
    },
    {
      "cell_type": "markdown",
      "id": "3908f173-ad22-4a11-aff9-fe84ae89767e",
      "metadata": {
        "id": "3908f173-ad22-4a11-aff9-fe84ae89767e"
      },
      "source": [
        "### 3.2 Create a function to time our expirement\n",
        "ML is very experimental.\n",
        "Two of the main things you'll often want to track are:\n",
        "1. Model's performance (loss and accuracy, etc)\n",
        "2. How fast it runs"
      ]
    },
    {
      "cell_type": "code",
      "execution_count": null,
      "id": "5127df5e-5326-433b-8987-c312ea8eb757",
      "metadata": {
        "id": "5127df5e-5326-433b-8987-c312ea8eb757"
      },
      "outputs": [],
      "source": [
        "from timeit import default_timer as timer\n",
        "def print_train_time(start: float,\n",
        "                     end: float,\n",
        "                     device: torch.device = None):\n",
        "  \"\"\"Prints difference between start and end time.\"\"\"\n",
        "  total_time = end - start\n",
        "  print(f\"Train time on {device}: {total_time:.3f} seconds\")\n",
        "  return total_time"
      ]
    },
    {
      "cell_type": "code",
      "execution_count": null,
      "id": "b545ee00-7138-4a17-bb92-f653b9961a1b",
      "metadata": {
        "id": "b545ee00-7138-4a17-bb92-f653b9961a1b"
      },
      "outputs": [],
      "source": [
        "# start_time = timer()\n",
        "# # some code...\n",
        "# end_time = timer()\n",
        "# print_train_time(start=start_time, end=end_time, device=\"cpu\")"
      ]
    },
    {
      "cell_type": "markdown",
      "id": "aeb56fea-a357-4c07-9061-7636c5ebb4b4",
      "metadata": {
        "id": "aeb56fea-a357-4c07-9061-7636c5ebb4b4"
      },
      "source": [
        "### 3.3 Creating a training loop and training a model on batches of data\n",
        "\n",
        "1. Loop through epochs.\n",
        "2. Loop through training batches, perform training steps, calculate the test loss per batch.\n",
        "3. Loop through testing batches, perform testing steps, calculate the test loss per bacth.\n",
        "4. Print out metrics vs epochs.\n",
        "5. Time it all\n",
        "\n",
        "**Note:** Because we are computing on *batches*, the optimizer will update the model's parameters once *per batch* rather than once per epoch.\n",
        "\n",
        "\n",
        "#### Generally speaking, training any model in PyTorch is done trhough 5 steps:\n",
        "1. Forward pass -> give the model first batch of data and save it.\n",
        "2. Calculate the loss from this data -> how far is it from the ground truth\n",
        "3. [Zero the gradient](https://stackoverflow.com/questions/48001598/why-do-we-need-to-call-zero-grad-in-pytorch#:~:text=zero_grad()%20restarts%20looping%20without,increase%20not%20decrease%20as%20required.) This is done to make sure losses from the last step to add on to the current step.\n",
        "4. Backpropagate through the model to update the weights\n",
        "5. Step the gradient and redo the process!"
      ]
    },
    {
      "cell_type": "code",
      "execution_count": null,
      "id": "4fe66a8a-96fd-45a2-ac19-d665d4f34f62",
      "metadata": {
        "colab": {
          "referenced_widgets": [
            "f94821c7a0b74482a80e393bd8cbdf42",
            "9b4f8a1b6d1d4454ba0380c4577d3c73",
            "99a9d84ac86a4d019b67ceb5c637e0f8",
            "9f1ee2c84e98471387aa64f8b1be025b",
            "5aef43bec55446feafd7b0ee62d4de87",
            "6f4767095a1c48a5b0434bba619475ad",
            "d5fa267e4b6a4ee1935435d45c5896e2",
            "d5b9a9fce4354b909eda607e3aef4ec2",
            "b24274b812ee4fc28dbafbcb42b996bf",
            "4f8f4c7f117b4ecda974f0d654dec431",
            "3c76ef21deaa4db9831ef657200193f3"
          ],
          "base_uri": "https://localhost:8080/",
          "height": 535
        },
        "id": "4fe66a8a-96fd-45a2-ac19-d665d4f34f62",
        "outputId": "689f7279-1976-4532-9191-bd7ce09bb31b"
      },
      "outputs": [
        {
          "output_type": "display_data",
          "data": {
            "text/plain": [
              "  0%|          | 0/3 [00:00<?, ?it/s]"
            ],
            "application/vnd.jupyter.widget-view+json": {
              "version_major": 2,
              "version_minor": 0,
              "model_id": "f94821c7a0b74482a80e393bd8cbdf42"
            }
          },
          "metadata": {}
        },
        {
          "output_type": "stream",
          "name": "stdout",
          "text": [
            "Epoch: 0\n",
            "--------\n",
            "Looked at 0/60000 samples.\n",
            "Looked at 12800/60000 samples.\n",
            "Looked at 25600/60000 samples.\n",
            "Looked at 38400/60000 samples.\n",
            "Looked at 51200/60000 samples.\n",
            "\n",
            "Train loss: 0.5904 | Test loss: 0.5095, Test acc: 82.0387\n",
            "Epoch: 1\n",
            "--------\n",
            "Looked at 0/60000 samples.\n",
            "Looked at 12800/60000 samples.\n",
            "Looked at 25600/60000 samples.\n",
            "Looked at 38400/60000 samples.\n",
            "Looked at 51200/60000 samples.\n",
            "\n",
            "Train loss: 0.4763 | Test loss: 0.4799, Test acc: 83.1969\n",
            "Epoch: 2\n",
            "--------\n",
            "Looked at 0/60000 samples.\n",
            "Looked at 12800/60000 samples.\n",
            "Looked at 25600/60000 samples.\n",
            "Looked at 38400/60000 samples.\n",
            "Looked at 51200/60000 samples.\n",
            "\n",
            "Train loss: 0.4550 | Test loss: 0.4766, Test acc: 83.4265\n",
            "Train time on cpu: 24.903 seconds\n"
          ]
        }
      ],
      "source": [
        "from tqdm.auto import tqdm\n",
        "\n",
        "torch.manual_seed(42)\n",
        "torch.cuda.manual_seed(42)\n",
        "train_time_start_on_cpu = timer()\n",
        "epochs = 3\n",
        "\n",
        "for epoch in tqdm(range(epochs)):\n",
        "    print(f\"Epoch: {epoch}\\n--------\")\n",
        "    train_loss = 0\n",
        "    for batch, (X,y) in enumerate(train_dataloader):\n",
        "        # Put model_0 in training mode, allow weight updates!\n",
        "        # 1. Training mode -> on + forward pass\n",
        "        model_0.train()\n",
        "        # forward pass\n",
        "        y_pred = model_0(X)\n",
        "        # 2. Calculate the loss!\n",
        "        loss = loss_fn(y_pred, y)\n",
        "        train_loss += loss\n",
        "        # 3. Zero the grad! Otherwise losses will add up with every epoch\n",
        "        optimizer.zero_grad()\n",
        "        # 4. Backpropagate through the network\n",
        "        loss.backward()\n",
        "        # 5. Step forward in the loss landscape!\n",
        "        optimizer.step()\n",
        "        if batch % 400 == 0:\n",
        "            print(f\"Looked at {batch * len(X)}/{len(train_dataloader.dataset)} samples.\")\n",
        "\n",
        "    train_loss /= len(train_dataloader)   # trainloss/number of batches\n",
        "\n",
        "    test_loss= 0\n",
        "    test_acc = 0\n",
        "    # we put model_0 in evaluation mode so that its weights are frozen. We don't want to give it testing data (to measure performance) and have the weight changed!\n",
        "    model_0.eval()\n",
        "    with torch.inference_mode():\n",
        "        for X_test,y_test in test_dataloader:\n",
        "            test_pred = model_0(X_test) # this output is in logits (why we need the argmax later to convert the logits to the label format so they can be compared with y_test)\n",
        "            test_loss += loss_fn(test_pred,y_test)\n",
        "            test_acc += accuracy_fn(y_true=y_test, y_pred=test_pred.argmax(dim=1))\n",
        "\n",
        "        test_loss /= len(test_dataloader)\n",
        "        test_acc /= len(test_dataloader)\n",
        "    print(f\"\\nTrain loss: {train_loss:.4f} | Test loss: {test_loss:.4f}, Test acc: {test_acc:.4f}\")\n",
        "\n",
        "\n",
        "# Calculate training time\n",
        "train_time_end_on_cpu = timer()\n",
        "total_train_time_model_0 = print_train_time(start=train_time_start_on_cpu,\n",
        "                                            end=train_time_end_on_cpu,\n",
        "                                            device=str(next(model_0.parameters()).device))"
      ]
    },
    {
      "cell_type": "markdown",
      "id": "f8be75fc-fe1c-476b-b136-b5510bcadf9e",
      "metadata": {
        "id": "f8be75fc-fe1c-476b-b136-b5510bcadf9e"
      },
      "source": [
        "## 4. Make predictions and get Model 0 results"
      ]
    },
    {
      "cell_type": "code",
      "execution_count": null,
      "id": "718d3dd4-786e-4ab5-aac1-990a26104b37",
      "metadata": {
        "colab": {
          "referenced_widgets": [
            "a1047336726b45b193e41863d0bc9e00",
            "ed07d96da7214ba98378cb4c9617705d",
            "aa48d7f29f6f423fa8678d34f177017f",
            "77fdb65cd52546bdb127bc93b17b0116",
            "4c509851de9e4e559558437171c79224",
            "ee75a8e9f75e4847937d0ea2724b8616",
            "c0ba6c8bc2a84433ba4cda789199c56c",
            "d2808b4a387b4617bb724f615663badf",
            "48e278b4744d479594d7f7eaa5ed2fce",
            "c54b112834894dda8b7c66478aa1291a",
            "59d210d7d3dc42549e3abc5a9f5c529e"
          ],
          "base_uri": "https://localhost:8080/",
          "height": 101
        },
        "id": "718d3dd4-786e-4ab5-aac1-990a26104b37",
        "outputId": "62874f68-bc68-4583-cff8-04867d761114"
      },
      "outputs": [
        {
          "output_type": "display_data",
          "data": {
            "text/plain": [
              "  0%|          | 0/313 [00:00<?, ?it/s]"
            ],
            "application/vnd.jupyter.widget-view+json": {
              "version_major": 2,
              "version_minor": 0,
              "model_id": "a1047336726b45b193e41863d0bc9e00"
            }
          },
          "metadata": {}
        },
        {
          "output_type": "execute_result",
          "data": {
            "text/plain": [
              "{'model_name': 'FashionMNISTModelV0',\n",
              " 'model_loss': 0.47663894295692444,\n",
              " 'model_accuracy': 83.42651757188499}"
            ]
          },
          "metadata": {},
          "execution_count": 29
        }
      ],
      "source": [
        "torch.manual_seed(42)\n",
        "\n",
        "# we'll build one eval functiont that we can use with a different set of models so we can make the comaprion easier\n",
        "def eval_model(model: torch.nn.Module,\n",
        "              data_loader: torch.utils.data.DataLoader,\n",
        "              loss_fn: torch.nn.Module,\n",
        "              accuracy_fn):\n",
        "    \"\"\"Returns a dictionary containing the results of model predicting on data_loader\"\"\"\n",
        "    loss, acc =0,0\n",
        "    model.eval()\n",
        "    with torch.inference_mode():\n",
        "        for X, y in tqdm(data_loader):\n",
        "            y_pred = model(X)\n",
        "            loss += loss_fn(y_pred, y)\n",
        "            acc += accuracy_fn(y_true=y,\n",
        "                               y_pred=y_pred.argmax(dim=1))\n",
        "\n",
        "        # Scale loss and acc to find the average loss/acc per batch\n",
        "        loss /= len(data_loader)\n",
        "        acc /= len(data_loader)\n",
        "    return {\"model_name\": model.__class__.__name__, # only works when model was created with a class\n",
        "           \"model_loss\": loss.item(),\n",
        "            \"model_accuracy\": acc\n",
        "           }\n",
        "# Calculate model 0 results on test dataset\n",
        "model_0_results = eval_model(\n",
        "                    model=model_0,\n",
        "                    data_loader=test_dataloader,\n",
        "                    loss_fn=loss_fn,\n",
        "                    accuracy_fn=accuracy_fn\n",
        ")\n",
        "\n",
        "model_0_results"
      ]
    },
    {
      "cell_type": "code",
      "execution_count": null,
      "id": "c3426d85-7211-4012-a407-2051edcd607d",
      "metadata": {
        "id": "c3426d85-7211-4012-a407-2051edcd607d"
      },
      "outputs": [],
      "source": [
        "# device"
      ]
    },
    {
      "cell_type": "markdown",
      "id": "31c82e09-1e16-4d6a-bfe1-47f7de6cd865",
      "metadata": {
        "id": "31c82e09-1e16-4d6a-bfe1-47f7de6cd865"
      },
      "source": [
        "## 5. Setup device agnostic-code"
      ]
    },
    {
      "cell_type": "code",
      "execution_count": null,
      "id": "5c758deb-13c9-4f15-b26b-c3fa02db34de",
      "metadata": {
        "id": "5c758deb-13c9-4f15-b26b-c3fa02db34de",
        "outputId": "6a6a4ed6-3dd6-4dde-fb91-3660c383529e",
        "colab": {
          "base_uri": "https://localhost:8080/"
        }
      },
      "outputs": [
        {
          "output_type": "stream",
          "name": "stdout",
          "text": [
            "Wed Feb 22 12:51:10 2023       \n",
            "+-----------------------------------------------------------------------------+\n",
            "| NVIDIA-SMI 510.47.03    Driver Version: 510.47.03    CUDA Version: 11.6     |\n",
            "|-------------------------------+----------------------+----------------------+\n",
            "| GPU  Name        Persistence-M| Bus-Id        Disp.A | Volatile Uncorr. ECC |\n",
            "| Fan  Temp  Perf  Pwr:Usage/Cap|         Memory-Usage | GPU-Util  Compute M. |\n",
            "|                               |                      |               MIG M. |\n",
            "|===============================+======================+======================|\n",
            "|   0  Tesla T4            Off  | 00000000:00:04.0 Off |                    0 |\n",
            "| N/A   67C    P8    11W /  70W |      3MiB / 15360MiB |      0%      Default |\n",
            "|                               |                      |                  N/A |\n",
            "+-------------------------------+----------------------+----------------------+\n",
            "                                                                               \n",
            "+-----------------------------------------------------------------------------+\n",
            "| Processes:                                                                  |\n",
            "|  GPU   GI   CI        PID   Type   Process name                  GPU Memory |\n",
            "|        ID   ID                                                   Usage      |\n",
            "|=============================================================================|\n",
            "|  No running processes found                                                 |\n",
            "+-----------------------------------------------------------------------------+\n"
          ]
        }
      ],
      "source": [
        "# What GPU do you have!?\n",
        "!nvidia-smi"
      ]
    },
    {
      "cell_type": "code",
      "execution_count": null,
      "id": "b75de67b-91bb-4c86-87f4-43cc02313be8",
      "metadata": {
        "id": "b75de67b-91bb-4c86-87f4-43cc02313be8",
        "outputId": "7f3a73b4-3844-49ac-e75d-4933c0db0062",
        "colab": {
          "base_uri": "https://localhost:8080/"
        }
      },
      "outputs": [
        {
          "output_type": "execute_result",
          "data": {
            "text/plain": [
              "True"
            ]
          },
          "metadata": {},
          "execution_count": 32
        }
      ],
      "source": [
        "# Will give true if gpu is available\n",
        "torch.cuda.is_available()"
      ]
    },
    {
      "cell_type": "code",
      "execution_count": null,
      "id": "f1870e9e-4b77-4e06-831f-3a13d301a549",
      "metadata": {
        "id": "f1870e9e-4b77-4e06-831f-3a13d301a549",
        "outputId": "d6851f76-3dd8-4e02-df34-062b868762cc",
        "colab": {
          "base_uri": "https://localhost:8080/",
          "height": 35
        }
      },
      "outputs": [
        {
          "output_type": "execute_result",
          "data": {
            "text/plain": [
              "'cuda'"
            ],
            "application/vnd.google.colaboratory.intrinsic+json": {
              "type": "string"
            }
          },
          "metadata": {},
          "execution_count": 33
        }
      ],
      "source": [
        "# set up device agnostic code\n",
        "import torch\n",
        "device = \"cuda\" if torch.cuda.is_available() else \"cpu\"\n",
        "device"
      ]
    },
    {
      "cell_type": "markdown",
      "id": "d86a74c8-bedb-4a26-8994-ca9949e0d35b",
      "metadata": {
        "id": "d86a74c8-bedb-4a26-8994-ca9949e0d35b"
      },
      "source": [
        "## 6. Model 1: Building a better model with non-linearity\n",
        "\n",
        "We will add two [`nn.ReLU()`](https://pytorch.org/docs/stable/generated/torch.nn.ReLU.html) layers to model_0 to create model_1.\n"
      ]
    },
    {
      "cell_type": "code",
      "execution_count": null,
      "id": "80ce6098-a0eb-4a1c-be5d-41a15c391680",
      "metadata": {
        "id": "80ce6098-a0eb-4a1c-be5d-41a15c391680"
      },
      "outputs": [],
      "source": [
        "\n",
        "class FashionMNISTModelV1(nn.Module):\n",
        "    def __init__(self,\n",
        "                input_features: int,\n",
        "                hidden_units: int,\n",
        "                output_features: int):\n",
        "        super().__init__()\n",
        "\n",
        "        self.layer_stack = nn.Sequential(\n",
        "        nn.Flatten(),\n",
        "        nn.Linear(in_features=input_features, out_features=hidden_units),\n",
        "        nn.ReLU(),\n",
        "        nn.Linear(in_features= hidden_units, out_features = 10),\n",
        "        nn.ReLU(),\n",
        "        )\n",
        "    def forward(self,x: torch.Tensor):# -> torch.Tensor:\n",
        "        return self.layer_stack(x)\n",
        "\n"
      ]
    },
    {
      "cell_type": "code",
      "execution_count": null,
      "id": "e8b4d3f4-6fc7-4fd1-9ca2-cabf9f898e1c",
      "metadata": {
        "id": "e8b4d3f4-6fc7-4fd1-9ca2-cabf9f898e1c",
        "outputId": "2dd5c059-3883-4f29-d4ae-9fc7a98c3f2e",
        "colab": {
          "base_uri": "https://localhost:8080/"
        }
      },
      "outputs": [
        {
          "output_type": "execute_result",
          "data": {
            "text/plain": [
              "device(type='cuda', index=0)"
            ]
          },
          "metadata": {},
          "execution_count": 35
        }
      ],
      "source": [
        "# Create an instance of model_1\n",
        "\n",
        "\n",
        "torch.manual_seed(42)\n",
        "model_1 = FashionMNISTModelV1(input_features=784, # this is the output of the flatten after our 28*28 image goes in\n",
        "                              hidden_units=10,\n",
        "                              output_features=len(class_names)).to(device) # send to the GPU if it's available\n",
        "next(model_1.parameters()).device"
      ]
    },
    {
      "cell_type": "markdown",
      "id": "b75056a2-3e15-40e7-9ad7-8b20841be2e3",
      "metadata": {
        "id": "b75056a2-3e15-40e7-9ad7-8b20841be2e3"
      },
      "source": [
        "### 6.1 Setup loss, optimizer and evaluation metrics"
      ]
    },
    {
      "cell_type": "code",
      "execution_count": null,
      "id": "82941c37-cf26-4f8c-b793-e126f0ac3718",
      "metadata": {
        "id": "82941c37-cf26-4f8c-b793-e126f0ac3718"
      },
      "outputs": [],
      "source": [
        "\n",
        "loss_fn = nn.CrossEntropyLoss()\n",
        "optimizer = torch.optim.SGD(params=model_1.parameters(),\n",
        "                           lr=0.1)\n"
      ]
    },
    {
      "cell_type": "markdown",
      "id": "7449d666-efcf-476f-806f-613ccf19f8e5",
      "metadata": {
        "id": "7449d666-efcf-476f-806f-613ccf19f8e5"
      },
      "source": [
        "\n",
        "### 6.2 Functionizing training and evaluation/testing loops\n",
        "Let's create a function for:\n",
        "* training loop - `train_step()`\n",
        "* testing loop - `test_step()`\n",
        "\n",
        "This will make it easier to train and test the models we're working on."
      ]
    },
    {
      "cell_type": "code",
      "execution_count": null,
      "id": "b76af1d3-7c7d-4d65-be73-60fe58744575",
      "metadata": {
        "id": "b76af1d3-7c7d-4d65-be73-60fe58744575"
      },
      "outputs": [],
      "source": [
        "def train_step(model: torch.nn.Module,\n",
        "               data_loader: torch.utils.data.DataLoader,\n",
        "               loss_fn: torch.nn.Module,\n",
        "               optimizer: torch.optim.Optimizer,\n",
        "               accuracy_fn,\n",
        "               device: torch.device=device):\n",
        "    \"\"\"Performs a training step with model trying to learn on data_loader\"\"\"\n",
        "\n",
        "    train_loss,train_acc =0,0\n",
        "    # put the model into training mode\n",
        "    model.train()\n",
        "\n",
        "    for batch, (X,y) in enumerate(data_loader):\n",
        "        # put data on target device\n",
        "        X,y = X.to(device), y.to(device)\n",
        "        # 1. Forward pass (outputs the raw logits from the model)\n",
        "        model.train()\n",
        "        y_pred = model(X)\n",
        "        #2. calculate accuracy and loss per batch\n",
        "        loss = loss_fn(y_pred, y)\n",
        "        train_loss += loss # accumelate training loss\n",
        "        train_acc += accuracy_fn(y_true=y, y_pred=y_pred.argmax(dim=1))#from logits to prediction labels\n",
        "        # 3 Zero the losses\n",
        "        optimizer.zero_grad()\n",
        "        # 4 backprop through the model and update the weights\n",
        "        loss.backward()\n",
        "        # 5. step the optimizer\n",
        "        optimizer.step()\n",
        "\n",
        "    train_loss /= len(data_loader)   # trainloss/number of batches\n",
        "    train_acc /= len(data_loader)\n",
        "    print(f\"\\nTrain loss: {train_loss:.4f} | Train acc: {train_acc:.2f}%\")\n"
      ]
    },
    {
      "cell_type": "code",
      "execution_count": null,
      "id": "a14d2a01-c853-4058-8e57-b10ec8213bdd",
      "metadata": {
        "id": "a14d2a01-c853-4058-8e57-b10ec8213bdd"
      },
      "outputs": [],
      "source": [
        "def test_step(model: torch.nn.Module,\n",
        "             data_loader: torch.utils.data.DataLoader,\n",
        "             loss_fn: torch.nn.Module,\n",
        "             accuracy_fn,\n",
        "             device: torch.device=device):\n",
        "    \"\"\"Performs a testing loop step on moel going over data_loader\"\"\"\n",
        "\n",
        "    test_loss= 0\n",
        "    test_acc = 0\n",
        "    #put model in eval mode\n",
        "    model.eval()\n",
        "    with torch.inference_mode():\n",
        "        for X,y in data_loader:\n",
        "            X,y = X.to(device), y.to(device)\n",
        "            #1. forward pass\n",
        "            test_pred = model(X) # this output is in logits (why we need the argmax later to convert the logits to the label format so they can be compared with y_test)\n",
        "            #2. calc loss/acc\n",
        "            test_loss += loss_fn(test_pred,y)\n",
        "            test_acc += accuracy_fn(y_true=y, y_pred=test_pred.argmax(dim=1))\n",
        "\n",
        "        test_loss /= len(data_loader)\n",
        "        test_acc /= len(data_loader)\n",
        "\n",
        "        print(f\"\\nTest loss: {test_loss:.4f} | Test acc: {test_acc:.2f}%\\n\")\n",
        "\n"
      ]
    },
    {
      "cell_type": "code",
      "execution_count": null,
      "id": "f10205cb-8576-492f-a1aa-109923278687",
      "metadata": {
        "colab": {
          "referenced_widgets": [
            "e9ac8ec4dfbc4149a9b8d3605802505a",
            "0be57ec0f4064527a64df69cac8ae705",
            "0a8a077e529844a289ed66b0f3a16a46",
            "67a068a49ffd49bd848d35824404589d",
            "1e76c4cd0e1e41c8b2491283c08737bb",
            "2b24e9a25b2e431c9e7cd423aa8993f5",
            "841efc034e334a5db774f2be75201579",
            "41bbe534395c4f8cacbd27357916d950",
            "92ce8dca2de04eeda54d743aede0ec9c",
            "0c26a29abc764a43a60339bcbca1ee9a",
            "85d545d95cf340d9a393e75bf76fad1a"
          ],
          "base_uri": "https://localhost:8080/",
          "height": 448
        },
        "id": "f10205cb-8576-492f-a1aa-109923278687",
        "outputId": "446fa614-393d-4a8c-d1c6-f6f26837e8e0"
      },
      "outputs": [
        {
          "output_type": "stream",
          "name": "stdout",
          "text": [
            "Train time on cuda: 0.000 seconds\n"
          ]
        },
        {
          "output_type": "display_data",
          "data": {
            "text/plain": [
              "  0%|          | 0/3 [00:00<?, ?it/s]"
            ],
            "application/vnd.jupyter.widget-view+json": {
              "version_major": 2,
              "version_minor": 0,
              "model_id": "e9ac8ec4dfbc4149a9b8d3605802505a"
            }
          },
          "metadata": {}
        },
        {
          "output_type": "stream",
          "name": "stdout",
          "text": [
            "Epoch: 0\n",
            "--------------\n",
            "\n",
            "Train loss: 1.0920 | Train acc: 61.34%\n",
            "\n",
            "Test loss: 0.9564 | Test acc: 65.00%\n",
            "\n",
            "Epoch: 1\n",
            "--------------\n",
            "\n",
            "Train loss: 0.7810 | Train acc: 71.93%\n",
            "\n",
            "Test loss: 0.7223 | Test acc: 73.91%\n",
            "\n",
            "Epoch: 2\n",
            "--------------\n",
            "\n",
            "Train loss: 0.6703 | Train acc: 75.94%\n",
            "\n",
            "Test loss: 0.6850 | Test acc: 75.02%\n",
            "\n",
            "Train time on cuda: 29.218 seconds\n"
          ]
        }
      ],
      "source": [
        "# We will no wuse the training/testing functions above to train and test model_1\n",
        "\n",
        "torch.manual_seed(42)\n",
        "from timeit import default_timer as timer\n",
        "train_time_start_on_gpu = timer()\n",
        "\n",
        "\n",
        "epoch = 3\n",
        "\n",
        "train_time_end_on_gpu = timer()\n",
        "total_train_time_model_1 = print_train_time(start=train_time_start_on_gpu,\n",
        "                                            end=train_time_end_on_gpu,\n",
        "                                            device=device)\n",
        "for epoch in tqdm(range(epochs)):\n",
        "    print(f\"Epoch: {epoch}\\n--------------\")\n",
        "\n",
        "    train_step(model=model_1,\n",
        "              data_loader=train_dataloader,\n",
        "              loss_fn=loss_fn,\n",
        "              optimizer=optimizer,\n",
        "              accuracy_fn=accuracy_fn,\n",
        "              device=device)\n",
        "    test_step(model=model_1,\n",
        "            data_loader=test_dataloader,\n",
        "            loss_fn=loss_fn,\n",
        "            accuracy_fn=accuracy_fn,\n",
        "            device=device)\n",
        "\n",
        "\n",
        "\n",
        "\n",
        "train_time_end_on_gpu = timer()\n",
        "total_train_time_model_1 = print_train_time(start=train_time_start_on_gpu,\n",
        "                                            end=train_time_end_on_gpu,\n",
        "                                            device=device)\n",
        ""
      ]
    },
    {
      "cell_type": "code",
      "execution_count": null,
      "id": "facd7cbe-af84-4d00-8ba6-d6c2cbf67980",
      "metadata": {
        "id": "facd7cbe-af84-4d00-8ba6-d6c2cbf67980",
        "outputId": "ea4e67fe-6299-4aaa-f730-4861a403cc0e",
        "colab": {
          "base_uri": "https://localhost:8080/"
        }
      },
      "outputs": [
        {
          "output_type": "execute_result",
          "data": {
            "text/plain": [
              "24.902695028999915"
            ]
          },
          "metadata": {},
          "execution_count": 40
        }
      ],
      "source": [
        "# Train time on CPU\n",
        "total_train_time_model_0"
      ]
    },
    {
      "cell_type": "code",
      "execution_count": null,
      "id": "c10ba131-4676-4387-b0d0-3f14d4ba95c7",
      "metadata": {
        "colab": {
          "base_uri": "https://localhost:8080/"
        },
        "id": "c10ba131-4676-4387-b0d0-3f14d4ba95c7",
        "outputId": "cc3e388b-9cdb-4502-e6fa-262a8f410423"
      },
      "outputs": [
        {
          "output_type": "execute_result",
          "data": {
            "text/plain": [
              "{'model_name': 'FashionMNISTModelV0',\n",
              " 'model_loss': 0.47663894295692444,\n",
              " 'model_accuracy': 83.42651757188499}"
            ]
          },
          "metadata": {},
          "execution_count": 41
        }
      ],
      "source": [
        "model_0_results"
      ]
    },
    {
      "cell_type": "markdown",
      "id": "f0a5b188-8808-4826-9acf-25c75722a059",
      "metadata": {
        "id": "f0a5b188-8808-4826-9acf-25c75722a059"
      },
      "source": [
        "> **Note:** Sometimes, depending on your data/hardware you might find that your model trains faster on CPU than GPU.\n",
        ">\n",
        "> Why is this?\n",
        ">\n",
        "> 1. It could be that the overhead for copying data/model to and from the GPU outweighs the compute benefits offered by the GPU.\n",
        "> 2. The hardware you're using has a better CPU in terms compute capability than the GPU.\n",
        ">\n",
        "> For more on how to make your models compute faster, see here: https://horace.io/brrr_intro.html"
      ]
    },
    {
      "cell_type": "code",
      "execution_count": null,
      "id": "034bc0b7-e9a6-4262-93a9-8ebd12af0203",
      "metadata": {
        "id": "034bc0b7-e9a6-4262-93a9-8ebd12af0203"
      },
      "outputs": [],
      "source": [
        "torch.manual_seed(42)\n",
        "# we'll build one eval functiont that we can use with a different set of models so we can make the comaprion easier\n",
        "\n",
        "def eval_model(model: torch.nn.Module,\n",
        "              data_loader: torch.utils.data.DataLoader,\n",
        "              loss_fn: torch.nn.Module,\n",
        "              accuracy_fn, device=device):\n",
        "    \"\"\"Returns a dictionary containing the results of model predicting on data_loader\"\"\"\n",
        "    loss, acc =0,0\n",
        "    model.eval()\n",
        "    with torch.inference_mode():\n",
        "        for X, y in tqdm(data_loader):\n",
        "            X,y=X.to(device), y.to(device)\n",
        "            y_pred = model(X)\n",
        "            loss += loss_fn(y_pred, y)\n",
        "            acc += accuracy_fn(y_true=y,\n",
        "                               y_pred=y_pred.argmax(dim=1))\n",
        "\n",
        "        # Scale loss and acc to find the average loss/acc per batch\n",
        "        loss /= len(data_loader)\n",
        "        acc /= len(data_loader)\n",
        "    return {\"model_name\": model.__class__.__name__, # only works when model was created with a class\n",
        "           \"model_loss\": loss.item(),\n",
        "            \"model_accuracy\": acc\n",
        "           }\n"
      ]
    },
    {
      "cell_type": "markdown",
      "source": [
        "Lot's compare model_0 and model_1 results."
      ],
      "metadata": {
        "id": "DN02TH0WD_hn"
      },
      "id": "DN02TH0WD_hn"
    },
    {
      "cell_type": "code",
      "execution_count": null,
      "id": "ca5a55ac-dace-4eb7-91f2-84f908679122",
      "metadata": {
        "colab": {
          "referenced_widgets": [
            "7d89c69c4c854b16bd50aba5860c9ac5",
            "250a437d5efc4cc9bf62404db27ef73f",
            "41e96baf7d39417ea86d28c096e4ae40",
            "a697c89f5c174ab894548c05a31865e9",
            "4bd0cf34890f47309efff5182e5ffc7d",
            "dd72536eb1b34374b92c461cd13b684f",
            "c5080159851d40519ead1caf6a9ce6a4",
            "ed0fac7bf5644b459f0ab2d0499ea9ba",
            "7ff89609cc484962a57cb68dc5bd743b",
            "2679e87aaa9149e6a5aed8e67e161c34",
            "e87a1a7b352b446eaa8a70f0921d5859"
          ],
          "base_uri": "https://localhost:8080/",
          "height": 101
        },
        "id": "ca5a55ac-dace-4eb7-91f2-84f908679122",
        "outputId": "4befc0b2-8ce9-4b86-d706-44a883ee20a7"
      },
      "outputs": [
        {
          "output_type": "display_data",
          "data": {
            "text/plain": [
              "  0%|          | 0/313 [00:00<?, ?it/s]"
            ],
            "application/vnd.jupyter.widget-view+json": {
              "version_major": 2,
              "version_minor": 0,
              "model_id": "7d89c69c4c854b16bd50aba5860c9ac5"
            }
          },
          "metadata": {}
        },
        {
          "output_type": "execute_result",
          "data": {
            "text/plain": [
              "{'model_name': 'FashionMNISTModelV1',\n",
              " 'model_loss': 0.6850008964538574,\n",
              " 'model_accuracy': 75.01996805111821}"
            ]
          },
          "metadata": {},
          "execution_count": 43
        }
      ],
      "source": [
        "model_1_results = eval_model(model=model_1,\n",
        "                             data_loader=test_dataloader,\n",
        "                             loss_fn=loss_fn,\n",
        "                             accuracy_fn=accuracy_fn,device=device)\n",
        "model_1_results"
      ]
    },
    {
      "cell_type": "code",
      "execution_count": null,
      "id": "9444b0f4-f755-428d-a997-9f59e53d17bc",
      "metadata": {
        "id": "9444b0f4-f755-428d-a997-9f59e53d17bc",
        "outputId": "2e06e96e-8a22-4f4c-f089-8571e0ef70d9",
        "colab": {
          "base_uri": "https://localhost:8080/"
        }
      },
      "outputs": [
        {
          "output_type": "execute_result",
          "data": {
            "text/plain": [
              "{'model_name': 'FashionMNISTModelV0',\n",
              " 'model_loss': 0.47663894295692444,\n",
              " 'model_accuracy': 83.42651757188499}"
            ]
          },
          "metadata": {},
          "execution_count": 44
        }
      ],
      "source": [
        "model_0_results"
      ]
    },
    {
      "cell_type": "markdown",
      "id": "a58c41c4-5a8d-4840-b3cc-f9833c50bd28",
      "metadata": {
        "id": "a58c41c4-5a8d-4840-b3cc-f9833c50bd28"
      },
      "source": [
        "## Model 2: Building a Convolutional Neural Network\n",
        "\n",
        "CNN's are also known ConvNets.\n",
        "\n",
        "CNN's are known for their capabilities to find patterns in visual data.\n",
        "\n",
        "To find out what's happening inside a CNN, see this website: https://poloclub.github.io/cnn-explainer/"
      ]
    },
    {
      "cell_type": "code",
      "execution_count": null,
      "id": "4556b230-7e09-45be-8f95-3ab7668fc5be",
      "metadata": {
        "id": "4556b230-7e09-45be-8f95-3ab7668fc5be"
      },
      "outputs": [],
      "source": [
        "# Create a convolution neural network\n",
        "\n",
        "class FashionMNISTModelV2(nn.Module):\n",
        "# \"\"\"  Model architecture that replicates the TinyVGG  model from CNN explainer website: https://poloclub.github.io/cnn-explainer/.  \"\"\"\n",
        "    def __init__(self, input_shape:int, hidden_units: int, output_shape:int):\n",
        "        super().__init__()\n",
        "        # Will create to convolutional blocks, each containing two convolutional layers + two ReLU activations + and one MaxPool layer\n",
        "        self.conv_block_1 = nn.Sequential(\n",
        "            # Create a conv layer - https://pytorch.org/docs/stable/generated/torch.nn.Conv2d.html\n",
        "            nn.Conv2d(in_channels=input_shape,\n",
        "                      out_channels=hidden_units,\n",
        "                      kernel_size=3,\n",
        "                      stride=1,\n",
        "                      padding=1),\n",
        "            # how to use a ReLU(): https://pytorch.org/docs/stable/generated/torch.nn.ReLU.html\n",
        "            nn.ReLU(),\n",
        "            nn.Conv2d(in_channels=hidden_units,\n",
        "                      out_channels=hidden_units,\n",
        "                      kernel_size=3,\n",
        "                      stride=1,\n",
        "                      padding=1),\n",
        "            nn.ReLU(),\n",
        "            nn.MaxPool2d(kernel_size=2)\n",
        "        )\n",
        "        self.conv_block_2 = nn.Sequential(\n",
        "            nn.Conv2d(in_channels=hidden_units,\n",
        "                      out_channels=hidden_units,\n",
        "                      kernel_size=3,\n",
        "                      stride=1,\n",
        "                      padding=1),\n",
        "            nn.ReLU(),\n",
        "            nn.Conv2d(in_channels=hidden_units,\n",
        "                      out_channels=hidden_units,\n",
        "                      kernel_size=3,\n",
        "                      stride=1,\n",
        "                      padding=1),\n",
        "            nn.ReLU(),\n",
        "            nn.MaxPool2d(kernel_size=2)\n",
        "        )\n",
        "        # Final classifier layer\n",
        "        self.classifier = nn.Sequential(\n",
        "            nn.Flatten(),\n",
        "            nn.Linear(in_features=hidden_units*7*7, # Can you predict the shape of the Flatten() layer output?\n",
        "                                              # Remember the output of conv2 block 2 is passed through the flatten first\n",
        "                      # Note: formula for calculating shapes can be found on: https://pytorch.org/docs/master/generated/torch.nn.Conv2d.html\n",
        "                     out_features=output_shape)\n",
        "        )\n",
        "\n",
        "    def forward(self,x):\n",
        "        x = self.conv_block_1(x)\n",
        "#         print(f\"Output shape of conv_block_1: {x.shape}\")\n",
        "        x = self.conv_block_2(x)\n",
        "#         print(f\"Output shape of conv_block_2: {x.shape}\")\n",
        "        x = self.classifier(x)\n",
        "#         print(f\"Output shape of classifier: {x.shape}\")\n",
        "        return x"
      ]
    },
    {
      "cell_type": "code",
      "execution_count": null,
      "id": "05e153d4-51df-4bfa-8f1f-5ad41d5f9fd3",
      "metadata": {
        "id": "05e153d4-51df-4bfa-8f1f-5ad41d5f9fd3"
      },
      "outputs": [],
      "source": [
        "torch.manual_seed(42)\n",
        "# input shape will be the number of channels\n",
        "# output shape will be the number of classes\n",
        "model_2 = FashionMNISTModelV2(input_shape=1,\n",
        "                             hidden_units=10,\n",
        "                             output_shape=len(class_names)).to(device)\n",
        "\n"
      ]
    },
    {
      "cell_type": "markdown",
      "id": "8d27dc49-e027-4162-9bde-15955292c1aa",
      "metadata": {
        "id": "8d27dc49-e027-4162-9bde-15955292c1aa"
      },
      "source": [
        "### 7.1 Stepping through `Conv2d`\n",
        "\n",
        "See the documentation for `nn.Conv2d()` here - https://pytorch.org/docs/stable/generated/torch.nn.Conv2d.html"
      ]
    },
    {
      "cell_type": "code",
      "execution_count": null,
      "id": "242ab0ec-2c0b-43df-9628-62c90ca9936f",
      "metadata": {
        "id": "242ab0ec-2c0b-43df-9628-62c90ca9936f",
        "outputId": "21a2b45f-1b03-46c6-de09-d23b9f7ce4e8",
        "colab": {
          "base_uri": "https://localhost:8080/"
        }
      },
      "outputs": [
        {
          "output_type": "stream",
          "name": "stdout",
          "text": [
            "Image batch shape: torch.Size([32, 3, 64, 64])\n",
            "Single image shape: torch.Size([3, 64, 64])\n"
          ]
        }
      ],
      "source": [
        "torch.manual_seed(42)\n",
        "\n",
        "# create a batch of 32 colour images of size 64 x 64 (these are just a collection of random numbers)\n",
        "images = torch.randn(size=(32,3,64,64))\n",
        "test_image = images[0]\n",
        "\n",
        "# Remember again that one of the most common sources of errors in DL models is a shape mismatch\n",
        "# Let's make sure we got the right shapes\n",
        "print(f\"Image batch shape: {images.shape}\")\n",
        "print(f\"Single image shape: {test_image.shape}\")\n",
        "# print(f\"Test image:\\n {test_image}\")"
      ]
    },
    {
      "cell_type": "code",
      "execution_count": null,
      "id": "0ebbcc36-80c6-4e53-825d-796d16157a97",
      "metadata": {
        "id": "0ebbcc36-80c6-4e53-825d-796d16157a97",
        "outputId": "04930d06-9094-4ba2-f70d-bd1fbf0d2345",
        "colab": {
          "base_uri": "https://localhost:8080/"
        }
      },
      "outputs": [
        {
          "output_type": "execute_result",
          "data": {
            "text/plain": [
              "torch.Size([10, 62, 62])"
            ]
          },
          "metadata": {},
          "execution_count": 48
        }
      ],
      "source": [
        "torch.manual_seed(42)\n",
        "# Create a sinlge conv2d layer\n",
        "conv_layer = nn.Conv2d(in_channels=3, # in_channel=3 since the random images above are coloured\n",
        "                       out_channels=10,\n",
        "                       kernel_size=(3, 3), # size 3 == size (3,3)\n",
        "                       stride=1,\n",
        "                       padding=0)\n",
        "\n",
        "# Pass the data through the convolutional layer\n",
        "conv_output = conv_layer(test_image)\n",
        "conv_output.shape\n",
        "\n",
        "# Can you explain the size of the output?\n",
        "\n",
        "# change the hyper parameters of conv_layer and see how this affect the shape of the final output!"
      ]
    },
    {
      "cell_type": "markdown",
      "id": "194ed2c8-990a-43ba-85e7-762ae3a3cbfb",
      "metadata": {
        "id": "194ed2c8-990a-43ba-85e7-762ae3a3cbfb"
      },
      "source": [
        "### 7.2 Stepping through [`nn.MaxPool2d`](https://pytorch.org/docs/stable/generated/torch.nn.MaxPool2d.html)\n",
        "\n",
        "The sources at the top include useful explanations on the MaxPooling operation."
      ]
    },
    {
      "cell_type": "code",
      "execution_count": null,
      "id": "6c809b7d-fb63-4a18-aebc-92a3d34d22bc",
      "metadata": {
        "id": "6c809b7d-fb63-4a18-aebc-92a3d34d22bc"
      },
      "outputs": [],
      "source": [
        "# # Print out original image shape without unsqueezed dimension\n",
        "# print(f\"Test image original shape: {test_image.shape}\")\n",
        "# print(f\"Test image with unsqueezed dimension: {test_image.unsqueeze(0).shape}\")\n",
        "\n",
        "# # Create a sample nn.MaxPool2d layer\n",
        "# max_pool_layer = nn.MaxPool2d(kernel_size=2)\n",
        "\n",
        "# # Pass data through just the conv_layer\n",
        "# test_image_through_conv = conv_layer(test_image.unsqueeze(dim=0))\n",
        "# print(f\"Shape after going through conv_layer(): {test_image_through_conv.shape}\")\n",
        "\n",
        "# # Pass data through the max pool layer\n",
        "# test_image_through_conv_and_max_pool = max_pool_layer(test_image_through_conv)\n",
        "# print(f\"Shape after going through conv_layer() and max_pool_layer(): {test_image_through_conv_and_max_pool.shape}\")"
      ]
    },
    {
      "cell_type": "code",
      "execution_count": null,
      "id": "643c98b0-269a-433f-81ac-487e24341ed9",
      "metadata": {
        "id": "643c98b0-269a-433f-81ac-487e24341ed9",
        "outputId": "2a4a3182-d2db-42a2-d5aa-93f100547750",
        "colab": {
          "base_uri": "https://localhost:8080/"
        }
      },
      "outputs": [
        {
          "output_type": "stream",
          "name": "stdout",
          "text": [
            "Test image original shape: torch.Size([3, 64, 64])\n",
            "Shape after going through conv_layer(): torch.Size([10, 62, 62])\n",
            "Shape after going through conv_layer() and max_pool_layer(): torch.Size([10, 31, 31])\n",
            "\n",
            "\n",
            " Can you explain the change in the shape?\n",
            "\n",
            "\n",
            " How does changing the hyperparameters change the output?\n"
          ]
        }
      ],
      "source": [
        "# Print out original image shape without unsqueezed dimension\n",
        "print(f\"Test image original shape: {test_image.shape}\")\n",
        "# print(f\"Test image with unsqueezed dimension: {test_image.unsqueeze(0).shape}\")\n",
        "\n",
        "# Create a sample nn.MaxPool2d layer\n",
        "max_pool_layer = nn.MaxPool2d(kernel_size=2)\n",
        "\n",
        "# Pass data through just the conv_layer\n",
        "test_image_through_conv = conv_layer(test_image)\n",
        "print(f\"Shape after going through conv_layer(): {test_image_through_conv.shape}\")\n",
        "\n",
        "# Pass data through the max pool layer\n",
        "test_image_through_conv_and_max_pool = max_pool_layer(test_image_through_conv)\n",
        "print(f\"Shape after going through conv_layer() and max_pool_layer(): {test_image_through_conv_and_max_pool.shape}\")\n",
        "\n",
        "\n",
        "print(f\"\\n\\n Can you explain the change in the shape?\")\n",
        "\n",
        "print(f\"\\n\\n How does changing the hyperparameters change the output?\")"
      ]
    },
    {
      "cell_type": "code",
      "execution_count": null,
      "id": "2f43cb7c-81d4-4410-98a6-fad98a8a48e3",
      "metadata": {
        "id": "2f43cb7c-81d4-4410-98a6-fad98a8a48e3",
        "outputId": "5905bdf6-10e6-4012-e0e7-0332629e3b2f",
        "colab": {
          "base_uri": "https://localhost:8080/"
        }
      },
      "outputs": [
        {
          "output_type": "stream",
          "name": "stdout",
          "text": [
            "Random tensor shape: torch.Size([1, 1, 2, 2])\n",
            "Max pool tensor shape: torch.Size([1, 1, 1, 1])\n"
          ]
        }
      ],
      "source": [
        "torch.manual_seed(42)\n",
        "# Create a random tesnor with a similar number of dimensions to our images\n",
        "random_tensor = torch.randn(size=(1, 1, 2, 2))\n",
        "# print(f\"\\nRandom tensor:\\n{random_tensor}\")\n",
        "print(f\"Random tensor shape: {random_tensor.shape}\")\n",
        "\n",
        "# Create a max pool layer\n",
        "max_pool_layer = nn.MaxPool2d(kernel_size=2)\n",
        "\n",
        "# Pass the random tensor through the max pool layer\n",
        "max_pool_tensor = max_pool_layer(random_tensor)\n",
        "# print(f\"\\nMax pool tensor:\\n {max_pool_tensor}\")\n",
        "print(f\"Max pool tensor shape: {max_pool_tensor.shape}\")"
      ]
    },
    {
      "cell_type": "code",
      "execution_count": null,
      "id": "07f83a7b-8bd2-4288-83b0-dcd1bce4bdd9",
      "metadata": {
        "id": "07f83a7b-8bd2-4288-83b0-dcd1bce4bdd9",
        "outputId": "71372296-517a-4b0e-d340-2031fd48730b",
        "colab": {
          "base_uri": "https://localhost:8080/"
        }
      },
      "outputs": [
        {
          "output_type": "execute_result",
          "data": {
            "text/plain": [
              "torch.Size([1, 28, 28])"
            ]
          },
          "metadata": {},
          "execution_count": 52
        }
      ],
      "source": [
        "image.shape"
      ]
    },
    {
      "cell_type": "code",
      "execution_count": null,
      "id": "1b71c165-d7a0-4f61-a85a-a1870bc15759",
      "metadata": {
        "id": "1b71c165-d7a0-4f61-a85a-a1870bc15759",
        "outputId": "cc2c20bd-3db3-44ba-8356-c6729ef039b1",
        "colab": {
          "base_uri": "https://localhost:8080/",
          "height": 282
        }
      },
      "outputs": [
        {
          "output_type": "execute_result",
          "data": {
            "text/plain": [
              "<matplotlib.image.AxesImage at 0x7f66993b7550>"
            ]
          },
          "metadata": {},
          "execution_count": 53
        },
        {
          "output_type": "display_data",
          "data": {
            "text/plain": [
              "<Figure size 432x288 with 1 Axes>"
            ],
            "image/png": "[encoded data removed]"
          },
          "metadata": {
            "needs_background": "light"
          }
        }
      ],
      "source": [
        "plt.imshow(image.squeeze(), cmap=\"gray\")\n"
      ]
    },
    {
      "cell_type": "code",
      "execution_count": null,
      "id": "e5a43a2a-4a5c-436f-824d-df02eb772db7",
      "metadata": {
        "id": "e5a43a2a-4a5c-436f-824d-df02eb772db7",
        "outputId": "39264f44-1281-4c1e-8099-3dd18eced0b3",
        "colab": {
          "base_uri": "https://localhost:8080/"
        }
      },
      "outputs": [
        {
          "output_type": "execute_result",
          "data": {
            "text/plain": [
              "torch.Size([1, 28, 28])"
            ]
          },
          "metadata": {},
          "execution_count": 54
        }
      ],
      "source": [
        "rand_image_tensor = torch.randn(size=(1,28,28))\n",
        "rand_image_tensor.shape"
      ]
    },
    {
      "cell_type": "code",
      "execution_count": null,
      "id": "9cbdc1c8-4d62-437c-b722-75d6d80a4096",
      "metadata": {
        "id": "9cbdc1c8-4d62-437c-b722-75d6d80a4096",
        "outputId": "9f8587ad-f904-49b9-b469-a1cd22a8b304",
        "colab": {
          "base_uri": "https://localhost:8080/"
        }
      },
      "outputs": [
        {
          "output_type": "execute_result",
          "data": {
            "text/plain": [
              "tensor([[ 0.0424, -0.0839,  0.0839, -0.0463,  0.0053,  0.0437,  0.0025,  0.0108,\n",
              "         -0.0158, -0.0177]], device='cuda:0', grad_fn=<AddmmBackward0>)"
            ]
          },
          "metadata": {},
          "execution_count": 55
        }
      ],
      "source": [
        "# pass image through model\n",
        "model_2(rand_image_tensor.unsqueeze(0).to(device))"
      ]
    },
    {
      "cell_type": "markdown",
      "id": "85a4c184-90cd-408d-bdfb-d7d1a601cd78",
      "metadata": {
        "id": "85a4c184-90cd-408d-bdfb-d7d1a601cd78"
      },
      "source": [
        "## 7.3 Setup loss function/eval metrics/optimizer"
      ]
    },
    {
      "cell_type": "code",
      "execution_count": null,
      "id": "58fe08ba-f171-471d-8170-a676ea3f878a",
      "metadata": {
        "id": "58fe08ba-f171-471d-8170-a676ea3f878a"
      },
      "outputs": [],
      "source": [
        "# Setup loss function/eval metrics/optimizer\n",
        "\n",
        "loss_fn = nn.CrossEntropyLoss()\n",
        "optimizer = torch.optim.SGD(params=model_2.parameters(),\n",
        "                           lr=0.1)"
      ]
    },
    {
      "cell_type": "code",
      "execution_count": null,
      "id": "e2bd5f68-2535-4031-96df-3abb47d8308c",
      "metadata": {
        "id": "e2bd5f68-2535-4031-96df-3abb47d8308c"
      },
      "outputs": [],
      "source": [
        "# what we're trying to optimizer is... (weights of the kernels + biases)\n",
        "# model_2.state_dict()"
      ]
    },
    {
      "cell_type": "markdown",
      "id": "fe42f488-b139-47d7-8931-5fe409ed64bd",
      "metadata": {
        "id": "fe42f488-b139-47d7-8931-5fe409ed64bd"
      },
      "source": [
        "## 7.4 Training and testing model_2 using our training and testing functions"
      ]
    },
    {
      "cell_type": "code",
      "execution_count": null,
      "id": "980ec2ee-1a70-439c-af45-1330638489f3",
      "metadata": {
        "id": "980ec2ee-1a70-439c-af45-1330638489f3",
        "outputId": "f84c681e-ccf8-4d7d-e9c0-71ba7ff59ecc",
        "colab": {
          "base_uri": "https://localhost:8080/"
        }
      },
      "outputs": [
        {
          "output_type": "stream",
          "name": "stdout",
          "text": [
            "Epoch: 0\n",
            "-------\n",
            "\n",
            "Train loss: 0.5990 | Train acc: 78.25%\n",
            "\n",
            "Test loss: 0.3987 | Test acc: 85.77%\n",
            "\n",
            "Epoch: 1\n",
            "-------\n",
            "\n",
            "Train loss: 0.3612 | Train acc: 86.96%\n",
            "\n",
            "Test loss: 0.3473 | Test acc: 87.05%\n",
            "\n",
            "Epoch: 2\n",
            "-------\n",
            "\n",
            "Train loss: 0.3236 | Train acc: 88.28%\n",
            "\n",
            "Test loss: 0.3236 | Test acc: 88.36%\n",
            "\n",
            "Train time on cuda: 43.667 seconds\n"
          ]
        }
      ],
      "source": [
        "# Now, using the functions for training/testing you created earlier but this time with model_2\n",
        "# make sure you comment the print statements inside the forward pass!!\n",
        "\n",
        "torch.manual_seed(42)\n",
        "\n",
        "# Measure time\n",
        "from timeit import default_timer as timer\n",
        "train_time_start_model_2 = timer()\n",
        "\n",
        "# Train and test model\n",
        "epoch = 3\n",
        "for epoch in range(epochs):\n",
        "    print(f\"Epoch: {epoch}\\n-------\")\n",
        "    train_step(model=model_2,\n",
        "              data_loader= train_dataloader,\n",
        "              loss_fn=loss_fn,\n",
        "               optimizer=optimizer,\n",
        "               accuracy_fn=accuracy_fn,\n",
        "               device=device)\n",
        "    test_step(model=model_2,\n",
        "             data_loader=test_dataloader,\n",
        "             loss_fn=loss_fn,\n",
        "             accuracy_fn=accuracy_fn,\n",
        "             device=device)\n",
        "\n",
        "train_time_end_model_2 = timer()\n",
        "total_train_time_model_2 = print_train_time(start = train_time_start_model_2,\n",
        "                                           end = train_time_end_model_2,\n",
        "                                            device = device)\n",
        ""
      ]
    },
    {
      "cell_type": "code",
      "execution_count": null,
      "id": "555288b0-40eb-4640-9bd3-f0151d9f7aca",
      "metadata": {
        "colab": {
          "referenced_widgets": [
            "ea97886bbc6e44f09239fe6319922e65",
            "28fe4d4b45ae4fe7baa2523f6fbc03ca",
            "a868bd1dae0c46e792d7af78d7dfa8ba",
            "56c8296a24ba4a5cbf7a633c9ff1b645",
            "9704d4ded68749908e09ae909a14fb54",
            "f82d33209ba2493696d797c5781c56f6",
            "5945998b409a43ebbb691a76cab0139a",
            "9d219e5c45eb4eaf8b53df73a9dc76e7",
            "be6e86394dd54ba380c63585c5df79ba",
            "16c1a778044b4989881209cb8638288f",
            "492210eb77fb4f4d918924a3607aec2e"
          ],
          "base_uri": "https://localhost:8080/",
          "height": 101
        },
        "id": "555288b0-40eb-4640-9bd3-f0151d9f7aca",
        "outputId": "ad7a7695-d73f-4a1d-a090-ee3df836dfbb"
      },
      "outputs": [
        {
          "output_type": "display_data",
          "data": {
            "text/plain": [
              "  0%|          | 0/313 [00:00<?, ?it/s]"
            ],
            "application/vnd.jupyter.widget-view+json": {
              "version_major": 2,
              "version_minor": 0,
              "model_id": "ea97886bbc6e44f09239fe6319922e65"
            }
          },
          "metadata": {}
        },
        {
          "output_type": "execute_result",
          "data": {
            "text/plain": [
              "{'model_name': 'FashionMNISTModelV2',\n",
              " 'model_loss': 0.3235771954059601,\n",
              " 'model_accuracy': 88.35862619808307}"
            ]
          },
          "metadata": {},
          "execution_count": 59
        }
      ],
      "source": [
        "# get model_2 results\n",
        "model_2_results = eval_model(\n",
        "    model=model_2,\n",
        "    data_loader=test_dataloader,\n",
        "    loss_fn=loss_fn,\n",
        "    accuracy_fn=accuracy_fn,\n",
        "    device=device\n",
        ")\n",
        "\n",
        "model_2_results"
      ]
    },
    {
      "cell_type": "code",
      "execution_count": null,
      "id": "e96b2b88-ed65-4d70-ab5b-d5ff97b68138",
      "metadata": {
        "id": "e96b2b88-ed65-4d70-ab5b-d5ff97b68138",
        "outputId": "97ee25cf-596a-428d-dc1b-904b171875a4",
        "colab": {
          "base_uri": "https://localhost:8080/"
        }
      },
      "outputs": [
        {
          "output_type": "execute_result",
          "data": {
            "text/plain": [
              "{'model_name': 'FashionMNISTModelV0',\n",
              " 'model_loss': 0.47663894295692444,\n",
              " 'model_accuracy': 83.42651757188499}"
            ]
          },
          "metadata": {},
          "execution_count": 60
        }
      ],
      "source": [
        "model_0_results"
      ]
    },
    {
      "cell_type": "markdown",
      "id": "bbe1cbee-1dcf-49da-8aed-3cb21a1e84fb",
      "metadata": {
        "id": "bbe1cbee-1dcf-49da-8aed-3cb21a1e84fb"
      },
      "source": [
        "## 8. Compare all results from the three different models you developed!\n",
        "\n",
        "* Remember that the first one was a feedforard network with no nonlinearity (no activation function)\n",
        "* The second model (model_1) was exactly the same as the first one but with added nonlinearity (Relu activation function).\n",
        "* The third model was a Convolutional Neural Network"
      ]
    },
    {
      "cell_type": "code",
      "execution_count": null,
      "id": "588cc975-6327-44fe-977a-9777f4a9f23a",
      "metadata": {
        "id": "588cc975-6327-44fe-977a-9777f4a9f23a",
        "outputId": "afb3d940-7b1c-4fdc-d863-374fc720f7e4",
        "colab": {
          "base_uri": "https://localhost:8080/",
          "height": 143
        }
      },
      "outputs": [
        {
          "output_type": "execute_result",
          "data": {
            "text/plain": [
              "            model_name  model_loss  model_accuracy\n",
              "1  FashionMNISTModelV1    0.685001       75.019968\n",
              "0  FashionMNISTModelV0    0.476639       83.426518\n",
              "2  FashionMNISTModelV2    0.323577       88.358626"
            ],
            "text/html": [
              "\n",
              "  <div id=\"df-9509b26c-51d0-478d-93db-4cfcdfdd6228\">\n",
              "    <div class=\"colab-df-container\">\n",
              "      <div>\n",
              "<style scoped>\n",
              "    .dataframe tbody tr th:only-of-type {\n",
              "        vertical-align: middle;\n",
              "    }\n",
              "\n",
              "    .dataframe tbody tr th {\n",
              "        vertical-align: top;\n",
              "    }\n",
              "\n",
              "    .dataframe thead th {\n",
              "        text-align: right;\n",
              "    }\n",
              "</style>\n",
              "<table border=\"1\" class=\"dataframe\">\n",
              "  <thead>\n",
              "    <tr style=\"text-align: right;\">\n",
              "      <th></th>\n",
              "      <th>model_name</th>\n",
              "      <th>model_loss</th>\n",
              "      <th>model_accuracy</th>\n",
              "    </tr>\n",
              "  </thead>\n",
              "  <tbody>\n",
              "    <tr>\n",
              "      <th>1</th>\n",
              "      <td>FashionMNISTModelV1</td>\n",
              "      <td>0.685001</td>\n",
              "      <td>75.019968</td>\n",
              "    </tr>\n",
              "    <tr>\n",
              "      <th>0</th>\n",
              "      <td>FashionMNISTModelV0</td>\n",
              "      <td>0.476639</td>\n",
              "      <td>83.426518</td>\n",
              "    </tr>\n",
              "    <tr>\n",
              "      <th>2</th>\n",
              "      <td>FashionMNISTModelV2</td>\n",
              "      <td>0.323577</td>\n",
              "      <td>88.358626</td>\n",
              "    </tr>\n",
              "  </tbody>\n",
              "</table>\n",
              "</div>\n",
              "      <button class=\"colab-df-convert\" onclick=\"convertToInteractive('df-9509b26c-51d0-478d-93db-4cfcdfdd6228')\"\n",
              "              title=\"Convert this dataframe to an interactive table.\"\n",
              "              style=\"display:none;\">\n",
              "        \n",
              "  <svg xmlns=\"http://www.w3.org/2000/svg\" height=\"24px\"viewBox=\"0 0 24 24\"\n",
              "       width=\"24px\">\n",
              "    <path d=\"M0 0h24v24H0V0z\" fill=\"none\"/>\n",
              "    <path d=\"M18.56 5.44l.94 2.06.94-2.06 2.06-.94-2.06-.94-.94-2.06-.94 2.06-2.06.94zm-11 1L8.5 8.5l.94-2.06 2.06-.94-2.06-.94L8.5 2.5l-.94 2.06-2.06.94zm10 10l.94 2.06.94-2.06 2.06-.94-2.06-.94-.94-2.06-.94 2.06-2.06.94z\"/><path d=\"M17.41 7.96l-1.37-1.37c-.4-.4-.92-.59-1.43-.59-.52 0-1.04.2-1.43.59L10.3 9.45l-7.72 7.72c-.78.78-.78 2.05 0 2.83L4 21.41c.39.39.9.59 1.41.59.51 0 1.02-.2 1.41-.59l7.78-7.78 2.81-2.81c.8-.78.8-2.07 0-2.86zM5.41 20L4 18.59l7.72-7.72 1.47 1.35L5.41 20z\"/>\n",
              "  </svg>\n",
              "      </button>\n",
              "      \n",
              "  <style>\n",
              "    .colab-df-container {\n",
              "      display:flex;\n",
              "      flex-wrap:wrap;\n",
              "      gap: 12px;\n",
              "    }\n",
              "\n",
              "    .colab-df-convert {\n",
              "      background-color: #E8F0FE;\n",
              "      border: none;\n",
              "      border-radius: 50%;\n",
              "      cursor: pointer;\n",
              "      display: none;\n",
              "      fill: #1967D2;\n",
              "      height: 32px;\n",
              "      padding: 0 0 0 0;\n",
              "      width: 32px;\n",
              "    }\n",
              "\n",
              "    .colab-df-convert:hover {\n",
              "      background-color: #E2EBFA;\n",
              "      box-shadow: 0px 1px 2px rgba(60, 64, 67, 0.3), 0px 1px 3px 1px rgba(60, 64, 67, 0.15);\n",
              "      fill: #174EA6;\n",
              "    }\n",
              "\n",
              "    [theme=dark] .colab-df-convert {\n",
              "      background-color: #3B4455;\n",
              "      fill: #D2E3FC;\n",
              "    }\n",
              "\n",
              "    [theme=dark] .colab-df-convert:hover {\n",
              "      background-color: #434B5C;\n",
              "      box-shadow: 0px 1px 3px 1px rgba(0, 0, 0, 0.15);\n",
              "      filter: drop-shadow(0px 1px 2px rgba(0, 0, 0, 0.3));\n",
              "      fill: #FFFFFF;\n",
              "    }\n",
              "  </style>\n",
              "\n",
              "      <script>\n",
              "        const buttonEl =\n",
              "          document.querySelector('#df-9509b26c-51d0-478d-93db-4cfcdfdd6228 button.colab-df-convert');\n",
              "        buttonEl.style.display =\n",
              "          google.colab.kernel.accessAllowed ? 'block' : 'none';\n",
              "\n",
              "        async function convertToInteractive(key) {\n",
              "          const element = document.querySelector('#df-9509b26c-51d0-478d-93db-4cfcdfdd6228');\n",
              "          const dataTable =\n",
              "            await google.colab.kernel.invokeFunction('convertToInteractive',\n",
              "                                                     [key], {});\n",
              "          if (!dataTable) return;\n",
              "\n",
              "          const docLinkHtml = 'Like what you see? Visit the ' +\n",
              "            '<a target=\"_blank\" href=https://colab.research.google.com/notebooks/data_table.ipynb>data table notebook</a>'\n",
              "            + ' to learn more about interactive tables.';\n",
              "          element.innerHTML = '';\n",
              "          dataTable['output_type'] = 'display_data';\n",
              "          await google.colab.output.renderOutput(dataTable, element);\n",
              "          const docLink = document.createElement('div');\n",
              "          docLink.innerHTML = docLinkHtml;\n",
              "          element.appendChild(docLink);\n",
              "        }\n",
              "      </script>\n",
              "    </div>\n",
              "  </div>\n",
              "  "
            ]
          },
          "metadata": {},
          "execution_count": 61
        }
      ],
      "source": [
        "# A good way is to combine the results into one data structure. A pandas DataFrame is a very convenient way to do that:\n",
        "import pandas as pd\n",
        "compare_results = pd.DataFrame([model_0_results,\n",
        "                               model_1_results,\n",
        "                               model_2_results])\n",
        "\n",
        "compare_results.sort_values(\"model_accuracy\") # ranks based on accuracy"
      ]
    },
    {
      "cell_type": "markdown",
      "id": "56ec0f8a-0f40-4e06-827f-e558b5a096ab",
      "metadata": {
        "id": "56ec0f8a-0f40-4e06-827f-e558b5a096ab"
      },
      "source": [
        "# Questions to ponder:\n",
        "* Why do you think model_1 was the worst performing? What can you do to make it better? Which hyperparameters would you modify?\n",
        "* Conversly, why do you think model_2 was the best performing? Is there way to make it even better?\n",
        "* Expirement with increasing the epochs (ie training time), how does that affect model performanec overall?\n"
      ]
    },
    {
      "cell_type": "code",
      "execution_count": null,
      "id": "c01675e0-db7e-4c72-a418-9adc274d42e5",
      "metadata": {
        "id": "c01675e0-db7e-4c72-a418-9adc274d42e5",
        "outputId": "cbfa6a4a-06ce-4a37-f122-7426a25e6982",
        "colab": {
          "base_uri": "https://localhost:8080/",
          "height": 143
        }
      },
      "outputs": [
        {
          "output_type": "execute_result",
          "data": {
            "text/plain": [
              "            model_name  model_loss  model_accuracy  training_time\n",
              "0  FashionMNISTModelV0    0.476639       83.426518      24.902695\n",
              "1  FashionMNISTModelV1    0.685001       75.019968      29.218039\n",
              "2  FashionMNISTModelV2    0.323577       88.358626      43.667201"
            ],
            "text/html": [
              "\n",
              "  <div id=\"df-a038d74b-6c4b-4402-97f4-4d92b5ad4e24\">\n",
              "    <div class=\"colab-df-container\">\n",
              "      <div>\n",
              "<style scoped>\n",
              "    .dataframe tbody tr th:only-of-type {\n",
              "        vertical-align: middle;\n",
              "    }\n",
              "\n",
              "    .dataframe tbody tr th {\n",
              "        vertical-align: top;\n",
              "    }\n",
              "\n",
              "    .dataframe thead th {\n",
              "        text-align: right;\n",
              "    }\n",
              "</style>\n",
              "<table border=\"1\" class=\"dataframe\">\n",
              "  <thead>\n",
              "    <tr style=\"text-align: right;\">\n",
              "      <th></th>\n",
              "      <th>model_name</th>\n",
              "      <th>model_loss</th>\n",
              "      <th>model_accuracy</th>\n",
              "      <th>training_time</th>\n",
              "    </tr>\n",
              "  </thead>\n",
              "  <tbody>\n",
              "    <tr>\n",
              "      <th>0</th>\n",
              "      <td>FashionMNISTModelV0</td>\n",
              "      <td>0.476639</td>\n",
              "      <td>83.426518</td>\n",
              "      <td>24.902695</td>\n",
              "    </tr>\n",
              "    <tr>\n",
              "      <th>1</th>\n",
              "      <td>FashionMNISTModelV1</td>\n",
              "      <td>0.685001</td>\n",
              "      <td>75.019968</td>\n",
              "      <td>29.218039</td>\n",
              "    </tr>\n",
              "    <tr>\n",
              "      <th>2</th>\n",
              "      <td>FashionMNISTModelV2</td>\n",
              "      <td>0.323577</td>\n",
              "      <td>88.358626</td>\n",
              "      <td>43.667201</td>\n",
              "    </tr>\n",
              "  </tbody>\n",
              "</table>\n",
              "</div>\n",
              "      <button class=\"colab-df-convert\" onclick=\"convertToInteractive('df-a038d74b-6c4b-4402-97f4-4d92b5ad4e24')\"\n",
              "              title=\"Convert this dataframe to an interactive table.\"\n",
              "              style=\"display:none;\">\n",
              "        \n",
              "  <svg xmlns=\"http://www.w3.org/2000/svg\" height=\"24px\"viewBox=\"0 0 24 24\"\n",
              "       width=\"24px\">\n",
              "    <path d=\"M0 0h24v24H0V0z\" fill=\"none\"/>\n",
              "    <path d=\"M18.56 5.44l.94 2.06.94-2.06 2.06-.94-2.06-.94-.94-2.06-.94 2.06-2.06.94zm-11 1L8.5 8.5l.94-2.06 2.06-.94-2.06-.94L8.5 2.5l-.94 2.06-2.06.94zm10 10l.94 2.06.94-2.06 2.06-.94-2.06-.94-.94-2.06-.94 2.06-2.06.94z\"/><path d=\"M17.41 7.96l-1.37-1.37c-.4-.4-.92-.59-1.43-.59-.52 0-1.04.2-1.43.59L10.3 9.45l-7.72 7.72c-.78.78-.78 2.05 0 2.83L4 21.41c.39.39.9.59 1.41.59.51 0 1.02-.2 1.41-.59l7.78-7.78 2.81-2.81c.8-.78.8-2.07 0-2.86zM5.41 20L4 18.59l7.72-7.72 1.47 1.35L5.41 20z\"/>\n",
              "  </svg>\n",
              "      </button>\n",
              "      \n",
              "  <style>\n",
              "    .colab-df-container {\n",
              "      display:flex;\n",
              "      flex-wrap:wrap;\n",
              "      gap: 12px;\n",
              "    }\n",
              "\n",
              "    .colab-df-convert {\n",
              "      background-color: #E8F0FE;\n",
              "      border: none;\n",
              "      border-radius: 50%;\n",
              "      cursor: pointer;\n",
              "      display: none;\n",
              "      fill: #1967D2;\n",
              "      height: 32px;\n",
              "      padding: 0 0 0 0;\n",
              "      width: 32px;\n",
              "    }\n",
              "\n",
              "    .colab-df-convert:hover {\n",
              "      background-color: #E2EBFA;\n",
              "      box-shadow: 0px 1px 2px rgba(60, 64, 67, 0.3), 0px 1px 3px 1px rgba(60, 64, 67, 0.15);\n",
              "      fill: #174EA6;\n",
              "    }\n",
              "\n",
              "    [theme=dark] .colab-df-convert {\n",
              "      background-color: #3B4455;\n",
              "      fill: #D2E3FC;\n",
              "    }\n",
              "\n",
              "    [theme=dark] .colab-df-convert:hover {\n",
              "      background-color: #434B5C;\n",
              "      box-shadow: 0px 1px 3px 1px rgba(0, 0, 0, 0.15);\n",
              "      filter: drop-shadow(0px 1px 2px rgba(0, 0, 0, 0.3));\n",
              "      fill: #FFFFFF;\n",
              "    }\n",
              "  </style>\n",
              "\n",
              "      <script>\n",
              "        const buttonEl =\n",
              "          document.querySelector('#df-a038d74b-6c4b-4402-97f4-4d92b5ad4e24 button.colab-df-convert');\n",
              "        buttonEl.style.display =\n",
              "          google.colab.kernel.accessAllowed ? 'block' : 'none';\n",
              "\n",
              "        async function convertToInteractive(key) {\n",
              "          const element = document.querySelector('#df-a038d74b-6c4b-4402-97f4-4d92b5ad4e24');\n",
              "          const dataTable =\n",
              "            await google.colab.kernel.invokeFunction('convertToInteractive',\n",
              "                                                     [key], {});\n",
              "          if (!dataTable) return;\n",
              "\n",
              "          const docLinkHtml = 'Like what you see? Visit the ' +\n",
              "            '<a target=\"_blank\" href=https://colab.research.google.com/notebooks/data_table.ipynb>data table notebook</a>'\n",
              "            + ' to learn more about interactive tables.';\n",
              "          element.innerHTML = '';\n",
              "          dataTable['output_type'] = 'display_data';\n",
              "          await google.colab.output.renderOutput(dataTable, element);\n",
              "          const docLink = document.createElement('div');\n",
              "          docLink.innerHTML = docLinkHtml;\n",
              "          element.appendChild(docLink);\n",
              "        }\n",
              "      </script>\n",
              "    </div>\n",
              "  </div>\n",
              "  "
            ]
          },
          "metadata": {},
          "execution_count": 62
        }
      ],
      "source": [
        "# We'll now add one more column to include training time to the results\n",
        "compare_results[\"training_time\"] = [total_train_time_model_0,\n",
        "                                    total_train_time_model_1,\n",
        "                                    total_train_time_model_2]\n",
        "compare_results"
      ]
    },
    {
      "cell_type": "markdown",
      "id": "ba59fab6-3bf0-4c29-8e15-31f601f41de2",
      "metadata": {
        "id": "ba59fab6-3bf0-4c29-8e15-31f601f41de2"
      },
      "source": [
        "* Now that you have factored in training time, what do you notice?\n",
        "* Are the few seconds extra spent on training model_2 worth the added extra few percentages in accuracy? When training very large models such minute differences can mean significant costs incurred or saved."
      ]
    },
    {
      "cell_type": "code",
      "execution_count": null,
      "id": "8bc1b2bf-4e85-45c5-b74b-de6e4c154208",
      "metadata": {
        "id": "8bc1b2bf-4e85-45c5-b74b-de6e4c154208",
        "outputId": "c77de97a-e16e-464e-e5ca-11f362731ba2",
        "colab": {
          "base_uri": "https://localhost:8080/",
          "height": 279
        }
      },
      "outputs": [
        {
          "output_type": "display_data",
          "data": {
            "text/plain": [
              "<Figure size 432x288 with 1 Axes>"
            ],
            "image/png": "[encoded data removed]"
          },
          "metadata": {
            "needs_background": "light"
          }
        }
      ],
      "source": [
        "# Visualize our model results\n",
        "compare_results.set_index(\"model_name\")[\"model_accuracy\"].plot(kind=\"barh\")\n",
        "plt.xlabel(\"accuracy (%)\")\n",
        "plt.ylabel(\"model\");"
      ]
    },
    {
      "cell_type": "markdown",
      "id": "023eab89-b0dc-4f56-83f3-317a80eb9480",
      "metadata": {
        "id": "023eab89-b0dc-4f56-83f3-317a80eb9480"
      },
      "source": [
        "## 9. Make and evaluate random predictions with best model"
      ]
    },
    {
      "cell_type": "code",
      "execution_count": null,
      "id": "aca3098b-3afd-4ff1-bb5e-ae795548ea55",
      "metadata": {
        "id": "aca3098b-3afd-4ff1-bb5e-ae795548ea55"
      },
      "outputs": [],
      "source": [
        "# We want to give the model (any model of type nn.Module) some data, and then have the model\n",
        "# return predictions for the data we gave it. In other words, we'll give the model\n",
        "# some photos and ask it to tell us what they are (jacket, dress, shoes...etc). You can expirement of doing this with models you developed BEFORE and AFTER training\n",
        "# and observe the change in performance.\n",
        "def make_predictions(model: torch.nn.Module, data: list, device: torch.device = device):\n",
        "    pred_probs = []\n",
        "    model.to(device)\n",
        "    model.eval()\n",
        "    with torch.inference_mode():\n",
        "        for sample in data:\n",
        "            # Prepare sample\n",
        "            sample = torch.unsqueeze(sample, dim=0).to(device) # Add an extra dimension and send sample to device\n",
        "\n",
        "            # Forward pass (model outputs raw logit)\n",
        "            pred_logit = model(sample)\n",
        "\n",
        "            # Get prediction probability (logit -> prediction probability)\n",
        "            pred_prob = torch.softmax(pred_logit.squeeze(), dim=0)\n",
        "\n",
        "            # Get pred_prob off GPU for further calculations\n",
        "            pred_probs.append(pred_prob.cpu())\n",
        "\n",
        "    # Stack the pred_probs to turn list into a tensor\n",
        "    return torch.stack(pred_probs)"
      ]
    },
    {
      "cell_type": "code",
      "execution_count": null,
      "id": "e09d0a6b-4d55-4394-82b8-5b7fb67859cc",
      "metadata": {
        "id": "e09d0a6b-4d55-4394-82b8-5b7fb67859cc",
        "outputId": "a1b14890-bbc1-45e1-9459-4043cbcf89fd",
        "colab": {
          "base_uri": "https://localhost:8080/"
        }
      },
      "outputs": [
        {
          "output_type": "execute_result",
          "data": {
            "text/plain": [
              "(torch.Size([1, 28, 28]), 9)"
            ]
          },
          "metadata": {},
          "execution_count": 65
        }
      ],
      "source": [
        "img, label = test_data[0][:10]\n",
        "img.shape, label"
      ]
    },
    {
      "cell_type": "code",
      "execution_count": null,
      "id": "f82ebc91-0cd9-4472-a481-327e03bf5f90",
      "metadata": {
        "id": "f82ebc91-0cd9-4472-a481-327e03bf5f90",
        "outputId": "244c6fad-6d2c-4deb-974c-5b64bccd3b7f",
        "colab": {
          "base_uri": "https://localhost:8080/"
        }
      },
      "outputs": [
        {
          "output_type": "stream",
          "name": "stdout",
          "text": [
            "Test sample image shape: torch.Size([1, 28, 28])\n",
            "Test sample label: 5 (Sandal)\n"
          ]
        }
      ],
      "source": [
        "import random\n",
        "random.seed(42)\n",
        "test_samples = []\n",
        "test_labels = []\n",
        "for sample, label in random.sample(list(test_data), k=16):\n",
        "    test_samples.append(sample)\n",
        "    test_labels.append(label)\n",
        "\n",
        "# View the first test sample shape and label\n",
        "print(f\"Test sample image shape: {test_samples[0].shape}\\nTest sample label: {test_labels[0]} ({class_names[test_labels[0]]})\")"
      ]
    },
    {
      "cell_type": "code",
      "execution_count": null,
      "id": "a9cd7ff3-248e-4642-8c84-c76e73614f85",
      "metadata": {
        "id": "a9cd7ff3-248e-4642-8c84-c76e73614f85",
        "outputId": "33b66167-5cf9-4795-b534-aed6503e901b",
        "colab": {
          "base_uri": "https://localhost:8080/",
          "height": 298
        }
      },
      "outputs": [
        {
          "output_type": "execute_result",
          "data": {
            "text/plain": [
              "Text(0.5, 1.0, 'Sandal')"
            ]
          },
          "metadata": {},
          "execution_count": 67
        },
        {
          "output_type": "display_data",
          "data": {
            "text/plain": [
              "<Figure size 432x288 with 1 Axes>"
            ],
            "image/png": "[encoded data removed]"
          },
          "metadata": {
            "needs_background": "light"
          }
        }
      ],
      "source": [
        "plt.imshow(test_samples[0].squeeze(), cmap=\"gray\")\n",
        "plt.title(class_names[test_labels[0]])"
      ]
    },
    {
      "cell_type": "code",
      "execution_count": null,
      "id": "8deb06ba-575c-4c1d-976b-1abea6553a57",
      "metadata": {
        "id": "8deb06ba-575c-4c1d-976b-1abea6553a57",
        "outputId": "5d2c519a-3b2b-423e-a8f9-0a68b6455bbd",
        "colab": {
          "base_uri": "https://localhost:8080/"
        }
      },
      "outputs": [
        {
          "output_type": "execute_result",
          "data": {
            "text/plain": [
              "tensor([[8.4548e-08, 2.6492e-08, 1.6960e-08, 1.3328e-07, 1.3750e-08, 9.9986e-01,\n",
              "         4.6409e-07, 6.9637e-06, 8.0174e-05, 4.9428e-05],\n",
              "        [2.9500e-02, 4.4739e-01, 1.0426e-03, 1.8423e-01, 9.1149e-02, 1.0396e-04,\n",
              "         2.4095e-01, 1.4864e-03, 1.5640e-04, 3.9954e-03]])"
            ]
          },
          "metadata": {},
          "execution_count": 68
        }
      ],
      "source": [
        "# Make predictions\n",
        "pred_probs = make_predictions(model=model_2,\n",
        "                              data=test_samples)\n",
        "\n",
        "# View first two prediction probabilities\n",
        "# Could you make sense of these probabilities? Remember, each index is a probability of a label!\n",
        "pred_probs[:2]"
      ]
    },
    {
      "cell_type": "code",
      "execution_count": null,
      "id": "7477fc3f-0936-403c-9039-9c2cec7b54a6",
      "metadata": {
        "id": "7477fc3f-0936-403c-9039-9c2cec7b54a6",
        "outputId": "255fa34a-9f6f-4e79-8a1a-b104455536bc",
        "colab": {
          "base_uri": "https://localhost:8080/"
        }
      },
      "outputs": [
        {
          "output_type": "execute_result",
          "data": {
            "text/plain": [
              "tensor([5, 1, 7, 4, 3, 0, 4, 7, 1, 9, 7, 2, 0, 1, 0, 3])"
            ]
          },
          "metadata": {},
          "execution_count": 69
        }
      ],
      "source": [
        "# Convert prediction probabilities to labels\n",
        "pred_classes = pred_probs.argmax(dim=1)\n",
        "pred_classes"
      ]
    },
    {
      "cell_type": "code",
      "execution_count": null,
      "id": "b5472337-1c9e-4d0c-b8f2-899e730b434b",
      "metadata": {
        "id": "b5472337-1c9e-4d0c-b8f2-899e730b434b",
        "outputId": "ab53c553-afc1-4262-d4d6-fe8b8fb698eb",
        "colab": {
          "base_uri": "https://localhost:8080/"
        }
      },
      "outputs": [
        {
          "output_type": "execute_result",
          "data": {
            "text/plain": [
              "[5, 1, 7, 4, 3, 0, 4, 7, 1, 9, 7, 2, 0, 1, 0, 4]"
            ]
          },
          "metadata": {},
          "execution_count": 70
        }
      ],
      "source": [
        "# Are the pred_classes in the same format as the test labels?\n",
        "test_labels"
      ]
    },
    {
      "cell_type": "code",
      "execution_count": null,
      "id": "89dcda2a-5fee-4779-a021-38d6d3c193c7",
      "metadata": {
        "id": "89dcda2a-5fee-4779-a021-38d6d3c193c7",
        "outputId": "0db0ec8a-a751-4409-8abb-19a8ddabbb7f",
        "colab": {
          "base_uri": "https://localhost:8080/",
          "height": 915
        }
      },
      "outputs": [
        {
          "output_type": "display_data",
          "data": {
            "text/plain": [
              "<Figure size 1152x1152 with 16 Axes>"
            ],
            "image/png": "[encoded data removed]"
          },
          "metadata": {
            "needs_background": "light"
          }
        }
      ],
      "source": [
        "# Plot predictions\n",
        "# import matplotlib.pyplot as plt\n",
        "import matplotlib.pyplot as plt\n",
        "\n",
        "plt.figure(figsize=(16, 16))\n",
        "\n",
        "nrows = 4\n",
        "ncols = 4\n",
        "for i, sample in enumerate(test_samples):\n",
        "  # Create subplot\n",
        "  plt.subplot(nrows, ncols, i+1)\n",
        "\n",
        "  # Plot the target image\n",
        "  plt.imshow(sample.squeeze(), cmap=\"gray\")\n",
        "\n",
        "  # Find the prediction (in text form, e.g \"Sandal\")\n",
        "  pred_label = class_names[pred_classes[i]]\n",
        "\n",
        "  # Get the truth label (in text form)\n",
        "  truth_label = class_names[test_labels[i]]\n",
        "\n",
        "  # Create a title for the plot\n",
        "  title_text = f\"Pred: {pred_label} | Truth: {truth_label}\"\n",
        "\n",
        "  # Check for equality between pred and truth and change color of title text\n",
        "  if pred_label == truth_label:\n",
        "    plt.title(title_text, fontsize=11, c=\"g\") # green text if prediction same as truth\n",
        "  else:\n",
        "    plt.title(title_text, fontsize=11, c=\"r\")\n",
        "\n",
        "  plt.axis(False);"
      ]
    },
    {
      "cell_type": "markdown",
      "id": "97fa8680-8670-4768-8a35-d557eebd54d8",
      "metadata": {
        "id": "97fa8680-8670-4768-8a35-d557eebd54d8"
      },
      "source": [
        "* if you see any mistakes in the model's predictions, could inuit as to why this was difficult for the model for that particular image?~"
      ]
    },
    {
      "cell_type": "markdown",
      "id": "7886b82b-da82-4499-951e-12f8f847f0e3",
      "metadata": {
        "id": "7886b82b-da82-4499-951e-12f8f847f0e3"
      },
      "source": [
        "## 10. Making a confusion matrix for further prediction evaluation\n",
        "\n",
        "A confusion matrix is a fantastic way of evaluating your classification models visually: https://www.learnpytorch.io/02_pytorch_classification/#9-more-classification-evaluation-metrics\n",
        "\n",
        "1. Make predictions with our trained model on the test dataset\n",
        "2. Make a confusion matrix [`torchmetrics.ConfusionMatrix`](https://torchmetrics.readthedocs.io/en/stable/classification/confusion_matrix.html)\n",
        "3. Plot the confusion matrix using [`mlxtend.plotting.plot_confusion_matrix()`](http://rasbt.github.io/mlxtend/user_guide/plotting/plot_confusion_matrix/)"
      ]
    },
    {
      "cell_type": "code",
      "execution_count": null,
      "id": "2c9aeeb2-d0d2-49ee-934d-da458346ac3f",
      "metadata": {
        "colab": {
          "referenced_widgets": [
            "d91870458c6a48a49caa12c7f0272ec1",
            "73f2d6d15ac444ac818f460219a086f8",
            "bb1b4a9c31d54f428a73d03ad4f507d8",
            "0b2eb0d4befe473d8d7614e59e346f5b",
            "7d4eb0daeacf4d4f95aa4adb3f71a845",
            "b7456fa2658147f0a5ff081ec4d45c9c",
            "99cae806452c4875a347d31cc4f36d4b",
            "36d6b5f3682a439faaff78b9e7694d1a",
            "9b62dd670d9b4093ad03e9a904cf24e8",
            "fadeec781e734bc8b3ea7b1f6d4ba9b7",
            "9b8563dfab8c4213985d4bad5c267d47"
          ],
          "base_uri": "https://localhost:8080/",
          "height": 66
        },
        "id": "2c9aeeb2-d0d2-49ee-934d-da458346ac3f",
        "outputId": "2d2b328f-5297-49a2-ba48-64e2648d8e51"
      },
      "outputs": [
        {
          "output_type": "display_data",
          "data": {
            "text/plain": [
              "Making predictions...:   0%|          | 0/313 [00:00<?, ?it/s]"
            ],
            "application/vnd.jupyter.widget-view+json": {
              "version_major": 2,
              "version_minor": 0,
              "model_id": "d91870458c6a48a49caa12c7f0272ec1"
            }
          },
          "metadata": {}
        },
        {
          "output_type": "execute_result",
          "data": {
            "text/plain": [
              "tensor([9, 2, 1,  ..., 8, 1, 5])"
            ]
          },
          "metadata": {},
          "execution_count": 72
        }
      ],
      "source": [
        "# Import tqdm.auto\n",
        "from tqdm.auto import tqdm\n",
        "\n",
        "# 1. Make predictions with trained model\n",
        "y_preds = []\n",
        "model_2.eval()\n",
        "with torch.inference_mode():\n",
        "  for X, y in tqdm(test_dataloader, desc=\"Making predictions...\"): #check the docs for tqdm\n",
        "    # Send the data and targets to target device\n",
        "    X, y = X.to(device), y.to(device)\n",
        "    # Do the forward pass\n",
        "    y_logit = model_2(X)\n",
        "#     print(y_logit.shape) # result: torch.Size([32, 10])\n",
        "    # Turn predictions from logits -> prediction probabilities -> prediction labels\n",
        "#     print(y_logit.squeeze().shape) # result: torch.Size([32, 10])\n",
        "    y_pred = torch.softmax(y_logit, dim=1).argmax(dim=1)\n",
        "    # Put prediction on CPU for evaluation\n",
        "    y_preds.append(y_pred.cpu())\n",
        "#     break\n",
        "# Concatenate list of predictions into a tensor\n",
        "# print(y_preds)\n",
        "y_pred_tensor = torch.cat(y_preds)\n",
        "y_pred_tensor\n",
        "\n",
        "\n",
        "\n",
        "\n"
      ]
    },
    {
      "cell_type": "code",
      "execution_count": null,
      "id": "2991ccbf-831b-4070-b542-5064b6927fe0",
      "metadata": {
        "id": "2991ccbf-831b-4070-b542-5064b6927fe0",
        "outputId": "9749d6d7-be52-4367-d9ca-1846a65e5587",
        "colab": {
          "base_uri": "https://localhost:8080/"
        }
      },
      "outputs": [
        {
          "output_type": "execute_result",
          "data": {
            "text/plain": [
              "torch.Size([16])"
            ]
          },
          "metadata": {},
          "execution_count": 73
        }
      ],
      "source": [
        "# len(y_pred) # this will yield 16 not the expected batch size of 32, Can you guess why?\n",
        "y_pred.shape"
      ]
    },
    {
      "cell_type": "code",
      "source": [
        "# See if torchmetrics exists, if not, install the correct version\n",
        "try:\n",
        "    import torchmetrics, mlxtend\n",
        "    print(f\"mlxtend version: {mlxtend.__version__}\")\n",
        "    assert int(mlxtend.__version__.split(\".\")[1]) >= 19, \"mlxtend verison should be 0.19.0 or higher\"\n",
        "except:\n",
        "    !pip install -q torchmetrics -U mlxtend # <- Note: If you're using Google Colab, this may require restarting the runtime\n",
        "    import torchmetrics, mlxtend\n",
        "    print(f\"mlxtend version: {mlxtend.__version__}\")"
      ],
      "metadata": {
        "colab": {
          "base_uri": "https://localhost:8080/"
        },
        "id": "13KCY9iUJK9l",
        "outputId": "a99183f0-c65b-40e5-aa0d-26875d7cb177"
      },
      "id": "13KCY9iUJK9l",
      "execution_count": null,
      "outputs": [
        {
          "output_type": "stream",
          "name": "stdout",
          "text": [
            "mlxtend version: 0.21.0\n"
          ]
        }
      ]
    },
    {
      "cell_type": "markdown",
      "id": "e1f6babd-c756-4e59-b9fa-cbeffa190c22",
      "metadata": {
        "id": "e1f6babd-c756-4e59-b9fa-cbeffa190c22"
      },
      "source": [
        "Now we've got predictions, let's go through steps 2 & 3:\n",
        "2. Make a confusion matrix using [`torchmetrics.ConfusionMatrix`](https://torchmetrics.readthedocs.io/en/latest/references/modules.html?highlight=confusion#confusionmatrix).\n",
        "3. Plot the confusion matrix using [`mlxtend.plotting.plot_confusion_matrix()`](http://rasbt.github.io/mlxtend/user_guide/plotting/plot_confusion_matrix/).\n",
        "\n",
        "First we'll need to make sure we've got `torchmetrics` and `mlxtend` installed (these two libraries will help us make and visual a confusion matrix).\n",
        "\n",
        "> **Note:** If you're using Google Colab, the default version of `mlxtend` installed is 0.14.0 (as of March 2022), however, for the parameters of the `plot_confusion_matrix()` function we'd like use, we need 0.19.0 or higher."
      ]
    },
    {
      "cell_type": "code",
      "source": [
        "# Import mlxtend upgraded version\n",
        "import mlxtend\n",
        "print(mlxtend.__version__)\n",
        "assert int(mlxtend.__version__.split(\".\")[1]) >= 19 # should be version 0.19.0 or higher"
      ],
      "metadata": {
        "id": "GLAS3Mb4KY6J"
      },
      "id": "GLAS3Mb4KY6J",
      "execution_count": null,
      "outputs": []
    },
    {
      "cell_type": "code",
      "execution_count": null,
      "id": "6f5de719-f2b8-418d-a30e-b1083a645f8b",
      "metadata": {
        "id": "6f5de719-f2b8-418d-a30e-b1083a645f8b",
        "outputId": "c8923c7c-dc1f-4313-e01b-3126172c59ed",
        "colab": {
          "base_uri": "https://localhost:8080/",
          "height": 858
        }
      },
      "outputs": [
        {
          "output_type": "display_data",
          "data": {
            "text/plain": [
              "<Figure size 1008x1008 with 1 Axes>"
            ],
            "image/png": "[encoded data removed]"
          },
          "metadata": {
            "needs_background": "light"
          }
        }
      ],
      "source": [
        "from torchmetrics import ConfusionMatrix\n",
        "from mlxtend.plotting import plot_confusion_matrix\n",
        "\n",
        "# 2. Setup confusion matrix instance and compare predictions to targets\n",
        "confmat = ConfusionMatrix(num_classes=len(class_names), task='multiclass')\n",
        "confmat_tensor = confmat(preds=y_pred_tensor,\n",
        "                         target=test_data.targets)\n",
        "\n",
        "# 3. Plot the confusion matrix\n",
        "fig, ax = plot_confusion_matrix(\n",
        "    conf_mat=confmat_tensor.numpy(), # matplotlib likes working with NumPy\n",
        "    class_names=class_names, # turn the row and column labels into class names\n",
        "    figsize=(14, 14)\n",
        ");"
      ]
    },
    {
      "cell_type": "markdown",
      "id": "7848bbf1-2a36-4f72-b579-a1156f09cfc5",
      "metadata": {
        "id": "7848bbf1-2a36-4f72-b579-a1156f09cfc5"
      },
      "source": [
        "### A few questions:\n",
        "1. Where do you think the model gets most 'confused'? What objects to tend fool the model into mislabelling them?\n",
        "2. What are the implications of this? Can you think in terms of recall vs precision\n",
        "\n",
        "> **Exercise:** Use the trained `model_2` to make predictions on the test FashionMNIST dataset. Then plot some predictions where the model was wrong alongside what the label of the image should've been. After visualing these predictions do you think it's more of a modelling error or a data error? As in, could the model do better or are the labels of the data too close to each other (e.g. a \"Shirt\" label is too close to \"T-shirt/top\")?"
      ]
    },
    {
      "cell_type": "markdown",
      "id": "2a46fcbc-aaf5-402e-b46a-413afc6a54e4",
      "metadata": {
        "id": "2a46fcbc-aaf5-402e-b46a-413afc6a54e4"
      },
      "source": [
        "## 11. Save and load best performing model\n",
        "\n",
        "Let's finish this section off by saving and loading in our best performing model.\n",
        "\n",
        "We can save and load a PyTorch model using a combination of:\n",
        "* `torch.save` - a function to save a whole PyTorch model or a model's `state_dict()`.\n",
        "* `torch.load` - a function to load in a saved PyTorch object.\n",
        "* `torch.nn.Module.load_state_dict()` - a function to load a saved `state_dict()` into an existing model instance.\n",
        "\n",
        "You can see more of these three in the [PyTorch saving and loading models documentation](https://pytorch.org/tutorials/beginner/saving_loading_models.html).\n",
        "\n",
        "For now, let's save our `model_2`'s `state_dict()` then load it back in and evaluate it to make sure the save and load went correctly."
      ]
    },
    {
      "cell_type": "code",
      "execution_count": null,
      "id": "70e0eb11-2f43-4a03-a086-473f76e72fc9",
      "metadata": {
        "id": "70e0eb11-2f43-4a03-a086-473f76e72fc9",
        "colab": {
          "base_uri": "https://localhost:8080/"
        },
        "outputId": "a72ff21e-6006-4a0c-d6c5-a143cbc7089e"
      },
      "outputs": [
        {
          "output_type": "stream",
          "name": "stdout",
          "text": [
            "Saving model to: models/03_pytorch_computer_vision_model_2.pth\n"
          ]
        }
      ],
      "source": [
        "from pathlib import Path\n",
        "\n",
        "# Create models directory (if it doesn't already exist), see: https://docs.python.org/3/library/pathlib.html#pathlib.Path.mkdir\n",
        "MODEL_PATH = Path(\"models\")\n",
        "MODEL_PATH.mkdir(parents=True, # create parent directories if needed\n",
        "                 exist_ok=True # if models directory already exists, don't error\n",
        ")\n",
        "\n",
        "# Create model save path\n",
        "MODEL_NAME = \"03_pytorch_computer_vision_model_2.pth\"\n",
        "MODEL_SAVE_PATH = MODEL_PATH / MODEL_NAME\n",
        "\n",
        "# Save the model state dict\n",
        "print(f\"Saving model to: {MODEL_SAVE_PATH}\")\n",
        "torch.save(obj=model_2.state_dict(), # only saving the state_dict() only saves the learned parameters\n",
        "           f=MODEL_SAVE_PATH)"
      ]
    },
    {
      "cell_type": "markdown",
      "source": [
        "Now we've got a saved model `state_dict()` we can load it back in using a combination of `load_state_dict()` and `torch.load()`.\n",
        "\n",
        "Since we're using `load_state_dict()`, we'll need to create a new instance of `FashionMNISTModelV2()` with the same input parameters as our saved model `state_dict()`."
      ],
      "metadata": {
        "id": "DHawEijvIBVF"
      },
      "id": "DHawEijvIBVF"
    },
    {
      "cell_type": "code",
      "execution_count": null,
      "id": "1f09d7c0-1c97-4177-8d7a-90ecf7bb3395",
      "metadata": {
        "id": "1f09d7c0-1c97-4177-8d7a-90ecf7bb3395"
      },
      "outputs": [],
      "source": [
        "# Create a new instance of FashionMNISTModelV2 (the same class as our saved state_dict())\n",
        "# Note: loading model will produce an error if the shapes here aren't the same as the saved version This is a notable difference between PyTorch and Tensorflow. PyTorch usually needs both the weights/params of model + the architecture\n",
        "loaded_model_2 = FashionMNISTModelV2(input_shape=1,\n",
        "                                    hidden_units=10, # try changing this to 128 and seeing what happens\n",
        "                                    output_shape=10)\n",
        "\n",
        "# Load in the saved state_dict()\n",
        "loaded_model_2.load_state_dict(torch.load(f=MODEL_SAVE_PATH))\n",
        "\n",
        "# Send model to GPU\n",
        "loaded_model_2 = loaded_model_2.to(device)"
      ]
    },
    {
      "cell_type": "markdown",
      "source": [
        "And now we've got a loaded model we can evaluate it with `eval_model()` to make sure its parameters work similarly to `model_2` prior to saving."
      ],
      "metadata": {
        "id": "HPyge0nVIGvv"
      },
      "id": "HPyge0nVIGvv"
    },
    {
      "cell_type": "code",
      "execution_count": null,
      "id": "319915c0-f1a6-48d1-8d05-85035512cfd0",
      "metadata": {
        "id": "319915c0-f1a6-48d1-8d05-85035512cfd0",
        "colab": {
          "base_uri": "https://localhost:8080/",
          "height": 101,
          "referenced_widgets": [
            "488d779d4951462bb52ba9e73a4ed356",
            "909e7d6594e6453196b2ea0b0193ed13",
            "3eac65e8548145f494c8512f8a335d03",
            "3738ae0336a440e9905e2433f3d4949a",
            "4b91478e80b8413d8d8b5cef536faca0",
            "0ca96af76a4142f8a532e14c424d2675",
            "ce0c1e5e8241450cb61d551677814f3c",
            "b16db5cf10034a7a844c29d8095fa7e1",
            "d7ce5ab525924602863523e78b95174e",
            "97778dfcbaa6433192e47374b2ac0cd5",
            "ef9be5f435294e65949b28be9b31b8f4"
          ]
        },
        "outputId": "08ed3aab-1134-4348-b402-eeea0cf9b6c8"
      },
      "outputs": [
        {
          "output_type": "display_data",
          "data": {
            "text/plain": [
              "  0%|          | 0/313 [00:00<?, ?it/s]"
            ],
            "application/vnd.jupyter.widget-view+json": {
              "version_major": 2,
              "version_minor": 0,
              "model_id": "488d779d4951462bb52ba9e73a4ed356"
            }
          },
          "metadata": {}
        },
        {
          "output_type": "execute_result",
          "data": {
            "text/plain": [
              "{'model_name': 'FashionMNISTModelV2',\n",
              " 'model_loss': 0.3235771954059601,\n",
              " 'model_accuracy': 88.35862619808307}"
            ]
          },
          "metadata": {},
          "execution_count": 80
        }
      ],
      "source": [
        "# Evaluate loaded model\n",
        "torch.manual_seed(42)\n",
        "\n",
        "loaded_model_2_results = eval_model(\n",
        "    model=loaded_model_2,\n",
        "    data_loader=test_dataloader,\n",
        "    loss_fn=loss_fn,\n",
        "    accuracy_fn=accuracy_fn\n",
        ")\n",
        "\n",
        "loaded_model_2_results"
      ]
    },
    {
      "cell_type": "markdown",
      "source": [
        "Do these results look the same as `model_2_results`?\n"
      ],
      "metadata": {
        "id": "bMKfYdBOILCl"
      },
      "id": "bMKfYdBOILCl"
    },
    {
      "cell_type": "code",
      "source": [
        "model_2_results"
      ],
      "metadata": {
        "id": "7IJGO-2_yjBX",
        "colab": {
          "base_uri": "https://localhost:8080/"
        },
        "outputId": "f066b662-d03a-4188-d6ad-9d3a0d4b40d2"
      },
      "id": "7IJGO-2_yjBX",
      "execution_count": null,
      "outputs": [
        {
          "output_type": "execute_result",
          "data": {
            "text/plain": [
              "{'model_name': 'FashionMNISTModelV2',\n",
              " 'model_loss': 0.3235771954059601,\n",
              " 'model_accuracy': 88.35862619808307}"
            ]
          },
          "metadata": {},
          "execution_count": 81
        }
      ]
    },
    {
      "cell_type": "markdown",
      "source": [
        "We can find out if two tensors are close to each other using `torch.isclose()` and passing in a tolerance level of closeness via the parameters `atol` (absolute tolerance) and `rtol` (relative tolerance).\n",
        "\n",
        "If our model's results are close, the output of `torch.isclose()` should be true."
      ],
      "metadata": {
        "id": "NvvLfzfLIQjF"
      },
      "id": "NvvLfzfLIQjF"
    },
    {
      "cell_type": "code",
      "source": [
        "# Check to see if results are close to each other (if they are very far away, there may be an error)\n",
        "torch.isclose(torch.tensor(model_2_results[\"model_loss\"]),\n",
        "              torch.tensor(loaded_model_2_results[\"model_loss\"]),\n",
        "              atol=1e-08, # absolute tolerance\n",
        "              rtol=0.0001) # relative tolerance"
      ],
      "metadata": {
        "id": "8TXfVQh4yjkV",
        "colab": {
          "base_uri": "https://localhost:8080/"
        },
        "outputId": "2557e695-c287-4c37-cf83-2e91f1c1a1d8"
      },
      "id": "8TXfVQh4yjkV",
      "execution_count": null,
      "outputs": [
        {
          "output_type": "execute_result",
          "data": {
            "text/plain": [
              "tensor(True)"
            ]
          },
          "metadata": {},
          "execution_count": 82
        }
      ]
    },
    {
      "cell_type": "markdown",
      "source": [
        "## Exercises\n",
        "\n",
        "All of the exercises are focused on practicing the code in the sections above.\n",
        "\n",
        "You should be able to complete them by referencing each section or by following the resource(s) linked.\n",
        "\n",
        "All exercises should be completed using [device-agnostic code](https://pytorch.org/docs/stable/notes/cuda.html#device-agnostic-code).\n",
        "\n",
        "\n",
        "1. Spend 20-minutes reading and clicking through the [CNN Explainer website](https://poloclub.github.io/cnn-explainer/).\n",
        "    * Upload your own example image using the \"upload\" button and see what happens in each layer of a CNN as your image passes through it.\n",
        "2. Load the [`torchvision.datasets.MNIST()`](https://pytorch.org/vision/stable/generated/torchvision.datasets.MNIST.html#torchvision.datasets.MNIST) train and test datasets.\n",
        "3. Visualize at least 5 different samples of the MNIST training dataset.\n",
        "4. Turn the MNIST train and test datasets into dataloaders using `torch.utils.data.DataLoader`, set the `batch_size=32`.\n",
        "5. Recreate `model_2` used in this notebook (the same model from the [CNN Explainer website](https://poloclub.github.io/cnn-explainer/), also known as TinyVGG) capable of fitting on the MNIST dataset.\n",
        "6. Train the model you built in the previous step. on CPU and GPU and see how long it takes on each.\n",
        "7. Make predictions using your trained model and visualize at least 5 of them comparing the prediciton to the target label.\n",
        "8. Plot a confusion matrix comparing your model's predictions to the truth labels.\n",
        "9. Create a random tensor of shape `[1, 3, 64, 64]` and pass it through a `nn.Conv2d()` layer with various hyperparameter settings (these can be any settings you choose), what do you notice if the `kernel_size` parameter goes up and down?\n",
        "10. Use a model similar to the trained `model_2` from this notebook to make predictions on the test [`torchvision.datasets.FashionMNIST`](https://pytorch.org/vision/main/generated/torchvision.datasets.FashionMNIST.html) dataset.\n",
        "    * Then plot some predictions where the model was wrong alongside what the label of the image should've been.\n",
        "    * After visualing these predictions do you think it's more of a modelling error or a data error?\n",
        "    * As in, could the model do better or are the labels of the data too close to each other (e.g. a \"Shirt\" label is too close to \"T-shirt/top\")?\n",
        "\n",
        "## Extra-curriculum\n",
        "* **Watch:** [MIT's Introduction to Deep Computer Vision](https://www.youtube.com/watch?v=7sB052Pz0sQ&list=PLtBw6njQRU-rwp5__7C0oIVt26ZgjG9NI) lectures. This will give you a great intuition behind convolutional neural networks.\n",
        "* Spend 10-minutes clicking thorugh the different options of the [PyTorch vision library](https://pytorch.org/vision/stable/index.html), what different modules are available?\n",
        "* Lookup \"most common convolutional neural networks\", what architectures do you find? Are any of them contained within the [`torchvision.models`](https://pytorch.org/vision/stable/models.html) library? What do you think you could do with these?\n",
        "* For a large number of pretrained PyTorch computer vision models as well as many different extensions to PyTorch's computer vision functionalities check out the [PyTorch Image Models library `timm`](https://github.com/rwightman/pytorch-image-models/) (Torch Image Models) by Ross Wightman.\n",
        "\n",
        "* Using what you learned in this notebook, could you build a pipeline to to solve [CIFAR10](https://pytorch.org/vision/stable/generated/torchvision.datasets.CIFAR10.html#torchvision.datasets.CIFAR10)? How would you change model_2 to accomodate the extra complexity of CIFAR10? At what point do you reaching diminishing returns in terms of model complexity vs training time vs over-fitting ?\n",
        "\n",
        "* Generative Deep Learning is a thriving and very active area of research. Recent models such as DALL-E, Midjounrney, Stable Diffusion, and Imagen recently made headlines around the world. The most recent models use a recently developed approach called [Diffiusion](https://jalammar.github.io/illustrated-stable-diffusion/). However, it could be argued that the real interest in generative AI began in 2014 with Ian Goodfellow's landmark [paper](https://dl.acm.org/doi/abs/10.1145/3422622) which introduced Generative adversarial networks (GAN). This is a good broad introduction to the [topic](https://www.youtube.com/watch?v=QcLlc9lj2hk&list=PLtBw6njQRU-rwp5__7C0oIVt26ZgjG9NI&index=4).\n",
        "    * What do you think the ethical and societal implications of Generative AI technology? How do you think such advances should be (if any) regulated?\n",
        "    * Can you come up with a few examples of using GANs to solve real world problems?\n",
        "\n",
        "* If you broadly understand the concept behind GANs, you may want to expirement with this (repo)[https://github.com/valerija-h/CS551G-Assignment-1.git]. It uses a [Conditional GANs](https://arxiv.org/abs/1411.1784) approach to solve a data generation problem:\n",
        "    * Clone the repo including the x-ray data\n",
        "    * Read the associated pdf document that explains the problem\n",
        "    * Run the code on your machine/Colab, you should be able to generate x-ray images!\n",
        "    * Experiment with modifying the hyperparameters, what do you notice? Try decreasing or increasing the size of the latent space, what do you notice?\n",
        "    * Are there ways where you can modify the code to achieve faster training time? Why is GAN training notoriously unstable? Read more about here [GANs](https://lilianweng.github.io/posts/2017-08-20-gan/). Which parameters do you think the owener of the repo used to achieve stable training? Remember that in GANs we aim for a loss of 0.5, not zero!\n",
        "    * For an interesting example of GANs in action, check: https://this-person-does-not-exist.com/en\n",
        "\n"
      ],
      "metadata": {
        "id": "eL5GHP9Cyx8c"
      },
      "id": "eL5GHP9Cyx8c"
    },
    {
      "cell_type": "code",
      "source": [],
      "metadata": {
        "id": "yIAhHVrdyyio"
      },
      "id": "yIAhHVrdyyio",
      "execution_count": null,
      "outputs": []
    }
  ],
  "metadata": {
    "kernelspec": {
      "display_name": "Python 3 (ipykernel)",
      "language": "python",
      "name": "python3"
    },
    "language_info": {
      "codemirror_mode": {
        "name": "ipython",
        "version": 3
      },
      "file_extension": ".py",
      "mimetype": "text/x-python",
      "name": "python",
      "nbconvert_exporter": "python",
      "pygments_lexer": "ipython3",
      "version": "3.9.5"
    },
    "colab": {
      "provenance": []
    },
    "accelerator": "GPU",
    "gpuClass": "standard",
    "widgets": {
      "application/vnd.jupyter.widget-state+json": {
        "f94821c7a0b74482a80e393bd8cbdf42": {
          "model_module": "@jupyter-widgets/controls",
          "model_name": "HBoxModel",
          "model_module_version": "1.5.0",
          "state": {
            "_dom_classes": [],
            "_model_module": "@jupyter-widgets/controls",
            "_model_module_version": "1.5.0",
            "_model_name": "HBoxModel",
            "_view_count": null,
            "_view_module": "@jupyter-widgets/controls",
            "_view_module_version": "1.5.0",
            "_view_name": "HBoxView",
            "box_style": "",
            "children": [
              "IPY_MODEL_9b4f8a1b6d1d4454ba0380c4577d3c73",
              "IPY_MODEL_99a9d84ac86a4d019b67ceb5c637e0f8",
              "IPY_MODEL_9f1ee2c84e98471387aa64f8b1be025b"
            ],
            "layout": "IPY_MODEL_5aef43bec55446feafd7b0ee62d4de87"
          }
        },
        "9b4f8a1b6d1d4454ba0380c4577d3c73": {
          "model_module": "@jupyter-widgets/controls",
          "model_name": "HTMLModel",
          "model_module_version": "1.5.0",
          "state": {
            "_dom_classes": [],
            "_model_module": "@jupyter-widgets/controls",
            "_model_module_version": "1.5.0",
            "_model_name": "HTMLModel",
            "_view_count": null,
            "_view_module": "@jupyter-widgets/controls",
            "_view_module_version": "1.5.0",
            "_view_name": "HTMLView",
            "description": "",
            "description_tooltip": null,
            "layout": "IPY_MODEL_6f4767095a1c48a5b0434bba619475ad",
            "placeholder": "​",
            "style": "IPY_MODEL_d5fa267e4b6a4ee1935435d45c5896e2",
            "value": "100%"
          }
        },
        "99a9d84ac86a4d019b67ceb5c637e0f8": {
          "model_module": "@jupyter-widgets/controls",
          "model_name": "FloatProgressModel",
          "model_module_version": "1.5.0",
          "state": {
            "_dom_classes": [],
            "_model_module": "@jupyter-widgets/controls",
            "_model_module_version": "1.5.0",
            "_model_name": "FloatProgressModel",
            "_view_count": null,
            "_view_module": "@jupyter-widgets/controls",
            "_view_module_version": "1.5.0",
            "_view_name": "ProgressView",
            "bar_style": "success",
            "description": "",
            "description_tooltip": null,
            "layout": "IPY_MODEL_d5b9a9fce4354b909eda607e3aef4ec2",
            "max": 3,
            "min": 0,
            "orientation": "horizontal",
            "style": "IPY_MODEL_b24274b812ee4fc28dbafbcb42b996bf",
            "value": 3
          }
        },
        "9f1ee2c84e98471387aa64f8b1be025b": {
          "model_module": "@jupyter-widgets/controls",
          "model_name": "HTMLModel",
          "model_module_version": "1.5.0",
          "state": {
            "_dom_classes": [],
            "_model_module": "@jupyter-widgets/controls",
            "_model_module_version": "1.5.0",
            "_model_name": "HTMLModel",
            "_view_count": null,
            "_view_module": "@jupyter-widgets/controls",
            "_view_module_version": "1.5.0",
            "_view_name": "HTMLView",
            "description": "",
            "description_tooltip": null,
            "layout": "IPY_MODEL_4f8f4c7f117b4ecda974f0d654dec431",
            "placeholder": "​",
            "style": "IPY_MODEL_3c76ef21deaa4db9831ef657200193f3",
            "value": " 3/3 [00:24&lt;00:00,  8.35s/it]"
          }
        },
        "5aef43bec55446feafd7b0ee62d4de87": {
          "model_module": "@jupyter-widgets/base",
          "model_name": "LayoutModel",
          "model_module_version": "1.2.0",
          "state": {
            "_model_module": "@jupyter-widgets/base",
            "_model_module_version": "1.2.0",
            "_model_name": "LayoutModel",
            "_view_count": null,
            "_view_module": "@jupyter-widgets/base",
            "_view_module_version": "1.2.0",
            "_view_name": "LayoutView",
            "align_content": null,
            "align_items": null,
            "align_self": null,
            "border": null,
            "bottom": null,
            "display": null,
            "flex": null,
            "flex_flow": null,
            "grid_area": null,
            "grid_auto_columns": null,
            "grid_auto_flow": null,
            "grid_auto_rows": null,
            "grid_column": null,
            "grid_gap": null,
            "grid_row": null,
            "grid_template_areas": null,
            "grid_template_columns": null,
            "grid_template_rows": null,
            "height": null,
            "justify_content": null,
            "justify_items": null,
            "left": null,
            "margin": null,
            "max_height": null,
            "max_width": null,
            "min_height": null,
            "min_width": null,
            "object_fit": null,
            "object_position": null,
            "order": null,
            "overflow": null,
            "overflow_x": null,
            "overflow_y": null,
            "padding": null,
            "right": null,
            "top": null,
            "visibility": null,
            "width": null
          }
        },
        "6f4767095a1c48a5b0434bba619475ad": {
          "model_module": "@jupyter-widgets/base",
          "model_name": "LayoutModel",
          "model_module_version": "1.2.0",
          "state": {
            "_model_module": "@jupyter-widgets/base",
            "_model_module_version": "1.2.0",
            "_model_name": "LayoutModel",
            "_view_count": null,
            "_view_module": "@jupyter-widgets/base",
            "_view_module_version": "1.2.0",
            "_view_name": "LayoutView",
            "align_content": null,
            "align_items": null,
            "align_self": null,
            "border": null,
            "bottom": null,
            "display": null,
            "flex": null,
            "flex_flow": null,
            "grid_area": null,
            "grid_auto_columns": null,
            "grid_auto_flow": null,
            "grid_auto_rows": null,
            "grid_column": null,
            "grid_gap": null,
            "grid_row": null,
            "grid_template_areas": null,
            "grid_template_columns": null,
            "grid_template_rows": null,
            "height": null,
            "justify_content": null,
            "justify_items": null,
            "left": null,
            "margin": null,
            "max_height": null,
            "max_width": null,
            "min_height": null,
            "min_width": null,
            "object_fit": null,
            "object_position": null,
            "order": null,
            "overflow": null,
            "overflow_x": null,
            "overflow_y": null,
            "padding": null,
            "right": null,
            "top": null,
            "visibility": null,
            "width": null
          }
        },
        "d5fa267e4b6a4ee1935435d45c5896e2": {
          "model_module": "@jupyter-widgets/controls",
          "model_name": "DescriptionStyleModel",
          "model_module_version": "1.5.0",
          "state": {
            "_model_module": "@jupyter-widgets/controls",
            "_model_module_version": "1.5.0",
            "_model_name": "DescriptionStyleModel",
            "_view_count": null,
            "_view_module": "@jupyter-widgets/base",
            "_view_module_version": "1.2.0",
            "_view_name": "StyleView",
            "description_width": ""
          }
        },
        "d5b9a9fce4354b909eda607e3aef4ec2": {
          "model_module": "@jupyter-widgets/base",
          "model_name": "LayoutModel",
          "model_module_version": "1.2.0",
          "state": {
            "_model_module": "@jupyter-widgets/base",
            "_model_module_version": "1.2.0",
            "_model_name": "LayoutModel",
            "_view_count": null,
            "_view_module": "@jupyter-widgets/base",
            "_view_module_version": "1.2.0",
            "_view_name": "LayoutView",
            "align_content": null,
            "align_items": null,
            "align_self": null,
            "border": null,
            "bottom": null,
            "display": null,
            "flex": null,
            "flex_flow": null,
            "grid_area": null,
            "grid_auto_columns": null,
            "grid_auto_flow": null,
            "grid_auto_rows": null,
            "grid_column": null,
            "grid_gap": null,
            "grid_row": null,
            "grid_template_areas": null,
            "grid_template_columns": null,
            "grid_template_rows": null,
            "height": null,
            "justify_content": null,
            "justify_items": null,
            "left": null,
            "margin": null,
            "max_height": null,
            "max_width": null,
            "min_height": null,
            "min_width": null,
            "object_fit": null,
            "object_position": null,
            "order": null,
            "overflow": null,
            "overflow_x": null,
            "overflow_y": null,
            "padding": null,
            "right": null,
            "top": null,
            "visibility": null,
            "width": null
          }
        },
        "b24274b812ee4fc28dbafbcb42b996bf": {
          "model_module": "@jupyter-widgets/controls",
          "model_name": "ProgressStyleModel",
          "model_module_version": "1.5.0",
          "state": {
            "_model_module": "@jupyter-widgets/controls",
            "_model_module_version": "1.5.0",
            "_model_name": "ProgressStyleModel",
            "_view_count": null,
            "_view_module": "@jupyter-widgets/base",
            "_view_module_version": "1.2.0",
            "_view_name": "StyleView",
            "bar_color": null,
            "description_width": ""
          }
        },
        "4f8f4c7f117b4ecda974f0d654dec431": {
          "model_module": "@jupyter-widgets/base",
          "model_name": "LayoutModel",
          "model_module_version": "1.2.0",
          "state": {
            "_model_module": "@jupyter-widgets/base",
            "_model_module_version": "1.2.0",
            "_model_name": "LayoutModel",
            "_view_count": null,
            "_view_module": "@jupyter-widgets/base",
            "_view_module_version": "1.2.0",
            "_view_name": "LayoutView",
            "align_content": null,
            "align_items": null,
            "align_self": null,
            "border": null,
            "bottom": null,
            "display": null,
            "flex": null,
            "flex_flow": null,
            "grid_area": null,
            "grid_auto_columns": null,
            "grid_auto_flow": null,
            "grid_auto_rows": null,
            "grid_column": null,
            "grid_gap": null,
            "grid_row": null,
            "grid_template_areas": null,
            "grid_template_columns": null,
            "grid_template_rows": null,
            "height": null,
            "justify_content": null,
            "justify_items": null,
            "left": null,
            "margin": null,
            "max_height": null,
            "max_width": null,
            "min_height": null,
            "min_width": null,
            "object_fit": null,
            "object_position": null,
            "order": null,
            "overflow": null,
            "overflow_x": null,
            "overflow_y": null,
            "padding": null,
            "right": null,
            "top": null,
            "visibility": null,
            "width": null
          }
        },
        "3c76ef21deaa4db9831ef657200193f3": {
          "model_module": "@jupyter-widgets/controls",
          "model_name": "DescriptionStyleModel",
          "model_module_version": "1.5.0",
          "state": {
            "_model_module": "@jupyter-widgets/controls",
            "_model_module_version": "1.5.0",
            "_model_name": "DescriptionStyleModel",
            "_view_count": null,
            "_view_module": "@jupyter-widgets/base",
            "_view_module_version": "1.2.0",
            "_view_name": "StyleView",
            "description_width": ""
          }
        },
        "a1047336726b45b193e41863d0bc9e00": {
          "model_module": "@jupyter-widgets/controls",
          "model_name": "HBoxModel",
          "model_module_version": "1.5.0",
          "state": {
            "_dom_classes": [],
            "_model_module": "@jupyter-widgets/controls",
            "_model_module_version": "1.5.0",
            "_model_name": "HBoxModel",
            "_view_count": null,
            "_view_module": "@jupyter-widgets/controls",
            "_view_module_version": "1.5.0",
            "_view_name": "HBoxView",
            "box_style": "",
            "children": [
              "IPY_MODEL_ed07d96da7214ba98378cb4c9617705d",
              "IPY_MODEL_aa48d7f29f6f423fa8678d34f177017f",
              "IPY_MODEL_77fdb65cd52546bdb127bc93b17b0116"
            ],
            "layout": "IPY_MODEL_4c509851de9e4e559558437171c79224"
          }
        },
        "ed07d96da7214ba98378cb4c9617705d": {
          "model_module": "@jupyter-widgets/controls",
          "model_name": "HTMLModel",
          "model_module_version": "1.5.0",
          "state": {
            "_dom_classes": [],
            "_model_module": "@jupyter-widgets/controls",
            "_model_module_version": "1.5.0",
            "_model_name": "HTMLModel",
            "_view_count": null,
            "_view_module": "@jupyter-widgets/controls",
            "_view_module_version": "1.5.0",
            "_view_name": "HTMLView",
            "description": "",
            "description_tooltip": null,
            "layout": "IPY_MODEL_ee75a8e9f75e4847937d0ea2724b8616",
            "placeholder": "​",
            "style": "IPY_MODEL_c0ba6c8bc2a84433ba4cda789199c56c",
            "value": "100%"
          }
        },
        "aa48d7f29f6f423fa8678d34f177017f": {
          "model_module": "@jupyter-widgets/controls",
          "model_name": "FloatProgressModel",
          "model_module_version": "1.5.0",
          "state": {
            "_dom_classes": [],
            "_model_module": "@jupyter-widgets/controls",
            "_model_module_version": "1.5.0",
            "_model_name": "FloatProgressModel",
            "_view_count": null,
            "_view_module": "@jupyter-widgets/controls",
            "_view_module_version": "1.5.0",
            "_view_name": "ProgressView",
            "bar_style": "success",
            "description": "",
            "description_tooltip": null,
            "layout": "IPY_MODEL_d2808b4a387b4617bb724f615663badf",
            "max": 313,
            "min": 0,
            "orientation": "horizontal",
            "style": "IPY_MODEL_48e278b4744d479594d7f7eaa5ed2fce",
            "value": 313
          }
        },
        "77fdb65cd52546bdb127bc93b17b0116": {
          "model_module": "@jupyter-widgets/controls",
          "model_name": "HTMLModel",
          "model_module_version": "1.5.0",
          "state": {
            "_dom_classes": [],
            "_model_module": "@jupyter-widgets/controls",
            "_model_module_version": "1.5.0",
            "_model_name": "HTMLModel",
            "_view_count": null,
            "_view_module": "@jupyter-widgets/controls",
            "_view_module_version": "1.5.0",
            "_view_name": "HTMLView",
            "description": "",
            "description_tooltip": null,
            "layout": "IPY_MODEL_c54b112834894dda8b7c66478aa1291a",
            "placeholder": "​",
            "style": "IPY_MODEL_59d210d7d3dc42549e3abc5a9f5c529e",
            "value": " 313/313 [00:01&lt;00:00, 307.71it/s]"
          }
        },
        "4c509851de9e4e559558437171c79224": {
          "model_module": "@jupyter-widgets/base",
          "model_name": "LayoutModel",
          "model_module_version": "1.2.0",
          "state": {
            "_model_module": "@jupyter-widgets/base",
            "_model_module_version": "1.2.0",
            "_model_name": "LayoutModel",
            "_view_count": null,
            "_view_module": "@jupyter-widgets/base",
            "_view_module_version": "1.2.0",
            "_view_name": "LayoutView",
            "align_content": null,
            "align_items": null,
            "align_self": null,
            "border": null,
            "bottom": null,
            "display": null,
            "flex": null,
            "flex_flow": null,
            "grid_area": null,
            "grid_auto_columns": null,
            "grid_auto_flow": null,
            "grid_auto_rows": null,
            "grid_column": null,
            "grid_gap": null,
            "grid_row": null,
            "grid_template_areas": null,
            "grid_template_columns": null,
            "grid_template_rows": null,
            "height": null,
            "justify_content": null,
            "justify_items": null,
            "left": null,
            "margin": null,
            "max_height": null,
            "max_width": null,
            "min_height": null,
            "min_width": null,
            "object_fit": null,
            "object_position": null,
            "order": null,
            "overflow": null,
            "overflow_x": null,
            "overflow_y": null,
            "padding": null,
            "right": null,
            "top": null,
            "visibility": null,
            "width": null
          }
        },
        "ee75a8e9f75e4847937d0ea2724b8616": {
          "model_module": "@jupyter-widgets/base",
          "model_name": "LayoutModel",
          "model_module_version": "1.2.0",
          "state": {
            "_model_module": "@jupyter-widgets/base",
            "_model_module_version": "1.2.0",
            "_model_name": "LayoutModel",
            "_view_count": null,
            "_view_module": "@jupyter-widgets/base",
            "_view_module_version": "1.2.0",
            "_view_name": "LayoutView",
            "align_content": null,
            "align_items": null,
            "align_self": null,
            "border": null,
            "bottom": null,
            "display": null,
            "flex": null,
            "flex_flow": null,
            "grid_area": null,
            "grid_auto_columns": null,
            "grid_auto_flow": null,
            "grid_auto_rows": null,
            "grid_column": null,
            "grid_gap": null,
            "grid_row": null,
            "grid_template_areas": null,
            "grid_template_columns": null,
            "grid_template_rows": null,
            "height": null,
            "justify_content": null,
            "justify_items": null,
            "left": null,
            "margin": null,
            "max_height": null,
            "max_width": null,
            "min_height": null,
            "min_width": null,
            "object_fit": null,
            "object_position": null,
            "order": null,
            "overflow": null,
            "overflow_x": null,
            "overflow_y": null,
            "padding": null,
            "right": null,
            "top": null,
            "visibility": null,
            "width": null
          }
        },
        "c0ba6c8bc2a84433ba4cda789199c56c": {
          "model_module": "@jupyter-widgets/controls",
          "model_name": "DescriptionStyleModel",
          "model_module_version": "1.5.0",
          "state": {
            "_model_module": "@jupyter-widgets/controls",
            "_model_module_version": "1.5.0",
            "_model_name": "DescriptionStyleModel",
            "_view_count": null,
            "_view_module": "@jupyter-widgets/base",
            "_view_module_version": "1.2.0",
            "_view_name": "StyleView",
            "description_width": ""
          }
        },
        "d2808b4a387b4617bb724f615663badf": {
          "model_module": "@jupyter-widgets/base",
          "model_name": "LayoutModel",
          "model_module_version": "1.2.0",
          "state": {
            "_model_module": "@jupyter-widgets/base",
            "_model_module_version": "1.2.0",
            "_model_name": "LayoutModel",
            "_view_count": null,
            "_view_module": "@jupyter-widgets/base",
            "_view_module_version": "1.2.0",
            "_view_name": "LayoutView",
            "align_content": null,
            "align_items": null,
            "align_self": null,
            "border": null,
            "bottom": null,
            "display": null,
            "flex": null,
            "flex_flow": null,
            "grid_area": null,
            "grid_auto_columns": null,
            "grid_auto_flow": null,
            "grid_auto_rows": null,
            "grid_column": null,
            "grid_gap": null,
            "grid_row": null,
            "grid_template_areas": null,
            "grid_template_columns": null,
            "grid_template_rows": null,
            "height": null,
            "justify_content": null,
            "justify_items": null,
            "left": null,
            "margin": null,
            "max_height": null,
            "max_width": null,
            "min_height": null,
            "min_width": null,
            "object_fit": null,
            "object_position": null,
            "order": null,
            "overflow": null,
            "overflow_x": null,
            "overflow_y": null,
            "padding": null,
            "right": null,
            "top": null,
            "visibility": null,
            "width": null
          }
        },
        "48e278b4744d479594d7f7eaa5ed2fce": {
          "model_module": "@jupyter-widgets/controls",
          "model_name": "ProgressStyleModel",
          "model_module_version": "1.5.0",
          "state": {
            "_model_module": "@jupyter-widgets/controls",
            "_model_module_version": "1.5.0",
            "_model_name": "ProgressStyleModel",
            "_view_count": null,
            "_view_module": "@jupyter-widgets/base",
            "_view_module_version": "1.2.0",
            "_view_name": "StyleView",
            "bar_color": null,
            "description_width": ""
          }
        },
        "c54b112834894dda8b7c66478aa1291a": {
          "model_module": "@jupyter-widgets/base",
          "model_name": "LayoutModel",
          "model_module_version": "1.2.0",
          "state": {
            "_model_module": "@jupyter-widgets/base",
            "_model_module_version": "1.2.0",
            "_model_name": "LayoutModel",
            "_view_count": null,
            "_view_module": "@jupyter-widgets/base",
            "_view_module_version": "1.2.0",
            "_view_name": "LayoutView",
            "align_content": null,
            "align_items": null,
            "align_self": null,
            "border": null,
            "bottom": null,
            "display": null,
            "flex": null,
            "flex_flow": null,
            "grid_area": null,
            "grid_auto_columns": null,
            "grid_auto_flow": null,
            "grid_auto_rows": null,
            "grid_column": null,
            "grid_gap": null,
            "grid_row": null,
            "grid_template_areas": null,
            "grid_template_columns": null,
            "grid_template_rows": null,
            "height": null,
            "justify_content": null,
            "justify_items": null,
            "left": null,
            "margin": null,
            "max_height": null,
            "max_width": null,
            "min_height": null,
            "min_width": null,
            "object_fit": null,
            "object_position": null,
            "order": null,
            "overflow": null,
            "overflow_x": null,
            "overflow_y": null,
            "padding": null,
            "right": null,
            "top": null,
            "visibility": null,
            "width": null
          }
        },
        "59d210d7d3dc42549e3abc5a9f5c529e": {
          "model_module": "@jupyter-widgets/controls",
          "model_name": "DescriptionStyleModel",
          "model_module_version": "1.5.0",
          "state": {
            "_model_module": "@jupyter-widgets/controls",
            "_model_module_version": "1.5.0",
            "_model_name": "DescriptionStyleModel",
            "_view_count": null,
            "_view_module": "@jupyter-widgets/base",
            "_view_module_version": "1.2.0",
            "_view_name": "StyleView",
            "description_width": ""
          }
        },
        "e9ac8ec4dfbc4149a9b8d3605802505a": {
          "model_module": "@jupyter-widgets/controls",
          "model_name": "HBoxModel",
          "model_module_version": "1.5.0",
          "state": {
            "_dom_classes": [],
            "_model_module": "@jupyter-widgets/controls",
            "_model_module_version": "1.5.0",
            "_model_name": "HBoxModel",
            "_view_count": null,
            "_view_module": "@jupyter-widgets/controls",
            "_view_module_version": "1.5.0",
            "_view_name": "HBoxView",
            "box_style": "",
            "children": [
              "IPY_MODEL_0be57ec0f4064527a64df69cac8ae705",
              "IPY_MODEL_0a8a077e529844a289ed66b0f3a16a46",
              "IPY_MODEL_67a068a49ffd49bd848d35824404589d"
            ],
            "layout": "IPY_MODEL_1e76c4cd0e1e41c8b2491283c08737bb"
          }
        },
        "0be57ec0f4064527a64df69cac8ae705": {
          "model_module": "@jupyter-widgets/controls",
          "model_name": "HTMLModel",
          "model_module_version": "1.5.0",
          "state": {
            "_dom_classes": [],
            "_model_module": "@jupyter-widgets/controls",
            "_model_module_version": "1.5.0",
            "_model_name": "HTMLModel",
            "_view_count": null,
            "_view_module": "@jupyter-widgets/controls",
            "_view_module_version": "1.5.0",
            "_view_name": "HTMLView",
            "description": "",
            "description_tooltip": null,
            "layout": "IPY_MODEL_2b24e9a25b2e431c9e7cd423aa8993f5",
            "placeholder": "​",
            "style": "IPY_MODEL_841efc034e334a5db774f2be75201579",
            "value": "100%"
          }
        },
        "0a8a077e529844a289ed66b0f3a16a46": {
          "model_module": "@jupyter-widgets/controls",
          "model_name": "FloatProgressModel",
          "model_module_version": "1.5.0",
          "state": {
            "_dom_classes": [],
            "_model_module": "@jupyter-widgets/controls",
            "_model_module_version": "1.5.0",
            "_model_name": "FloatProgressModel",
            "_view_count": null,
            "_view_module": "@jupyter-widgets/controls",
            "_view_module_version": "1.5.0",
            "_view_name": "ProgressView",
            "bar_style": "success",
            "description": "",
            "description_tooltip": null,
            "layout": "IPY_MODEL_41bbe534395c4f8cacbd27357916d950",
            "max": 3,
            "min": 0,
            "orientation": "horizontal",
            "style": "IPY_MODEL_92ce8dca2de04eeda54d743aede0ec9c",
            "value": 3
          }
        },
        "67a068a49ffd49bd848d35824404589d": {
          "model_module": "@jupyter-widgets/controls",
          "model_name": "HTMLModel",
          "model_module_version": "1.5.0",
          "state": {
            "_dom_classes": [],
            "_model_module": "@jupyter-widgets/controls",
            "_model_module_version": "1.5.0",
            "_model_name": "HTMLModel",
            "_view_count": null,
            "_view_module": "@jupyter-widgets/controls",
            "_view_module_version": "1.5.0",
            "_view_name": "HTMLView",
            "description": "",
            "description_tooltip": null,
            "layout": "IPY_MODEL_0c26a29abc764a43a60339bcbca1ee9a",
            "placeholder": "​",
            "style": "IPY_MODEL_85d545d95cf340d9a393e75bf76fad1a",
            "value": " 3/3 [00:29&lt;00:00,  9.67s/it]"
          }
        },
        "1e76c4cd0e1e41c8b2491283c08737bb": {
          "model_module": "@jupyter-widgets/base",
          "model_name": "LayoutModel",
          "model_module_version": "1.2.0",
          "state": {
            "_model_module": "@jupyter-widgets/base",
            "_model_module_version": "1.2.0",
            "_model_name": "LayoutModel",
            "_view_count": null,
            "_view_module": "@jupyter-widgets/base",
            "_view_module_version": "1.2.0",
            "_view_name": "LayoutView",
            "align_content": null,
            "align_items": null,
            "align_self": null,
            "border": null,
            "bottom": null,
            "display": null,
            "flex": null,
            "flex_flow": null,
            "grid_area": null,
            "grid_auto_columns": null,
            "grid_auto_flow": null,
            "grid_auto_rows": null,
            "grid_column": null,
            "grid_gap": null,
            "grid_row": null,
            "grid_template_areas": null,
            "grid_template_columns": null,
            "grid_template_rows": null,
            "height": null,
            "justify_content": null,
            "justify_items": null,
            "left": null,
            "margin": null,
            "max_height": null,
            "max_width": null,
            "min_height": null,
            "min_width": null,
            "object_fit": null,
            "object_position": null,
            "order": null,
            "overflow": null,
            "overflow_x": null,
            "overflow_y": null,
            "padding": null,
            "right": null,
            "top": null,
            "visibility": null,
            "width": null
          }
        },
        "2b24e9a25b2e431c9e7cd423aa8993f5": {
          "model_module": "@jupyter-widgets/base",
          "model_name": "LayoutModel",
          "model_module_version": "1.2.0",
          "state": {
            "_model_module": "@jupyter-widgets/base",
            "_model_module_version": "1.2.0",
            "_model_name": "LayoutModel",
            "_view_count": null,
            "_view_module": "@jupyter-widgets/base",
            "_view_module_version": "1.2.0",
            "_view_name": "LayoutView",
            "align_content": null,
            "align_items": null,
            "align_self": null,
            "border": null,
            "bottom": null,
            "display": null,
            "flex": null,
            "flex_flow": null,
            "grid_area": null,
            "grid_auto_columns": null,
            "grid_auto_flow": null,
            "grid_auto_rows": null,
            "grid_column": null,
            "grid_gap": null,
            "grid_row": null,
            "grid_template_areas": null,
            "grid_template_columns": null,
            "grid_template_rows": null,
            "height": null,
            "justify_content": null,
            "justify_items": null,
            "left": null,
            "margin": null,
            "max_height": null,
            "max_width": null,
            "min_height": null,
            "min_width": null,
            "object_fit": null,
            "object_position": null,
            "order": null,
            "overflow": null,
            "overflow_x": null,
            "overflow_y": null,
            "padding": null,
            "right": null,
            "top": null,
            "visibility": null,
            "width": null
          }
        },
        "841efc034e334a5db774f2be75201579": {
          "model_module": "@jupyter-widgets/controls",
          "model_name": "DescriptionStyleModel",
          "model_module_version": "1.5.0",
          "state": {
            "_model_module": "@jupyter-widgets/controls",
            "_model_module_version": "1.5.0",
            "_model_name": "DescriptionStyleModel",
            "_view_count": null,
            "_view_module": "@jupyter-widgets/base",
            "_view_module_version": "1.2.0",
            "_view_name": "StyleView",
            "description_width": ""
          }
        },
        "41bbe534395c4f8cacbd27357916d950": {
          "model_module": "@jupyter-widgets/base",
          "model_name": "LayoutModel",
          "model_module_version": "1.2.0",
          "state": {
            "_model_module": "@jupyter-widgets/base",
            "_model_module_version": "1.2.0",
            "_model_name": "LayoutModel",
            "_view_count": null,
            "_view_module": "@jupyter-widgets/base",
            "_view_module_version": "1.2.0",
            "_view_name": "LayoutView",
            "align_content": null,
            "align_items": null,
            "align_self": null,
            "border": null,
            "bottom": null,
            "display": null,
            "flex": null,
            "flex_flow": null,
            "grid_area": null,
            "grid_auto_columns": null,
            "grid_auto_flow": null,
            "grid_auto_rows": null,
            "grid_column": null,
            "grid_gap": null,
            "grid_row": null,
            "grid_template_areas": null,
            "grid_template_columns": null,
            "grid_template_rows": null,
            "height": null,
            "justify_content": null,
            "justify_items": null,
            "left": null,
            "margin": null,
            "max_height": null,
            "max_width": null,
            "min_height": null,
            "min_width": null,
            "object_fit": null,
            "object_position": null,
            "order": null,
            "overflow": null,
            "overflow_x": null,
            "overflow_y": null,
            "padding": null,
            "right": null,
            "top": null,
            "visibility": null,
            "width": null
          }
        },
        "92ce8dca2de04eeda54d743aede0ec9c": {
          "model_module": "@jupyter-widgets/controls",
          "model_name": "ProgressStyleModel",
          "model_module_version": "1.5.0",
          "state": {
            "_model_module": "@jupyter-widgets/controls",
            "_model_module_version": "1.5.0",
            "_model_name": "ProgressStyleModel",
            "_view_count": null,
            "_view_module": "@jupyter-widgets/base",
            "_view_module_version": "1.2.0",
            "_view_name": "StyleView",
            "bar_color": null,
            "description_width": ""
          }
        },
        "0c26a29abc764a43a60339bcbca1ee9a": {
          "model_module": "@jupyter-widgets/base",
          "model_name": "LayoutModel",
          "model_module_version": "1.2.0",
          "state": {
            "_model_module": "@jupyter-widgets/base",
            "_model_module_version": "1.2.0",
            "_model_name": "LayoutModel",
            "_view_count": null,
            "_view_module": "@jupyter-widgets/base",
            "_view_module_version": "1.2.0",
            "_view_name": "LayoutView",
            "align_content": null,
            "align_items": null,
            "align_self": null,
            "border": null,
            "bottom": null,
            "display": null,
            "flex": null,
            "flex_flow": null,
            "grid_area": null,
            "grid_auto_columns": null,
            "grid_auto_flow": null,
            "grid_auto_rows": null,
            "grid_column": null,
            "grid_gap": null,
            "grid_row": null,
            "grid_template_areas": null,
            "grid_template_columns": null,
            "grid_template_rows": null,
            "height": null,
            "justify_content": null,
            "justify_items": null,
            "left": null,
            "margin": null,
            "max_height": null,
            "max_width": null,
            "min_height": null,
            "min_width": null,
            "object_fit": null,
            "object_position": null,
            "order": null,
            "overflow": null,
            "overflow_x": null,
            "overflow_y": null,
            "padding": null,
            "right": null,
            "top": null,
            "visibility": null,
            "width": null
          }
        },
        "85d545d95cf340d9a393e75bf76fad1a": {
          "model_module": "@jupyter-widgets/controls",
          "model_name": "DescriptionStyleModel",
          "model_module_version": "1.5.0",
          "state": {
            "_model_module": "@jupyter-widgets/controls",
            "_model_module_version": "1.5.0",
            "_model_name": "DescriptionStyleModel",
            "_view_count": null,
            "_view_module": "@jupyter-widgets/base",
            "_view_module_version": "1.2.0",
            "_view_name": "StyleView",
            "description_width": ""
          }
        },
        "7d89c69c4c854b16bd50aba5860c9ac5": {
          "model_module": "@jupyter-widgets/controls",
          "model_name": "HBoxModel",
          "model_module_version": "1.5.0",
          "state": {
            "_dom_classes": [],
            "_model_module": "@jupyter-widgets/controls",
            "_model_module_version": "1.5.0",
            "_model_name": "HBoxModel",
            "_view_count": null,
            "_view_module": "@jupyter-widgets/controls",
            "_view_module_version": "1.5.0",
            "_view_name": "HBoxView",
            "box_style": "",
            "children": [
              "IPY_MODEL_250a437d5efc4cc9bf62404db27ef73f",
              "IPY_MODEL_41e96baf7d39417ea86d28c096e4ae40",
              "IPY_MODEL_a697c89f5c174ab894548c05a31865e9"
            ],
            "layout": "IPY_MODEL_4bd0cf34890f47309efff5182e5ffc7d"
          }
        },
        "250a437d5efc4cc9bf62404db27ef73f": {
          "model_module": "@jupyter-widgets/controls",
          "model_name": "HTMLModel",
          "model_module_version": "1.5.0",
          "state": {
            "_dom_classes": [],
            "_model_module": "@jupyter-widgets/controls",
            "_model_module_version": "1.5.0",
            "_model_name": "HTMLModel",
            "_view_count": null,
            "_view_module": "@jupyter-widgets/controls",
            "_view_module_version": "1.5.0",
            "_view_name": "HTMLView",
            "description": "",
            "description_tooltip": null,
            "layout": "IPY_MODEL_dd72536eb1b34374b92c461cd13b684f",
            "placeholder": "​",
            "style": "IPY_MODEL_c5080159851d40519ead1caf6a9ce6a4",
            "value": "100%"
          }
        },
        "41e96baf7d39417ea86d28c096e4ae40": {
          "model_module": "@jupyter-widgets/controls",
          "model_name": "FloatProgressModel",
          "model_module_version": "1.5.0",
          "state": {
            "_dom_classes": [],
            "_model_module": "@jupyter-widgets/controls",
            "_model_module_version": "1.5.0",
            "_model_name": "FloatProgressModel",
            "_view_count": null,
            "_view_module": "@jupyter-widgets/controls",
            "_view_module_version": "1.5.0",
            "_view_name": "ProgressView",
            "bar_style": "success",
            "description": "",
            "description_tooltip": null,
            "layout": "IPY_MODEL_ed0fac7bf5644b459f0ab2d0499ea9ba",
            "max": 313,
            "min": 0,
            "orientation": "horizontal",
            "style": "IPY_MODEL_7ff89609cc484962a57cb68dc5bd743b",
            "value": 313
          }
        },
        "a697c89f5c174ab894548c05a31865e9": {
          "model_module": "@jupyter-widgets/controls",
          "model_name": "HTMLModel",
          "model_module_version": "1.5.0",
          "state": {
            "_dom_classes": [],
            "_model_module": "@jupyter-widgets/controls",
            "_model_module_version": "1.5.0",
            "_model_name": "HTMLModel",
            "_view_count": null,
            "_view_module": "@jupyter-widgets/controls",
            "_view_module_version": "1.5.0",
            "_view_name": "HTMLView",
            "description": "",
            "description_tooltip": null,
            "layout": "IPY_MODEL_2679e87aaa9149e6a5aed8e67e161c34",
            "placeholder": "​",
            "style": "IPY_MODEL_e87a1a7b352b446eaa8a70f0921d5859",
            "value": " 313/313 [00:01&lt;00:00, 297.07it/s]"
          }
        },
        "4bd0cf34890f47309efff5182e5ffc7d": {
          "model_module": "@jupyter-widgets/base",
          "model_name": "LayoutModel",
          "model_module_version": "1.2.0",
          "state": {
            "_model_module": "@jupyter-widgets/base",
            "_model_module_version": "1.2.0",
            "_model_name": "LayoutModel",
            "_view_count": null,
            "_view_module": "@jupyter-widgets/base",
            "_view_module_version": "1.2.0",
            "_view_name": "LayoutView",
            "align_content": null,
            "align_items": null,
            "align_self": null,
            "border": null,
            "bottom": null,
            "display": null,
            "flex": null,
            "flex_flow": null,
            "grid_area": null,
            "grid_auto_columns": null,
            "grid_auto_flow": null,
            "grid_auto_rows": null,
            "grid_column": null,
            "grid_gap": null,
            "grid_row": null,
            "grid_template_areas": null,
            "grid_template_columns": null,
            "grid_template_rows": null,
            "height": null,
            "justify_content": null,
            "justify_items": null,
            "left": null,
            "margin": null,
            "max_height": null,
            "max_width": null,
            "min_height": null,
            "min_width": null,
            "object_fit": null,
            "object_position": null,
            "order": null,
            "overflow": null,
            "overflow_x": null,
            "overflow_y": null,
            "padding": null,
            "right": null,
            "top": null,
            "visibility": null,
            "width": null
          }
        },
        "dd72536eb1b34374b92c461cd13b684f": {
          "model_module": "@jupyter-widgets/base",
          "model_name": "LayoutModel",
          "model_module_version": "1.2.0",
          "state": {
            "_model_module": "@jupyter-widgets/base",
            "_model_module_version": "1.2.0",
            "_model_name": "LayoutModel",
            "_view_count": null,
            "_view_module": "@jupyter-widgets/base",
            "_view_module_version": "1.2.0",
            "_view_name": "LayoutView",
            "align_content": null,
            "align_items": null,
            "align_self": null,
            "border": null,
            "bottom": null,
            "display": null,
            "flex": null,
            "flex_flow": null,
            "grid_area": null,
            "grid_auto_columns": null,
            "grid_auto_flow": null,
            "grid_auto_rows": null,
            "grid_column": null,
            "grid_gap": null,
            "grid_row": null,
            "grid_template_areas": null,
            "grid_template_columns": null,
            "grid_template_rows": null,
            "height": null,
            "justify_content": null,
            "justify_items": null,
            "left": null,
            "margin": null,
            "max_height": null,
            "max_width": null,
            "min_height": null,
            "min_width": null,
            "object_fit": null,
            "object_position": null,
            "order": null,
            "overflow": null,
            "overflow_x": null,
            "overflow_y": null,
            "padding": null,
            "right": null,
            "top": null,
            "visibility": null,
            "width": null
          }
        },
        "c5080159851d40519ead1caf6a9ce6a4": {
          "model_module": "@jupyter-widgets/controls",
          "model_name": "DescriptionStyleModel",
          "model_module_version": "1.5.0",
          "state": {
            "_model_module": "@jupyter-widgets/controls",
            "_model_module_version": "1.5.0",
            "_model_name": "DescriptionStyleModel",
            "_view_count": null,
            "_view_module": "@jupyter-widgets/base",
            "_view_module_version": "1.2.0",
            "_view_name": "StyleView",
            "description_width": ""
          }
        },
        "ed0fac7bf5644b459f0ab2d0499ea9ba": {
          "model_module": "@jupyter-widgets/base",
          "model_name": "LayoutModel",
          "model_module_version": "1.2.0",
          "state": {
            "_model_module": "@jupyter-widgets/base",
            "_model_module_version": "1.2.0",
            "_model_name": "LayoutModel",
            "_view_count": null,
            "_view_module": "@jupyter-widgets/base",
            "_view_module_version": "1.2.0",
            "_view_name": "LayoutView",
            "align_content": null,
            "align_items": null,
            "align_self": null,
            "border": null,
            "bottom": null,
            "display": null,
            "flex": null,
            "flex_flow": null,
            "grid_area": null,
            "grid_auto_columns": null,
            "grid_auto_flow": null,
            "grid_auto_rows": null,
            "grid_column": null,
            "grid_gap": null,
            "grid_row": null,
            "grid_template_areas": null,
            "grid_template_columns": null,
            "grid_template_rows": null,
            "height": null,
            "justify_content": null,
            "justify_items": null,
            "left": null,
            "margin": null,
            "max_height": null,
            "max_width": null,
            "min_height": null,
            "min_width": null,
            "object_fit": null,
            "object_position": null,
            "order": null,
            "overflow": null,
            "overflow_x": null,
            "overflow_y": null,
            "padding": null,
            "right": null,
            "top": null,
            "visibility": null,
            "width": null
          }
        },
        "7ff89609cc484962a57cb68dc5bd743b": {
          "model_module": "@jupyter-widgets/controls",
          "model_name": "ProgressStyleModel",
          "model_module_version": "1.5.0",
          "state": {
            "_model_module": "@jupyter-widgets/controls",
            "_model_module_version": "1.5.0",
            "_model_name": "ProgressStyleModel",
            "_view_count": null,
            "_view_module": "@jupyter-widgets/base",
            "_view_module_version": "1.2.0",
            "_view_name": "StyleView",
            "bar_color": null,
            "description_width": ""
          }
        },
        "2679e87aaa9149e6a5aed8e67e161c34": {
          "model_module": "@jupyter-widgets/base",
          "model_name": "LayoutModel",
          "model_module_version": "1.2.0",
          "state": {
            "_model_module": "@jupyter-widgets/base",
            "_model_module_version": "1.2.0",
            "_model_name": "LayoutModel",
            "_view_count": null,
            "_view_module": "@jupyter-widgets/base",
            "_view_module_version": "1.2.0",
            "_view_name": "LayoutView",
            "align_content": null,
            "align_items": null,
            "align_self": null,
            "border": null,
            "bottom": null,
            "display": null,
            "flex": null,
            "flex_flow": null,
            "grid_area": null,
            "grid_auto_columns": null,
            "grid_auto_flow": null,
            "grid_auto_rows": null,
            "grid_column": null,
            "grid_gap": null,
            "grid_row": null,
            "grid_template_areas": null,
            "grid_template_columns": null,
            "grid_template_rows": null,
            "height": null,
            "justify_content": null,
            "justify_items": null,
            "left": null,
            "margin": null,
            "max_height": null,
            "max_width": null,
            "min_height": null,
            "min_width": null,
            "object_fit": null,
            "object_position": null,
            "order": null,
            "overflow": null,
            "overflow_x": null,
            "overflow_y": null,
            "padding": null,
            "right": null,
            "top": null,
            "visibility": null,
            "width": null
          }
        },
        "e87a1a7b352b446eaa8a70f0921d5859": {
          "model_module": "@jupyter-widgets/controls",
          "model_name": "DescriptionStyleModel",
          "model_module_version": "1.5.0",
          "state": {
            "_model_module": "@jupyter-widgets/controls",
            "_model_module_version": "1.5.0",
            "_model_name": "DescriptionStyleModel",
            "_view_count": null,
            "_view_module": "@jupyter-widgets/base",
            "_view_module_version": "1.2.0",
            "_view_name": "StyleView",
            "description_width": ""
          }
        },
        "ea97886bbc6e44f09239fe6319922e65": {
          "model_module": "@jupyter-widgets/controls",
          "model_name": "HBoxModel",
          "model_module_version": "1.5.0",
          "state": {
            "_dom_classes": [],
            "_model_module": "@jupyter-widgets/controls",
            "_model_module_version": "1.5.0",
            "_model_name": "HBoxModel",
            "_view_count": null,
            "_view_module": "@jupyter-widgets/controls",
            "_view_module_version": "1.5.0",
            "_view_name": "HBoxView",
            "box_style": "",
            "children": [
              "IPY_MODEL_28fe4d4b45ae4fe7baa2523f6fbc03ca",
              "IPY_MODEL_a868bd1dae0c46e792d7af78d7dfa8ba",
              "IPY_MODEL_56c8296a24ba4a5cbf7a633c9ff1b645"
            ],
            "layout": "IPY_MODEL_9704d4ded68749908e09ae909a14fb54"
          }
        },
        "28fe4d4b45ae4fe7baa2523f6fbc03ca": {
          "model_module": "@jupyter-widgets/controls",
          "model_name": "HTMLModel",
          "model_module_version": "1.5.0",
          "state": {
            "_dom_classes": [],
            "_model_module": "@jupyter-widgets/controls",
            "_model_module_version": "1.5.0",
            "_model_name": "HTMLModel",
            "_view_count": null,
            "_view_module": "@jupyter-widgets/controls",
            "_view_module_version": "1.5.0",
            "_view_name": "HTMLView",
            "description": "",
            "description_tooltip": null,
            "layout": "IPY_MODEL_f82d33209ba2493696d797c5781c56f6",
            "placeholder": "​",
            "style": "IPY_MODEL_5945998b409a43ebbb691a76cab0139a",
            "value": "100%"
          }
        },
        "a868bd1dae0c46e792d7af78d7dfa8ba": {
          "model_module": "@jupyter-widgets/controls",
          "model_name": "FloatProgressModel",
          "model_module_version": "1.5.0",
          "state": {
            "_dom_classes": [],
            "_model_module": "@jupyter-widgets/controls",
            "_model_module_version": "1.5.0",
            "_model_name": "FloatProgressModel",
            "_view_count": null,
            "_view_module": "@jupyter-widgets/controls",
            "_view_module_version": "1.5.0",
            "_view_name": "ProgressView",
            "bar_style": "success",
            "description": "",
            "description_tooltip": null,
            "layout": "IPY_MODEL_9d219e5c45eb4eaf8b53df73a9dc76e7",
            "max": 313,
            "min": 0,
            "orientation": "horizontal",
            "style": "IPY_MODEL_be6e86394dd54ba380c63585c5df79ba",
            "value": 313
          }
        },
        "56c8296a24ba4a5cbf7a633c9ff1b645": {
          "model_module": "@jupyter-widgets/controls",
          "model_name": "HTMLModel",
          "model_module_version": "1.5.0",
          "state": {
            "_dom_classes": [],
            "_model_module": "@jupyter-widgets/controls",
            "_model_module_version": "1.5.0",
            "_model_name": "HTMLModel",
            "_view_count": null,
            "_view_module": "@jupyter-widgets/controls",
            "_view_module_version": "1.5.0",
            "_view_name": "HTMLView",
            "description": "",
            "description_tooltip": null,
            "layout": "IPY_MODEL_16c1a778044b4989881209cb8638288f",
            "placeholder": "​",
            "style": "IPY_MODEL_492210eb77fb4f4d918924a3607aec2e",
            "value": " 313/313 [00:01&lt;00:00, 202.53it/s]"
          }
        },
        "9704d4ded68749908e09ae909a14fb54": {
          "model_module": "@jupyter-widgets/base",
          "model_name": "LayoutModel",
          "model_module_version": "1.2.0",
          "state": {
            "_model_module": "@jupyter-widgets/base",
            "_model_module_version": "1.2.0",
            "_model_name": "LayoutModel",
            "_view_count": null,
            "_view_module": "@jupyter-widgets/base",
            "_view_module_version": "1.2.0",
            "_view_name": "LayoutView",
            "align_content": null,
            "align_items": null,
            "align_self": null,
            "border": null,
            "bottom": null,
            "display": null,
            "flex": null,
            "flex_flow": null,
            "grid_area": null,
            "grid_auto_columns": null,
            "grid_auto_flow": null,
            "grid_auto_rows": null,
            "grid_column": null,
            "grid_gap": null,
            "grid_row": null,
            "grid_template_areas": null,
            "grid_template_columns": null,
            "grid_template_rows": null,
            "height": null,
            "justify_content": null,
            "justify_items": null,
            "left": null,
            "margin": null,
            "max_height": null,
            "max_width": null,
            "min_height": null,
            "min_width": null,
            "object_fit": null,
            "object_position": null,
            "order": null,
            "overflow": null,
            "overflow_x": null,
            "overflow_y": null,
            "padding": null,
            "right": null,
            "top": null,
            "visibility": null,
            "width": null
          }
        },
        "f82d33209ba2493696d797c5781c56f6": {
          "model_module": "@jupyter-widgets/base",
          "model_name": "LayoutModel",
          "model_module_version": "1.2.0",
          "state": {
            "_model_module": "@jupyter-widgets/base",
            "_model_module_version": "1.2.0",
            "_model_name": "LayoutModel",
            "_view_count": null,
            "_view_module": "@jupyter-widgets/base",
            "_view_module_version": "1.2.0",
            "_view_name": "LayoutView",
            "align_content": null,
            "align_items": null,
            "align_self": null,
            "border": null,
            "bottom": null,
            "display": null,
            "flex": null,
            "flex_flow": null,
            "grid_area": null,
            "grid_auto_columns": null,
            "grid_auto_flow": null,
            "grid_auto_rows": null,
            "grid_column": null,
            "grid_gap": null,
            "grid_row": null,
            "grid_template_areas": null,
            "grid_template_columns": null,
            "grid_template_rows": null,
            "height": null,
            "justify_content": null,
            "justify_items": null,
            "left": null,
            "margin": null,
            "max_height": null,
            "max_width": null,
            "min_height": null,
            "min_width": null,
            "object_fit": null,
            "object_position": null,
            "order": null,
            "overflow": null,
            "overflow_x": null,
            "overflow_y": null,
            "padding": null,
            "right": null,
            "top": null,
            "visibility": null,
            "width": null
          }
        },
        "5945998b409a43ebbb691a76cab0139a": {
          "model_module": "@jupyter-widgets/controls",
          "model_name": "DescriptionStyleModel",
          "model_module_version": "1.5.0",
          "state": {
            "_model_module": "@jupyter-widgets/controls",
            "_model_module_version": "1.5.0",
            "_model_name": "DescriptionStyleModel",
            "_view_count": null,
            "_view_module": "@jupyter-widgets/base",
            "_view_module_version": "1.2.0",
            "_view_name": "StyleView",
            "description_width": ""
          }
        },
        "9d219e5c45eb4eaf8b53df73a9dc76e7": {
          "model_module": "@jupyter-widgets/base",
          "model_name": "LayoutModel",
          "model_module_version": "1.2.0",
          "state": {
            "_model_module": "@jupyter-widgets/base",
            "_model_module_version": "1.2.0",
            "_model_name": "LayoutModel",
            "_view_count": null,
            "_view_module": "@jupyter-widgets/base",
            "_view_module_version": "1.2.0",
            "_view_name": "LayoutView",
            "align_content": null,
            "align_items": null,
            "align_self": null,
            "border": null,
            "bottom": null,
            "display": null,
            "flex": null,
            "flex_flow": null,
            "grid_area": null,
            "grid_auto_columns": null,
            "grid_auto_flow": null,
            "grid_auto_rows": null,
            "grid_column": null,
            "grid_gap": null,
            "grid_row": null,
            "grid_template_areas": null,
            "grid_template_columns": null,
            "grid_template_rows": null,
            "height": null,
            "justify_content": null,
            "justify_items": null,
            "left": null,
            "margin": null,
            "max_height": null,
            "max_width": null,
            "min_height": null,
            "min_width": null,
            "object_fit": null,
            "object_position": null,
            "order": null,
            "overflow": null,
            "overflow_x": null,
            "overflow_y": null,
            "padding": null,
            "right": null,
            "top": null,
            "visibility": null,
            "width": null
          }
        },
        "be6e86394dd54ba380c63585c5df79ba": {
          "model_module": "@jupyter-widgets/controls",
          "model_name": "ProgressStyleModel",
          "model_module_version": "1.5.0",
          "state": {
            "_model_module": "@jupyter-widgets/controls",
            "_model_module_version": "1.5.0",
            "_model_name": "ProgressStyleModel",
            "_view_count": null,
            "_view_module": "@jupyter-widgets/base",
            "_view_module_version": "1.2.0",
            "_view_name": "StyleView",
            "bar_color": null,
            "description_width": ""
          }
        },
        "16c1a778044b4989881209cb8638288f": {
          "model_module": "@jupyter-widgets/base",
          "model_name": "LayoutModel",
          "model_module_version": "1.2.0",
          "state": {
            "_model_module": "@jupyter-widgets/base",
            "_model_module_version": "1.2.0",
            "_model_name": "LayoutModel",
            "_view_count": null,
            "_view_module": "@jupyter-widgets/base",
            "_view_module_version": "1.2.0",
            "_view_name": "LayoutView",
            "align_content": null,
            "align_items": null,
            "align_self": null,
            "border": null,
            "bottom": null,
            "display": null,
            "flex": null,
            "flex_flow": null,
            "grid_area": null,
            "grid_auto_columns": null,
            "grid_auto_flow": null,
            "grid_auto_rows": null,
            "grid_column": null,
            "grid_gap": null,
            "grid_row": null,
            "grid_template_areas": null,
            "grid_template_columns": null,
            "grid_template_rows": null,
            "height": null,
            "justify_content": null,
            "justify_items": null,
            "left": null,
            "margin": null,
            "max_height": null,
            "max_width": null,
            "min_height": null,
            "min_width": null,
            "object_fit": null,
            "object_position": null,
            "order": null,
            "overflow": null,
            "overflow_x": null,
            "overflow_y": null,
            "padding": null,
            "right": null,
            "top": null,
            "visibility": null,
            "width": null
          }
        },
        "492210eb77fb4f4d918924a3607aec2e": {
          "model_module": "@jupyter-widgets/controls",
          "model_name": "DescriptionStyleModel",
          "model_module_version": "1.5.0",
          "state": {
            "_model_module": "@jupyter-widgets/controls",
            "_model_module_version": "1.5.0",
            "_model_name": "DescriptionStyleModel",
            "_view_count": null,
            "_view_module": "@jupyter-widgets/base",
            "_view_module_version": "1.2.0",
            "_view_name": "StyleView",
            "description_width": ""
          }
        },
        "d91870458c6a48a49caa12c7f0272ec1": {
          "model_module": "@jupyter-widgets/controls",
          "model_name": "HBoxModel",
          "model_module_version": "1.5.0",
          "state": {
            "_dom_classes": [],
            "_model_module": "@jupyter-widgets/controls",
            "_model_module_version": "1.5.0",
            "_model_name": "HBoxModel",
            "_view_count": null,
            "_view_module": "@jupyter-widgets/controls",
            "_view_module_version": "1.5.0",
            "_view_name": "HBoxView",
            "box_style": "",
            "children": [
              "IPY_MODEL_73f2d6d15ac444ac818f460219a086f8",
              "IPY_MODEL_bb1b4a9c31d54f428a73d03ad4f507d8",
              "IPY_MODEL_0b2eb0d4befe473d8d7614e59e346f5b"
            ],
            "layout": "IPY_MODEL_7d4eb0daeacf4d4f95aa4adb3f71a845"
          }
        },
        "73f2d6d15ac444ac818f460219a086f8": {
          "model_module": "@jupyter-widgets/controls",
          "model_name": "HTMLModel",
          "model_module_version": "1.5.0",
          "state": {
            "_dom_classes": [],
            "_model_module": "@jupyter-widgets/controls",
            "_model_module_version": "1.5.0",
            "_model_name": "HTMLModel",
            "_view_count": null,
            "_view_module": "@jupyter-widgets/controls",
            "_view_module_version": "1.5.0",
            "_view_name": "HTMLView",
            "description": "",
            "description_tooltip": null,
            "layout": "IPY_MODEL_b7456fa2658147f0a5ff081ec4d45c9c",
            "placeholder": "​",
            "style": "IPY_MODEL_99cae806452c4875a347d31cc4f36d4b",
            "value": "Making predictions...: 100%"
          }
        },
        "bb1b4a9c31d54f428a73d03ad4f507d8": {
          "model_module": "@jupyter-widgets/controls",
          "model_name": "FloatProgressModel",
          "model_module_version": "1.5.0",
          "state": {
            "_dom_classes": [],
            "_model_module": "@jupyter-widgets/controls",
            "_model_module_version": "1.5.0",
            "_model_name": "FloatProgressModel",
            "_view_count": null,
            "_view_module": "@jupyter-widgets/controls",
            "_view_module_version": "1.5.0",
            "_view_name": "ProgressView",
            "bar_style": "success",
            "description": "",
            "description_tooltip": null,
            "layout": "IPY_MODEL_36d6b5f3682a439faaff78b9e7694d1a",
            "max": 313,
            "min": 0,
            "orientation": "horizontal",
            "style": "IPY_MODEL_9b62dd670d9b4093ad03e9a904cf24e8",
            "value": 313
          }
        },
        "0b2eb0d4befe473d8d7614e59e346f5b": {
          "model_module": "@jupyter-widgets/controls",
          "model_name": "HTMLModel",
          "model_module_version": "1.5.0",
          "state": {
            "_dom_classes": [],
            "_model_module": "@jupyter-widgets/controls",
            "_model_module_version": "1.5.0",
            "_model_name": "HTMLModel",
            "_view_count": null,
            "_view_module": "@jupyter-widgets/controls",
            "_view_module_version": "1.5.0",
            "_view_name": "HTMLView",
            "description": "",
            "description_tooltip": null,
            "layout": "IPY_MODEL_fadeec781e734bc8b3ea7b1f6d4ba9b7",
            "placeholder": "​",
            "style": "IPY_MODEL_9b8563dfab8c4213985d4bad5c267d47",
            "value": " 313/313 [00:01&lt;00:00, 261.42it/s]"
          }
        },
        "7d4eb0daeacf4d4f95aa4adb3f71a845": {
          "model_module": "@jupyter-widgets/base",
          "model_name": "LayoutModel",
          "model_module_version": "1.2.0",
          "state": {
            "_model_module": "@jupyter-widgets/base",
            "_model_module_version": "1.2.0",
            "_model_name": "LayoutModel",
            "_view_count": null,
            "_view_module": "@jupyter-widgets/base",
            "_view_module_version": "1.2.0",
            "_view_name": "LayoutView",
            "align_content": null,
            "align_items": null,
            "align_self": null,
            "border": null,
            "bottom": null,
            "display": null,
            "flex": null,
            "flex_flow": null,
            "grid_area": null,
            "grid_auto_columns": null,
            "grid_auto_flow": null,
            "grid_auto_rows": null,
            "grid_column": null,
            "grid_gap": null,
            "grid_row": null,
            "grid_template_areas": null,
            "grid_template_columns": null,
            "grid_template_rows": null,
            "height": null,
            "justify_content": null,
            "justify_items": null,
            "left": null,
            "margin": null,
            "max_height": null,
            "max_width": null,
            "min_height": null,
            "min_width": null,
            "object_fit": null,
            "object_position": null,
            "order": null,
            "overflow": null,
            "overflow_x": null,
            "overflow_y": null,
            "padding": null,
            "right": null,
            "top": null,
            "visibility": null,
            "width": null
          }
        },
        "b7456fa2658147f0a5ff081ec4d45c9c": {
          "model_module": "@jupyter-widgets/base",
          "model_name": "LayoutModel",
          "model_module_version": "1.2.0",
          "state": {
            "_model_module": "@jupyter-widgets/base",
            "_model_module_version": "1.2.0",
            "_model_name": "LayoutModel",
            "_view_count": null,
            "_view_module": "@jupyter-widgets/base",
            "_view_module_version": "1.2.0",
            "_view_name": "LayoutView",
            "align_content": null,
            "align_items": null,
            "align_self": null,
            "border": null,
            "bottom": null,
            "display": null,
            "flex": null,
            "flex_flow": null,
            "grid_area": null,
            "grid_auto_columns": null,
            "grid_auto_flow": null,
            "grid_auto_rows": null,
            "grid_column": null,
            "grid_gap": null,
            "grid_row": null,
            "grid_template_areas": null,
            "grid_template_columns": null,
            "grid_template_rows": null,
            "height": null,
            "justify_content": null,
            "justify_items": null,
            "left": null,
            "margin": null,
            "max_height": null,
            "max_width": null,
            "min_height": null,
            "min_width": null,
            "object_fit": null,
            "object_position": null,
            "order": null,
            "overflow": null,
            "overflow_x": null,
            "overflow_y": null,
            "padding": null,
            "right": null,
            "top": null,
            "visibility": null,
            "width": null
          }
        },
        "99cae806452c4875a347d31cc4f36d4b": {
          "model_module": "@jupyter-widgets/controls",
          "model_name": "DescriptionStyleModel",
          "model_module_version": "1.5.0",
          "state": {
            "_model_module": "@jupyter-widgets/controls",
            "_model_module_version": "1.5.0",
            "_model_name": "DescriptionStyleModel",
            "_view_count": null,
            "_view_module": "@jupyter-widgets/base",
            "_view_module_version": "1.2.0",
            "_view_name": "StyleView",
            "description_width": ""
          }
        },
        "36d6b5f3682a439faaff78b9e7694d1a": {
          "model_module": "@jupyter-widgets/base",
          "model_name": "LayoutModel",
          "model_module_version": "1.2.0",
          "state": {
            "_model_module": "@jupyter-widgets/base",
            "_model_module_version": "1.2.0",
            "_model_name": "LayoutModel",
            "_view_count": null,
            "_view_module": "@jupyter-widgets/base",
            "_view_module_version": "1.2.0",
            "_view_name": "LayoutView",
            "align_content": null,
            "align_items": null,
            "align_self": null,
            "border": null,
            "bottom": null,
            "display": null,
            "flex": null,
            "flex_flow": null,
            "grid_area": null,
            "grid_auto_columns": null,
            "grid_auto_flow": null,
            "grid_auto_rows": null,
            "grid_column": null,
            "grid_gap": null,
            "grid_row": null,
            "grid_template_areas": null,
            "grid_template_columns": null,
            "grid_template_rows": null,
            "height": null,
            "justify_content": null,
            "justify_items": null,
            "left": null,
            "margin": null,
            "max_height": null,
            "max_width": null,
            "min_height": null,
            "min_width": null,
            "object_fit": null,
            "object_position": null,
            "order": null,
            "overflow": null,
            "overflow_x": null,
            "overflow_y": null,
            "padding": null,
            "right": null,
            "top": null,
            "visibility": null,
            "width": null
          }
        },
        "9b62dd670d9b4093ad03e9a904cf24e8": {
          "model_module": "@jupyter-widgets/controls",
          "model_name": "ProgressStyleModel",
          "model_module_version": "1.5.0",
          "state": {
            "_model_module": "@jupyter-widgets/controls",
            "_model_module_version": "1.5.0",
            "_model_name": "ProgressStyleModel",
            "_view_count": null,
            "_view_module": "@jupyter-widgets/base",
            "_view_module_version": "1.2.0",
            "_view_name": "StyleView",
            "bar_color": null,
            "description_width": ""
          }
        },
        "fadeec781e734bc8b3ea7b1f6d4ba9b7": {
          "model_module": "@jupyter-widgets/base",
          "model_name": "LayoutModel",
          "model_module_version": "1.2.0",
          "state": {
            "_model_module": "@jupyter-widgets/base",
            "_model_module_version": "1.2.0",
            "_model_name": "LayoutModel",
            "_view_count": null,
            "_view_module": "@jupyter-widgets/base",
            "_view_module_version": "1.2.0",
            "_view_name": "LayoutView",
            "align_content": null,
            "align_items": null,
            "align_self": null,
            "border": null,
            "bottom": null,
            "display": null,
            "flex": null,
            "flex_flow": null,
            "grid_area": null,
            "grid_auto_columns": null,
            "grid_auto_flow": null,
            "grid_auto_rows": null,
            "grid_column": null,
            "grid_gap": null,
            "grid_row": null,
            "grid_template_areas": null,
            "grid_template_columns": null,
            "grid_template_rows": null,
            "height": null,
            "justify_content": null,
            "justify_items": null,
            "left": null,
            "margin": null,
            "max_height": null,
            "max_width": null,
            "min_height": null,
            "min_width": null,
            "object_fit": null,
            "object_position": null,
            "order": null,
            "overflow": null,
            "overflow_x": null,
            "overflow_y": null,
            "padding": null,
            "right": null,
            "top": null,
            "visibility": null,
            "width": null
          }
        },
        "9b8563dfab8c4213985d4bad5c267d47": {
          "model_module": "@jupyter-widgets/controls",
          "model_name": "DescriptionStyleModel",
          "model_module_version": "1.5.0",
          "state": {
            "_model_module": "@jupyter-widgets/controls",
            "_model_module_version": "1.5.0",
            "_model_name": "DescriptionStyleModel",
            "_view_count": null,
            "_view_module": "@jupyter-widgets/base",
            "_view_module_version": "1.2.0",
            "_view_name": "StyleView",
            "description_width": ""
          }
        },
        "488d779d4951462bb52ba9e73a4ed356": {
          "model_module": "@jupyter-widgets/controls",
          "model_name": "HBoxModel",
          "model_module_version": "1.5.0",
          "state": {
            "_dom_classes": [],
            "_model_module": "@jupyter-widgets/controls",
            "_model_module_version": "1.5.0",
            "_model_name": "HBoxModel",
            "_view_count": null,
            "_view_module": "@jupyter-widgets/controls",
            "_view_module_version": "1.5.0",
            "_view_name": "HBoxView",
            "box_style": "",
            "children": [
              "IPY_MODEL_909e7d6594e6453196b2ea0b0193ed13",
              "IPY_MODEL_3eac65e8548145f494c8512f8a335d03",
              "IPY_MODEL_3738ae0336a440e9905e2433f3d4949a"
            ],
            "layout": "IPY_MODEL_4b91478e80b8413d8d8b5cef536faca0"
          }
        },
        "909e7d6594e6453196b2ea0b0193ed13": {
          "model_module": "@jupyter-widgets/controls",
          "model_name": "HTMLModel",
          "model_module_version": "1.5.0",
          "state": {
            "_dom_classes": [],
            "_model_module": "@jupyter-widgets/controls",
            "_model_module_version": "1.5.0",
            "_model_name": "HTMLModel",
            "_view_count": null,
            "_view_module": "@jupyter-widgets/controls",
            "_view_module_version": "1.5.0",
            "_view_name": "HTMLView",
            "description": "",
            "description_tooltip": null,
            "layout": "IPY_MODEL_0ca96af76a4142f8a532e14c424d2675",
            "placeholder": "​",
            "style": "IPY_MODEL_ce0c1e5e8241450cb61d551677814f3c",
            "value": "100%"
          }
        },
        "3eac65e8548145f494c8512f8a335d03": {
          "model_module": "@jupyter-widgets/controls",
          "model_name": "FloatProgressModel",
          "model_module_version": "1.5.0",
          "state": {
            "_dom_classes": [],
            "_model_module": "@jupyter-widgets/controls",
            "_model_module_version": "1.5.0",
            "_model_name": "FloatProgressModel",
            "_view_count": null,
            "_view_module": "@jupyter-widgets/controls",
            "_view_module_version": "1.5.0",
            "_view_name": "ProgressView",
            "bar_style": "success",
            "description": "",
            "description_tooltip": null,
            "layout": "IPY_MODEL_b16db5cf10034a7a844c29d8095fa7e1",
            "max": 313,
            "min": 0,
            "orientation": "horizontal",
            "style": "IPY_MODEL_d7ce5ab525924602863523e78b95174e",
            "value": 313
          }
        },
        "3738ae0336a440e9905e2433f3d4949a": {
          "model_module": "@jupyter-widgets/controls",
          "model_name": "HTMLModel",
          "model_module_version": "1.5.0",
          "state": {
            "_dom_classes": [],
            "_model_module": "@jupyter-widgets/controls",
            "_model_module_version": "1.5.0",
            "_model_name": "HTMLModel",
            "_view_count": null,
            "_view_module": "@jupyter-widgets/controls",
            "_view_module_version": "1.5.0",
            "_view_name": "HTMLView",
            "description": "",
            "description_tooltip": null,
            "layout": "IPY_MODEL_97778dfcbaa6433192e47374b2ac0cd5",
            "placeholder": "​",
            "style": "IPY_MODEL_ef9be5f435294e65949b28be9b31b8f4",
            "value": " 313/313 [00:01&lt;00:00, 188.30it/s]"
          }
        },
        "4b91478e80b8413d8d8b5cef536faca0": {
          "model_module": "@jupyter-widgets/base",
          "model_name": "LayoutModel",
          "model_module_version": "1.2.0",
          "state": {
            "_model_module": "@jupyter-widgets/base",
            "_model_module_version": "1.2.0",
            "_model_name": "LayoutModel",
            "_view_count": null,
            "_view_module": "@jupyter-widgets/base",
            "_view_module_version": "1.2.0",
            "_view_name": "LayoutView",
            "align_content": null,
            "align_items": null,
            "align_self": null,
            "border": null,
            "bottom": null,
            "display": null,
            "flex": null,
            "flex_flow": null,
            "grid_area": null,
            "grid_auto_columns": null,
            "grid_auto_flow": null,
            "grid_auto_rows": null,
            "grid_column": null,
            "grid_gap": null,
            "grid_row": null,
            "grid_template_areas": null,
            "grid_template_columns": null,
            "grid_template_rows": null,
            "height": null,
            "justify_content": null,
            "justify_items": null,
            "left": null,
            "margin": null,
            "max_height": null,
            "max_width": null,
            "min_height": null,
            "min_width": null,
            "object_fit": null,
            "object_position": null,
            "order": null,
            "overflow": null,
            "overflow_x": null,
            "overflow_y": null,
            "padding": null,
            "right": null,
            "top": null,
            "visibility": null,
            "width": null
          }
        },
        "0ca96af76a4142f8a532e14c424d2675": {
          "model_module": "@jupyter-widgets/base",
          "model_name": "LayoutModel",
          "model_module_version": "1.2.0",
          "state": {
            "_model_module": "@jupyter-widgets/base",
            "_model_module_version": "1.2.0",
            "_model_name": "LayoutModel",
            "_view_count": null,
            "_view_module": "@jupyter-widgets/base",
            "_view_module_version": "1.2.0",
            "_view_name": "LayoutView",
            "align_content": null,
            "align_items": null,
            "align_self": null,
            "border": null,
            "bottom": null,
            "display": null,
            "flex": null,
            "flex_flow": null,
            "grid_area": null,
            "grid_auto_columns": null,
            "grid_auto_flow": null,
            "grid_auto_rows": null,
            "grid_column": null,
            "grid_gap": null,
            "grid_row": null,
            "grid_template_areas": null,
            "grid_template_columns": null,
            "grid_template_rows": null,
            "height": null,
            "justify_content": null,
            "justify_items": null,
            "left": null,
            "margin": null,
            "max_height": null,
            "max_width": null,
            "min_height": null,
            "min_width": null,
            "object_fit": null,
            "object_position": null,
            "order": null,
            "overflow": null,
            "overflow_x": null,
            "overflow_y": null,
            "padding": null,
            "right": null,
            "top": null,
            "visibility": null,
            "width": null
          }
        },
        "ce0c1e5e8241450cb61d551677814f3c": {
          "model_module": "@jupyter-widgets/controls",
          "model_name": "DescriptionStyleModel",
          "model_module_version": "1.5.0",
          "state": {
            "_model_module": "@jupyter-widgets/controls",
            "_model_module_version": "1.5.0",
            "_model_name": "DescriptionStyleModel",
            "_view_count": null,
            "_view_module": "@jupyter-widgets/base",
            "_view_module_version": "1.2.0",
            "_view_name": "StyleView",
            "description_width": ""
          }
        },
        "b16db5cf10034a7a844c29d8095fa7e1": {
          "model_module": "@jupyter-widgets/base",
          "model_name": "LayoutModel",
          "model_module_version": "1.2.0",
          "state": {
            "_model_module": "@jupyter-widgets/base",
            "_model_module_version": "1.2.0",
            "_model_name": "LayoutModel",
            "_view_count": null,
            "_view_module": "@jupyter-widgets/base",
            "_view_module_version": "1.2.0",
            "_view_name": "LayoutView",
            "align_content": null,
            "align_items": null,
            "align_self": null,
            "border": null,
            "bottom": null,
            "display": null,
            "flex": null,
            "flex_flow": null,
            "grid_area": null,
            "grid_auto_columns": null,
            "grid_auto_flow": null,
            "grid_auto_rows": null,
            "grid_column": null,
            "grid_gap": null,
            "grid_row": null,
            "grid_template_areas": null,
            "grid_template_columns": null,
            "grid_template_rows": null,
            "height": null,
            "justify_content": null,
            "justify_items": null,
            "left": null,
            "margin": null,
            "max_height": null,
            "max_width": null,
            "min_height": null,
            "min_width": null,
            "object_fit": null,
            "object_position": null,
            "order": null,
            "overflow": null,
            "overflow_x": null,
            "overflow_y": null,
            "padding": null,
            "right": null,
            "top": null,
            "visibility": null,
            "width": null
          }
        },
        "d7ce5ab525924602863523e78b95174e": {
          "model_module": "@jupyter-widgets/controls",
          "model_name": "ProgressStyleModel",
          "model_module_version": "1.5.0",
          "state": {
            "_model_module": "@jupyter-widgets/controls",
            "_model_module_version": "1.5.0",
            "_model_name": "ProgressStyleModel",
            "_view_count": null,
            "_view_module": "@jupyter-widgets/base",
            "_view_module_version": "1.2.0",
            "_view_name": "StyleView",
            "bar_color": null,
            "description_width": ""
          }
        },
        "97778dfcbaa6433192e47374b2ac0cd5": {
          "model_module": "@jupyter-widgets/base",
          "model_name": "LayoutModel",
          "model_module_version": "1.2.0",
          "state": {
            "_model_module": "@jupyter-widgets/base",
            "_model_module_version": "1.2.0",
            "_model_name": "LayoutModel",
            "_view_count": null,
            "_view_module": "@jupyter-widgets/base",
            "_view_module_version": "1.2.0",
            "_view_name": "LayoutView",
            "align_content": null,
            "align_items": null,
            "align_self": null,
            "border": null,
            "bottom": null,
            "display": null,
            "flex": null,
            "flex_flow": null,
            "grid_area": null,
            "grid_auto_columns": null,
            "grid_auto_flow": null,
            "grid_auto_rows": null,
            "grid_column": null,
            "grid_gap": null,
            "grid_row": null,
            "grid_template_areas": null,
            "grid_template_columns": null,
            "grid_template_rows": null,
            "height": null,
            "justify_content": null,
            "justify_items": null,
            "left": null,
            "margin": null,
            "max_height": null,
            "max_width": null,
            "min_height": null,
            "min_width": null,
            "object_fit": null,
            "object_position": null,
            "order": null,
            "overflow": null,
            "overflow_x": null,
            "overflow_y": null,
            "padding": null,
            "right": null,
            "top": null,
            "visibility": null,
            "width": null
          }
        },
        "ef9be5f435294e65949b28be9b31b8f4": {
          "model_module": "@jupyter-widgets/controls",
          "model_name": "DescriptionStyleModel",
          "model_module_version": "1.5.0",
          "state": {
            "_model_module": "@jupyter-widgets/controls",
            "_model_module_version": "1.5.0",
            "_model_name": "DescriptionStyleModel",
            "_view_count": null,
            "_view_module": "@jupyter-widgets/base",
            "_view_module_version": "1.2.0",
            "_view_name": "StyleView",
            "description_width": ""
          }
        }
      }
    }
  },
  "nbformat": 4,
  "nbformat_minor": 5
}