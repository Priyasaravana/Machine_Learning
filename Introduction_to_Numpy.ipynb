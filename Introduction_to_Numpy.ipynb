{
  "nbformat": 4,
  "nbformat_minor": 0,
  "metadata": {
    "colab": {
      "provenance": []
    },
    "kernelspec": {
      "name": "python3",
      "display_name": "Python 3"
    },
    "language_info": {
      "name": "python"
    }
  },
  "cells": [
    {
      "cell_type": "markdown",
      "source": [
        "<H1 style=\"text-align: center\">EEEM066 - Fundamentals of Machine Learning</H1>\n",
        "<H1 style=\"text-align: center\">Week - 2: Introduction to NumPy+PyTorch</H1>\n",
        "\n",
        "\n",
        "> Dr. Xiatian (Eddy) Zhu, Dr Syed Sameed Husain\n",
        "\n",
        "> xiatian.zhu@surrey.ac.uk, sameed.husain@surrey.ac.uk\n",
        "\n",
        "Prerequisites: A basic understanding of the Python Programming Language (Week 1 - Lab sheet!)\n",
        "\n",
        "The objective of today’s lab is to introduce you to the NumPy and PyTorch libraries.\n",
        "\n",
        "“**Num**erical **Py**thon\" (NumPy) and **PyTorch** are popular scientific computing libraries in Python that\n",
        "provide support for arrays of numerical data, specifically multidimensional arrays. Although both NumPy\n",
        "and PyTorch are written in Python, their underlying numerical operations are often implemented in C or\n",
        "C++ to provide more efficient and convenient ways to perform operations on arrays.\n",
        "\n",
        "\n",
        "* NumPy is a fundamental package for scientific computing in Python. It provides support for multi-\n",
        "dimensional arrays and matrices, as well as functions that operate on them. It is commonly used to\n",
        "preprocess and manipulate data before feeding it into machine learning models. For example, you can use\n",
        "NumPy to reshape, normalize, or scale datasets, as well as to split datasets into training and testing sets.\n",
        "\n",
        "\n",
        "* PyTorch is an open-source machine learning library developed by Meta. It is designed to provide flexibility\n",
        "and speed for building deep learning models. PyTorch provides a range of functions and tools for building\n",
        "and training neural networks, including automatic differentiation, GPU acceleration, and distributed training.\n",
        "Both NumPy and PyTorch can be used to create, manipulate, and transform numerical data in ways that are\n",
        "essential to building and training machine learning models. They are key tools in the modern data scientist’s\n",
        "toolkit.\n",
        "\n",
        "\n",
        "Happy Programming!⚡⚡"
      ],
      "metadata": {
        "id": "a7GxengBWpKf"
      }
    },
    {
      "cell_type": "markdown",
      "source": [
        "## Contents\n",
        "\n",
        "\n",
        "*   [Arrays](https://colab.research.google.com/drive/1OsdZtZbC3hUsyxubwRA_v4YLp_65onqK#scrollTo=TLWP0Mj8rwgX&line=1&uniqifier=1)\n",
        "*   [Datatypes](https://colab.research.google.com/drive/1OsdZtZbC3hUsyxubwRA_v4YLp_65onqK#scrollTo=m4UGxdyIuQuH&line=1&uniqifier=1)\n",
        "*   [Array Broadcasting](https://colab.research.google.com/drive/1OsdZtZbC3hUsyxubwRA_v4YLp_65onqK#scrollTo=mz7HbAAkvSmJ&line=4&uniqifier=1)\n",
        "*   [Shape Manipulation](https://colab.research.google.com/drive/1OsdZtZbC3hUsyxubwRA_v4YLp_65onqK#scrollTo=_-eiN0rt2uMq&line=2&uniqifier=1)\n",
        "* [Getting started with PyTorch](https://colab.research.google.com/drive/1OsdZtZbC3hUsyxubwRA_v4YLp_65onqK?authuser=2#scrollTo=MX-emrexCpk4&line=1&uniqifier=1)\n",
        "*   [References](https://colab.research.google.com/drive/1OsdZtZbC3hUsyxubwRA_v4YLp_65onqK#scrollTo=Epc2J0BLdyJo&line=9&uniqifier=1)\n",
        "\n"
      ],
      "metadata": {
        "id": "klM1LTmwfGSj"
      }
    },
    {
      "cell_type": "markdown",
      "source": [
        "## Arrays\n",
        "\n"
      ],
      "metadata": {
        "id": "TLWP0Mj8rwgX"
      }
    },
    {
      "cell_type": "markdown",
      "source": [
        "Store and manipulate numerical data efficiently.\n",
        "* homogeneous and multidimensional!\n",
        "\n",
        "All the elements in the array should be of the same data type, and the array can have one or more dimensions."
      ],
      "metadata": {
        "id": "1-wkL2hqbFAr"
      }
    },
    {
      "cell_type": "code",
      "source": [
        "import numpy as np\n",
        "\n",
        "# create a 1-dimensional NumPy array\n",
        "arr1 = np.array([1, 2, 3, 4, 5])\n",
        "print(arr1)\n",
        "\n",
        "# create a 2-dimensional NumPy array\n",
        "arr2 = np.array([[1, 2, 3], [4, 5, 6], [7, 8, 9]])\n",
        "print(arr2)\n"
      ],
      "metadata": {
        "colab": {
          "base_uri": "https://localhost:8080/"
        },
        "id": "mgBAKm_brtlV",
        "outputId": "d45a7911-a392-49c9-8006-d76f62e7f933"
      },
      "execution_count": null,
      "outputs": [
        {
          "output_type": "stream",
          "name": "stdout",
          "text": [
            "[1 2 3 4 5]\n",
            "[[1 2 3]\n",
            " [4 5 6]\n",
            " [7 8 9]]\n"
          ]
        }
      ]
    },
    {
      "cell_type": "code",
      "source": [
        "# access elements of a NumPy array\n",
        "print(arr1[0])      # prints 1\n",
        "print(arr2[1, 2])   # prints 6\n",
        "print(arr2[:, 1])   # prints [2 5 8]\n"
      ],
      "metadata": {
        "colab": {
          "base_uri": "https://localhost:8080/"
        },
        "id": "PJkVW93osFdn",
        "outputId": "619f3960-0ed2-49ff-bf02-c6466a62b5ca"
      },
      "execution_count": null,
      "outputs": [
        {
          "output_type": "stream",
          "name": "stdout",
          "text": [
            "1\n",
            "6\n",
            "[2 5 8]\n"
          ]
        }
      ]
    },
    {
      "cell_type": "markdown",
      "source": [
        "## Datatypes\n",
        "\n"
      ],
      "metadata": {
        "id": "m4UGxdyIuQuH"
      }
    },
    {
      "cell_type": "markdown",
      "source": [
        "Integer data types:\n",
        "* int8, int16, int32, int64: signed integers of 8, 16, 32, or 64 bits respectively\n",
        "* uint8, uint16, uint32, uint64: unsigned integers of 8, 16, 32, or 64 bits respectively"
      ],
      "metadata": {
        "id": "UEZVfUb0uYdX"
      }
    },
    {
      "cell_type": "code",
      "source": [
        "\n",
        "arr_int8 = np.array([1, 2, 3], dtype=np.int8)\n",
        "arr_uint16 = np.array([10, 20, 30], dtype=np.uint16)\n",
        "\n",
        "print(arr_int8.dtype)   # output: int8\n",
        "print(arr_uint16.dtype) # output: uint16\n"
      ],
      "metadata": {
        "colab": {
          "base_uri": "https://localhost:8080/"
        },
        "id": "9H8ggCdyuhKA",
        "outputId": "87d964d2-6711-4fda-f1f9-2eb9c44cab7c"
      },
      "execution_count": null,
      "outputs": [
        {
          "output_type": "stream",
          "name": "stdout",
          "text": [
            "int8\n",
            "uint16\n"
          ]
        }
      ]
    },
    {
      "cell_type": "markdown",
      "source": [
        "Float data types:\n",
        "* float16, float32, float64: floating-point numbers of 16, 32, or 64 bits respectively\n",
        "* complex64, complex128: complex numbers represented by 2 floats of 32 or 64 bits respectively"
      ],
      "metadata": {
        "id": "B39ZvNKvun1X"
      }
    },
    {
      "cell_type": "code",
      "source": [
        "arr_float32 = np.array([1.0, 2.5, 3.7], dtype=np.float32)\n",
        "arr_complex128 = np.array([1 + 2j, 3 + 4j], dtype=np.complex128)\n",
        "\n",
        "print(arr_float32.dtype)      # output: float32\n",
        "print(arr_complex128.dtype)   # output: complex128\n"
      ],
      "metadata": {
        "colab": {
          "base_uri": "https://localhost:8080/"
        },
        "id": "aaztNqqfujKF",
        "outputId": "cf712ae1-48e3-4b24-989f-62b3e8ba2891"
      },
      "execution_count": null,
      "outputs": [
        {
          "output_type": "stream",
          "name": "stdout",
          "text": [
            "float32\n",
            "complex128\n"
          ]
        }
      ]
    },
    {
      "cell_type": "markdown",
      "source": [
        "Boolean data types:\n",
        "* bool: boolean values True or False represented by a byte"
      ],
      "metadata": {
        "id": "dmfWS8E_u2kX"
      }
    },
    {
      "cell_type": "code",
      "source": [
        "arr_bool = np.array([True, False, True], dtype=np.bool)\n",
        "\n",
        "print(arr_bool.dtype)    # output: bool\n"
      ],
      "metadata": {
        "colab": {
          "base_uri": "https://localhost:8080/"
        },
        "id": "BtR0tBnguxGX",
        "outputId": "6724e391-decd-4732-c5bc-a29dd6e9b138"
      },
      "execution_count": null,
      "outputs": [
        {
          "output_type": "stream",
          "name": "stdout",
          "text": [
            "bool\n"
          ]
        },
        {
          "output_type": "stream",
          "name": "stderr",
          "text": [
            "<ipython-input-5-482b03fa2b97>:1: DeprecationWarning: `np.bool` is a deprecated alias for the builtin `bool`. To silence this warning, use `bool` by itself. Doing this will not modify any behavior and is safe. If you specifically wanted the numpy scalar type, use `np.bool_` here.\n",
            "Deprecated in NumPy 1.20; for more details and guidance: https://numpy.org/devdocs/release/1.20.0-notes.html#deprecations\n",
            "  arr_bool = np.array([True, False, True], dtype=np.bool)\n"
          ]
        }
      ]
    },
    {
      "cell_type": "markdown",
      "source": [
        "String data types:\n",
        "* string_: fixed-length strings\n",
        "* unicode_: fixed-length strings of unicode characters"
      ],
      "metadata": {
        "id": "MJ3cXaYYvC8q"
      }
    },
    {
      "cell_type": "code",
      "source": [
        "arr_string = np.array(['hello', 'world'], dtype=np.string_)\n",
        "arr_unicode = np.array(['こんにちは', '안녕하세요'], dtype=np.unicode_)\n",
        "\n",
        "print(arr_string.dtype)   # output: |S5 (5 bytes per string)\n",
        "print(arr_unicode.dtype)  # output: <U5 (5 unicode characters per string)\n"
      ],
      "metadata": {
        "colab": {
          "base_uri": "https://localhost:8080/"
        },
        "id": "kB02taUYvKLW",
        "outputId": "6c0d22d3-fceb-42a3-832a-bd55fc2c6c83"
      },
      "execution_count": null,
      "outputs": [
        {
          "output_type": "stream",
          "name": "stdout",
          "text": [
            "|S5\n",
            "<U5\n"
          ]
        }
      ]
    },
    {
      "cell_type": "markdown",
      "source": [
        "## Array Broadcasting\n",
        "\n",
        "Why?\n",
        "NumPy tries to perform the operation on arrays of the same shape, but if the shapes are not compatible, it can use the broadcasting rules to make the arrays compatible."
      ],
      "metadata": {
        "id": "mz7HbAAkvSmJ"
      }
    },
    {
      "cell_type": "code",
      "source": [
        "#1. Broadcasting a scalar value to an array\n",
        "\n",
        "arr = np.array([1, 2, 3])\n",
        "scalar = 2\n",
        "\n",
        "# multiply every element of arr by scalar\n",
        "result = arr * scalar\n",
        "\n",
        "print(result) # output: [2, 4, 6]\n",
        "\n",
        "#scalar value 2 is broadcasted to the same shape as the arr array, which is [1, 2, 3]"
      ],
      "metadata": {
        "colab": {
          "base_uri": "https://localhost:8080/"
        },
        "id": "bwCLGqv01u43",
        "outputId": "de6f5a01-2b2c-47be-f7dc-00abf97d6a93"
      },
      "execution_count": null,
      "outputs": [
        {
          "output_type": "stream",
          "name": "stdout",
          "text": [
            "[2 4 6]\n"
          ]
        }
      ]
    },
    {
      "cell_type": "code",
      "source": [
        "#2. Broadcasting a one-dimensional array to a two-dimensional array\n",
        "\n",
        "arr1 = np.array([1, 2, 3])\n",
        "arr2 = np.array([[1, 2, 3], [4, 5, 6]])\n",
        "\n",
        "# add arr1 to every row of arr2\n",
        "result = arr1 + arr2\n",
        "\n",
        "print(result)\n",
        "# output: [[2, 4, 6], [5, 7, 9]]\n",
        "# arr1 is broadcasted to the same shape as each row of the arr2 array, which is [1, 2, 3]."
      ],
      "metadata": {
        "colab": {
          "base_uri": "https://localhost:8080/"
        },
        "id": "y3-9XcJr112V",
        "outputId": "0adb9db1-bcde-4731-ff31-67800d5255c5"
      },
      "execution_count": null,
      "outputs": [
        {
          "output_type": "stream",
          "name": "stdout",
          "text": [
            "[[2 4 6]\n",
            " [5 7 9]]\n"
          ]
        }
      ]
    },
    {
      "cell_type": "code",
      "source": [
        "#3. Broadcasting two arrays with different shapes\n",
        "\n",
        "arr1 = np.array([[1, 2, 3], [4, 5, 6]])\n",
        "arr2 = np.array([10, 20, 30])\n",
        "\n",
        "# add arr2 to every column of arr1\n",
        "result = arr1 + arr2\n",
        "\n",
        "print(result)\n",
        "# output: [[11, 22, 33], [14, 25, 36]]\n",
        "#  arr2 is broadcasted to the same shape as each column of the arr1 array, which is [[10, 20, 30], [10, 20, 30]]"
      ],
      "metadata": {
        "colab": {
          "base_uri": "https://localhost:8080/"
        },
        "id": "Iu7j2sCE2FdW",
        "outputId": "b40b1713-41e0-43df-a03c-01047c21e0f6"
      },
      "execution_count": null,
      "outputs": [
        {
          "output_type": "stream",
          "name": "stdout",
          "text": [
            "[[11 22 33]\n",
            " [14 25 36]]\n"
          ]
        }
      ]
    },
    {
      "cell_type": "markdown",
      "source": [
        "## Shape Manipulation\n"
      ],
      "metadata": {
        "id": "_-eiN0rt2uMq"
      }
    },
    {
      "cell_type": "markdown",
      "source": [
        "1. Reshaping arrays: You can reshape an array to have a different shape using the reshape method."
      ],
      "metadata": {
        "id": "ZulRvRLK2rbP"
      }
    },
    {
      "cell_type": "code",
      "source": [
        "#reshape a 1D array to a 2D array using the following code:\n",
        "\n",
        "# create a 1D array with 9 elements\n",
        "a = np.array([1, 2, 3, 4, 5, 6, 7, 8, 9])\n",
        "\n",
        "# reshape the array to a 3x3 matrix\n",
        "b = a.reshape((3, 3))\n",
        "\n",
        "print(b)\n"
      ],
      "metadata": {
        "colab": {
          "base_uri": "https://localhost:8080/"
        },
        "id": "8QU_W2UD297p",
        "outputId": "c7004623-f2a4-4032-ae5a-65fe8f76a57e"
      },
      "execution_count": null,
      "outputs": [
        {
          "output_type": "stream",
          "name": "stdout",
          "text": [
            "[[1 2 3]\n",
            " [4 5 6]\n",
            " [7 8 9]]\n"
          ]
        }
      ]
    },
    {
      "cell_type": "markdown",
      "source": [
        "2. Transposing arrays: You can transpose an array (i.e., switch its rows and columns) using the transpose method or the T attribute."
      ],
      "metadata": {
        "id": "2gIpt-613Hve"
      }
    },
    {
      "cell_type": "code",
      "source": [
        "\n",
        "# create a 2D array\n",
        "a = np.array([[1, 2], [3, 4]])\n",
        "\n",
        "# transpose the array\n",
        "b = a.transpose()\n",
        "\n",
        "print(b)\n"
      ],
      "metadata": {
        "colab": {
          "base_uri": "https://localhost:8080/"
        },
        "id": "Xc8YDc5w3Dtn",
        "outputId": "4fdf3cf6-6f4f-4d00-84f8-3e2eb80c01ca"
      },
      "execution_count": null,
      "outputs": [
        {
          "output_type": "stream",
          "name": "stdout",
          "text": [
            "[[1 3]\n",
            " [2 4]]\n"
          ]
        }
      ]
    },
    {
      "cell_type": "markdown",
      "source": [
        "3. Flattening arrays: You can flatten a multi-dimensional array into a 1D array using the flatten method."
      ],
      "metadata": {
        "id": "5ex0Tn2h3QYy"
      }
    },
    {
      "cell_type": "code",
      "source": [
        "\n",
        "# create a 2D array\n",
        "a = np.array([[1, 2], [3, 4]])\n",
        "\n",
        "# flatten the array\n",
        "b = a.flatten()\n",
        "\n",
        "print(b)\n"
      ],
      "metadata": {
        "colab": {
          "base_uri": "https://localhost:8080/"
        },
        "id": "d7-ncWxF3LqI",
        "outputId": "e2ed5e27-5dbc-40c9-f690-39cd9259d458"
      },
      "execution_count": null,
      "outputs": [
        {
          "output_type": "stream",
          "name": "stdout",
          "text": [
            "[1 2 3 4]\n"
          ]
        }
      ]
    },
    {
      "cell_type": "markdown",
      "source": [
        "4. Expanding dimensions: You can add dimensions to an array using the newaxis keyword. For example, you can add a new dimension to a 1D array to create a 2D array with one row and multiple columns."
      ],
      "metadata": {
        "id": "z6vOWmFs3ZnZ"
      }
    },
    {
      "cell_type": "code",
      "source": [
        "\n",
        "# create a 1D array with 3 elements\n",
        "a = np.array([1, 2, 3])\n",
        "\n",
        "# add a new dimension to create a 2D array\n",
        "b = a[np.newaxis, :]\n",
        "\n",
        "print(b)\n"
      ],
      "metadata": {
        "colab": {
          "base_uri": "https://localhost:8080/"
        },
        "id": "AlizAheK3WM3",
        "outputId": "338481c1-1862-46d7-dcdb-e6a79d920ae1"
      },
      "execution_count": null,
      "outputs": [
        {
          "output_type": "stream",
          "name": "stdout",
          "text": [
            "[[1 2 3]]\n"
          ]
        }
      ]
    },
    {
      "cell_type": "markdown",
      "source": [
        "2. Getting started with PyTorch\n",
        "\n",
        "\n",
        "Please open [this notebook](https://github.com/Surrey-EEEM066/Labs/blob/main/Week_2_part_2_Introduction_to_Pytorch.ipynb) for the PyTorch exercise."
      ],
      "metadata": {
        "id": "MX-emrexCpk4"
      }
    },
    {
      "cell_type": "markdown",
      "source": [
        "# References:\n",
        "\n",
        "\n",
        "*   https://cs231n.github.io/python-numpy-tutorial/#numpy\n",
        "*   https://numpy.org/doc/stable/user/quickstart.html\n",
        "*   https://www.w3schools.com/python/numpy/default.asp\n",
        "\n",
        "\n",
        "\n"
      ],
      "metadata": {
        "id": "Epc2J0BLdyJo"
      }
    }
  ]
}