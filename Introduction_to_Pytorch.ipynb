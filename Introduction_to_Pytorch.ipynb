{
  "cells": [
    {
      "cell_type": "markdown",
      "id": "e82044c0-7d72-476d-b07a-590cb9189f59",
      "metadata": {
        "id": "e82044c0-7d72-476d-b07a-590cb9189f59"
      },
      "source": [
        "### Sources:\n",
        "* This notebook used (and modified) code from the following repos:\n",
        "    * https://github.com/jonkrohn/ML-foundations\n",
        "    * https://github.com/mrdbourke/pytorch-deep-learning\n",
        "    \n",
        "For any questions please contact the demonstrators:\n",
        "* [Kam Woh Ng](kamwoh.ng@surrey.ac.uk)\n",
        "* [Al-Hussein Abutaleb](a.abutaleb@surrey.ac.uk)\n",
        "* [Swapnil Bhosale](s.bhosale@surrey.ac.uk)\n",
        "* [Haosen Yang](h.yang@surrey.ac.uk)\n"
      ]
    },
    {
      "cell_type": "code",
      "execution_count": null,
      "id": "b58de87d-2c6e-44ad-859f-78323a0a7fd8",
      "metadata": {
        "colab": {
          "base_uri": "https://localhost:8080/"
        },
        "id": "b58de87d-2c6e-44ad-859f-78323a0a7fd8",
        "outputId": "93f5850c-c0ff-4a9d-e5e6-494fb6e361b6"
      },
      "outputs": [
        {
          "output_type": "stream",
          "name": "stdout",
          "text": [
            "1.13.1+cu116\n"
          ]
        }
      ],
      "source": [
        "# Start by import the necessary libraries\n",
        "import torch\n",
        "import pandas as pd\n",
        "import numpy as np\n",
        "import matplotlib.pyplot as plt\n",
        "print(torch.__version__)"
      ]
    },
    {
      "cell_type": "markdown",
      "id": "a9a36eb6-1b34-4968-a5fa-bbed7f377444",
      "metadata": {
        "id": "a9a36eb6-1b34-4968-a5fa-bbed7f377444"
      },
      "source": [
        "## Introduction to Tensors\n",
        "\n",
        "### Creating tensors\n",
        "\n",
        "Wherever it is possible try to stay within the ecosystem of the deep learning framework you are using. Often this will make your training faster. For this reason, all DL libraries provide mathematical functions that are commonly used in DL. We begin here by introducing Tensor operations in PyTroch\n",
        "\n",
        "PyTorch tensors are created using `torch.Tensor()` = https://pytorch.org/docs/stable/tensors.html"
      ]
    },
    {
      "cell_type": "code",
      "execution_count": null,
      "id": "a2e31287-b2b0-4bb3-8639-1e88fa375274",
      "metadata": {
        "colab": {
          "base_uri": "https://localhost:8080/"
        },
        "id": "a2e31287-b2b0-4bb3-8639-1e88fa375274",
        "outputId": "598047f2-b25e-4e21-ceb6-77d5d3edf571"
      },
      "outputs": [
        {
          "output_type": "execute_result",
          "data": {
            "text/plain": [
              "tensor(7)"
            ]
          },
          "metadata": {},
          "execution_count": 2
        }
      ],
      "source": [
        "# Creating a scalar in PyTorch\n",
        "scalar = torch.tensor(7)\n",
        "scalar"
      ]
    },
    {
      "cell_type": "code",
      "execution_count": null,
      "id": "ac24c55b-c991-4371-90dd-e29df43a94e8",
      "metadata": {
        "colab": {
          "base_uri": "https://localhost:8080/"
        },
        "id": "ac24c55b-c991-4371-90dd-e29df43a94e8",
        "outputId": "c5169869-a7d0-49ec-b5bc-28da5a2fe1b6"
      },
      "outputs": [
        {
          "output_type": "execute_result",
          "data": {
            "text/plain": [
              "0"
            ]
          },
          "metadata": {},
          "execution_count": 3
        }
      ],
      "source": [
        "# Dimension of this scalar\n",
        "scalar.ndim"
      ]
    },
    {
      "cell_type": "code",
      "execution_count": null,
      "id": "18c368da-97c7-41fd-87ff-7febf05667d6",
      "metadata": {
        "colab": {
          "base_uri": "https://localhost:8080/"
        },
        "id": "18c368da-97c7-41fd-87ff-7febf05667d6",
        "outputId": "af2f4dfb-89f6-4ffc-9d9c-5014e39ea2a3"
      },
      "outputs": [
        {
          "output_type": "execute_result",
          "data": {
            "text/plain": [
              "tensor([7, 7])"
            ]
          },
          "metadata": {},
          "execution_count": 4
        }
      ],
      "source": [
        "# Create a 1 dimensional vector\n",
        "vector = torch.tensor([7, 7])\n",
        "vector"
      ]
    },
    {
      "cell_type": "code",
      "execution_count": null,
      "id": "31738501-1ebc-4cc7-bd25-63f853324deb",
      "metadata": {
        "colab": {
          "base_uri": "https://localhost:8080/"
        },
        "id": "31738501-1ebc-4cc7-bd25-63f853324deb",
        "outputId": "a0297799-481d-40be-a897-3cacd8148fff"
      },
      "outputs": [
        {
          "output_type": "execute_result",
          "data": {
            "text/plain": [
              "torch.Size([2])"
            ]
          },
          "metadata": {},
          "execution_count": 5
        }
      ],
      "source": [
        "# the shape of the vector is NOT the mathematical dimensionality of it\n",
        "vector.shape"
      ]
    },
    {
      "cell_type": "code",
      "execution_count": null,
      "id": "62eb587b-7bcd-441a-a86a-a48ef61f5d45",
      "metadata": {
        "colab": {
          "base_uri": "https://localhost:8080/"
        },
        "id": "62eb587b-7bcd-441a-a86a-a48ef61f5d45",
        "outputId": "b08c8768-fcbd-4204-c2b4-453838650b14"
      },
      "outputs": [
        {
          "output_type": "execute_result",
          "data": {
            "text/plain": [
              "1"
            ]
          },
          "metadata": {},
          "execution_count": 6
        }
      ],
      "source": [
        "vector.ndim"
      ]
    },
    {
      "cell_type": "code",
      "execution_count": null,
      "id": "57c97337-9110-4f65-9a8c-e3d1bfd6dd9d",
      "metadata": {
        "colab": {
          "base_uri": "https://localhost:8080/"
        },
        "id": "57c97337-9110-4f65-9a8c-e3d1bfd6dd9d",
        "outputId": "f09e0b0f-8141-4c9e-b4d8-c6ef94d96eef"
      },
      "outputs": [
        {
          "output_type": "execute_result",
          "data": {
            "text/plain": [
              "tensor([[ 7,  8],\n",
              "        [ 9, 10]])"
            ]
          },
          "metadata": {},
          "execution_count": 7
        }
      ],
      "source": [
        "# Create a 2x2 matrix\n",
        "m = torch.tensor([[7, 8],\n",
        "                       [9, 10]])\n",
        "m"
      ]
    },
    {
      "cell_type": "code",
      "execution_count": null,
      "id": "1949dc91-cd61-405a-b28a-b52759977479",
      "metadata": {
        "colab": {
          "base_uri": "https://localhost:8080/"
        },
        "id": "1949dc91-cd61-405a-b28a-b52759977479",
        "outputId": "a5304dfc-98c8-4429-d889-d2da7b505903"
      },
      "outputs": [
        {
          "output_type": "execute_result",
          "data": {
            "text/plain": [
              "torch.Size([2, 2])"
            ]
          },
          "metadata": {},
          "execution_count": 8
        }
      ],
      "source": [
        "# confirm that this is a 2x2 square matirx\n",
        "m.shape"
      ]
    },
    {
      "cell_type": "code",
      "execution_count": null,
      "id": "8f26e07f-0c66-4554-9015-fc84572e00b9",
      "metadata": {
        "colab": {
          "base_uri": "https://localhost:8080/"
        },
        "id": "8f26e07f-0c66-4554-9015-fc84572e00b9",
        "outputId": "411fa49d-93a6-4bc1-81ea-9f7ea2884bd1"
      },
      "outputs": [
        {
          "output_type": "execute_result",
          "data": {
            "text/plain": [
              "2"
            ]
          },
          "metadata": {},
          "execution_count": 9
        }
      ],
      "source": [
        "# which happens to be also 2-dimensional matrix\n",
        "m.ndim"
      ]
    },
    {
      "cell_type": "code",
      "execution_count": null,
      "id": "07784a34-c4aa-40ed-b92d-e791ff70ea73",
      "metadata": {
        "colab": {
          "base_uri": "https://localhost:8080/"
        },
        "id": "07784a34-c4aa-40ed-b92d-e791ff70ea73",
        "outputId": "d21d78e4-aa62-466c-a537-1c7b3cf0de2c"
      },
      "outputs": [
        {
          "output_type": "execute_result",
          "data": {
            "text/plain": [
              "tensor([ 9, 10])"
            ]
          },
          "metadata": {},
          "execution_count": 10
        }
      ],
      "source": [
        "# The second row\n",
        "m[1]"
      ]
    },
    {
      "cell_type": "code",
      "execution_count": null,
      "id": "70aacbe6-62e9-46c7-9ac8-0befd79af46f",
      "metadata": {
        "colab": {
          "base_uri": "https://localhost:8080/"
        },
        "id": "70aacbe6-62e9-46c7-9ac8-0befd79af46f",
        "outputId": "738c0dc6-1282-4939-81c4-54e695f2d07a"
      },
      "outputs": [
        {
          "output_type": "execute_result",
          "data": {
            "text/plain": [
              "tensor([7, 9])"
            ]
          },
          "metadata": {},
          "execution_count": 11
        }
      ],
      "source": [
        "# The first column\n",
        "m[:,0]"
      ]
    },
    {
      "cell_type": "code",
      "execution_count": null,
      "id": "96f91e16-7a72-43cf-b912-b7d02028dd60",
      "metadata": {
        "colab": {
          "base_uri": "https://localhost:8080/"
        },
        "id": "96f91e16-7a72-43cf-b912-b7d02028dd60",
        "outputId": "db3983e1-695b-40c3-d193-97becda246cd"
      },
      "outputs": [
        {
          "output_type": "execute_result",
          "data": {
            "text/plain": [
              "tensor([[[1, 2, 3],\n",
              "         [3, 6, 9],\n",
              "         [2, 4, 5]]])"
            ]
          },
          "metadata": {},
          "execution_count": 12
        }
      ],
      "source": [
        "# Let's create a 3x3 Tensor\n",
        "T=torch.tensor([[[1, 2, 3],\n",
        "                        [3, 6, 9],\n",
        "                        [2, 4, 5]]])\n",
        "\n",
        "T"
      ]
    },
    {
      "cell_type": "code",
      "execution_count": null,
      "id": "2bae81b4-e5e4-4f04-9c27-eabd12b9cf43",
      "metadata": {
        "colab": {
          "base_uri": "https://localhost:8080/"
        },
        "id": "2bae81b4-e5e4-4f04-9c27-eabd12b9cf43",
        "outputId": "97b0f078-f491-4d36-fe95-0362f638a31f"
      },
      "outputs": [
        {
          "output_type": "execute_result",
          "data": {
            "text/plain": [
              "3"
            ]
          },
          "metadata": {},
          "execution_count": 13
        }
      ],
      "source": [
        "T.ndim"
      ]
    },
    {
      "cell_type": "code",
      "execution_count": null,
      "id": "e8cfdb99-5ea2-475a-b919-102e9bef500c",
      "metadata": {
        "colab": {
          "base_uri": "https://localhost:8080/"
        },
        "id": "e8cfdb99-5ea2-475a-b919-102e9bef500c",
        "outputId": "884a232b-c8d0-4388-e5c0-f9faea6b3d53"
      },
      "outputs": [
        {
          "output_type": "execute_result",
          "data": {
            "text/plain": [
              "torch.Size([1, 3, 3])"
            ]
          },
          "metadata": {},
          "execution_count": 14
        }
      ],
      "source": [
        "# Another way of reading this is that T represents one 2 dimensional slize of data belonging to a a larger space\n",
        "T.shape"
      ]
    },
    {
      "cell_type": "code",
      "execution_count": null,
      "id": "fa94d862-880b-465c-a836-1671929dbc1c",
      "metadata": {
        "colab": {
          "base_uri": "https://localhost:8080/"
        },
        "id": "fa94d862-880b-465c-a836-1671929dbc1c",
        "outputId": "3ed1abe3-c106-46ae-cc99-a2d7da688d1a"
      },
      "outputs": [
        {
          "output_type": "execute_result",
          "data": {
            "text/plain": [
              "tensor([[1, 2, 3],\n",
              "        [3, 6, 9],\n",
              "        [2, 4, 5]])"
            ]
          },
          "metadata": {},
          "execution_count": 15
        }
      ],
      "source": [
        "# Get the slize of data in T (which happens to be the only one! You can confirm this by trying T[1])\n",
        "T[0]"
      ]
    },
    {
      "cell_type": "code",
      "execution_count": null,
      "id": "385f0977-a18b-4415-a5a5-6889f82a4f4e",
      "metadata": {
        "colab": {
          "base_uri": "https://localhost:8080/",
          "height": 165
        },
        "id": "385f0977-a18b-4415-a5a5-6889f82a4f4e",
        "outputId": "7009c924-88ae-438e-e578-6a9f068969ae"
      },
      "outputs": [
        {
          "output_type": "error",
          "ename": "IndexError",
          "evalue": "ignored",
          "traceback": [
            "\u001b[0;31m---------------------------------------------------------------------------\u001b[0m",
            "\u001b[0;31mIndexError\u001b[0m                                Traceback (most recent call last)",
            "\u001b[0;32m<ipython-input-16-9d715c4258e5>\u001b[0m in \u001b[0;36m<module>\u001b[0;34m\u001b[0m\n\u001b[0;32m----> 1\u001b[0;31m \u001b[0mT\u001b[0m\u001b[0;34m[\u001b[0m\u001b[0;36m1\u001b[0m\u001b[0;34m]\u001b[0m\u001b[0;34m\u001b[0m\u001b[0;34m\u001b[0m\u001b[0m\n\u001b[0m",
            "\u001b[0;31mIndexError\u001b[0m: index 1 is out of bounds for dimension 0 with size 1"
          ]
        }
      ],
      "source": [
        "T[1]"
      ]
    },
    {
      "cell_type": "markdown",
      "id": "2f7a9cc2-d98d-49f1-a3c4-3a2ab54292a2",
      "metadata": {
        "id": "2f7a9cc2-d98d-49f1-a3c4-3a2ab54292a2"
      },
      "source": [
        "### Random tensors\n",
        "\n",
        "Why random tensors?\n",
        "\n",
        "Random tensors are important because the way many neural networks learn is that they start with tensors full of random numbers and then adjust those random numbers to better represent the data. This is an excellent post that discusses the topic in detail: https://machinelearningmastery.com/weight-initialization-for-deep-learning-neural-networks/\n",
        "\n",
        "`Start with random numbers -> look at data -> update random numbers -> look at data -> update random numbers`\n",
        "\n",
        "Torch random tensors - https://pytorch.org/docs/stable/generated/torch.rand.html"
      ]
    },
    {
      "cell_type": "code",
      "execution_count": null,
      "id": "3c621c82-a2bc-4b95-8559-c8af0a02a8be",
      "metadata": {
        "colab": {
          "base_uri": "https://localhost:8080/"
        },
        "id": "3c621c82-a2bc-4b95-8559-c8af0a02a8be",
        "outputId": "43e91819-03a8-4414-8c90-578d27bfaf6a"
      },
      "outputs": [
        {
          "output_type": "execute_result",
          "data": {
            "text/plain": [
              "tensor([[0.6064, 0.6326, 0.7714, 0.6291],\n",
              "        [0.8893, 0.0136, 0.7196, 0.3380],\n",
              "        [0.5917, 0.5077, 0.4912, 0.5505]])"
            ]
          },
          "metadata": {},
          "execution_count": 17
        }
      ],
      "source": [
        "# Create a random tensor of size (3, 4)\n",
        "random_tensor = torch.rand(3, 4) # this will return a tensor filled with random numbers from a uniform distribution on the interval  [0,1)\n",
        "\n",
        "random_tensor"
      ]
    },
    {
      "cell_type": "code",
      "execution_count": null,
      "id": "62b5076f-07ee-4a43-9ee1-68b0e3386573",
      "metadata": {
        "colab": {
          "base_uri": "https://localhost:8080/"
        },
        "id": "62b5076f-07ee-4a43-9ee1-68b0e3386573",
        "outputId": "78508796-ecd3-45d4-8860-38dfb1c59403"
      },
      "outputs": [
        {
          "output_type": "execute_result",
          "data": {
            "text/plain": [
              "(torch.Size([3, 224, 224]), 3)"
            ]
          },
          "metadata": {},
          "execution_count": 18
        }
      ],
      "source": [
        "# Create a random tensor with similar shape to an image tensor\n",
        "# Recall that coloured images have 3 channels (RGB)\n",
        "random_image_size_tensor = torch.rand(size=(3, 224, 224)) # height, width, colour channels (R, G, B)\n",
        "                                                        # When reading code from the internet, bear in mind C will be either\n",
        "                                                        # the first or last entry in the the image tensor\n",
        "\n",
        "random_image_size_tensor.shape, random_image_size_tensor.ndim"
      ]
    },
    {
      "cell_type": "markdown",
      "id": "ef9c6514-3f94-4b51-b29c-85053be8d38c",
      "metadata": {
        "id": "ef9c6514-3f94-4b51-b29c-85053be8d38c"
      },
      "source": [
        "### Zeros and ones"
      ]
    },
    {
      "cell_type": "code",
      "execution_count": null,
      "id": "f5b9aad4-113a-41c6-9ac7-10ece33f7353",
      "metadata": {
        "colab": {
          "base_uri": "https://localhost:8080/"
        },
        "id": "f5b9aad4-113a-41c6-9ac7-10ece33f7353",
        "outputId": "f32e6e05-d948-41d6-9613-613f17f93a48"
      },
      "outputs": [
        {
          "output_type": "execute_result",
          "data": {
            "text/plain": [
              "tensor([[0., 0., 0., 0.],\n",
              "        [0., 0., 0., 0.],\n",
              "        [0., 0., 0., 0.]])"
            ]
          },
          "metadata": {},
          "execution_count": 19
        }
      ],
      "source": [
        "# Create a tensor of all zeros\n",
        "# Given what you learned in the image warping tutorials, can you think of a situation where torch.zeros would be useful?\n",
        "zeros = torch.zeros(size=(3, 4))\n",
        "zeros"
      ]
    },
    {
      "cell_type": "code",
      "execution_count": null,
      "id": "d964e3f9-c480-48dc-a658-4c2626017e70",
      "metadata": {
        "colab": {
          "base_uri": "https://localhost:8080/"
        },
        "id": "d964e3f9-c480-48dc-a658-4c2626017e70",
        "outputId": "9e8baf6f-0f59-45e4-ef09-7c4e00b1eb88"
      },
      "outputs": [
        {
          "output_type": "execute_result",
          "data": {
            "text/plain": [
              "tensor([[1., 1., 1., 1.],\n",
              "        [1., 1., 1., 1.],\n",
              "        [1., 1., 1., 1.]])"
            ]
          },
          "metadata": {},
          "execution_count": 20
        }
      ],
      "source": [
        "# Create a tensor of all ones\n",
        "ones = torch.ones(size=(3, 4))\n",
        "ones"
      ]
    },
    {
      "cell_type": "markdown",
      "id": "82836060-750b-4431-beac-1bf066a49ff2",
      "metadata": {
        "id": "82836060-750b-4431-beac-1bf066a49ff2"
      },
      "source": [
        "**NOTE**: float32 is the default type in the torch ecosystem. Bear in mind that the default dype of numpy is float64. This is a common source of errors when writing code that uses both libraries interchangebly: https://stackoverflow.com/questions/61853331/which-float-precision-are-numpy-arrays-by-default#:~:text=float64%20is%20the%20default%20for%20most%20modern%20machines."
      ]
    },
    {
      "cell_type": "code",
      "execution_count": null,
      "id": "208b3417-3b85-4288-bc5c-2812b43baaff",
      "metadata": {
        "colab": {
          "base_uri": "https://localhost:8080/"
        },
        "id": "208b3417-3b85-4288-bc5c-2812b43baaff",
        "outputId": "aa5e160e-5014-4567-a8c1-39ce631c461d"
      },
      "outputs": [
        {
          "output_type": "execute_result",
          "data": {
            "text/plain": [
              "torch.float32"
            ]
          },
          "metadata": {},
          "execution_count": 21
        }
      ],
      "source": [
        "ones.dtype"
      ]
    },
    {
      "cell_type": "code",
      "execution_count": null,
      "id": "c3c9e6fe-8eb7-4b05-9e2e-ae54f9672e6a",
      "metadata": {
        "colab": {
          "base_uri": "https://localhost:8080/"
        },
        "id": "c3c9e6fe-8eb7-4b05-9e2e-ae54f9672e6a",
        "outputId": "19abc0e9-3e98-4bd1-c8d2-779e2edb1b3d"
      },
      "outputs": [
        {
          "output_type": "execute_result",
          "data": {
            "text/plain": [
              "dtype('float64')"
            ]
          },
          "metadata": {},
          "execution_count": 22
        }
      ],
      "source": [
        "temp = np.array(5.0)\n",
        "temp.dtype"
      ]
    },
    {
      "cell_type": "code",
      "execution_count": null,
      "id": "efd7441f-da54-4479-8ef3-51a125dcca31",
      "metadata": {
        "colab": {
          "base_uri": "https://localhost:8080/"
        },
        "id": "efd7441f-da54-4479-8ef3-51a125dcca31",
        "outputId": "f8d05e43-e5ad-4328-c678-270f007e9c69"
      },
      "outputs": [
        {
          "output_type": "execute_result",
          "data": {
            "text/plain": [
              "torch.float32"
            ]
          },
          "metadata": {},
          "execution_count": 23
        }
      ],
      "source": [
        "random_tensor.dtype"
      ]
    },
    {
      "cell_type": "markdown",
      "id": "65077edf-7c12-4e73-a813-2e08f9b290ab",
      "metadata": {
        "id": "65077edf-7c12-4e73-a813-2e08f9b290ab"
      },
      "source": [
        "### Creating a range of tensors and tensors-like"
      ]
    },
    {
      "cell_type": "code",
      "execution_count": null,
      "id": "698b1dcb-40d3-43f6-b35a-0c5bb81f8f16",
      "metadata": {
        "colab": {
          "base_uri": "https://localhost:8080/"
        },
        "id": "698b1dcb-40d3-43f6-b35a-0c5bb81f8f16",
        "outputId": "819e4ca9-b98b-4eda-ac35-6d825a562423"
      },
      "outputs": [
        {
          "output_type": "execute_result",
          "data": {
            "text/plain": [
              "tensor([ 1,  2,  3,  4,  5,  6,  7,  8,  9, 10])"
            ]
          },
          "metadata": {},
          "execution_count": 24
        }
      ],
      "source": [
        "# Use torch.arange() to create custom 1-D tensors\n",
        "one_to_ten = torch.arange(start=1, end=11, step=1)\n",
        "one_to_ten"
      ]
    },
    {
      "cell_type": "code",
      "execution_count": null,
      "id": "453cd10b-f629-4ef9-bdac-1d5e9f870b07",
      "metadata": {
        "colab": {
          "base_uri": "https://localhost:8080/"
        },
        "id": "453cd10b-f629-4ef9-bdac-1d5e9f870b07",
        "outputId": "4ec0f8f7-7178-4d67-b513-f86faaa991ef"
      },
      "outputs": [
        {
          "output_type": "execute_result",
          "data": {
            "text/plain": [
              "tensor([0, 0, 0, 0, 0, 0, 0, 0, 0, 0])"
            ]
          },
          "metadata": {},
          "execution_count": 25
        }
      ],
      "source": [
        "# Creating tensors zero_like. This will create a tensor with the exact shape as the input sensor but with all entries = 0\n",
        "# https://pytorch.org/docs/stable/generated/torch.zeros_like.html\n",
        "ten_zeros = torch.zeros_like(input=one_to_ten)\n",
        "ten_zeros"
      ]
    },
    {
      "cell_type": "markdown",
      "id": "66bc8a45-e38e-4096-bafd-72ca3e09e46e",
      "metadata": {
        "id": "66bc8a45-e38e-4096-bafd-72ca3e09e46e"
      },
      "source": [
        "### Tensor datatypes\n",
        "\n",
        "**Note:** Tensor datatypes is one of the 3 big errors you'll run into with deep learning:\n",
        "1. Tensors not right datatype\n",
        "2. Tensors not right shape\n",
        "3. Tensors not on the right device\n",
        "\n",
        "Precision in computing - https://en.wikipedia.org/wiki/Precision_(computer_science)#:~:text=In%20computer%20science%2C%20the%20precision,used%20to%20express%20a%20value."
      ]
    },
    {
      "cell_type": "code",
      "execution_count": null,
      "id": "b4d911d4-4019-4dfb-b1b0-f09a85f1e5f2",
      "metadata": {
        "colab": {
          "base_uri": "https://localhost:8080/"
        },
        "id": "b4d911d4-4019-4dfb-b1b0-f09a85f1e5f2",
        "outputId": "95993353-4c7c-4f91-89de-5fb7346e2bdc"
      },
      "outputs": [
        {
          "output_type": "execute_result",
          "data": {
            "text/plain": [
              "tensor([3., 6., 9.])"
            ]
          },
          "metadata": {},
          "execution_count": 26
        }
      ],
      "source": [
        "# Float 32 tensor\n",
        "float_32_tensor = torch.tensor([3.0, 6.0, 9.0],\n",
        "                               dtype=None, # what datatype is the tensor (e.g. float32 or float16)\n",
        "                               device=None, # What device is your tensor on\n",
        "                               requires_grad=False) # whether or not to track gradients with this tensors operations, there's nothing to learn here, so it's set to 'False\n",
        "\n",
        "float_32_tensor"
      ]
    },
    {
      "cell_type": "code",
      "execution_count": null,
      "id": "a4dd9144-9007-45dd-950b-5caac19fd607",
      "metadata": {
        "colab": {
          "base_uri": "https://localhost:8080/"
        },
        "id": "a4dd9144-9007-45dd-950b-5caac19fd607",
        "outputId": "4ec2d74f-ddb4-4e80-e2cc-75a6ff6baa76"
      },
      "outputs": [
        {
          "output_type": "execute_result",
          "data": {
            "text/plain": [
              "torch.float32"
            ]
          },
          "metadata": {},
          "execution_count": 27
        }
      ],
      "source": [
        "# As discussed above, this shold give torch.float32\n",
        "float_32_tensor.dtype"
      ]
    },
    {
      "cell_type": "code",
      "execution_count": null,
      "id": "2b4c8188-27e1-4428-8c9d-0b28afd5df3a",
      "metadata": {
        "colab": {
          "base_uri": "https://localhost:8080/"
        },
        "id": "2b4c8188-27e1-4428-8c9d-0b28afd5df3a",
        "outputId": "907e2f99-3311-4a55-c913-b00ffeffd196"
      },
      "outputs": [
        {
          "output_type": "execute_result",
          "data": {
            "text/plain": [
              "tensor([3., 6., 9.], dtype=torch.float16)"
            ]
          },
          "metadata": {},
          "execution_count": 28
        }
      ],
      "source": [
        "float_16_tensor = float_32_tensor.type(torch.float16) # Explicitly instructing pytorch to create a float16 tensor\n",
        "float_16_tensor"
      ]
    },
    {
      "cell_type": "code",
      "execution_count": null,
      "id": "ad1816a2-0031-4baf-8b8d-fdad12c86d76",
      "metadata": {
        "colab": {
          "base_uri": "https://localhost:8080/"
        },
        "id": "ad1816a2-0031-4baf-8b8d-fdad12c86d76",
        "outputId": "ebd45f20-f0fc-4bd7-e782-ef68c133852a"
      },
      "outputs": [
        {
          "output_type": "execute_result",
          "data": {
            "text/plain": [
              "tensor([ 9., 36., 81.])"
            ]
          },
          "metadata": {},
          "execution_count": 29
        }
      ],
      "source": [
        "# What do you think the dtype of the outcome of this operation will be?\n",
        "float_16_tensor * float_32_tensor"
      ]
    },
    {
      "cell_type": "code",
      "execution_count": null,
      "id": "f7fd1141-e890-4632-992b-11c071bb3e88",
      "metadata": {
        "colab": {
          "base_uri": "https://localhost:8080/"
        },
        "id": "f7fd1141-e890-4632-992b-11c071bb3e88",
        "outputId": "9dae927e-b5e0-46c7-b7fa-eebcf62db7d3"
      },
      "outputs": [
        {
          "output_type": "execute_result",
          "data": {
            "text/plain": [
              "torch.float32"
            ]
          },
          "metadata": {},
          "execution_count": 30
        }
      ],
      "source": [
        "output = float_16_tensor * float_32_tensor\n",
        "output.dtype"
      ]
    },
    {
      "cell_type": "code",
      "execution_count": null,
      "id": "5c783c2d-22a4-48f7-9785-981a351a708f",
      "metadata": {
        "colab": {
          "base_uri": "https://localhost:8080/"
        },
        "id": "5c783c2d-22a4-48f7-9785-981a351a708f",
        "outputId": "6420267e-264d-42fd-ea21-183ff13cce1e"
      },
      "outputs": [
        {
          "output_type": "execute_result",
          "data": {
            "text/plain": [
              "tensor([3, 6, 9])"
            ]
          },
          "metadata": {},
          "execution_count": 31
        }
      ],
      "source": [
        "int_32_tensor = torch.tensor([3, 6, 9], dtype=torch.long)\n",
        "int_32_tensor"
      ]
    },
    {
      "cell_type": "code",
      "execution_count": null,
      "id": "5566cc19-cbe6-4ef0-be6b-99d7164e022c",
      "metadata": {
        "colab": {
          "base_uri": "https://localhost:8080/"
        },
        "id": "5566cc19-cbe6-4ef0-be6b-99d7164e022c",
        "outputId": "27a5011b-a38e-41be-8c54-b2d26c4c8b8b"
      },
      "outputs": [
        {
          "output_type": "execute_result",
          "data": {
            "text/plain": [
              "tensor([ 9., 36., 81.])"
            ]
          },
          "metadata": {},
          "execution_count": 32
        }
      ],
      "source": [
        "float_32_tensor * int_32_tensor"
      ]
    },
    {
      "cell_type": "markdown",
      "id": "2fb58955-0204-427b-af82-e96cb3d4cadd",
      "metadata": {
        "id": "2fb58955-0204-427b-af82-e96cb3d4cadd"
      },
      "source": [
        "### Getting information from tensors (tensor attributes)\n",
        "\n",
        "1. Tensors datatype - to do get datatype from a tensor, can use `tensor.dtype`\n",
        "2. Tensors shape - to get shape from a tensor, can use `tensor.shape`\n",
        "3. Tensors's device - to get device from a tensor, can use `tensor.device`"
      ]
    },
    {
      "cell_type": "code",
      "execution_count": null,
      "id": "e45fd288-58ac-45e8-a0a6-74fa140a11b7",
      "metadata": {
        "colab": {
          "base_uri": "https://localhost:8080/"
        },
        "id": "e45fd288-58ac-45e8-a0a6-74fa140a11b7",
        "outputId": "25e7254e-06f4-45a5-e09d-50b33ab0d028"
      },
      "outputs": [
        {
          "output_type": "execute_result",
          "data": {
            "text/plain": [
              "tensor([[0.8236, 0.6891, 0.9077, 0.3415],\n",
              "        [0.7196, 0.6957, 0.1851, 0.3100],\n",
              "        [0.4424, 0.0087, 0.7164, 0.8883]])"
            ]
          },
          "metadata": {},
          "execution_count": 33
        }
      ],
      "source": [
        "# Create a tensor\n",
        "some_tensor = torch.rand(3, 4)\n",
        "some_tensor"
      ]
    },
    {
      "cell_type": "code",
      "execution_count": null,
      "id": "2a81fcd5-a7ce-43a3-9901-52c46337818c",
      "metadata": {
        "colab": {
          "base_uri": "https://localhost:8080/"
        },
        "id": "2a81fcd5-a7ce-43a3-9901-52c46337818c",
        "outputId": "0297f955-a15a-4158-b18a-222e9e6684d1"
      },
      "outputs": [
        {
          "output_type": "stream",
          "name": "stdout",
          "text": [
            "tensor([[0.8236, 0.6891, 0.9077, 0.3415],\n",
            "        [0.7196, 0.6957, 0.1851, 0.3100],\n",
            "        [0.4424, 0.0087, 0.7164, 0.8883]])\n",
            "Datatype of tensor: torch.float32\n",
            "Shape of tensor: torch.Size([3, 4])\n",
            "Device tensor is on: cpu\n"
          ]
        }
      ],
      "source": [
        "# Find out details about some tensor\n",
        "print(some_tensor)\n",
        "print(f\"Datatype of tensor: {some_tensor.dtype}\")\n",
        "print(f\"Shape of tensor: {some_tensor.shape}\")\n",
        "print(f\"Device tensor is on: {some_tensor.device}\")"
      ]
    },
    {
      "cell_type": "markdown",
      "id": "1a943ff6-1fd9-4dbb-bb47-9017a9e3f887",
      "metadata": {
        "id": "1a943ff6-1fd9-4dbb-bb47-9017a9e3f887"
      },
      "source": [
        "### Manipulating Tensors (tensor operations)\n",
        "\n",
        "Tensor opertions include:\n",
        "* Addition\n",
        "* Subtraction\n",
        "* Multiplication (element-wise)\n",
        "* Division\n",
        "* Matrix multiplication"
      ]
    },
    {
      "cell_type": "code",
      "execution_count": null,
      "id": "e207d2e9-4b50-4fd2-95f3-ebc97f6449fe",
      "metadata": {
        "colab": {
          "base_uri": "https://localhost:8080/"
        },
        "id": "e207d2e9-4b50-4fd2-95f3-ebc97f6449fe",
        "outputId": "2fc9085f-078f-44de-bf8c-baddc9909f05"
      },
      "outputs": [
        {
          "output_type": "execute_result",
          "data": {
            "text/plain": [
              "tensor([11, 12, 13])"
            ]
          },
          "metadata": {},
          "execution_count": 35
        }
      ],
      "source": [
        "# Create a tensor and add 10 to it\n",
        "tensor = torch.tensor([1, 2, 3])\n",
        "tensor + 10"
      ]
    },
    {
      "cell_type": "code",
      "execution_count": null,
      "id": "dd0f8685-1d9b-4956-938b-b9da44705ec6",
      "metadata": {
        "colab": {
          "base_uri": "https://localhost:8080/"
        },
        "id": "dd0f8685-1d9b-4956-938b-b9da44705ec6",
        "outputId": "a5a7c145-e401-42e6-bcc3-dbf5a4b48cef"
      },
      "outputs": [
        {
          "output_type": "execute_result",
          "data": {
            "text/plain": [
              "tensor([10, 20, 30])"
            ]
          },
          "metadata": {},
          "execution_count": 36
        }
      ],
      "source": [
        "# Multiply tensor by 10\n",
        "mult = tensor * 10\n",
        "mult"
      ]
    },
    {
      "cell_type": "code",
      "execution_count": null,
      "id": "74c17a84-d5fe-4819-8d43-174aa7f40ff3",
      "metadata": {
        "colab": {
          "base_uri": "https://localhost:8080/"
        },
        "id": "74c17a84-d5fe-4819-8d43-174aa7f40ff3",
        "outputId": "218d844d-8c94-4dfe-a4f5-89747fc48532"
      },
      "outputs": [
        {
          "output_type": "execute_result",
          "data": {
            "text/plain": [
              "tensor([1, 2, 3])"
            ]
          },
          "metadata": {},
          "execution_count": 37
        }
      ],
      "source": [
        "tensor"
      ]
    },
    {
      "cell_type": "code",
      "execution_count": null,
      "id": "1fd423c3-87c5-4ef0-82c3-8302e742635f",
      "metadata": {
        "colab": {
          "base_uri": "https://localhost:8080/"
        },
        "id": "1fd423c3-87c5-4ef0-82c3-8302e742635f",
        "outputId": "c259efed-c979-4008-d892-26d48523506a"
      },
      "outputs": [
        {
          "output_type": "execute_result",
          "data": {
            "text/plain": [
              "tensor([-9, -8, -7])"
            ]
          },
          "metadata": {},
          "execution_count": 38
        }
      ],
      "source": [
        "# Substract 10\n",
        "subt = tensor - 10\n",
        "subt"
      ]
    },
    {
      "cell_type": "code",
      "execution_count": null,
      "id": "8eb6a5c6-769a-4da9-8cf2-f707aa8cb740",
      "metadata": {
        "id": "8eb6a5c6-769a-4da9-8cf2-f707aa8cb740"
      },
      "outputs": [],
      "source": [
        "# Try out PyTorch in-built functions (whenever you can, use these!)\n",
        "# Note the use of the assert statment: https://realpython.com/python-assert-statement/\n",
        "# Note the use of the Pytorch built-in torch.sum function\n",
        "mult2 = torch.mul(tensor, 10)\n",
        "assert torch.sum(mult) == torch.sum(mult2)"
      ]
    },
    {
      "cell_type": "code",
      "execution_count": null,
      "id": "d8683f02-e2fa-4cf5-b91b-12b26eae3391",
      "metadata": {
        "colab": {
          "base_uri": "https://localhost:8080/"
        },
        "id": "d8683f02-e2fa-4cf5-b91b-12b26eae3391",
        "outputId": "eea55c55-4d02-4c2e-bf97-67f94605471d"
      },
      "outputs": [
        {
          "output_type": "execute_result",
          "data": {
            "text/plain": [
              "tensor([11, 12, 13])"
            ]
          },
          "metadata": {},
          "execution_count": 40
        }
      ],
      "source": [
        "torch.add(tensor, 10)"
      ]
    },
    {
      "cell_type": "markdown",
      "id": "784db6ea-134e-4ebb-94a4-cd79d2fecb4b",
      "metadata": {
        "id": "784db6ea-134e-4ebb-94a4-cd79d2fecb4b"
      },
      "source": [
        "### Matrix multiplication\n",
        "\n",
        "Two main ways of performing multiplication in neural networks and deep learning:\n",
        "\n",
        "1. Element-wise multiplication\n",
        "2. Matrix mutliplication (dot product)\n",
        "\n",
        "More information on multiplying matrices - https://www.mathsisfun.com/algebra/matrix-multiplying.html\n",
        "\n",
        "There are two main rules that performing matrix mutliplication needs to satisfy:\n",
        "1. The **inner dimensions** must match:\n",
        "* `(3, 2) @ (3, 2)` won't work\n",
        "* `(2, 3) @ (3, 2)` will work\n",
        "* `(3, 2) @ (2, 3)` will work\n",
        "2. The resulting matrix has the shape of the **outer dimensions**:\n",
        "* `(2, 3) @ (3, 2)` -> `(2, 2)`\n",
        "* `(3, 2) @ (2, 3)` -> `(3, 3)`"
      ]
    },
    {
      "cell_type": "code",
      "execution_count": null,
      "id": "0b003abd-5078-44e9-8a4d-cbd4a283e509",
      "metadata": {
        "colab": {
          "base_uri": "https://localhost:8080/"
        },
        "id": "0b003abd-5078-44e9-8a4d-cbd4a283e509",
        "outputId": "2e91160b-8d30-4612-85a1-64ba29a4421d"
      },
      "outputs": [
        {
          "output_type": "execute_result",
          "data": {
            "text/plain": [
              "tensor([1, 2, 3])"
            ]
          },
          "metadata": {},
          "execution_count": 41
        }
      ],
      "source": [
        "# Remember that tensor is...\n",
        "tensor"
      ]
    },
    {
      "cell_type": "code",
      "execution_count": null,
      "id": "c66f6d02-9e3e-4ebc-ae9c-b4867b2b7af1",
      "metadata": {
        "colab": {
          "base_uri": "https://localhost:8080/"
        },
        "id": "c66f6d02-9e3e-4ebc-ae9c-b4867b2b7af1",
        "outputId": "4641b720-3b49-442a-8870-3439fa757bc7"
      },
      "outputs": [
        {
          "output_type": "stream",
          "name": "stdout",
          "text": [
            "tensor([1, 2, 3]) * tensor([1, 2, 3])\n",
            "Equals: tensor([1, 4, 9])\n"
          ]
        }
      ],
      "source": [
        "# Element wise multiplication. Herre we just multiply each element by its counterpart in the other matrix\n",
        "print(tensor, \"*\", tensor)\n",
        "print(f\"Equals: {tensor * tensor}\")"
      ]
    },
    {
      "cell_type": "code",
      "execution_count": null,
      "id": "56cf33e1-cc8b-4a45-863a-7d32547775e0",
      "metadata": {
        "colab": {
          "base_uri": "https://localhost:8080/"
        },
        "id": "56cf33e1-cc8b-4a45-863a-7d32547775e0",
        "outputId": "be85ed96-92a4-4bff-beef-f8d0c2a845de"
      },
      "outputs": [
        {
          "output_type": "stream",
          "name": "stdout",
          "text": [
            "tensor([[2., 3.],\n",
            "        [4., 5.]]) * tensor([[1., 4.],\n",
            "        [5., 6.]])\n",
            "Equals: tensor([[ 2., 12.],\n",
            "        [20., 30.]])\n"
          ]
        }
      ],
      "source": [
        "tensor2 = torch.Tensor([[2,3],[4,5]])\n",
        "tensor3 = torch.Tensor([[1,4],[5,6]])\n",
        "print(tensor2, \"*\", tensor3)\n",
        "print(f\"Equals: {tensor2 * tensor3}\")"
      ]
    },
    {
      "cell_type": "markdown",
      "id": "addf6bee-23e9-4c8e-bfeb-74ed7daf735f",
      "metadata": {
        "id": "addf6bee-23e9-4c8e-bfeb-74ed7daf735f"
      },
      "source": [
        "#### A useful graphical [diagram](https://www.mathsisfun.com/algebra/matrix-multiplying.html) explaining matrix maltiplication!"
      ]
    },
    {
      "cell_type": "code",
      "execution_count": null,
      "id": "4cd3cbb3-c2d0-4411-949a-8a16e3c18835",
      "metadata": {
        "colab": {
          "base_uri": "https://localhost:8080/"
        },
        "id": "4cd3cbb3-c2d0-4411-949a-8a16e3c18835",
        "outputId": "db10ec09-b728-4ef2-fe02-3f7c1c0ccd0d"
      },
      "outputs": [
        {
          "output_type": "execute_result",
          "data": {
            "text/plain": [
              "tensor(14)"
            ]
          },
          "metadata": {},
          "execution_count": 44
        }
      ],
      "source": [
        "# Matrix multiplication. This is straightfoward matrix multiplication\n",
        "torch.matmul(tensor, tensor)"
      ]
    },
    {
      "cell_type": "code",
      "execution_count": null,
      "id": "18c5b8d7-b251-4f2d-9bfa-2ae39eb62236",
      "metadata": {
        "colab": {
          "base_uri": "https://localhost:8080/"
        },
        "id": "18c5b8d7-b251-4f2d-9bfa-2ae39eb62236",
        "outputId": "7f80c80e-48dc-48f2-d6c4-946d724d760c"
      },
      "outputs": [
        {
          "output_type": "execute_result",
          "data": {
            "text/plain": [
              "tensor([1, 2, 3])"
            ]
          },
          "metadata": {},
          "execution_count": 45
        }
      ],
      "source": [
        "tensor"
      ]
    },
    {
      "cell_type": "code",
      "execution_count": null,
      "id": "8edb27ff-c7be-4e43-bb04-a5c90a575437",
      "metadata": {
        "colab": {
          "base_uri": "https://localhost:8080/"
        },
        "id": "8edb27ff-c7be-4e43-bb04-a5c90a575437",
        "outputId": "c2d77a6d-2642-451e-cd05-51ecc0e4baca"
      },
      "outputs": [
        {
          "output_type": "execute_result",
          "data": {
            "text/plain": [
              "14"
            ]
          },
          "metadata": {},
          "execution_count": 46
        }
      ],
      "source": [
        "# Matrix multiplication by hand\n",
        "1*1 + 2*2 + 3*3"
      ]
    },
    {
      "cell_type": "code",
      "execution_count": null,
      "id": "f22bef25-ec8f-49a6-94bb-60092673ba6b",
      "metadata": {
        "id": "f22bef25-ec8f-49a6-94bb-60092673ba6b"
      },
      "outputs": [],
      "source": []
    },
    {
      "cell_type": "markdown",
      "id": "fbb5fa22-b4ed-486a-9f31-9f7c387c4ec7",
      "metadata": {
        "id": "fbb5fa22-b4ed-486a-9f31-9f7c387c4ec7"
      },
      "source": [
        "####  Matrix multiplication using a for loop. Note that we use Python's magical %%time to calculate speed of excution. This is useful as we'll compare excution time with pytorch's builtin function\n",
        "https://stackoverflow.com/questions/49403536/what-does-time-mean-in-python-3\n"
      ]
    },
    {
      "cell_type": "code",
      "execution_count": null,
      "id": "f7f92a92-812c-48e8-94db-4f0a6178af1e",
      "metadata": {
        "colab": {
          "base_uri": "https://localhost:8080/"
        },
        "id": "f7f92a92-812c-48e8-94db-4f0a6178af1e",
        "outputId": "d3c4d534-ca25-4fd0-8229-955e684aa128"
      },
      "outputs": [
        {
          "output_type": "stream",
          "name": "stdout",
          "text": [
            "tensor(14)\n",
            "CPU times: user 3.73 ms, sys: 0 ns, total: 3.73 ms\n",
            "Wall time: 8.91 ms\n"
          ]
        }
      ],
      "source": [
        "%%time\n",
        "value = 0\n",
        "for i in range(len(tensor)):\n",
        "  value += tensor[i] * tensor[i]\n",
        "print(value)"
      ]
    },
    {
      "cell_type": "code",
      "execution_count": null,
      "id": "d530873b-572f-4305-aeaf-f21ef1564637",
      "metadata": {
        "colab": {
          "base_uri": "https://localhost:8080/"
        },
        "id": "d530873b-572f-4305-aeaf-f21ef1564637",
        "outputId": "ae37f170-20ba-4508-d5f1-17bdd4da81b5"
      },
      "outputs": [
        {
          "output_type": "stream",
          "name": "stdout",
          "text": [
            "CPU times: user 83 µs, sys: 10 µs, total: 93 µs\n",
            "Wall time: 96.8 µs\n"
          ]
        },
        {
          "output_type": "execute_result",
          "data": {
            "text/plain": [
              "tensor(14)"
            ]
          },
          "metadata": {},
          "execution_count": 51
        }
      ],
      "source": [
        "%%time\n",
        "torch.matmul(tensor, tensor)"
      ]
    },
    {
      "cell_type": "markdown",
      "id": "b9d4ee1d-2e42-4a73-bb04-e1b0b213ea19",
      "metadata": {
        "id": "b9d4ee1d-2e42-4a73-bb04-e1b0b213ea19"
      },
      "source": [
        "### Notice the signficant improvement in speed when using PyTorch built-in functions above?"
      ]
    },
    {
      "cell_type": "markdown",
      "id": "3e242ed8-6cbf-4859-bd0a-d24f5c46c67a",
      "metadata": {
        "id": "3e242ed8-6cbf-4859-bd0a-d24f5c46c67a"
      },
      "source": [
        "#### One of the most common errors in deep learning: shape errors"
      ]
    },
    {
      "cell_type": "code",
      "execution_count": null,
      "id": "e947357c-0468-4f5f-9eda-b1811d46a9fb",
      "metadata": {
        "colab": {
          "base_uri": "https://localhost:8080/",
          "height": 200
        },
        "id": "e947357c-0468-4f5f-9eda-b1811d46a9fb",
        "outputId": "39d6619f-98f9-46ce-cb2b-3531248430d5"
      },
      "outputs": [
        {
          "output_type": "error",
          "ename": "RuntimeError",
          "evalue": "ignored",
          "traceback": [
            "\u001b[0;31m---------------------------------------------------------------------------\u001b[0m",
            "\u001b[0;31mRuntimeError\u001b[0m                              Traceback (most recent call last)",
            "\u001b[0;32m<ipython-input-52-281a2d72c2ec>\u001b[0m in \u001b[0;36m<module>\u001b[0;34m\u001b[0m\n\u001b[1;32m      9\u001b[0m \u001b[0;34m\u001b[0m\u001b[0m\n\u001b[1;32m     10\u001b[0m \u001b[0;31m# torch.mm(tensor_A, tensor_B) # torch.mm is the same as torch.matmul (it's an alias for writing less code)\u001b[0m\u001b[0;34m\u001b[0m\u001b[0;34m\u001b[0m\u001b[0;34m\u001b[0m\u001b[0m\n\u001b[0;32m---> 11\u001b[0;31m \u001b[0mtorch\u001b[0m\u001b[0;34m.\u001b[0m\u001b[0mmatmul\u001b[0m\u001b[0;34m(\u001b[0m\u001b[0mtensor_A\u001b[0m\u001b[0;34m,\u001b[0m \u001b[0mtensor_B\u001b[0m\u001b[0;34m)\u001b[0m\u001b[0;34m\u001b[0m\u001b[0;34m\u001b[0m\u001b[0m\n\u001b[0m",
            "\u001b[0;31mRuntimeError\u001b[0m: mat1 and mat2 shapes cannot be multiplied (3x2 and 3x2)"
          ]
        }
      ],
      "source": [
        "# Shapes for matrix multiplication\n",
        "tensor_A = torch.tensor([[1, 2],\n",
        "                         [3, 4],\n",
        "                         [5, 6]])\n",
        "\n",
        "tensor_B = torch.tensor([[7, 10],\n",
        "                         [8, 11],\n",
        "                         [9, 12]])\n",
        "\n",
        "# torch.mm(tensor_A, tensor_B) # torch.mm is the same as torch.matmul (it's an alias for writing less code)\n",
        "torch.matmul(tensor_A, tensor_B)"
      ]
    },
    {
      "cell_type": "markdown",
      "id": "e347826d-b751-4d11-9442-4873d69d1246",
      "metadata": {
        "id": "e347826d-b751-4d11-9442-4873d69d1246"
      },
      "source": [
        "### The error message `RuntimeError: mat1 and mat2 shapes cannot be multiplied (3x2 and 3x2)` tells you where the error is! Can you fix it?"
      ]
    },
    {
      "cell_type": "code",
      "execution_count": null,
      "id": "8c314702-69c1-42c0-997d-6743a3584871",
      "metadata": {
        "colab": {
          "base_uri": "https://localhost:8080/"
        },
        "id": "8c314702-69c1-42c0-997d-6743a3584871",
        "outputId": "04cd7c99-0536-441a-f48a-52507da6487e"
      },
      "outputs": [
        {
          "output_type": "execute_result",
          "data": {
            "text/plain": [
              "tensor([[ 7,  8,  9],\n",
              "        [10, 11, 12]])"
            ]
          },
          "metadata": {},
          "execution_count": 53
        }
      ],
      "source": [
        "tensor_B.T"
      ]
    },
    {
      "cell_type": "code",
      "execution_count": null,
      "id": "6d9552cf-274c-475c-9962-d98a10841bda",
      "metadata": {
        "colab": {
          "base_uri": "https://localhost:8080/"
        },
        "id": "6d9552cf-274c-475c-9962-d98a10841bda",
        "outputId": "b54e76c1-b50d-40e4-a1d7-a8315d08eb89"
      },
      "outputs": [
        {
          "output_type": "execute_result",
          "data": {
            "text/plain": [
              "(torch.Size([3, 2]), torch.Size([3, 2]))"
            ]
          },
          "metadata": {},
          "execution_count": 54
        }
      ],
      "source": [
        "tensor_A.shape, tensor_B.shape"
      ]
    },
    {
      "cell_type": "markdown",
      "id": "0f80de5e-f7d3-4699-abad-eacc2fadbb07",
      "metadata": {
        "id": "0f80de5e-f7d3-4699-abad-eacc2fadbb07"
      },
      "source": [
        "Recall from earlier that for t1 x t2 to work, the second dimension of t1 MUST equal the first dimension of the t2!\n",
        "To fix our tensor shape issues, we can manipulate the shape of one of our tensors using a **transpose**.\n",
        "\n",
        "A **transpose** switches the axes or dimensions of a given tensor."
      ]
    },
    {
      "cell_type": "code",
      "execution_count": null,
      "id": "cb3ca01f-140f-4de5-bb89-b49d02428571",
      "metadata": {
        "colab": {
          "base_uri": "https://localhost:8080/"
        },
        "id": "cb3ca01f-140f-4de5-bb89-b49d02428571",
        "outputId": "603f7158-44f5-42a4-b1ef-57ea14e83da7"
      },
      "outputs": [
        {
          "output_type": "execute_result",
          "data": {
            "text/plain": [
              "(tensor([[ 7, 10],\n",
              "         [ 8, 11],\n",
              "         [ 9, 12]]), torch.Size([3, 2]))"
            ]
          },
          "metadata": {},
          "execution_count": 55
        }
      ],
      "source": [
        "tensor_B, tensor_B.shape"
      ]
    },
    {
      "cell_type": "code",
      "execution_count": null,
      "id": "1980c884-4fbc-488a-8fac-1d949989a2a2",
      "metadata": {
        "colab": {
          "base_uri": "https://localhost:8080/"
        },
        "id": "1980c884-4fbc-488a-8fac-1d949989a2a2",
        "outputId": "4650788f-3c6d-446e-debe-9d05327d7570"
      },
      "outputs": [
        {
          "output_type": "execute_result",
          "data": {
            "text/plain": [
              "(tensor([[ 7,  8,  9],\n",
              "         [10, 11, 12]]), torch.Size([2, 3]))"
            ]
          },
          "metadata": {},
          "execution_count": 56
        }
      ],
      "source": [
        "tensor_B.T, tensor_B.T.shape"
      ]
    },
    {
      "cell_type": "code",
      "execution_count": null,
      "id": "9bdd624d-923d-4dfa-9ed9-1936dba5338a",
      "metadata": {
        "colab": {
          "base_uri": "https://localhost:8080/"
        },
        "id": "9bdd624d-923d-4dfa-9ed9-1936dba5338a",
        "outputId": "ba2cf6cc-de42-4940-955f-f2069cb99167"
      },
      "outputs": [
        {
          "output_type": "stream",
          "name": "stdout",
          "text": [
            "Original shapes: tensor_A = torch.Size([3, 2]), tensor_B = torch.Size([3, 2])\n",
            "New shapes: tensor_A = torch.Size([3, 2]) (same shape as above), tensor_B.T = torch.Size([2, 3])\n",
            "Multiplying: torch.Size([3, 2]) @ torch.Size([2, 3]) <- inner dimensions must match\n",
            "Output:\n",
            "\n",
            "tensor([[ 27,  30,  33],\n",
            "        [ 61,  68,  75],\n",
            "        [ 95, 106, 117]])\n",
            "\n",
            "Output shape: torch.Size([3, 3])\n"
          ]
        }
      ],
      "source": [
        "# The matrix multiplication operation works when tensor_B is transposed\n",
        "print(f\"Original shapes: tensor_A = {tensor_A.shape}, tensor_B = {tensor_B.shape}\")\n",
        "print(f\"New shapes: tensor_A = {tensor_A.shape} (same shape as above), tensor_B.T = {tensor_B.T.shape}\")\n",
        "print(f\"Multiplying: {tensor_A.shape} @ {tensor_B.T.shape} <- inner dimensions must match\")\n",
        "print(\"Output:\\n\")\n",
        "output = torch.matmul(tensor_A, tensor_B.T)\n",
        "print(output)\n",
        "print(f\"\\nOutput shape: {output.shape}\")"
      ]
    },
    {
      "cell_type": "markdown",
      "id": "e78d3815-4771-4988-b8bb-d75db3b05ca4",
      "metadata": {
        "id": "e78d3815-4771-4988-b8bb-d75db3b05ca4"
      },
      "source": [
        "## Finding the min, max, mean, sum, etc (tensor aggregation)"
      ]
    },
    {
      "cell_type": "code",
      "execution_count": null,
      "id": "d0f8ddbc-b36c-4b66-961f-47081dca2efb",
      "metadata": {
        "colab": {
          "base_uri": "https://localhost:8080/"
        },
        "id": "d0f8ddbc-b36c-4b66-961f-47081dca2efb",
        "outputId": "25f7e3da-d9e9-4082-c439-7b093b70374c"
      },
      "outputs": [
        {
          "output_type": "execute_result",
          "data": {
            "text/plain": [
              "(tensor([ 1, 11, 21, 31, 41, 51, 61, 71, 81, 91]), torch.int64)"
            ]
          },
          "metadata": {},
          "execution_count": 58
        }
      ],
      "source": [
        "# Create a tensor\n",
        "x = torch.arange(1, 100, 10)\n",
        "x, x.dtype"
      ]
    },
    {
      "cell_type": "code",
      "execution_count": null,
      "id": "cdcca78b-8d88-4548-8ae1-c44c2d50c655",
      "metadata": {
        "colab": {
          "base_uri": "https://localhost:8080/"
        },
        "id": "cdcca78b-8d88-4548-8ae1-c44c2d50c655",
        "outputId": "e9fd3484-5631-496c-f00d-80ea48c8698b"
      },
      "outputs": [
        {
          "output_type": "execute_result",
          "data": {
            "text/plain": [
              "(tensor(1), tensor(1))"
            ]
          },
          "metadata": {},
          "execution_count": 59
        }
      ],
      "source": [
        "# Find the min\n",
        "torch.min(x), x.min()"
      ]
    },
    {
      "cell_type": "code",
      "execution_count": null,
      "id": "e7b3a42f-59a9-4cac-9f69-305c312cb534",
      "metadata": {
        "colab": {
          "base_uri": "https://localhost:8080/"
        },
        "id": "e7b3a42f-59a9-4cac-9f69-305c312cb534",
        "outputId": "7c3c09dd-d59f-48d2-b9f7-bda78712c657"
      },
      "outputs": [
        {
          "output_type": "execute_result",
          "data": {
            "text/plain": [
              "(tensor(91), tensor(91))"
            ]
          },
          "metadata": {},
          "execution_count": 60
        }
      ],
      "source": [
        "# Find the max\n",
        "torch.max(x), x.max()"
      ]
    },
    {
      "cell_type": "code",
      "execution_count": null,
      "id": "e5cc04b7-b080-4051-a5e8-2ae39285fbc9",
      "metadata": {
        "colab": {
          "base_uri": "https://localhost:8080/"
        },
        "id": "e5cc04b7-b080-4051-a5e8-2ae39285fbc9",
        "outputId": "0e5e8e5d-bc9f-45fe-d985-63856b37eae8"
      },
      "outputs": [
        {
          "output_type": "execute_result",
          "data": {
            "text/plain": [
              "(tensor(46.), tensor(46.))"
            ]
          },
          "metadata": {},
          "execution_count": 61
        }
      ],
      "source": [
        "# Find the mean - note: the torch.mean() function requires a tensor of float32 datatype to work\n",
        "# here are two ways of finding the mean in pytorch!\n",
        "torch.mean(x.type(torch.float32)), x.type(torch.float32).mean()"
      ]
    },
    {
      "cell_type": "code",
      "execution_count": null,
      "id": "14294e43-3764-4e5c-8398-0d0c04eb7dc2",
      "metadata": {
        "colab": {
          "base_uri": "https://localhost:8080/"
        },
        "id": "14294e43-3764-4e5c-8398-0d0c04eb7dc2",
        "outputId": "7b742daf-9702-427a-afdb-31cd9ff95bc4"
      },
      "outputs": [
        {
          "output_type": "execute_result",
          "data": {
            "text/plain": [
              "(tensor(460), tensor(460))"
            ]
          },
          "metadata": {},
          "execution_count": 62
        }
      ],
      "source": [
        "# Find the sum\n",
        "torch.sum(x), x.sum()"
      ]
    },
    {
      "cell_type": "markdown",
      "id": "4ea5829e-ccbe-429a-86ab-4b090c591908",
      "metadata": {
        "id": "4ea5829e-ccbe-429a-86ab-4b090c591908"
      },
      "source": [
        "### Do you notice the similarity in syntax with other popular Python libraries such as Numpy and Pandas? One of the reasons PyTorch is popular amongst ML researchers is it operates within a pythonic paradigm."
      ]
    },
    {
      "cell_type": "markdown",
      "id": "faada50a-e179-4983-b4df-374aff876e4b",
      "metadata": {
        "id": "faada50a-e179-4983-b4df-374aff876e4b"
      },
      "source": [
        "## Finding the positional min and max, the famous argmin() and argmax()!\n",
        "**NOTE**: Please note that you will encounter these functions often when reading papers or writing/reading code! It is important to understand what they do in the context of building deep learning models. In the CNN notebook you will see a practical example of how they're used."
      ]
    },
    {
      "cell_type": "code",
      "execution_count": null,
      "id": "1f9411ab-c770-46f3-a5fd-06c5902d97da",
      "metadata": {
        "colab": {
          "base_uri": "https://localhost:8080/"
        },
        "id": "1f9411ab-c770-46f3-a5fd-06c5902d97da",
        "outputId": "4b20a8fc-21dd-4fd4-f38c-ddbfa0b3b37b"
      },
      "outputs": [
        {
          "output_type": "execute_result",
          "data": {
            "text/plain": [
              "tensor([ 1, 11, 21, 31, 41, 51, 61, 71, 81, 91])"
            ]
          },
          "metadata": {},
          "execution_count": 63
        }
      ],
      "source": [
        "x"
      ]
    },
    {
      "cell_type": "code",
      "execution_count": null,
      "id": "77f830b6-84f9-4ffc-9787-8563d666b639",
      "metadata": {
        "colab": {
          "base_uri": "https://localhost:8080/"
        },
        "id": "77f830b6-84f9-4ffc-9787-8563d666b639",
        "outputId": "322f8a39-d74c-40b9-b4ab-7fd17fedd95a"
      },
      "outputs": [
        {
          "output_type": "execute_result",
          "data": {
            "text/plain": [
              "tensor(0)"
            ]
          },
          "metadata": {},
          "execution_count": 64
        }
      ],
      "source": [
        "# Find the position in tensor that has the minimum value with argmin() -> returns index position of targt tensor where the minimum value occurs\n",
        "\n",
        "x.argmin()"
      ]
    },
    {
      "cell_type": "markdown",
      "id": "f54ebd82-707d-474f-8f3b-12e889d2e59b",
      "metadata": {
        "id": "f54ebd82-707d-474f-8f3b-12e889d2e59b"
      },
      "source": [
        "##### the above is telling us that the smallest datapoint in the x tensor is located in index 0!"
      ]
    },
    {
      "cell_type": "code",
      "execution_count": null,
      "id": "32d695c1-342e-4e9c-a76a-176a59fa024e",
      "metadata": {
        "colab": {
          "base_uri": "https://localhost:8080/"
        },
        "id": "32d695c1-342e-4e9c-a76a-176a59fa024e",
        "outputId": "64562b3d-7132-41f0-9227-4ccdcf20851c"
      },
      "outputs": [
        {
          "output_type": "execute_result",
          "data": {
            "text/plain": [
              "tensor(1)"
            ]
          },
          "metadata": {},
          "execution_count": 65
        }
      ],
      "source": [
        "# and that minimum value is 1!\n",
        "x[0]"
      ]
    },
    {
      "cell_type": "code",
      "execution_count": null,
      "id": "6f5b936c-4acd-4a18-994e-891654e3c432",
      "metadata": {
        "colab": {
          "base_uri": "https://localhost:8080/"
        },
        "id": "6f5b936c-4acd-4a18-994e-891654e3c432",
        "outputId": "117b0ef5-211e-49d4-fa92-4d0aef66e15d"
      },
      "outputs": [
        {
          "output_type": "execute_result",
          "data": {
            "text/plain": [
              "tensor(9)"
            ]
          },
          "metadata": {},
          "execution_count": 66
        }
      ],
      "source": [
        "# Find the position in tensor that has the maximum value with argmax()\n",
        "x.argmax()"
      ]
    },
    {
      "cell_type": "markdown",
      "id": "1778ee4c-7557-4a1f-992d-fa81685af7c4",
      "metadata": {
        "id": "1778ee4c-7557-4a1f-992d-fa81685af7c4"
      },
      "source": [
        "##### the above is telling us that the biggest datapoint in the x tensor is located in index 9!"
      ]
    },
    {
      "cell_type": "code",
      "execution_count": null,
      "id": "2b0d8fa5-458f-47bd-b17f-52b2a1f6a61c",
      "metadata": {
        "colab": {
          "base_uri": "https://localhost:8080/"
        },
        "id": "2b0d8fa5-458f-47bd-b17f-52b2a1f6a61c",
        "outputId": "0e55530d-9154-47d8-a4a3-833991ba516d"
      },
      "outputs": [
        {
          "output_type": "execute_result",
          "data": {
            "text/plain": [
              "tensor(91)"
            ]
          },
          "metadata": {},
          "execution_count": 67
        }
      ],
      "source": [
        "# and that minimum value is 91!\n",
        "x[9]"
      ]
    },
    {
      "cell_type": "markdown",
      "id": "c2c61fb5-65b4-4469-bd7c-8dddad93ad6e",
      "metadata": {
        "id": "c2c61fb5-65b4-4469-bd7c-8dddad93ad6e"
      },
      "source": [
        "## Reshaping, stacking, squeezing and unsqueezing tensors\n",
        "\n",
        "* [`torch.reshape()`](https://pytorch.org/docs/stable/generated/torch.reshape.html) - reshapes an input tensor to a defined shape\n",
        "* [`torch.Tensor.view()`](https://pytorch.org/docs/stable/generated/torch.Tensor.view.html) - Return a view of an input tensor of certain shape but keep the same memory as the original tensor\n",
        "* [`torch.stack()`](https://pytorch.org/docs/stable/generated/torch.stack.html) - combine multiple tensors on top of each other (vstack) or side by side (hstack)\n",
        "* [`torch.squeeze()`](https://pytorch.org/docs/stable/generated/torch.squeeze.html) - removes all `1` dimensions from a tensor\n",
        "* [`torch.unsqueeze()`](https://pytorch.org/docs/stable/generated/torch.unsqueeze.html) - add a `1` dimension to a target tensor. Note that this does not mean it is the inverse of the squeeze operation!\n",
        "* [`torch.permute()`](https://pytorch.org/docs/stable/generated/torch.permute.html) - Return a view of the input with dimensions permuted (swapped) in a certain way"
      ]
    },
    {
      "cell_type": "code",
      "execution_count": null,
      "id": "9cf16f3a-1891-443d-90ce-d2c9564e48e3",
      "metadata": {
        "colab": {
          "base_uri": "https://localhost:8080/"
        },
        "id": "9cf16f3a-1891-443d-90ce-d2c9564e48e3",
        "outputId": "4e13ea96-e6be-44e2-f05a-766a10285ffd"
      },
      "outputs": [
        {
          "output_type": "execute_result",
          "data": {
            "text/plain": [
              "(tensor([1., 2., 3., 4., 5., 6., 7., 8., 9.]), torch.Size([9]))"
            ]
          },
          "metadata": {},
          "execution_count": 68
        }
      ],
      "source": [
        "# Let's create a tensor\n",
        "import torch\n",
        "tensor = torch.arange(1., 10.)\n",
        "tensor, tensor.shape"
      ]
    },
    {
      "cell_type": "code",
      "execution_count": null,
      "id": "87da5b12-06e1-4111-a551-ecd14b5b2936",
      "metadata": {
        "colab": {
          "base_uri": "https://localhost:8080/"
        },
        "id": "87da5b12-06e1-4111-a551-ecd14b5b2936",
        "outputId": "05b4c2f0-82ee-42bf-e60d-b4ef87e1b666"
      },
      "outputs": [
        {
          "output_type": "execute_result",
          "data": {
            "text/plain": [
              "(tensor([[1., 2., 3., 4., 5., 6., 7., 8., 9.]]), torch.Size([1, 9]))"
            ]
          },
          "metadata": {},
          "execution_count": 69
        }
      ],
      "source": [
        "# Add an extra dimension, note that the total number of elements in the tensor (nor their contents) does NOT change!\n",
        "tensor_reshaped = tensor.reshape(1, 9)\n",
        "tensor_reshaped, tensor_reshaped.shape"
      ]
    },
    {
      "cell_type": "code",
      "execution_count": null,
      "id": "a28392fb-d1f9-4e21-ad93-fccc3ea01962",
      "metadata": {
        "colab": {
          "base_uri": "https://localhost:8080/"
        },
        "id": "a28392fb-d1f9-4e21-ad93-fccc3ea01962",
        "outputId": "d2f0a547-fcac-4fd3-8685-b93954bae13d"
      },
      "outputs": [
        {
          "output_type": "execute_result",
          "data": {
            "text/plain": [
              "(tensor([[1., 2., 3., 4., 5., 6., 7., 8., 9.]]), torch.Size([1, 9]))"
            ]
          },
          "metadata": {},
          "execution_count": 70
        }
      ],
      "source": [
        "# Change the view\n",
        "z = tensor.view(1, 9)\n",
        "z, z.shape"
      ]
    },
    {
      "cell_type": "code",
      "execution_count": null,
      "id": "7c78856f-9331-4afe-a976-c02848aac1c6",
      "metadata": {
        "colab": {
          "base_uri": "https://localhost:8080/"
        },
        "id": "7c78856f-9331-4afe-a976-c02848aac1c6",
        "outputId": "73c806be-4cd2-4dfd-a4ab-fe488be2924b"
      },
      "outputs": [
        {
          "output_type": "execute_result",
          "data": {
            "text/plain": [
              "(tensor([[5., 2., 3., 4., 5., 6., 7., 8., 9.]]),\n",
              " tensor([5., 2., 3., 4., 5., 6., 7., 8., 9.]))"
            ]
          },
          "metadata": {},
          "execution_count": 71
        }
      ],
      "source": [
        "# Changing z changes tensor (because a view of a tensor shares the same memory as the original input). In other words, view serves as a pointer!\n",
        "z[:, 0] = 5\n",
        "z, tensor"
      ]
    },
    {
      "cell_type": "code",
      "execution_count": null,
      "id": "8e7cee07-5733-41ee-9913-a3f0a4fd2f9e",
      "metadata": {
        "colab": {
          "base_uri": "https://localhost:8080/"
        },
        "id": "8e7cee07-5733-41ee-9913-a3f0a4fd2f9e",
        "outputId": "071f1120-990e-4cbc-c819-030b8dda3bab"
      },
      "outputs": [
        {
          "output_type": "execute_result",
          "data": {
            "text/plain": [
              "tensor([[5., 2., 3., 4., 5., 6., 7., 8., 9.],\n",
              "        [5., 2., 3., 4., 5., 6., 7., 8., 9.],\n",
              "        [5., 2., 3., 4., 5., 6., 7., 8., 9.],\n",
              "        [5., 2., 3., 4., 5., 6., 7., 8., 9.]])"
            ]
          },
          "metadata": {},
          "execution_count": 72
        }
      ],
      "source": [
        "# Stack tensors on top of each other\n",
        "tensor_stacked = torch.stack([tensor, tensor, tensor, tensor], dim=0)\n",
        "tensor_stacked"
      ]
    },
    {
      "cell_type": "code",
      "execution_count": null,
      "id": "abc52037-fca8-43a4-82b4-30b7073c92b5",
      "metadata": {
        "colab": {
          "base_uri": "https://localhost:8080/"
        },
        "id": "abc52037-fca8-43a4-82b4-30b7073c92b5",
        "outputId": "d5186966-101b-4f51-ac4a-bdcbe5c88dbe"
      },
      "outputs": [
        {
          "output_type": "execute_result",
          "data": {
            "text/plain": [
              "torch.Size([4, 9])"
            ]
          },
          "metadata": {},
          "execution_count": 73
        }
      ],
      "source": [
        "# What do you think is the shape of tensor_stacked?\n",
        "tensor_stacked.shape"
      ]
    },
    {
      "cell_type": "code",
      "execution_count": null,
      "id": "669b6d71-7470-4791-aeb4-96b7d584f20a",
      "metadata": {
        "colab": {
          "base_uri": "https://localhost:8080/"
        },
        "id": "669b6d71-7470-4791-aeb4-96b7d584f20a",
        "outputId": "2fbf49e3-775d-4ab7-ac1e-3f2480834401"
      },
      "outputs": [
        {
          "output_type": "execute_result",
          "data": {
            "text/plain": [
              "2"
            ]
          },
          "metadata": {},
          "execution_count": 74
        }
      ],
      "source": [
        "# What do you think the ndim of tensor_stacked would be? And why!?\n",
        "tensor_stacked.ndim"
      ]
    },
    {
      "cell_type": "code",
      "execution_count": null,
      "id": "3fae56d5-e800-43a0-babe-d925bb4746ad",
      "metadata": {
        "colab": {
          "base_uri": "https://localhost:8080/"
        },
        "id": "3fae56d5-e800-43a0-babe-d925bb4746ad",
        "outputId": "d493019b-dc59-49f1-a3c1-fb62dcc55c96"
      },
      "outputs": [
        {
          "output_type": "stream",
          "name": "stdout",
          "text": [
            "Previous tensor: tensor([[5., 2., 3., 4., 5., 6., 7., 8., 9.]])\n",
            "Previous shape: torch.Size([1, 9])\n",
            "\n",
            "New tensor: tensor([5., 2., 3., 4., 5., 6., 7., 8., 9.])\n",
            "New shape: torch.Size([9])\n"
          ]
        }
      ],
      "source": [
        "# torch.squeeze() - removes all single dimensions from a target tensor\n",
        "print(f\"Previous tensor: {tensor_reshaped}\")\n",
        "print(f\"Previous shape: {tensor_reshaped.shape}\")\n",
        "\n",
        "# Remove extra dimensions from x_reshaped\n",
        "tensor_squeezed = tensor_reshaped.squeeze()\n",
        "print(f\"\\nNew tensor: {tensor_squeezed}\")\n",
        "print(f\"New shape: {tensor_squeezed.shape}\")"
      ]
    },
    {
      "cell_type": "code",
      "execution_count": null,
      "id": "745eb8f9-d3c6-48e6-b326-98f2cc058c6a",
      "metadata": {
        "colab": {
          "base_uri": "https://localhost:8080/"
        },
        "id": "745eb8f9-d3c6-48e6-b326-98f2cc058c6a",
        "outputId": "fcf945af-9673-48ea-fba2-7761a4ea747f"
      },
      "outputs": [
        {
          "output_type": "stream",
          "name": "stdout",
          "text": [
            "Previous target: tensor([5., 2., 3., 4., 5., 6., 7., 8., 9.])\n",
            "Previous shape: torch.Size([9])\n",
            "\n",
            "New tensor: tensor([[5., 2., 3., 4., 5., 6., 7., 8., 9.]])\n",
            "New shape: torch.Size([1, 9])\n"
          ]
        }
      ],
      "source": [
        "# torch.unsqueeze() - adds a single dimension to a target tensor at a specific dim (dimension)\n",
        "print(f\"Previous target: {tensor_squeezed}\")\n",
        "print(f\"Previous shape: {tensor_squeezed.shape}\")\n",
        "\n",
        "# Add an extra dimension with unsqueeze\n",
        "x_unsqueezed = tensor_squeezed.unsqueeze(dim=0)\n",
        "print(f\"\\nNew tensor: {x_unsqueezed}\")\n",
        "print(f\"New shape: {x_unsqueezed.shape}\")"
      ]
    },
    {
      "cell_type": "markdown",
      "id": "3e4585be-90b9-4fb2-a578-7891b9db2a3c",
      "metadata": {
        "id": "3e4585be-90b9-4fb2-a578-7891b9db2a3c"
      },
      "source": [
        "#### Note that in the case where there's more than one dimension equal to 1, the unsqueeze operation will not be able to recover those if ommited via squeeze(). This is explained thoroughly [here](https://pytorch.org/docs/stable/generated/torch.squeeze.html)"
      ]
    },
    {
      "cell_type": "code",
      "execution_count": null,
      "id": "8afe0584-4e7c-49c6-8e7f-f2cc15149096",
      "metadata": {
        "colab": {
          "base_uri": "https://localhost:8080/"
        },
        "id": "8afe0584-4e7c-49c6-8e7f-f2cc15149096",
        "outputId": "f90d76d6-aad7-4b15-a737-87b6ac97b1e3"
      },
      "outputs": [
        {
          "output_type": "stream",
          "name": "stdout",
          "text": [
            "Previous shape: torch.Size([224, 224, 3])\n",
            "New shape: torch.Size([3, 224, 224])\n"
          ]
        }
      ],
      "source": [
        "# torch.permute - rearranges the dimensions of a target tensor in a specified order\n",
        "# Note that channels here is in the 2nd index, not the first.\n",
        "tensor_original = torch.rand(size=(224, 224, 3)) # [height, width, colour_channels]\n",
        "\n",
        "# Permute the original tensor to rearrange the axis (or dim) order\n",
        "tensor_permuted = tensor_original.permute(2, 0, 1) # shifts axis 0->1, 1->2, 2->0\n",
        "\n",
        "print(f\"Previous shape: {tensor_original.shape}\")\n",
        "print(f\"New shape: {tensor_permuted.shape}\") # [colour_channels, height, width]"
      ]
    },
    {
      "cell_type": "code",
      "execution_count": null,
      "id": "85157179-2ecc-4c6f-aa6e-f3a619cee3bd",
      "metadata": {
        "colab": {
          "base_uri": "https://localhost:8080/"
        },
        "id": "85157179-2ecc-4c6f-aa6e-f3a619cee3bd",
        "outputId": "21067812-0766-45ce-cf6c-a151226d9ec3"
      },
      "outputs": [
        {
          "output_type": "stream",
          "name": "stdout",
          "text": [
            "Previous shape: torch.Size([2, 3])\n",
            "New shape: torch.Size([3, 2])\n"
          ]
        },
        {
          "output_type": "execute_result",
          "data": {
            "text/plain": [
              "(tensor([[0.9079, 0.6257, 0.7511],\n",
              "         [0.1248, 0.4034, 0.1907]]), tensor([[0.9079, 0.1248],\n",
              "         [0.6257, 0.4034],\n",
              "         [0.7511, 0.1907]]))"
            ]
          },
          "metadata": {},
          "execution_count": 83
        }
      ],
      "source": [
        "# Let's repeat the above example but with a simple tensor\n",
        "tensor_original2 = torch.rand(size=(2, 3))\n",
        "\n",
        "# Permute the original tensor to rearrange the axis (or dim) order\n",
        "tensor_permuted2 = tensor_original2.permute(1, 0) # shifts axis 0->1, 1->0\n",
        "\n",
        "print(f\"Previous shape: {tensor_original2.shape}\")\n",
        "print(f\"New shape: {tensor_permuted2.shape}\")\n",
        "\n",
        "tensor_original2, tensor_permuted2"
      ]
    },
    {
      "cell_type": "code",
      "execution_count": null,
      "id": "5662da1f-a3fb-44e6-8cb4-cd7fc6e94042",
      "metadata": {
        "colab": {
          "base_uri": "https://localhost:8080/"
        },
        "id": "5662da1f-a3fb-44e6-8cb4-cd7fc6e94042",
        "outputId": "fa205588-74fb-4351-d209-ccdb244b061a"
      },
      "outputs": [
        {
          "output_type": "execute_result",
          "data": {
            "text/plain": [
              "(tensor(9999.), tensor(9999.))"
            ]
          },
          "metadata": {},
          "execution_count": 84
        }
      ],
      "source": [
        "# torch.permute returns a view of the original\n",
        "assert tensor_permuted2[0,1] == tensor_original2[1,0]\n",
        "tensor_original2[0, 1] = 9999\n",
        "tensor_original2[0,1], tensor_permuted2[1,0]"
      ]
    },
    {
      "cell_type": "markdown",
      "id": "d44dc72a-9fcc-4e63-ac00-09dddf28f5a8",
      "metadata": {
        "id": "d44dc72a-9fcc-4e63-ac00-09dddf28f5a8"
      },
      "source": [
        "## Indexing (selecting data from tensors)\n",
        "\n",
        "Indexing with PyTorch is similar to indexing with NumPy."
      ]
    },
    {
      "cell_type": "code",
      "execution_count": null,
      "id": "662cc942-92bf-46d2-8416-617969bf715a",
      "metadata": {
        "colab": {
          "base_uri": "https://localhost:8080/"
        },
        "id": "662cc942-92bf-46d2-8416-617969bf715a",
        "outputId": "fd14d7f2-dd24-4f18-ec44-fd2dc4c70aa3"
      },
      "outputs": [
        {
          "output_type": "execute_result",
          "data": {
            "text/plain": [
              "(tensor([[[1, 2, 3],\n",
              "          [4, 5, 6],\n",
              "          [7, 8, 9]]]), torch.Size([1, 3, 3]))"
            ]
          },
          "metadata": {},
          "execution_count": 85
        }
      ],
      "source": [
        "# Create a tensor\n",
        "import torch\n",
        "tensor = torch.arange(1, 10).reshape(1, 3, 3)\n",
        "tensor, tensor.shape"
      ]
    },
    {
      "cell_type": "code",
      "execution_count": null,
      "id": "66f3a859-3463-4dac-b5a1-9e5ecfe5abc8",
      "metadata": {
        "colab": {
          "base_uri": "https://localhost:8080/"
        },
        "id": "66f3a859-3463-4dac-b5a1-9e5ecfe5abc8",
        "outputId": "8a37b458-ccca-4f65-9f82-0a11ac7d6192"
      },
      "outputs": [
        {
          "output_type": "execute_result",
          "data": {
            "text/plain": [
              "tensor([[1, 2, 3],\n",
              "        [4, 5, 6],\n",
              "        [7, 8, 9]])"
            ]
          },
          "metadata": {},
          "execution_count": 86
        }
      ],
      "source": [
        "# Let's index on our new tensor\n",
        "tensor[0]"
      ]
    },
    {
      "cell_type": "code",
      "execution_count": null,
      "id": "a831e24f-fa70-4815-92a6-fd58a21ee69d",
      "metadata": {
        "colab": {
          "base_uri": "https://localhost:8080/"
        },
        "id": "a831e24f-fa70-4815-92a6-fd58a21ee69d",
        "outputId": "e822062c-04d4-45ce-c4b6-783a66b11355"
      },
      "outputs": [
        {
          "output_type": "execute_result",
          "data": {
            "text/plain": [
              "tensor([1, 2, 3])"
            ]
          },
          "metadata": {},
          "execution_count": 87
        }
      ],
      "source": [
        "# Remember that this is a 3 dimensional matrix, you can test this by running tensor.ndim. Let's index on the middle bracket (dim=1)\n",
        "tmp1 = tensor[0][0]\n",
        "tmp1"
      ]
    },
    {
      "cell_type": "markdown",
      "id": "78509a7b-c6e4-46a3-acbd-e10e447c0e62",
      "metadata": {
        "id": "78509a7b-c6e4-46a3-acbd-e10e447c0e62"
      },
      "source": [
        "`tensor[0][0]` will extract the first element from the first element! Which happens to be the above vector."
      ]
    },
    {
      "cell_type": "code",
      "execution_count": null,
      "id": "23b7666d-7d75-4ae7-8f48-3e5bb209fa15",
      "metadata": {
        "colab": {
          "base_uri": "https://localhost:8080/"
        },
        "id": "23b7666d-7d75-4ae7-8f48-3e5bb209fa15",
        "outputId": "43df077a-cbb0-4981-9bed-809c09cdeeb7"
      },
      "outputs": [
        {
          "output_type": "execute_result",
          "data": {
            "text/plain": [
              "tensor(5)"
            ]
          },
          "metadata": {},
          "execution_count": 88
        }
      ],
      "source": [
        "# Let's index on the most inner bracket (last dimension)\n",
        "tensor[0][1][1]"
      ]
    },
    {
      "cell_type": "markdown",
      "id": "4c9fed99-8570-4c58-8540-ce9f342e8f0d",
      "metadata": {
        "id": "4c9fed99-8570-4c58-8540-ce9f342e8f0d"
      },
      "source": [
        "Why do you think `tensor[0][1][1]` extracted only one element? ~"
      ]
    },
    {
      "cell_type": "code",
      "execution_count": null,
      "id": "c8eba3c4-c217-450e-a302-3e1ee2818ef2",
      "metadata": {
        "colab": {
          "base_uri": "https://localhost:8080/"
        },
        "id": "c8eba3c4-c217-450e-a302-3e1ee2818ef2",
        "outputId": "4afbad3f-f390-4798-f127-707d5c1c559a"
      },
      "outputs": [
        {
          "output_type": "execute_result",
          "data": {
            "text/plain": [
              "tensor([[1, 2, 3]])"
            ]
          },
          "metadata": {},
          "execution_count": 89
        }
      ],
      "source": [
        "# You can also use \":\" to select \"all\" of a target dimension\n",
        "tmp2 = tensor[:, 0]\n",
        "tmp2"
      ]
    },
    {
      "cell_type": "code",
      "execution_count": null,
      "id": "02f0f3e5-b47d-4eca-8f97-81347f495e88",
      "metadata": {
        "colab": {
          "base_uri": "https://localhost:8080/"
        },
        "id": "02f0f3e5-b47d-4eca-8f97-81347f495e88",
        "outputId": "3e028b8b-e33b-4a14-f2d7-cbe2a88e6b9b"
      },
      "outputs": [
        {
          "output_type": "execute_result",
          "data": {
            "text/plain": [
              "(torch.Size([3]), torch.Size([1, 3]))"
            ]
          },
          "metadata": {},
          "execution_count": 90
        }
      ],
      "source": [
        "# Why do you think the shapes are different?\n",
        "tmp1.shape, tmp2.shape"
      ]
    },
    {
      "cell_type": "code",
      "execution_count": null,
      "id": "9803e065-6a52-432e-ab9c-cfe3384436fc",
      "metadata": {
        "colab": {
          "base_uri": "https://localhost:8080/"
        },
        "id": "9803e065-6a52-432e-ab9c-cfe3384436fc",
        "outputId": "51342062-cd79-4979-b5b8-a7ac368ba946"
      },
      "outputs": [
        {
          "output_type": "execute_result",
          "data": {
            "text/plain": [
              "(tensor([[[1, 2, 3],\n",
              "          [4, 5, 6],\n",
              "          [7, 8, 9]]]), torch.Size([1, 3, 3]))"
            ]
          },
          "metadata": {},
          "execution_count": 91
        }
      ],
      "source": [
        "# recall that tensor is..\n",
        "tensor, tensor.shape"
      ]
    },
    {
      "cell_type": "code",
      "execution_count": null,
      "id": "514124e1-7410-44cc-997e-9030aee3531b",
      "metadata": {
        "colab": {
          "base_uri": "https://localhost:8080/"
        },
        "id": "514124e1-7410-44cc-997e-9030aee3531b",
        "outputId": "e196481c-6357-40ee-aa54-08c4d25088b3"
      },
      "outputs": [
        {
          "output_type": "execute_result",
          "data": {
            "text/plain": [
              "tensor([[2, 5, 8]])"
            ]
          },
          "metadata": {},
          "execution_count": 92
        }
      ],
      "source": [
        "# Get all values of 0th and 1st dimensions but only index 1 of 2nd dimension\n",
        "tensor[:, :, 1]"
      ]
    },
    {
      "cell_type": "code",
      "execution_count": null,
      "id": "e334d71a-04f2-47f3-9ebd-920fbd93dfaa",
      "metadata": {
        "colab": {
          "base_uri": "https://localhost:8080/"
        },
        "id": "e334d71a-04f2-47f3-9ebd-920fbd93dfaa",
        "outputId": "df7bd3e4-0904-4c98-bbfa-54ff2c8135bd"
      },
      "outputs": [
        {
          "output_type": "execute_result",
          "data": {
            "text/plain": [
              "tensor([5])"
            ]
          },
          "metadata": {},
          "execution_count": 93
        }
      ],
      "source": [
        "# Get all values of the 0 dimension but only the 1 index value of 1st and 2nd dimension\n",
        "tensor[:, 1, 1]"
      ]
    },
    {
      "cell_type": "code",
      "execution_count": null,
      "id": "7edfaef4-29f2-45f3-b388-b71013ad6812",
      "metadata": {
        "colab": {
          "base_uri": "https://localhost:8080/"
        },
        "id": "7edfaef4-29f2-45f3-b388-b71013ad6812",
        "outputId": "aecad119-5bae-468a-d842-b3bec02642d7"
      },
      "outputs": [
        {
          "output_type": "execute_result",
          "data": {
            "text/plain": [
              "tensor([1, 2, 3])"
            ]
          },
          "metadata": {},
          "execution_count": 94
        }
      ],
      "source": [
        "# Get index 0 of 0th and 1st dimension and all values of 2nd dimension\n",
        "tensor[0, 0, :]"
      ]
    },
    {
      "cell_type": "code",
      "execution_count": null,
      "id": "564efb69-90ad-4ad2-bd78-df17e5c37dc9",
      "metadata": {
        "colab": {
          "base_uri": "https://localhost:8080/"
        },
        "id": "564efb69-90ad-4ad2-bd78-df17e5c37dc9",
        "outputId": "b9f872b1-c8e5-4f3a-905b-a04e0640cdac"
      },
      "outputs": [
        {
          "output_type": "stream",
          "name": "stdout",
          "text": [
            "tensor(9)\n",
            "tensor([[3, 6, 9]])\n"
          ]
        }
      ],
      "source": [
        "# Index on x to return 9\n",
        "print(tensor[0][2][2])\n",
        "\n",
        "# Index on x to return 3, 6, 9\n",
        "print(tensor[:, :, 2])"
      ]
    },
    {
      "cell_type": "markdown",
      "id": "cba53835-91bc-41c8-a79c-4ec3c4446c31",
      "metadata": {
        "id": "cba53835-91bc-41c8-a79c-4ec3c4446c31"
      },
      "source": [
        "## PyTorch tensors & NumPy\n",
        "\n",
        "NumPy is a popular scientific Python numerical computing library. You may have already been introduced to it in a previous lab.\n",
        "\n",
        "And because of this, PyTorch has functionality to interact with it.\n",
        "\n",
        "* Data in NumPy, want in PyTorch tensor -> `torch.from_numpy(ndarray)`\n",
        "* PyTorch tensor -> NumPy -> `torch.Tensor.numpy()`\n",
        "\n",
        "There are a few issues to consider, however:\n",
        "* plotting libraries often don't like torch tensor format and prefer data in numpy array format\n",
        "* default dataype for numpy is float64, for pytorch it's float32. This can cause issues if not accounted for.\n",
        "* Classical Numpy doesn't like data on GPU (there are existing libraries that resolve this, however). Often you will need to place data on the cpu before conduction operations in Numpy"
      ]
    },
    {
      "cell_type": "code",
      "execution_count": null,
      "id": "aecc8ac7-f4b6-48bd-bac3-c032d29ac1f3",
      "metadata": {
        "colab": {
          "base_uri": "https://localhost:8080/"
        },
        "id": "aecc8ac7-f4b6-48bd-bac3-c032d29ac1f3",
        "outputId": "fa57ff58-31d2-4e41-aaef-11d2dcc26798"
      },
      "outputs": [
        {
          "output_type": "execute_result",
          "data": {
            "text/plain": [
              "(array([1., 2., 3., 4., 5., 6., 7.]),\n",
              " tensor([1., 2., 3., 4., 5., 6., 7.], dtype=torch.float64),\n",
              " tensor([[0.7470, 0.9347, 0.2198, 0.7437, 0.3281, 0.4993, 0.4606, 0.3785]]))"
            ]
          },
          "metadata": {},
          "execution_count": 96
        }
      ],
      "source": [
        "# NumPy array to tensor\n",
        "import torch\n",
        "import numpy as np\n",
        "\n",
        "array = np.arange(1.0, 8.0)\n",
        "tensor = torch.from_numpy(array) # warning: when converting from numpy -> pytorch, pytorch reflects numpy's default datatype of float64 unless specified otherwise\n",
        "tensor_fromTorch = torch.rand(1,8)\n",
        "array, tensor, tensor_fromTorch"
      ]
    },
    {
      "cell_type": "code",
      "execution_count": null,
      "id": "f1826270-c7cf-4633-a514-2fb411b578d9",
      "metadata": {
        "colab": {
          "base_uri": "https://localhost:8080/"
        },
        "id": "f1826270-c7cf-4633-a514-2fb411b578d9",
        "outputId": "07aff589-d38b-4e47-c9d6-2a8e1fa7ce84"
      },
      "outputs": [
        {
          "output_type": "execute_result",
          "data": {
            "text/plain": [
              "(torch.float64, dtype('float64'), torch.float32)"
            ]
          },
          "metadata": {},
          "execution_count": 97
        }
      ],
      "source": [
        "tensor.dtype, array.dtype, tensor_fromTorch.dtype"
      ]
    },
    {
      "cell_type": "code",
      "execution_count": null,
      "id": "eb99e297-41b8-4398-abd4-d81b7929e2c6",
      "metadata": {
        "colab": {
          "base_uri": "https://localhost:8080/"
        },
        "id": "eb99e297-41b8-4398-abd4-d81b7929e2c6",
        "outputId": "87ce75fc-06db-486f-9e0c-156cf8368fdc"
      },
      "outputs": [
        {
          "output_type": "execute_result",
          "data": {
            "text/plain": [
              "(array([2., 3., 4., 5., 6., 7., 8.]),\n",
              " tensor([1., 2., 3., 4., 5., 6., 7.], dtype=torch.float64))"
            ]
          },
          "metadata": {},
          "execution_count": 98
        }
      ],
      "source": [
        "# Change the value of array, what will this do to `tensor`?\n",
        "array = array + 1\n",
        "array, tensor"
      ]
    },
    {
      "cell_type": "markdown",
      "id": "951f0366-7a2d-4a9a-a8c8-91b479e06d05",
      "metadata": {
        "id": "951f0366-7a2d-4a9a-a8c8-91b479e06d05"
      },
      "source": [
        "#### So, changing the array (the original) does not change its torch copy! This is not a 'view'\n",
        "\n",
        "##### Now, let's try to convert from pytorch to numpy"
      ]
    },
    {
      "cell_type": "code",
      "execution_count": null,
      "id": "8e49d2e1-2f1a-4641-b383-b10c143c77b0",
      "metadata": {
        "colab": {
          "base_uri": "https://localhost:8080/"
        },
        "id": "8e49d2e1-2f1a-4641-b383-b10c143c77b0",
        "outputId": "2fa9fb6b-fd73-4dd4-abd2-7cab2a58c3c1"
      },
      "outputs": [
        {
          "output_type": "execute_result",
          "data": {
            "text/plain": [
              "(tensor([1., 1., 1., 1., 1., 1., 1.]),\n",
              " array([1., 1., 1., 1., 1., 1., 1.], dtype=float32))"
            ]
          },
          "metadata": {},
          "execution_count": 99
        }
      ],
      "source": [
        "# Tensor to NumPy array\n",
        "tensor = torch.ones(7)\n",
        "numpy_tensor = tensor.numpy()\n",
        "tensor, numpy_tensor"
      ]
    },
    {
      "cell_type": "code",
      "execution_count": null,
      "id": "4f0e5052-e1aa-44e2-87d2-ec39ed094668",
      "metadata": {
        "colab": {
          "base_uri": "https://localhost:8080/"
        },
        "id": "4f0e5052-e1aa-44e2-87d2-ec39ed094668",
        "outputId": "7a641c0e-31d4-4843-da15-61208e5b92c9"
      },
      "outputs": [
        {
          "output_type": "execute_result",
          "data": {
            "text/plain": [
              "(torch.float32, dtype('float32'), dtype('float64'))"
            ]
          },
          "metadata": {},
          "execution_count": 100
        }
      ],
      "source": [
        "numpy = np.arange(1.0, 8.0)\n",
        "tensor.dtype, numpy_tensor.dtype, numpy.dtype"
      ]
    },
    {
      "cell_type": "code",
      "execution_count": null,
      "id": "2090e64b-4c99-4e81-852e-0b7b5d45655f",
      "metadata": {
        "colab": {
          "base_uri": "https://localhost:8080/"
        },
        "id": "2090e64b-4c99-4e81-852e-0b7b5d45655f",
        "outputId": "c4eefe13-68df-4104-9338-62f6ac303163"
      },
      "outputs": [
        {
          "output_type": "execute_result",
          "data": {
            "text/plain": [
              "(tensor([2., 2., 2., 2., 2., 2., 2.]),\n",
              " array([1., 1., 1., 1., 1., 1., 1.], dtype=float32))"
            ]
          },
          "metadata": {},
          "execution_count": 101
        }
      ],
      "source": [
        "# Change the tensor, what happens to `numpy_tensor`?\n",
        "tensor = tensor + 1\n",
        "tensor, numpy_tensor"
      ]
    },
    {
      "cell_type": "markdown",
      "id": "66fd3ea6-ad92-45e1-994b-4ec729cc6ba6",
      "metadata": {
        "id": "66fd3ea6-ad92-45e1-994b-4ec729cc6ba6"
      },
      "source": [
        "#### Again, changing the torch tensor (the original) does not change its numpy copy! This is not a 'view'\n"
      ]
    },
    {
      "cell_type": "markdown",
      "id": "c67888fa-460b-434d-9001-949a979989f3",
      "metadata": {
        "id": "c67888fa-460b-434d-9001-949a979989f3"
      },
      "source": [
        "## Reproducibility (trying to take random out of random)\n",
        "\n",
        "In short how a neural network learns:\n",
        "\n",
        "`start with random weight numbers -> tensor operations -> update random weight numbers to try and make them better representations of the data (and thus reduce the discrepancy between ground truth and prediction) -> again -> again -> again...`\n",
        "\n",
        "To reduce the randomness in neural networks, PyTorch comes the concept of a **random seed**. This is crucial if we'd like to reproduce someone else's model outputs. Since the random initialisation of their weights will NOT be the same as ours.\n",
        "\n",
        "Essentially what the random seed does is \"standardizes\" the randomness. The most common seed is 42, an homage to Douglas Adams answer to the question of life, the universe and everything!\n"
      ]
    },
    {
      "cell_type": "code",
      "execution_count": null,
      "id": "d52dc318-bdb8-4c36-82cc-efa716b3ab91",
      "metadata": {
        "colab": {
          "base_uri": "https://localhost:8080/"
        },
        "id": "d52dc318-bdb8-4c36-82cc-efa716b3ab91",
        "outputId": "59e8c446-8945-4e72-b7f2-f91bf0d0c768"
      },
      "outputs": [
        {
          "output_type": "stream",
          "name": "stdout",
          "text": [
            "tensor([[0.5310, 0.8694, 0.0504, 0.2471],\n",
            "        [0.7902, 0.6499, 0.8205, 0.0168],\n",
            "        [0.3936, 0.0691, 0.1759, 0.1173]])\n",
            "tensor([[0.8809, 0.4230, 0.9125, 0.5186],\n",
            "        [0.3454, 0.1592, 0.2426, 0.8870],\n",
            "        [0.0237, 0.7179, 0.4105, 0.9617]])\n",
            "tensor([[False, False, False, False],\n",
            "        [False, False, False, False],\n",
            "        [False, False, False, False]])\n"
          ]
        }
      ],
      "source": [
        "import torch\n",
        "\n",
        "# Create two random tensors\n",
        "random_tensor_A = torch.rand(3, 4)\n",
        "random_tensor_B = torch.rand(3, 4)\n",
        "\n",
        "print(random_tensor_A)\n",
        "print(random_tensor_B)\n",
        "print(random_tensor_A == random_tensor_B)"
      ]
    },
    {
      "cell_type": "code",
      "execution_count": null,
      "id": "8f3dc2d6-5f5a-41f2-9cfc-8d60c14c5b08",
      "metadata": {
        "colab": {
          "base_uri": "https://localhost:8080/"
        },
        "id": "8f3dc2d6-5f5a-41f2-9cfc-8d60c14c5b08",
        "outputId": "033090ef-b283-4539-c22d-0cf31b6cea64"
      },
      "outputs": [
        {
          "output_type": "stream",
          "name": "stdout",
          "text": [
            "tensor([[0.8823, 0.9150, 0.3829, 0.9593],\n",
            "        [0.3904, 0.6009, 0.2566, 0.7936],\n",
            "        [0.9408, 0.1332, 0.9346, 0.5936]])\n",
            "tensor([[0.8823, 0.9150, 0.3829, 0.9593],\n",
            "        [0.3904, 0.6009, 0.2566, 0.7936],\n",
            "        [0.9408, 0.1332, 0.9346, 0.5936]])\n",
            "tensor([[True, True, True, True],\n",
            "        [True, True, True, True],\n",
            "        [True, True, True, True]])\n"
          ]
        }
      ],
      "source": [
        "# Let's make some random but reproducible tensors\n",
        "import torch\n",
        "\n",
        "# Set the random seed\n",
        "RANDOM_SEED = 42               # The answer to life, the universe, and everything!\n",
        "torch.manual_seed(RANDOM_SEED)\n",
        "random_tensor_C = torch.rand(3, 4) # This will produce a random tensor of shape 3x4\n",
        "\n",
        "torch.manual_seed(RANDOM_SEED)\n",
        "random_tensor_D = torch.rand(3, 4) # This will also produce a random tensor of shape 3x4, but will be exactly equal to the randomness of the previous tensor. And thus both are equal!\n",
        "\n",
        "print(random_tensor_C)\n",
        "print(random_tensor_D)\n",
        "print(random_tensor_C == random_tensor_D)"
      ]
    },
    {
      "cell_type": "markdown",
      "id": "5bbf76e8-7005-47e6-a55e-4224b7ea2d76",
      "metadata": {
        "id": "5bbf76e8-7005-47e6-a55e-4224b7ea2d76"
      },
      "source": [
        "### Extra resources for reproducibility:\n",
        "* https://pytorch.org/docs/stable/notes/randomness.html\n",
        "* https://en.wikipedia.org/wiki/Random_seed"
      ]
    },
    {
      "cell_type": "markdown",
      "id": "ddd940e1-0e01-4993-a5ae-1b58f702972f",
      "metadata": {
        "id": "ddd940e1-0e01-4993-a5ae-1b58f702972f"
      },
      "source": [
        "\n",
        "## Running tensors and PyTorch objects on the GPUs (and making faster computations)\n",
        "\n",
        " GPUs = faster computation on numbers, thanks to CUDA + NVIDIA hardware + PyTorch working behind the scenes to make everything hunky dory (good)."
      ]
    },
    {
      "cell_type": "markdown",
      "id": "b3b8bed0-22fe-46f5-a13d-2f79b589e07a",
      "metadata": {
        "id": "b3b8bed0-22fe-46f5-a13d-2f79b589e07a"
      },
      "source": [
        "### 1. Getting a GPU\n",
        "\n",
        "1. Easiest and most accessible - Use Google Colab for a free GPU (options to upgrade as well). There are other alternative that you may like to explore such as Kaggle, Gradient, HuggingFace, etc...\n",
        "2. Some of the labs on campus do have computers equipped with GPUs.\n",
        "3. Use your own GPU - takes a little bit of setup and requires the significant investment of purchasing a GPU, there's lots of options..., see this post for what option to get: https://timdettmers.com/2020/09/07/which-gpu-for-deep-learning/\n",
        "4. Use cloud computing - GCP, AWS, Azure, these services allow you to rent computers on the cloud and access them, however this will require money!\n",
        "\n",
        "For 3, 4 PyTorch + GPU drivers (CUDA) takes a little bit of setting up, to do this, refer to PyTorch setup documentation: https://pytorch.org/get-started/locally/"
      ]
    },
    {
      "cell_type": "code",
      "execution_count": null,
      "id": "4d9c8111-5bac-43af-8294-8e1284772a6f",
      "metadata": {
        "colab": {
          "base_uri": "https://localhost:8080/"
        },
        "id": "4d9c8111-5bac-43af-8294-8e1284772a6f",
        "outputId": "e6bd7263-33fd-4755-c7ae-c66b68247f9b"
      },
      "outputs": [
        {
          "output_type": "stream",
          "name": "stdout",
          "text": [
            "NVIDIA-SMI has failed because it couldn't communicate with the NVIDIA driver. Make sure that the latest NVIDIA driver is installed and running.\n",
            "\n"
          ]
        }
      ],
      "source": [
        "!nvidia-smi"
      ]
    },
    {
      "cell_type": "markdown",
      "id": "744338be-7f1c-427c-b596-8497b82e5dca",
      "metadata": {
        "id": "744338be-7f1c-427c-b596-8497b82e5dca"
      },
      "source": [
        "### 2. Check for GPU access with PyTorch"
      ]
    },
    {
      "cell_type": "code",
      "execution_count": null,
      "id": "c843d105-d14e-45ef-8f94-adcedf4ff892",
      "metadata": {
        "colab": {
          "base_uri": "https://localhost:8080/"
        },
        "id": "c843d105-d14e-45ef-8f94-adcedf4ff892",
        "outputId": "34ba4c90-eba6-4223-9c8b-f4fc7ae05951"
      },
      "outputs": [
        {
          "output_type": "execute_result",
          "data": {
            "text/plain": [
              "False"
            ]
          },
          "metadata": {},
          "execution_count": 105
        }
      ],
      "source": [
        "# Check for GPU access with PyTorch\n",
        "import torch\n",
        "torch.cuda.is_available()"
      ]
    },
    {
      "cell_type": "markdown",
      "id": "b438007a-9f88-4fe6-9570-92979e9fabca",
      "metadata": {
        "id": "b438007a-9f88-4fe6-9570-92979e9fabca"
      },
      "source": [
        "For PyTorch since it's capable of running compute on the GPU or CPU, it's best practice to setup device agnostic code: https://pytorch.org/docs/stable/notes/cuda.html#best-practices\n",
        "\n",
        "E.g. run on GPU if available, else default to CPU"
      ]
    },
    {
      "cell_type": "code",
      "execution_count": null,
      "id": "3da3394d-f57e-4f87-8b31-6d400b3fee0b",
      "metadata": {
        "colab": {
          "base_uri": "https://localhost:8080/",
          "height": 35
        },
        "id": "3da3394d-f57e-4f87-8b31-6d400b3fee0b",
        "outputId": "da7c22a1-7938-4b7d-800b-038597a33727"
      },
      "outputs": [
        {
          "output_type": "execute_result",
          "data": {
            "text/plain": [
              "'cpu'"
            ],
            "application/vnd.google.colaboratory.intrinsic+json": {
              "type": "string"
            }
          },
          "metadata": {},
          "execution_count": 106
        }
      ],
      "source": [
        "# Setup device agnostic code\n",
        "device = \"cuda\" if torch.cuda.is_available() else \"cpu\"\n",
        "device"
      ]
    },
    {
      "cell_type": "code",
      "execution_count": null,
      "id": "9168eb8a-9915-4a25-bfb3-ed76ed7fab02",
      "metadata": {
        "colab": {
          "base_uri": "https://localhost:8080/"
        },
        "id": "9168eb8a-9915-4a25-bfb3-ed76ed7fab02",
        "outputId": "23a1bff5-604b-451b-cdf0-94a6b9db8aba"
      },
      "outputs": [
        {
          "output_type": "stream",
          "name": "stderr",
          "text": [
            "/usr/local/lib/python3.8/dist-packages/torch/cuda/__init__.py:497: UserWarning: Can't initialize NVML\n",
            "  warnings.warn(\"Can't initialize NVML\")\n"
          ]
        },
        {
          "output_type": "execute_result",
          "data": {
            "text/plain": [
              "0"
            ]
          },
          "metadata": {},
          "execution_count": 107
        }
      ],
      "source": [
        "# Count number of devices, ie the number of GPUs available to you\n",
        "torch.cuda.device_count()"
      ]
    },
    {
      "cell_type": "markdown",
      "id": "84349677-1e0d-405c-b30b-846e1cab885b",
      "metadata": {
        "id": "84349677-1e0d-405c-b30b-846e1cab885b"
      },
      "source": [
        "## 3. Putting tensors (and models) on the GPU\n",
        "\n",
        "The reason we want our tensors/models on the GPU is because using a GPU results in faster computations."
      ]
    },
    {
      "cell_type": "code",
      "execution_count": null,
      "id": "d29f7e1e-7f25-46dd-9d45-77d77f3909d4",
      "metadata": {
        "colab": {
          "base_uri": "https://localhost:8080/"
        },
        "id": "d29f7e1e-7f25-46dd-9d45-77d77f3909d4",
        "outputId": "4d5dfd0a-6e37-4e8a-fd12-5286e452def1"
      },
      "outputs": [
        {
          "output_type": "stream",
          "name": "stdout",
          "text": [
            "tensor([1, 2, 3]) cpu\n"
          ]
        }
      ],
      "source": [
        "# Create a tensor (default on the CPU)\n",
        "tensor = torch.tensor([1, 2, 3])\n",
        "\n",
        "# Tensor not on GPU\n",
        "print(tensor, tensor.device)"
      ]
    },
    {
      "cell_type": "code",
      "execution_count": null,
      "id": "73082462-4eb9-4384-a423-fb69c1a3834b",
      "metadata": {
        "colab": {
          "base_uri": "https://localhost:8080/"
        },
        "id": "73082462-4eb9-4384-a423-fb69c1a3834b",
        "outputId": "2353fd6d-62ce-47e8-a9c6-c594344cc251"
      },
      "outputs": [
        {
          "output_type": "execute_result",
          "data": {
            "text/plain": [
              "tensor([1, 2, 3])"
            ]
          },
          "metadata": {},
          "execution_count": 109
        }
      ],
      "source": [
        "# Move tensor to GPU (if available)\n",
        "tensor_on_gpu = tensor.to(device)\n",
        "tensor_on_gpu"
      ]
    },
    {
      "cell_type": "markdown",
      "id": "3a96d24a-6b66-4032-8978-d9a4a97da5f5",
      "metadata": {
        "id": "3a96d24a-6b66-4032-8978-d9a4a97da5f5"
      },
      "source": [
        "### 4. Moving tensors back to the CPU\n",
        "Recall that numpy doesn't like data on the GPU, the code below **should** produce an error!\n"
      ]
    },
    {
      "cell_type": "code",
      "execution_count": null,
      "id": "6dabf06a-9853-41da-8b17-afdda1371456",
      "metadata": {
        "colab": {
          "base_uri": "https://localhost:8080/"
        },
        "id": "6dabf06a-9853-41da-8b17-afdda1371456",
        "outputId": "e8bc069f-c840-490f-93ff-2ec21aae8064"
      },
      "outputs": [
        {
          "output_type": "execute_result",
          "data": {
            "text/plain": [
              "array([1, 2, 3])"
            ]
          },
          "metadata": {},
          "execution_count": 110
        }
      ],
      "source": [
        "# If tensor is on GPU, can't transform it to NumPy\n",
        "tensor_on_gpu.numpy()"
      ]
    },
    {
      "cell_type": "code",
      "execution_count": null,
      "id": "220f96a5-dfb5-4b7f-8327-2b0d7f28c1ad",
      "metadata": {
        "colab": {
          "base_uri": "https://localhost:8080/"
        },
        "id": "220f96a5-dfb5-4b7f-8327-2b0d7f28c1ad",
        "outputId": "9427dc92-7481-4c60-99cf-77fb5166f3c6"
      },
      "outputs": [
        {
          "output_type": "execute_result",
          "data": {
            "text/plain": [
              "array([1, 2, 3])"
            ]
          },
          "metadata": {},
          "execution_count": 111
        }
      ],
      "source": [
        "# To fix the GPU tensor with NumPy issue, we can first set it to the CPU\n",
        "tensor_back_on_cpu = tensor_on_gpu.cpu().numpy()\n",
        "tensor_back_on_cpu"
      ]
    },
    {
      "cell_type": "code",
      "execution_count": null,
      "id": "8c762b0d-a9dc-4fe8-b36f-049529ffe4a3",
      "metadata": {
        "colab": {
          "base_uri": "https://localhost:8080/"
        },
        "id": "8c762b0d-a9dc-4fe8-b36f-049529ffe4a3",
        "outputId": "12de872a-df18-4862-e8fe-7c9e474acb5e"
      },
      "outputs": [
        {
          "output_type": "execute_result",
          "data": {
            "text/plain": [
              "tensor([1, 2, 3])"
            ]
          },
          "metadata": {},
          "execution_count": 112
        }
      ],
      "source": [
        "tensor_on_gpu"
      ]
    },
    {
      "cell_type": "code",
      "execution_count": null,
      "id": "57ab9855-dae0-4980-a384-3c673afb6715",
      "metadata": {
        "id": "57ab9855-dae0-4980-a384-3c673afb6715"
      },
      "outputs": [],
      "source": []
    },
    {
      "cell_type": "markdown",
      "id": "b46acdf3-c600-4013-b336-2972f176c7b6",
      "metadata": {
        "id": "b46acdf3-c600-4013-b336-2972f176c7b6"
      },
      "source": [
        "## Exercises\n",
        "\n",
        "1. Create a random tensor with shape (7, 7).\n",
        "2. Perform a matrix multiplication on the tensor from 1 with another random tensor with shape (1, 7) (hint: you may have to transpose the second tensor).\n",
        "3. Set the random seed to 0 and do exercises 1 & 2 over again.\n",
        "4. Speaking of random seeds, we saw how to set it with torch.manual_seed() but is there a GPU equivalent? (hint: you'll need to look into the documentation for torch.cuda for this one). If there is, set the GPU random seed to 1234. **NOTE**: in practice, you will rarely need to use specific GPU version. torch.manual_seed sets the random seed for both cpu and gpu, have a look at the doc! :)\n",
        "5. Create two random tensors of shape (2, 3) and send them both to the GPU (you'll need access to a GPU for this). Set torch.manual_seed(1234) when creating the tensors (this doesn't have to be the GPU random seed).\n",
        "6. Perform a matrix multiplication on the tensors you created in 5 (again, you may have to adjust the shapes of one of the tensors).\n",
        "7. Find the maximum and minimum values of the output of 6.\n",
        "8. Find the maximum and minimum index values of the output of 6.\n",
        "9. Make a random tensor with shape (1, 1, 1, 10) and then create a new tensor with all the 1 dimensions removed to be left with a tensor of shape (10). Set the seed to 7 when you create it and print out the first tensor and its shape as well as the second tensor and its shape.\n",
        "10. Spend 1-hour going through the PyTorch basics [tutorial](https://pytorch.org/tutorials/beginner/basics/intro.html) (I'd recommend the [Quickstart](https://pytorch.org/tutorials/beginner/basics/quickstart_tutorial.html) and Tensors sections).\n",
        "11. To learn more on how a tensor can represent data, see this video: What's a tensor?\n",
        "\n"
      ]
    },
    {
      "cell_type": "markdown",
      "source": [
        "## Below is an implementation of Gradient Descent from scratch.\n",
        "Please run the code cell by cell and see if you can understand what's going on.\n",
        "Feel free to ask the demonstrators."
      ],
      "metadata": {
        "id": "c_cJoIDZheqq"
      },
      "id": "c_cJoIDZheqq"
    },
    {
      "cell_type": "markdown",
      "id": "c30f65b7-fe41-4f03-9422-fce29b08512c",
      "metadata": {
        "id": "c30f65b7-fe41-4f03-9422-fce29b08512c"
      },
      "source": [
        "### Gradient Descent from Scratch"
      ]
    },
    {
      "cell_type": "code",
      "execution_count": null,
      "id": "a3efa1d3-c786-4d98-a12b-5d0586a495b7",
      "metadata": {
        "id": "a3efa1d3-c786-4d98-a12b-5d0586a495b7"
      },
      "outputs": [],
      "source": [
        "import torch\n",
        "import matplotlib.pyplot as plt\n",
        "xs = torch.tensor([0, 1, 2, 3, 4, 5, 6, 7.])\n",
        "ys = torch.tensor([1.86, 1.31, .62, .33, .09, -.67, -1.23, -1.37])"
      ]
    },
    {
      "cell_type": "code",
      "execution_count": null,
      "id": "c9525c5d-05f9-4b5b-afe7-6d2787fee880",
      "metadata": {
        "id": "c9525c5d-05f9-4b5b-afe7-6d2787fee880"
      },
      "outputs": [],
      "source": [
        "def regression(my_x, my_m, my_b):\n",
        "    return my_m*my_x + my_b"
      ]
    },
    {
      "cell_type": "code",
      "execution_count": null,
      "id": "fd05e314-1e1f-4cdf-a359-ad1d7546f854",
      "metadata": {
        "id": "fd05e314-1e1f-4cdf-a359-ad1d7546f854"
      },
      "outputs": [],
      "source": [
        "m = torch.tensor([0.9]).requires_grad_()\n",
        "b = torch.tensor([0.1]).requires_grad_()"
      ]
    },
    {
      "cell_type": "markdown",
      "id": "b4ad5410-3b48-40e2-b2b1-672f64cdbc0d",
      "metadata": {
        "id": "b4ad5410-3b48-40e2-b2b1-672f64cdbc0d"
      },
      "source": [
        "\n",
        "\n",
        "**Step 1**: Forward pass"
      ]
    },
    {
      "cell_type": "code",
      "execution_count": null,
      "id": "b93bfa3b-d495-4b8c-a212-4db1b6ed3979",
      "metadata": {
        "colab": {
          "base_uri": "https://localhost:8080/"
        },
        "id": "b93bfa3b-d495-4b8c-a212-4db1b6ed3979",
        "outputId": "e736cbed-f7e1-4368-b6f4-32b04f952a64"
      },
      "outputs": [
        {
          "output_type": "execute_result",
          "data": {
            "text/plain": [
              "tensor([0.1000, 1.0000, 1.9000, 2.8000, 3.7000, 4.6000, 5.5000, 6.4000],\n",
              "       grad_fn=<AddBackward0>)"
            ]
          },
          "metadata": {},
          "execution_count": 4
        }
      ],
      "source": [
        "yhats = regression(xs, m, b)\n",
        "yhats"
      ]
    },
    {
      "cell_type": "markdown",
      "id": "afa6672c-456f-4bc5-98ec-9dfe917f3e9c",
      "metadata": {
        "id": "afa6672c-456f-4bc5-98ec-9dfe917f3e9c"
      },
      "source": [
        "**Step 2**: Compare $\\hat{y}$ with true $y$ to calculate cost $C$"
      ]
    },
    {
      "cell_type": "markdown",
      "id": "a98187bd-b743-4ae6-918a-790b3274c7f3",
      "metadata": {
        "id": "a98187bd-b743-4ae6-918a-790b3274c7f3"
      },
      "source": [
        "Mean squared error: $$C = \\frac{1}{n} \\sum_{i=1}^n (\\hat{y_i}-y_i)^2 $$"
      ]
    },
    {
      "cell_type": "code",
      "execution_count": null,
      "id": "084646c0-a44b-48a5-b3c2-d0981270246a",
      "metadata": {
        "id": "084646c0-a44b-48a5-b3c2-d0981270246a"
      },
      "outputs": [],
      "source": [
        "def mse(my_yhat, my_y):\n",
        "    sigma = torch.sum((my_yhat - my_y)**2)\n",
        "    return sigma/len(my_y)"
      ]
    },
    {
      "cell_type": "code",
      "execution_count": null,
      "id": "677616c7-5866-45fa-a20a-1e4e4a9e5f71",
      "metadata": {
        "colab": {
          "base_uri": "https://localhost:8080/"
        },
        "id": "677616c7-5866-45fa-a20a-1e4e4a9e5f71",
        "outputId": "82b4469e-bb4e-451d-8333-a1326484865b"
      },
      "outputs": [
        {
          "output_type": "execute_result",
          "data": {
            "text/plain": [
              "tensor(19.6755, grad_fn=<DivBackward0>)"
            ]
          },
          "metadata": {},
          "execution_count": 6
        }
      ],
      "source": [
        "C = mse(yhats, ys)\n",
        "C"
      ]
    },
    {
      "cell_type": "markdown",
      "id": "6a5b45c1-a5c9-442c-a88c-77c957350d5a",
      "metadata": {
        "id": "6a5b45c1-a5c9-442c-a88c-77c957350d5a"
      },
      "source": [
        "**Step 3**: Use autodiff to calculate gradient of $C$ w.r.t. parameters\n"
      ]
    },
    {
      "cell_type": "code",
      "execution_count": null,
      "id": "eb9ba6a9-3588-4c8d-9479-8afb081af0e6",
      "metadata": {
        "id": "eb9ba6a9-3588-4c8d-9479-8afb081af0e6"
      },
      "outputs": [],
      "source": [
        "C.backward()"
      ]
    },
    {
      "cell_type": "code",
      "execution_count": null,
      "id": "8ec0c385-9560-47cb-8490-77ad1be77466",
      "metadata": {
        "colab": {
          "base_uri": "https://localhost:8080/"
        },
        "id": "8ec0c385-9560-47cb-8490-77ad1be77466",
        "outputId": "3c07cd67-5c04-4463-e42a-b4a0d2d6fab9"
      },
      "outputs": [
        {
          "output_type": "execute_result",
          "data": {
            "text/plain": [
              "tensor([36.3050])"
            ]
          },
          "metadata": {},
          "execution_count": 8
        }
      ],
      "source": [
        "m.grad"
      ]
    },
    {
      "cell_type": "markdown",
      "id": "24fc102f-a99b-4801-a3e3-88d17de8c591",
      "metadata": {
        "id": "24fc102f-a99b-4801-a3e3-88d17de8c591"
      },
      "source": [
        "$\\frac{\\partial C}{\\partial m} = 36.3$ indicates that an increase in $m$ corresponds to a large increase in $C$."
      ]
    },
    {
      "cell_type": "code",
      "execution_count": null,
      "id": "7e95db25-6259-4104-a089-6f757f925a3b",
      "metadata": {
        "colab": {
          "base_uri": "https://localhost:8080/"
        },
        "id": "7e95db25-6259-4104-a089-6f757f925a3b",
        "outputId": "78edb0e7-4d69-40e0-cff3-c340fb91e73d"
      },
      "outputs": [
        {
          "output_type": "execute_result",
          "data": {
            "text/plain": [
              "tensor([6.2650])"
            ]
          },
          "metadata": {},
          "execution_count": 9
        }
      ],
      "source": [
        "b.grad"
      ]
    },
    {
      "cell_type": "markdown",
      "id": "87cbfc43-2816-4a96-83be-66a616a730d9",
      "metadata": {
        "id": "87cbfc43-2816-4a96-83be-66a616a730d9"
      },
      "source": [
        "Meanwhile, $\\frac{\\partial C}{\\partial b} = 6.26$ indicates that an increase in $b$ also corresponds to an increase in $C$, though much less so than $m$."
      ]
    },
    {
      "cell_type": "markdown",
      "id": "5d7c02e8-de90-488e-b8b4-06085854eed7",
      "metadata": {
        "id": "5d7c02e8-de90-488e-b8b4-06085854eed7"
      },
      "source": [
        "(Using partial derivatives derived in [*Calculus II*](https://github.com/jonkrohn/ML-foundations/blob/master/notebooks/4-calculus-ii.ipynb), we could alternatively calculate these same slopes without automatic numerical computation:)"
      ]
    },
    {
      "cell_type": "markdown",
      "id": "85c48863-8ea9-4410-b999-94b4db51ee91",
      "metadata": {
        "id": "85c48863-8ea9-4410-b999-94b4db51ee91"
      },
      "source": [
        "$$ \\frac{\\partial C}{\\partial b} = \\frac{2}{n} \\sum (\\hat{y}_i - y_i) $$"
      ]
    },
    {
      "cell_type": "code",
      "execution_count": null,
      "id": "a3f3afa6-de2e-4287-9ad6-f01845ae549b",
      "metadata": {
        "colab": {
          "base_uri": "https://localhost:8080/"
        },
        "id": "a3f3afa6-de2e-4287-9ad6-f01845ae549b",
        "outputId": "1f603f8b-c82c-4175-cf06-3b98dda6e240"
      },
      "outputs": [
        {
          "output_type": "execute_result",
          "data": {
            "text/plain": [
              "tensor(6.2650, grad_fn=<MulBackward0>)"
            ]
          },
          "metadata": {},
          "execution_count": 10
        }
      ],
      "source": [
        "2*1/len(ys)*torch.sum(yhats - ys)"
      ]
    },
    {
      "cell_type": "markdown",
      "id": "52727a92-a19f-4a4c-b0ec-910e486f2abe",
      "metadata": {
        "id": "52727a92-a19f-4a4c-b0ec-910e486f2abe"
      },
      "source": [
        "The gradient of cost, $\\nabla C$, is:"
      ]
    },
    {
      "cell_type": "code",
      "execution_count": null,
      "id": "fdab12ee-072f-4a3b-8cd0-644c0ea56c7a",
      "metadata": {
        "colab": {
          "base_uri": "https://localhost:8080/"
        },
        "id": "fdab12ee-072f-4a3b-8cd0-644c0ea56c7a",
        "outputId": "48e57df2-8ff6-47ed-d94a-fc7eed51ce8b"
      },
      "outputs": [
        {
          "output_type": "execute_result",
          "data": {
            "text/plain": [
              "tensor([[ 6.2650],\n",
              "        [36.3050]])"
            ]
          },
          "metadata": {},
          "execution_count": 11
        }
      ],
      "source": [
        "gradient = torch.tensor([[b.grad.item(), m.grad.item()]]).T\n",
        "gradient"
      ]
    },
    {
      "cell_type": "markdown",
      "id": "4e2e8de2-af64-4d70-9f30-0ebec6ea137e",
      "metadata": {
        "id": "4e2e8de2-af64-4d70-9f30-0ebec6ea137e"
      },
      "source": [
        "For convenience, model parameters are often denoted as $\\boldsymbol{\\theta}$, which, depending on the model, could be, for example, a vector, a matrix, or a collection of tensors of varying dimensions. With our simple linear model, a vector tensor will do:"
      ]
    },
    {
      "cell_type": "code",
      "execution_count": null,
      "id": "b15e90e5-4075-47e7-97d0-1b17d0d3453f",
      "metadata": {
        "colab": {
          "base_uri": "https://localhost:8080/"
        },
        "id": "b15e90e5-4075-47e7-97d0-1b17d0d3453f",
        "outputId": "ecc6f4b6-0124-4855-a558-237bca05f900"
      },
      "outputs": [
        {
          "output_type": "execute_result",
          "data": {
            "text/plain": [
              "tensor([[0.1000],\n",
              "        [0.9000]])"
            ]
          },
          "metadata": {},
          "execution_count": 12
        }
      ],
      "source": [
        "theta = torch.tensor([[b, m]]).T\n",
        "theta"
      ]
    },
    {
      "cell_type": "markdown",
      "id": "949ef13c-b82b-436a-89b4-fcf900577d83",
      "metadata": {
        "id": "949ef13c-b82b-436a-89b4-fcf900577d83"
      },
      "source": [
        "Note the gradient $\\nabla C$ could thus alternatively be denoted with respect to  $\\boldsymbol{\\theta}$ as $\\nabla_\\boldsymbol{\\theta} f(\\boldsymbol{\\theta})$.\n",
        "\n",
        "(Also, note that we're transposing $\\boldsymbol{\\theta}$ to make forthcoming tensor operations easier because of the convention in ML to transpose the gradient, $\\nabla C$.)\n",
        "\n",
        "Let's visualize the state of the most pertinent metrics in a single plot:"
      ]
    },
    {
      "cell_type": "code",
      "execution_count": null,
      "id": "08fad3d7-3227-460d-b65f-3372cfe6aa01",
      "metadata": {
        "id": "08fad3d7-3227-460d-b65f-3372cfe6aa01"
      },
      "outputs": [],
      "source": [
        "def labeled_regression_plot(my_x, my_y, my_m, my_b, my_C, include_grad=True):\n",
        "\n",
        "    title = 'Cost = {}'.format('%.3g' % my_C.item())\n",
        "    if include_grad:\n",
        "        xlabel = 'm = {}, m grad = {}'.format('%.3g' % my_m.item(), '%.3g' % my_m.grad.item())\n",
        "        ylabel = 'b = {}, b grad = {}'.format('%.3g' % my_b.item(), '%.3g' % my_b.grad.item())\n",
        "    else:\n",
        "        xlabel = 'm = {}'.format('%.3g' % my_m.item())\n",
        "        ylabel = 'b = {}'.format('%.3g' % my_b.item())\n",
        "\n",
        "    fig, ax = plt.subplots()\n",
        "\n",
        "    plt.title(title)\n",
        "    plt.ylabel(ylabel)\n",
        "    plt.xlabel(xlabel)\n",
        "\n",
        "    ax.scatter(my_x, my_y)\n",
        "\n",
        "    x_min, x_max = ax.get_xlim()\n",
        "    y_min = regression(x_min, my_m, my_b).detach().numpy()\n",
        "    y_max = regression(x_max, my_m, my_b).detach().numpy()\n",
        "\n",
        "    ax.set_xlim([x_min, x_max])\n",
        "    _ = ax.plot([x_min, x_max], [y_min, y_max], c='C01')"
      ]
    },
    {
      "cell_type": "code",
      "execution_count": null,
      "id": "6b2648c2-4899-4930-a835-e92ce78321ef",
      "metadata": {
        "colab": {
          "base_uri": "https://localhost:8080/",
          "height": 295
        },
        "id": "6b2648c2-4899-4930-a835-e92ce78321ef",
        "outputId": "63ed44e9-fbf9-43ce-937d-21d68f28f239"
      },
      "outputs": [
        {
          "output_type": "display_data",
          "data": {
            "text/plain": [
              "<Figure size 432x288 with 1 Axes>"
            ],
            "image/png": "[encoded data removed]"
          },
          "metadata": {
            "needs_background": "light"
          }
        }
      ],
      "source": [
        "labeled_regression_plot(xs, ys, m, b, C)"
      ]
    },
    {
      "cell_type": "markdown",
      "id": "44f4bba9-4887-43f9-a263-b53f9628bee6",
      "metadata": {
        "id": "44f4bba9-4887-43f9-a263-b53f9628bee6"
      },
      "source": [
        "**Step 4**: Gradient descent"
      ]
    },
    {
      "cell_type": "markdown",
      "id": "8102d96b-bf44-4197-9292-6c67f5805122",
      "metadata": {
        "id": "8102d96b-bf44-4197-9292-6c67f5805122"
      },
      "source": [
        "In the first round of training, with $\\frac{\\partial C}{\\partial m} = 36.3$ and $\\frac{\\partial C}{\\partial b} = 6.26$, the lowest hanging fruit with respect to reducing cost $C$ is to decrease the slope of the regression line, $m$. The model would also benefit from a comparatively small decrease in the $y$-intercept of the line, $b$.\n",
        "\n",
        "To control exactly how much we adjust the model parameters $\\boldsymbol{\\theta}$, we set a **learning rate**, a hyperparameter of ML models that use gradient descent (that is typically denoted with $\\alpha$):"
      ]
    },
    {
      "cell_type": "code",
      "execution_count": null,
      "id": "36463a85-aa70-40b5-ab69-a56efc103e56",
      "metadata": {
        "id": "36463a85-aa70-40b5-ab69-a56efc103e56"
      },
      "outputs": [],
      "source": [
        "lr = 0.01 # Cover rules of thumb"
      ]
    },
    {
      "cell_type": "markdown",
      "id": "c3452e0e-afb1-4337-9a8c-2637b51c9e45",
      "metadata": {
        "id": "c3452e0e-afb1-4337-9a8c-2637b51c9e45"
      },
      "source": [
        "We use the learning rate $\\alpha$ to scale the gradient, i.e., $\\alpha \\nabla C$:"
      ]
    },
    {
      "cell_type": "code",
      "execution_count": null,
      "id": "999b4ce8-6f36-4c62-9de2-7fcdc1a418ef",
      "metadata": {
        "colab": {
          "base_uri": "https://localhost:8080/"
        },
        "id": "999b4ce8-6f36-4c62-9de2-7fcdc1a418ef",
        "outputId": "a7df6567-eb43-47c6-dbcc-0609c4793c85"
      },
      "outputs": [
        {
          "output_type": "execute_result",
          "data": {
            "text/plain": [
              "tensor([[0.0626],\n",
              "        [0.3630]])"
            ]
          },
          "metadata": {},
          "execution_count": 16
        }
      ],
      "source": [
        "scaled_gradient = lr * gradient\n",
        "scaled_gradient"
      ]
    },
    {
      "cell_type": "markdown",
      "id": "410bb35c-8c38-4fe9-8b16-bebcc8b60770",
      "metadata": {
        "id": "410bb35c-8c38-4fe9-8b16-bebcc8b60770"
      },
      "source": [
        "We can now use our scaled gradient to adjust our model parameters $\\boldsymbol{\\theta}$ in directions that will reduce the model cost $C$.\n",
        "\n",
        "Since, e.g., $\\frac{\\partial C}{\\partial m} = 36.3$ indicates that increasing the slope parameter $m$ corresponds to an increase in cost $C$, we *subtract* the gradient to adjust each individual parameter in a direction that reduces cost: $$ \\boldsymbol{\\theta}' = \\boldsymbol{\\theta} - \\alpha \\nabla C$$"
      ]
    },
    {
      "cell_type": "code",
      "execution_count": null,
      "id": "266872e9-6d2d-4d21-9b7c-d227b0c35077",
      "metadata": {
        "colab": {
          "base_uri": "https://localhost:8080/"
        },
        "id": "266872e9-6d2d-4d21-9b7c-d227b0c35077",
        "outputId": "da5ab528-46fd-45ab-d93c-7321a90bb011"
      },
      "outputs": [
        {
          "output_type": "execute_result",
          "data": {
            "text/plain": [
              "tensor([[0.0374],\n",
              "        [0.5369]])"
            ]
          },
          "metadata": {},
          "execution_count": 17
        }
      ],
      "source": [
        "new_theta = theta - scaled_gradient\n",
        "new_theta"
      ]
    },
    {
      "cell_type": "markdown",
      "id": "d01bed55-c2d6-4aa7-87a6-76a1df28852e",
      "metadata": {
        "id": "d01bed55-c2d6-4aa7-87a6-76a1df28852e"
      },
      "source": [
        "To see these adjustments even more clearly, you can consider each parameter individually, e.g., $m' = m - \\alpha \\frac{\\partial C}{\\partial m}$:"
      ]
    },
    {
      "cell_type": "code",
      "execution_count": null,
      "id": "e272ad76-886c-4c63-b46b-6e5d60305a98",
      "metadata": {
        "colab": {
          "base_uri": "https://localhost:8080/"
        },
        "id": "e272ad76-886c-4c63-b46b-6e5d60305a98",
        "outputId": "b073dcc7-d778-453b-a319-d3e1ec9286f3"
      },
      "outputs": [
        {
          "output_type": "execute_result",
          "data": {
            "text/plain": [
              "tensor([0.5369], grad_fn=<SubBackward0>)"
            ]
          },
          "metadata": {},
          "execution_count": 18
        }
      ],
      "source": [
        "m - lr*m.grad"
      ]
    },
    {
      "cell_type": "markdown",
      "id": "1ac01be9-2700-40ce-9465-c963a4a63353",
      "metadata": {
        "id": "1ac01be9-2700-40ce-9465-c963a4a63353"
      },
      "source": [
        "...and $b' = b - \\alpha \\frac{\\partial C}{\\partial b}$:"
      ]
    },
    {
      "cell_type": "code",
      "execution_count": null,
      "id": "be0c841a-8f89-4344-a721-a79b6253fdaa",
      "metadata": {
        "colab": {
          "base_uri": "https://localhost:8080/"
        },
        "id": "be0c841a-8f89-4344-a721-a79b6253fdaa",
        "outputId": "03c988f0-a4a7-46ef-b528-e9d2a4ecb118"
      },
      "outputs": [
        {
          "output_type": "execute_result",
          "data": {
            "text/plain": [
              "tensor([0.0374], grad_fn=<SubBackward0>)"
            ]
          },
          "metadata": {},
          "execution_count": 19
        }
      ],
      "source": [
        "b - lr*b.grad"
      ]
    },
    {
      "cell_type": "markdown",
      "id": "b5fef888-147b-4dbc-af46-3b7d30b0d3a6",
      "metadata": {
        "id": "b5fef888-147b-4dbc-af46-3b7d30b0d3a6"
      },
      "source": [
        "With our updated parameters $\\boldsymbol{\\theta}$ now in hand, we can use them to check that they do indeed correspond to a decreased cost $C$:"
      ]
    },
    {
      "cell_type": "code",
      "execution_count": null,
      "id": "6f2342ad-18d2-4abb-8fc7-3c8fb2412795",
      "metadata": {
        "id": "6f2342ad-18d2-4abb-8fc7-3c8fb2412795"
      },
      "outputs": [],
      "source": [
        "b = new_theta[0]\n",
        "m = new_theta[1]"
      ]
    },
    {
      "cell_type": "code",
      "execution_count": null,
      "id": "cc794657-551a-4933-9204-42bc02856cad",
      "metadata": {
        "id": "cc794657-551a-4933-9204-42bc02856cad"
      },
      "outputs": [],
      "source": [
        "C = mse(regression(xs, m, b), ys)"
      ]
    },
    {
      "cell_type": "code",
      "execution_count": null,
      "id": "67f72004-39ad-4f24-b41d-7d03b8f6bae9",
      "metadata": {
        "colab": {
          "base_uri": "https://localhost:8080/",
          "height": 295
        },
        "id": "67f72004-39ad-4f24-b41d-7d03b8f6bae9",
        "outputId": "131f6c76-1faf-451d-926c-8153ba212cab"
      },
      "outputs": [
        {
          "output_type": "display_data",
          "data": {
            "text/plain": [
              "<Figure size 432x288 with 1 Axes>"
            ],
            "image/png": "[encoded data removed]"
          },
          "metadata": {
            "needs_background": "light"
          }
        }
      ],
      "source": [
        "labeled_regression_plot(xs, ys, m, b, C, include_grad=False) # Gradient of C hasn't been recalculated"
      ]
    },
    {
      "cell_type": "markdown",
      "id": "f7bfa821-a037-4696-9b1c-25cfc4ee5ca9",
      "metadata": {
        "id": "f7bfa821-a037-4696-9b1c-25cfc4ee5ca9"
      },
      "source": [
        "### Rinse and Repeat"
      ]
    },
    {
      "cell_type": "markdown",
      "id": "2b451b48-1817-44a4-a2b4-0426f0080294",
      "metadata": {
        "id": "2b451b48-1817-44a4-a2b4-0426f0080294"
      },
      "source": [
        "To perform another round of gradient descent, we let PyTorch know we'd like to track gradients on the tensors `b` and `m` (as we did at the top of the notebook when we created them the first time):"
      ]
    },
    {
      "cell_type": "code",
      "execution_count": null,
      "id": "4d3ee1ee-052a-4ac6-a917-5fd5196602ca",
      "metadata": {
        "id": "4d3ee1ee-052a-4ac6-a917-5fd5196602ca"
      },
      "outputs": [],
      "source": [
        "b.requires_grad_()\n",
        "_ = m.requires_grad_() # \"_ =\" is to prevent output within Jupyter; it is cosmetic only"
      ]
    },
    {
      "cell_type": "code",
      "execution_count": null,
      "id": "dd4c1e8e-82d3-449f-b2b7-d9f3c061a222",
      "metadata": {
        "colab": {
          "base_uri": "https://localhost:8080/",
          "height": 1000
        },
        "id": "dd4c1e8e-82d3-449f-b2b7-d9f3c061a222",
        "outputId": "647e355e-450c-4691-dfc4-81fd0e92cd4c"
      },
      "outputs": [
        {
          "output_type": "display_data",
          "data": {
            "text/plain": [
              "<Figure size 432x288 with 1 Axes>"
            ],
            "image/png": "[encoded data removed]"
          },
          "metadata": {
            "needs_background": "light"
          }
        },
        {
          "output_type": "display_data",
          "data": {
            "text/plain": [
              "<Figure size 432x288 with 1 Axes>"
            ],
            "image/png": "[encoded data removed]"
          },
          "metadata": {
            "needs_background": "light"
          }
        },
        {
          "output_type": "display_data",
          "data": {
            "text/plain": [
              "<Figure size 432x288 with 1 Axes>"
            ],
            "image/png": "[encoded data removed]"
          },
          "metadata": {
            "needs_background": "light"
          }
        },
        {
          "output_type": "display_data",
          "data": {
            "text/plain": [
              "<Figure size 432x288 with 1 Axes>"
            ],
            "image/png": "[encoded data removed]"
          },
          "metadata": {
            "needs_background": "light"
          }
        },
        {
          "output_type": "display_data",
          "data": {
            "text/plain": [
              "<Figure size 432x288 with 1 Axes>"
            ],
            "image/png": "[encoded data removed]"
          },
          "metadata": {
            "needs_background": "light"
          }
        },
        {
          "output_type": "display_data",
          "data": {
            "text/plain": [
              "<Figure size 432x288 with 1 Axes>"
            ],
            "image/png": "[encoded data removed]"
          },
          "metadata": {
            "needs_background": "light"
          }
        },
        {
          "output_type": "display_data",
          "data": {
            "text/plain": [
              "<Figure size 432x288 with 1 Axes>"
            ],
            "image/png": "[encoded data removed]"
          },
          "metadata": {
            "needs_background": "light"
          }
        },
        {
          "output_type": "display_data",
          "data": {
            "text/plain": [
              "<Figure size 432x288 with 1 Axes>"
            ],
            "image/png": "[encoded data removed]"
          },
          "metadata": {
            "needs_background": "light"
          }
        }
      ],
      "source": [
        "epochs = 8\n",
        "for epoch in range(epochs):\n",
        "\n",
        "    yhats = regression(xs, m, b) # Step 1\n",
        "    C = mse(yhats, ys) # Step 2\n",
        "\n",
        "    C.backward() # Step 3\n",
        "\n",
        "    labeled_regression_plot(xs, ys, m, b, C)\n",
        "\n",
        "    gradient = torch.tensor([[b.grad.item(), m.grad.item()]]).T\n",
        "    theta = torch.tensor([[b, m]]).T\n",
        "\n",
        "    new_theta = theta - lr*gradient # Step 4\n",
        "\n",
        "    b = new_theta[0].requires_grad_()\n",
        "    m = new_theta[1].requires_grad_()"
      ]
    },
    {
      "cell_type": "markdown",
      "id": "77e1c6f6-47cb-4672-88b3-ced2862eb1a6",
      "metadata": {
        "id": "77e1c6f6-47cb-4672-88b3-ced2862eb1a6"
      },
      "source": [
        "In later rounds of training, after the model's slope $m$ has become closer to the slope represented by the data, $\\frac{\\partial C}{\\partial b}$ becomes negative, indicating an inverse relationship between $b$ and $C$. Meanwhile, $\\frac{\\partial C}{\\partial m}$ remains positive.\n",
        "\n",
        "This combination directs gradient descent to simultaneously adjust the $y$-intercept $b$ upwards and the slope $m$ downwards in order to reduce cost $C$ and, ultimately, fit the regression line snugly to the data."
      ]
    },
    {
      "cell_type": "markdown",
      "id": "c1bf9e0a-24c4-4d6d-ade1-0b8823fcb239",
      "metadata": {
        "id": "c1bf9e0a-24c4-4d6d-ade1-0b8823fcb239"
      },
      "source": [
        "Finally, let's run a thousand more epochs (without plots) to converge on optimal parameters $\\boldsymbol{\\theta}$:"
      ]
    },
    {
      "cell_type": "code",
      "execution_count": null,
      "id": "24baaeb1-ab5e-407f-964e-f7a164e9ab34",
      "metadata": {
        "colab": {
          "base_uri": "https://localhost:8080/"
        },
        "id": "24baaeb1-ab5e-407f-964e-f7a164e9ab34",
        "outputId": "bba24814-e06a-46d4-ef1d-517ba40525c0"
      },
      "outputs": [
        {
          "output_type": "stream",
          "name": "stdout",
          "text": [
            "Epoch 0, cost 0.962, m grad 0.82, b grad -0.894\n",
            "Epoch 1, cost 0.948, m grad 0.595, b grad -0.934\n",
            "Epoch 2, cost 0.936, m grad 0.452, b grad -0.957\n",
            "Epoch 3, cost 0.925, m grad 0.361, b grad -0.969\n",
            "Epoch 4, cost 0.915, m grad 0.302, b grad -0.975\n",
            "Epoch 5, cost 0.904, m grad 0.265, b grad -0.977\n",
            "Epoch 6, cost 0.894, m grad 0.241, b grad -0.976\n",
            "Epoch 7, cost 0.884, m grad 0.225, b grad -0.973\n",
            "Epoch 8, cost 0.874, m grad 0.214, b grad -0.969\n",
            "Epoch 9, cost 0.864, m grad 0.207, b grad -0.965\n",
            "Epoch 10, cost 0.854, m grad 0.202, b grad -0.96\n",
            "Epoch 11, cost 0.845, m grad 0.199, b grad -0.955\n",
            "Epoch 12, cost 0.835, m grad 0.196, b grad -0.95\n",
            "Epoch 13, cost 0.826, m grad 0.194, b grad -0.945\n",
            "Epoch 14, cost 0.817, m grad 0.192, b grad -0.939\n",
            "Epoch 15, cost 0.808, m grad 0.191, b grad -0.934\n",
            "Epoch 16, cost 0.799, m grad 0.189, b grad -0.929\n",
            "Epoch 17, cost 0.79, m grad 0.188, b grad -0.923\n",
            "Epoch 18, cost 0.781, m grad 0.187, b grad -0.918\n",
            "Epoch 19, cost 0.772, m grad 0.186, b grad -0.913\n",
            "Epoch 20, cost 0.763, m grad 0.185, b grad -0.908\n",
            "Epoch 21, cost 0.755, m grad 0.184, b grad -0.902\n",
            "Epoch 22, cost 0.746, m grad 0.182, b grad -0.897\n",
            "Epoch 23, cost 0.738, m grad 0.181, b grad -0.892\n",
            "Epoch 24, cost 0.73, m grad 0.18, b grad -0.887\n",
            "Epoch 25, cost 0.721, m grad 0.179, b grad -0.882\n",
            "Epoch 26, cost 0.713, m grad 0.178, b grad -0.877\n",
            "Epoch 27, cost 0.705, m grad 0.177, b grad -0.872\n",
            "Epoch 28, cost 0.698, m grad 0.176, b grad -0.867\n",
            "Epoch 29, cost 0.69, m grad 0.175, b grad -0.862\n",
            "Epoch 30, cost 0.682, m grad 0.174, b grad -0.857\n",
            "Epoch 31, cost 0.674, m grad 0.173, b grad -0.852\n",
            "Epoch 32, cost 0.667, m grad 0.172, b grad -0.847\n",
            "Epoch 33, cost 0.659, m grad 0.171, b grad -0.842\n",
            "Epoch 34, cost 0.652, m grad 0.17, b grad -0.837\n",
            "Epoch 35, cost 0.645, m grad 0.169, b grad -0.832\n",
            "Epoch 36, cost 0.638, m grad 0.168, b grad -0.827\n",
            "Epoch 37, cost 0.631, m grad 0.167, b grad -0.823\n",
            "Epoch 38, cost 0.624, m grad 0.166, b grad -0.818\n",
            "Epoch 39, cost 0.617, m grad 0.165, b grad -0.813\n",
            "Epoch 40, cost 0.61, m grad 0.164, b grad -0.808\n",
            "Epoch 41, cost 0.603, m grad 0.163, b grad -0.804\n",
            "Epoch 42, cost 0.596, m grad 0.163, b grad -0.799\n",
            "Epoch 43, cost 0.59, m grad 0.162, b grad -0.795\n",
            "Epoch 44, cost 0.583, m grad 0.161, b grad -0.79\n",
            "Epoch 45, cost 0.577, m grad 0.16, b grad -0.785\n",
            "Epoch 46, cost 0.57, m grad 0.159, b grad -0.781\n",
            "Epoch 47, cost 0.564, m grad 0.158, b grad -0.776\n",
            "Epoch 48, cost 0.558, m grad 0.157, b grad -0.772\n",
            "Epoch 49, cost 0.551, m grad 0.156, b grad -0.767\n",
            "Epoch 50, cost 0.545, m grad 0.155, b grad -0.763\n",
            "Epoch 51, cost 0.539, m grad 0.154, b grad -0.759\n",
            "Epoch 52, cost 0.533, m grad 0.153, b grad -0.754\n",
            "Epoch 53, cost 0.527, m grad 0.152, b grad -0.75\n",
            "Epoch 54, cost 0.521, m grad 0.152, b grad -0.746\n",
            "Epoch 55, cost 0.516, m grad 0.151, b grad -0.741\n",
            "Epoch 56, cost 0.51, m grad 0.15, b grad -0.737\n",
            "Epoch 57, cost 0.504, m grad 0.149, b grad -0.733\n",
            "Epoch 58, cost 0.499, m grad 0.148, b grad -0.729\n",
            "Epoch 59, cost 0.493, m grad 0.147, b grad -0.724\n",
            "Epoch 60, cost 0.488, m grad 0.146, b grad -0.72\n",
            "Epoch 61, cost 0.482, m grad 0.146, b grad -0.716\n",
            "Epoch 62, cost 0.477, m grad 0.145, b grad -0.712\n",
            "Epoch 63, cost 0.472, m grad 0.144, b grad -0.708\n",
            "Epoch 64, cost 0.467, m grad 0.143, b grad -0.704\n",
            "Epoch 65, cost 0.462, m grad 0.142, b grad -0.7\n",
            "Epoch 66, cost 0.456, m grad 0.141, b grad -0.696\n",
            "Epoch 67, cost 0.451, m grad 0.141, b grad -0.692\n",
            "Epoch 68, cost 0.446, m grad 0.14, b grad -0.688\n",
            "Epoch 69, cost 0.442, m grad 0.139, b grad -0.684\n",
            "Epoch 70, cost 0.437, m grad 0.138, b grad -0.68\n",
            "Epoch 71, cost 0.432, m grad 0.137, b grad -0.676\n",
            "Epoch 72, cost 0.427, m grad 0.137, b grad -0.672\n",
            "Epoch 73, cost 0.422, m grad 0.136, b grad -0.668\n",
            "Epoch 74, cost 0.418, m grad 0.135, b grad -0.664\n",
            "Epoch 75, cost 0.413, m grad 0.134, b grad -0.66\n",
            "Epoch 76, cost 0.409, m grad 0.134, b grad -0.657\n",
            "Epoch 77, cost 0.404, m grad 0.133, b grad -0.653\n",
            "Epoch 78, cost 0.4, m grad 0.132, b grad -0.649\n",
            "Epoch 79, cost 0.395, m grad 0.131, b grad -0.645\n",
            "Epoch 80, cost 0.391, m grad 0.13, b grad -0.642\n",
            "Epoch 81, cost 0.387, m grad 0.13, b grad -0.638\n",
            "Epoch 82, cost 0.383, m grad 0.129, b grad -0.634\n",
            "Epoch 83, cost 0.378, m grad 0.128, b grad -0.63\n",
            "Epoch 84, cost 0.374, m grad 0.127, b grad -0.627\n",
            "Epoch 85, cost 0.37, m grad 0.127, b grad -0.623\n",
            "Epoch 86, cost 0.366, m grad 0.126, b grad -0.62\n",
            "Epoch 87, cost 0.362, m grad 0.125, b grad -0.616\n",
            "Epoch 88, cost 0.358, m grad 0.125, b grad -0.613\n",
            "Epoch 89, cost 0.354, m grad 0.124, b grad -0.609\n",
            "Epoch 90, cost 0.351, m grad 0.123, b grad -0.605\n",
            "Epoch 91, cost 0.347, m grad 0.122, b grad -0.602\n",
            "Epoch 92, cost 0.343, m grad 0.122, b grad -0.599\n",
            "Epoch 93, cost 0.339, m grad 0.121, b grad -0.595\n",
            "Epoch 94, cost 0.336, m grad 0.12, b grad -0.592\n",
            "Epoch 95, cost 0.332, m grad 0.12, b grad -0.588\n",
            "Epoch 96, cost 0.328, m grad 0.119, b grad -0.585\n",
            "Epoch 97, cost 0.325, m grad 0.118, b grad -0.581\n",
            "Epoch 98, cost 0.321, m grad 0.118, b grad -0.578\n",
            "Epoch 99, cost 0.318, m grad 0.117, b grad -0.575\n",
            "Epoch 100, cost 0.314, m grad 0.116, b grad -0.571\n",
            "Epoch 101, cost 0.311, m grad 0.116, b grad -0.568\n",
            "Epoch 102, cost 0.308, m grad 0.115, b grad -0.565\n",
            "Epoch 103, cost 0.304, m grad 0.114, b grad -0.562\n",
            "Epoch 104, cost 0.301, m grad 0.114, b grad -0.558\n",
            "Epoch 105, cost 0.298, m grad 0.113, b grad -0.555\n",
            "Epoch 106, cost 0.295, m grad 0.112, b grad -0.552\n",
            "Epoch 107, cost 0.291, m grad 0.112, b grad -0.549\n",
            "Epoch 108, cost 0.288, m grad 0.111, b grad -0.546\n",
            "Epoch 109, cost 0.285, m grad 0.11, b grad -0.542\n",
            "Epoch 110, cost 0.282, m grad 0.11, b grad -0.539\n",
            "Epoch 111, cost 0.279, m grad 0.109, b grad -0.536\n",
            "Epoch 112, cost 0.276, m grad 0.108, b grad -0.533\n",
            "Epoch 113, cost 0.273, m grad 0.108, b grad -0.53\n",
            "Epoch 114, cost 0.27, m grad 0.107, b grad -0.527\n",
            "Epoch 115, cost 0.267, m grad 0.107, b grad -0.524\n",
            "Epoch 116, cost 0.265, m grad 0.106, b grad -0.521\n",
            "Epoch 117, cost 0.262, m grad 0.105, b grad -0.518\n",
            "Epoch 118, cost 0.259, m grad 0.105, b grad -0.515\n",
            "Epoch 119, cost 0.256, m grad 0.104, b grad -0.512\n",
            "Epoch 120, cost 0.253, m grad 0.104, b grad -0.509\n",
            "Epoch 121, cost 0.251, m grad 0.103, b grad -0.506\n",
            "Epoch 122, cost 0.248, m grad 0.102, b grad -0.503\n",
            "Epoch 123, cost 0.245, m grad 0.102, b grad -0.5\n",
            "Epoch 124, cost 0.243, m grad 0.101, b grad -0.497\n",
            "Epoch 125, cost 0.24, m grad 0.101, b grad -0.495\n",
            "Epoch 126, cost 0.238, m grad 0.1, b grad -0.492\n",
            "Epoch 127, cost 0.235, m grad 0.0994, b grad -0.489\n",
            "Epoch 128, cost 0.233, m grad 0.0988, b grad -0.486\n",
            "Epoch 129, cost 0.23, m grad 0.0983, b grad -0.483\n",
            "Epoch 130, cost 0.228, m grad 0.0977, b grad -0.48\n",
            "Epoch 131, cost 0.226, m grad 0.0971, b grad -0.478\n",
            "Epoch 132, cost 0.223, m grad 0.0966, b grad -0.475\n",
            "Epoch 133, cost 0.221, m grad 0.096, b grad -0.472\n",
            "Epoch 134, cost 0.218, m grad 0.0955, b grad -0.469\n",
            "Epoch 135, cost 0.216, m grad 0.0949, b grad -0.467\n",
            "Epoch 136, cost 0.214, m grad 0.0944, b grad -0.464\n",
            "Epoch 137, cost 0.212, m grad 0.0938, b grad -0.461\n",
            "Epoch 138, cost 0.209, m grad 0.0933, b grad -0.459\n",
            "Epoch 139, cost 0.207, m grad 0.0927, b grad -0.456\n",
            "Epoch 140, cost 0.205, m grad 0.0922, b grad -0.453\n",
            "Epoch 141, cost 0.203, m grad 0.0917, b grad -0.451\n",
            "Epoch 142, cost 0.201, m grad 0.0911, b grad -0.448\n",
            "Epoch 143, cost 0.199, m grad 0.0906, b grad -0.446\n",
            "Epoch 144, cost 0.197, m grad 0.0901, b grad -0.443\n",
            "Epoch 145, cost 0.195, m grad 0.0896, b grad -0.441\n",
            "Epoch 146, cost 0.193, m grad 0.0891, b grad -0.438\n",
            "Epoch 147, cost 0.191, m grad 0.0886, b grad -0.435\n",
            "Epoch 148, cost 0.189, m grad 0.088, b grad -0.433\n",
            "Epoch 149, cost 0.187, m grad 0.0875, b grad -0.43\n",
            "Epoch 150, cost 0.185, m grad 0.087, b grad -0.428\n",
            "Epoch 151, cost 0.183, m grad 0.0865, b grad -0.426\n",
            "Epoch 152, cost 0.181, m grad 0.086, b grad -0.423\n",
            "Epoch 153, cost 0.179, m grad 0.0855, b grad -0.421\n",
            "Epoch 154, cost 0.177, m grad 0.085, b grad -0.418\n",
            "Epoch 155, cost 0.176, m grad 0.0845, b grad -0.416\n",
            "Epoch 156, cost 0.174, m grad 0.0841, b grad -0.413\n",
            "Epoch 157, cost 0.172, m grad 0.0836, b grad -0.411\n",
            "Epoch 158, cost 0.17, m grad 0.0831, b grad -0.409\n",
            "Epoch 159, cost 0.169, m grad 0.0826, b grad -0.406\n",
            "Epoch 160, cost 0.167, m grad 0.0821, b grad -0.404\n",
            "Epoch 161, cost 0.165, m grad 0.0817, b grad -0.402\n",
            "Epoch 162, cost 0.163, m grad 0.0812, b grad -0.399\n",
            "Epoch 163, cost 0.162, m grad 0.0807, b grad -0.397\n",
            "Epoch 164, cost 0.16, m grad 0.0803, b grad -0.395\n",
            "Epoch 165, cost 0.159, m grad 0.0798, b grad -0.392\n",
            "Epoch 166, cost 0.157, m grad 0.0793, b grad -0.39\n",
            "Epoch 167, cost 0.155, m grad 0.0789, b grad -0.388\n",
            "Epoch 168, cost 0.154, m grad 0.0784, b grad -0.386\n",
            "Epoch 169, cost 0.152, m grad 0.078, b grad -0.383\n",
            "Epoch 170, cost 0.151, m grad 0.0775, b grad -0.381\n",
            "Epoch 171, cost 0.149, m grad 0.0771, b grad -0.379\n",
            "Epoch 172, cost 0.148, m grad 0.0766, b grad -0.377\n",
            "Epoch 173, cost 0.146, m grad 0.0762, b grad -0.375\n",
            "Epoch 174, cost 0.145, m grad 0.0758, b grad -0.373\n",
            "Epoch 175, cost 0.143, m grad 0.0753, b grad -0.37\n",
            "Epoch 176, cost 0.142, m grad 0.0749, b grad -0.368\n",
            "Epoch 177, cost 0.141, m grad 0.0744, b grad -0.366\n",
            "Epoch 178, cost 0.139, m grad 0.074, b grad -0.364\n",
            "Epoch 179, cost 0.138, m grad 0.0736, b grad -0.362\n",
            "Epoch 180, cost 0.136, m grad 0.0732, b grad -0.36\n",
            "Epoch 181, cost 0.135, m grad 0.0727, b grad -0.358\n",
            "Epoch 182, cost 0.134, m grad 0.0723, b grad -0.356\n",
            "Epoch 183, cost 0.132, m grad 0.0719, b grad -0.354\n",
            "Epoch 184, cost 0.131, m grad 0.0715, b grad -0.352\n",
            "Epoch 185, cost 0.13, m grad 0.0711, b grad -0.35\n",
            "Epoch 186, cost 0.129, m grad 0.0707, b grad -0.348\n",
            "Epoch 187, cost 0.127, m grad 0.0703, b grad -0.346\n",
            "Epoch 188, cost 0.126, m grad 0.0699, b grad -0.344\n",
            "Epoch 189, cost 0.125, m grad 0.0695, b grad -0.342\n",
            "Epoch 190, cost 0.124, m grad 0.0691, b grad -0.34\n",
            "Epoch 191, cost 0.122, m grad 0.0687, b grad -0.338\n",
            "Epoch 192, cost 0.121, m grad 0.0683, b grad -0.336\n",
            "Epoch 193, cost 0.12, m grad 0.0679, b grad -0.334\n",
            "Epoch 194, cost 0.119, m grad 0.0675, b grad -0.332\n",
            "Epoch 195, cost 0.118, m grad 0.0671, b grad -0.33\n",
            "Epoch 196, cost 0.117, m grad 0.0667, b grad -0.328\n",
            "Epoch 197, cost 0.116, m grad 0.0663, b grad -0.326\n",
            "Epoch 198, cost 0.114, m grad 0.0659, b grad -0.324\n",
            "Epoch 199, cost 0.113, m grad 0.0656, b grad -0.322\n",
            "Epoch 200, cost 0.112, m grad 0.0652, b grad -0.321\n",
            "Epoch 201, cost 0.111, m grad 0.0648, b grad -0.319\n",
            "Epoch 202, cost 0.11, m grad 0.0644, b grad -0.317\n",
            "Epoch 203, cost 0.109, m grad 0.0641, b grad -0.315\n",
            "Epoch 204, cost 0.108, m grad 0.0637, b grad -0.313\n",
            "Epoch 205, cost 0.107, m grad 0.0633, b grad -0.311\n",
            "Epoch 206, cost 0.106, m grad 0.063, b grad -0.31\n",
            "Epoch 207, cost 0.105, m grad 0.0626, b grad -0.308\n",
            "Epoch 208, cost 0.104, m grad 0.0622, b grad -0.306\n",
            "Epoch 209, cost 0.103, m grad 0.0619, b grad -0.304\n",
            "Epoch 210, cost 0.102, m grad 0.0615, b grad -0.303\n",
            "Epoch 211, cost 0.101, m grad 0.0612, b grad -0.301\n",
            "Epoch 212, cost 0.1, m grad 0.0608, b grad -0.299\n",
            "Epoch 213, cost 0.0993, m grad 0.0605, b grad -0.297\n",
            "Epoch 214, cost 0.0984, m grad 0.0601, b grad -0.296\n",
            "Epoch 215, cost 0.0975, m grad 0.0598, b grad -0.294\n",
            "Epoch 216, cost 0.0966, m grad 0.0594, b grad -0.292\n",
            "Epoch 217, cost 0.0957, m grad 0.0591, b grad -0.291\n",
            "Epoch 218, cost 0.0948, m grad 0.0587, b grad -0.289\n",
            "Epoch 219, cost 0.0939, m grad 0.0584, b grad -0.287\n",
            "Epoch 220, cost 0.0931, m grad 0.0581, b grad -0.286\n",
            "Epoch 221, cost 0.0922, m grad 0.0577, b grad -0.284\n",
            "Epoch 222, cost 0.0914, m grad 0.0574, b grad -0.282\n",
            "Epoch 223, cost 0.0906, m grad 0.0571, b grad -0.281\n",
            "Epoch 224, cost 0.0898, m grad 0.0567, b grad -0.279\n",
            "Epoch 225, cost 0.089, m grad 0.0564, b grad -0.277\n",
            "Epoch 226, cost 0.0882, m grad 0.0561, b grad -0.276\n",
            "Epoch 227, cost 0.0874, m grad 0.0558, b grad -0.274\n",
            "Epoch 228, cost 0.0866, m grad 0.0554, b grad -0.273\n",
            "Epoch 229, cost 0.0858, m grad 0.0551, b grad -0.271\n",
            "Epoch 230, cost 0.085, m grad 0.0548, b grad -0.269\n",
            "Epoch 231, cost 0.0843, m grad 0.0545, b grad -0.268\n",
            "Epoch 232, cost 0.0835, m grad 0.0542, b grad -0.266\n",
            "Epoch 233, cost 0.0828, m grad 0.0539, b grad -0.265\n",
            "Epoch 234, cost 0.0821, m grad 0.0535, b grad -0.263\n",
            "Epoch 235, cost 0.0814, m grad 0.0532, b grad -0.262\n",
            "Epoch 236, cost 0.0807, m grad 0.0529, b grad -0.26\n",
            "Epoch 237, cost 0.0799, m grad 0.0526, b grad -0.259\n",
            "Epoch 238, cost 0.0793, m grad 0.0523, b grad -0.257\n",
            "Epoch 239, cost 0.0786, m grad 0.052, b grad -0.256\n",
            "Epoch 240, cost 0.0779, m grad 0.0517, b grad -0.254\n",
            "Epoch 241, cost 0.0772, m grad 0.0514, b grad -0.253\n",
            "Epoch 242, cost 0.0765, m grad 0.0511, b grad -0.251\n",
            "Epoch 243, cost 0.0759, m grad 0.0508, b grad -0.25\n",
            "Epoch 244, cost 0.0752, m grad 0.0505, b grad -0.249\n",
            "Epoch 245, cost 0.0746, m grad 0.0502, b grad -0.247\n",
            "Epoch 246, cost 0.074, m grad 0.05, b grad -0.246\n",
            "Epoch 247, cost 0.0733, m grad 0.0497, b grad -0.244\n",
            "Epoch 248, cost 0.0727, m grad 0.0494, b grad -0.243\n",
            "Epoch 249, cost 0.0721, m grad 0.0491, b grad -0.241\n",
            "Epoch 250, cost 0.0715, m grad 0.0488, b grad -0.24\n",
            "Epoch 251, cost 0.0709, m grad 0.0485, b grad -0.239\n",
            "Epoch 252, cost 0.0703, m grad 0.0483, b grad -0.237\n",
            "Epoch 253, cost 0.0697, m grad 0.048, b grad -0.236\n",
            "Epoch 254, cost 0.0692, m grad 0.0477, b grad -0.235\n",
            "Epoch 255, cost 0.0686, m grad 0.0474, b grad -0.233\n",
            "Epoch 256, cost 0.068, m grad 0.0471, b grad -0.232\n",
            "Epoch 257, cost 0.0675, m grad 0.0469, b grad -0.231\n",
            "Epoch 258, cost 0.0669, m grad 0.0466, b grad -0.229\n",
            "Epoch 259, cost 0.0664, m grad 0.0463, b grad -0.228\n",
            "Epoch 260, cost 0.0658, m grad 0.0461, b grad -0.227\n",
            "Epoch 261, cost 0.0653, m grad 0.0458, b grad -0.225\n",
            "Epoch 262, cost 0.0648, m grad 0.0455, b grad -0.224\n",
            "Epoch 263, cost 0.0642, m grad 0.0453, b grad -0.223\n",
            "Epoch 264, cost 0.0637, m grad 0.045, b grad -0.221\n",
            "Epoch 265, cost 0.0632, m grad 0.0448, b grad -0.22\n",
            "Epoch 266, cost 0.0627, m grad 0.0445, b grad -0.219\n",
            "Epoch 267, cost 0.0622, m grad 0.0442, b grad -0.218\n",
            "Epoch 268, cost 0.0617, m grad 0.044, b grad -0.216\n",
            "Epoch 269, cost 0.0612, m grad 0.0437, b grad -0.215\n",
            "Epoch 270, cost 0.0608, m grad 0.0435, b grad -0.214\n",
            "Epoch 271, cost 0.0603, m grad 0.0432, b grad -0.213\n",
            "Epoch 272, cost 0.0598, m grad 0.043, b grad -0.211\n",
            "Epoch 273, cost 0.0594, m grad 0.0427, b grad -0.21\n",
            "Epoch 274, cost 0.0589, m grad 0.0425, b grad -0.209\n",
            "Epoch 275, cost 0.0584, m grad 0.0422, b grad -0.208\n",
            "Epoch 276, cost 0.058, m grad 0.042, b grad -0.207\n",
            "Epoch 277, cost 0.0575, m grad 0.0418, b grad -0.205\n",
            "Epoch 278, cost 0.0571, m grad 0.0415, b grad -0.204\n",
            "Epoch 279, cost 0.0567, m grad 0.0413, b grad -0.203\n",
            "Epoch 280, cost 0.0562, m grad 0.041, b grad -0.202\n",
            "Epoch 281, cost 0.0558, m grad 0.0408, b grad -0.201\n",
            "Epoch 282, cost 0.0554, m grad 0.0406, b grad -0.199\n",
            "Epoch 283, cost 0.055, m grad 0.0403, b grad -0.198\n",
            "Epoch 284, cost 0.0546, m grad 0.0401, b grad -0.197\n",
            "Epoch 285, cost 0.0542, m grad 0.0399, b grad -0.196\n",
            "Epoch 286, cost 0.0538, m grad 0.0396, b grad -0.195\n",
            "Epoch 287, cost 0.0534, m grad 0.0394, b grad -0.194\n",
            "Epoch 288, cost 0.053, m grad 0.0392, b grad -0.193\n",
            "Epoch 289, cost 0.0526, m grad 0.039, b grad -0.192\n",
            "Epoch 290, cost 0.0522, m grad 0.0387, b grad -0.19\n",
            "Epoch 291, cost 0.0519, m grad 0.0385, b grad -0.189\n",
            "Epoch 292, cost 0.0515, m grad 0.0383, b grad -0.188\n",
            "Epoch 293, cost 0.0511, m grad 0.0381, b grad -0.187\n",
            "Epoch 294, cost 0.0508, m grad 0.0378, b grad -0.186\n",
            "Epoch 295, cost 0.0504, m grad 0.0376, b grad -0.185\n",
            "Epoch 296, cost 0.05, m grad 0.0374, b grad -0.184\n",
            "Epoch 297, cost 0.0497, m grad 0.0372, b grad -0.183\n",
            "Epoch 298, cost 0.0493, m grad 0.037, b grad -0.182\n",
            "Epoch 299, cost 0.049, m grad 0.0368, b grad -0.181\n",
            "Epoch 300, cost 0.0487, m grad 0.0366, b grad -0.18\n",
            "Epoch 301, cost 0.0483, m grad 0.0363, b grad -0.179\n",
            "Epoch 302, cost 0.048, m grad 0.0361, b grad -0.178\n",
            "Epoch 303, cost 0.0477, m grad 0.0359, b grad -0.177\n",
            "Epoch 304, cost 0.0473, m grad 0.0357, b grad -0.176\n",
            "Epoch 305, cost 0.047, m grad 0.0355, b grad -0.175\n",
            "Epoch 306, cost 0.0467, m grad 0.0353, b grad -0.174\n",
            "Epoch 307, cost 0.0464, m grad 0.0351, b grad -0.173\n",
            "Epoch 308, cost 0.0461, m grad 0.0349, b grad -0.172\n",
            "Epoch 309, cost 0.0458, m grad 0.0347, b grad -0.171\n",
            "Epoch 310, cost 0.0455, m grad 0.0345, b grad -0.17\n",
            "Epoch 311, cost 0.0452, m grad 0.0343, b grad -0.169\n",
            "Epoch 312, cost 0.0449, m grad 0.0341, b grad -0.168\n",
            "Epoch 313, cost 0.0446, m grad 0.0339, b grad -0.167\n",
            "Epoch 314, cost 0.0443, m grad 0.0337, b grad -0.166\n",
            "Epoch 315, cost 0.044, m grad 0.0335, b grad -0.165\n",
            "Epoch 316, cost 0.0437, m grad 0.0333, b grad -0.164\n",
            "Epoch 317, cost 0.0434, m grad 0.0331, b grad -0.163\n",
            "Epoch 318, cost 0.0432, m grad 0.0329, b grad -0.162\n",
            "Epoch 319, cost 0.0429, m grad 0.0328, b grad -0.161\n",
            "Epoch 320, cost 0.0426, m grad 0.0326, b grad -0.16\n",
            "Epoch 321, cost 0.0424, m grad 0.0324, b grad -0.159\n",
            "Epoch 322, cost 0.0421, m grad 0.0322, b grad -0.158\n",
            "Epoch 323, cost 0.0418, m grad 0.032, b grad -0.157\n",
            "Epoch 324, cost 0.0416, m grad 0.0318, b grad -0.156\n",
            "Epoch 325, cost 0.0413, m grad 0.0316, b grad -0.156\n",
            "Epoch 326, cost 0.0411, m grad 0.0315, b grad -0.155\n",
            "Epoch 327, cost 0.0408, m grad 0.0313, b grad -0.154\n",
            "Epoch 328, cost 0.0406, m grad 0.0311, b grad -0.153\n",
            "Epoch 329, cost 0.0403, m grad 0.0309, b grad -0.152\n",
            "Epoch 330, cost 0.0401, m grad 0.0307, b grad -0.151\n",
            "Epoch 331, cost 0.0399, m grad 0.0306, b grad -0.15\n",
            "Epoch 332, cost 0.0396, m grad 0.0304, b grad -0.149\n",
            "Epoch 333, cost 0.0394, m grad 0.0302, b grad -0.149\n",
            "Epoch 334, cost 0.0392, m grad 0.03, b grad -0.148\n",
            "Epoch 335, cost 0.0389, m grad 0.0299, b grad -0.147\n",
            "Epoch 336, cost 0.0387, m grad 0.0297, b grad -0.146\n",
            "Epoch 337, cost 0.0385, m grad 0.0295, b grad -0.145\n",
            "Epoch 338, cost 0.0383, m grad 0.0293, b grad -0.144\n",
            "Epoch 339, cost 0.0381, m grad 0.0292, b grad -0.143\n",
            "Epoch 340, cost 0.0378, m grad 0.029, b grad -0.143\n",
            "Epoch 341, cost 0.0376, m grad 0.0288, b grad -0.142\n",
            "Epoch 342, cost 0.0374, m grad 0.0287, b grad -0.141\n",
            "Epoch 343, cost 0.0372, m grad 0.0285, b grad -0.14\n",
            "Epoch 344, cost 0.037, m grad 0.0283, b grad -0.139\n",
            "Epoch 345, cost 0.0368, m grad 0.0282, b grad -0.139\n",
            "Epoch 346, cost 0.0366, m grad 0.028, b grad -0.138\n",
            "Epoch 347, cost 0.0364, m grad 0.0279, b grad -0.137\n",
            "Epoch 348, cost 0.0362, m grad 0.0277, b grad -0.136\n",
            "Epoch 349, cost 0.036, m grad 0.0275, b grad -0.135\n",
            "Epoch 350, cost 0.0358, m grad 0.0274, b grad -0.135\n",
            "Epoch 351, cost 0.0356, m grad 0.0272, b grad -0.134\n",
            "Epoch 352, cost 0.0355, m grad 0.0271, b grad -0.133\n",
            "Epoch 353, cost 0.0353, m grad 0.0269, b grad -0.132\n",
            "Epoch 354, cost 0.0351, m grad 0.0268, b grad -0.132\n",
            "Epoch 355, cost 0.0349, m grad 0.0266, b grad -0.131\n",
            "Epoch 356, cost 0.0347, m grad 0.0264, b grad -0.13\n",
            "Epoch 357, cost 0.0346, m grad 0.0263, b grad -0.129\n",
            "Epoch 358, cost 0.0344, m grad 0.0261, b grad -0.129\n",
            "Epoch 359, cost 0.0342, m grad 0.026, b grad -0.128\n",
            "Epoch 360, cost 0.034, m grad 0.0258, b grad -0.127\n",
            "Epoch 361, cost 0.0339, m grad 0.0257, b grad -0.126\n",
            "Epoch 362, cost 0.0337, m grad 0.0255, b grad -0.126\n",
            "Epoch 363, cost 0.0336, m grad 0.0254, b grad -0.125\n",
            "Epoch 364, cost 0.0334, m grad 0.0253, b grad -0.124\n",
            "Epoch 365, cost 0.0332, m grad 0.0251, b grad -0.123\n",
            "Epoch 366, cost 0.0331, m grad 0.025, b grad -0.123\n",
            "Epoch 367, cost 0.0329, m grad 0.0248, b grad -0.122\n",
            "Epoch 368, cost 0.0328, m grad 0.0247, b grad -0.121\n",
            "Epoch 369, cost 0.0326, m grad 0.0245, b grad -0.121\n",
            "Epoch 370, cost 0.0325, m grad 0.0244, b grad -0.12\n",
            "Epoch 371, cost 0.0323, m grad 0.0242, b grad -0.119\n",
            "Epoch 372, cost 0.0322, m grad 0.0241, b grad -0.119\n",
            "Epoch 373, cost 0.032, m grad 0.024, b grad -0.118\n",
            "Epoch 374, cost 0.0319, m grad 0.0238, b grad -0.117\n",
            "Epoch 375, cost 0.0317, m grad 0.0237, b grad -0.117\n",
            "Epoch 376, cost 0.0316, m grad 0.0236, b grad -0.116\n",
            "Epoch 377, cost 0.0314, m grad 0.0234, b grad -0.115\n",
            "Epoch 378, cost 0.0313, m grad 0.0233, b grad -0.115\n",
            "Epoch 379, cost 0.0312, m grad 0.0232, b grad -0.114\n",
            "Epoch 380, cost 0.031, m grad 0.023, b grad -0.113\n",
            "Epoch 381, cost 0.0309, m grad 0.0229, b grad -0.113\n",
            "Epoch 382, cost 0.0308, m grad 0.0228, b grad -0.112\n",
            "Epoch 383, cost 0.0306, m grad 0.0226, b grad -0.111\n",
            "Epoch 384, cost 0.0305, m grad 0.0225, b grad -0.111\n",
            "Epoch 385, cost 0.0304, m grad 0.0224, b grad -0.11\n",
            "Epoch 386, cost 0.0303, m grad 0.0222, b grad -0.109\n",
            "Epoch 387, cost 0.0301, m grad 0.0221, b grad -0.109\n",
            "Epoch 388, cost 0.03, m grad 0.022, b grad -0.108\n",
            "Epoch 389, cost 0.0299, m grad 0.0219, b grad -0.107\n",
            "Epoch 390, cost 0.0298, m grad 0.0217, b grad -0.107\n",
            "Epoch 391, cost 0.0297, m grad 0.0216, b grad -0.106\n",
            "Epoch 392, cost 0.0295, m grad 0.0215, b grad -0.106\n",
            "Epoch 393, cost 0.0294, m grad 0.0214, b grad -0.105\n",
            "Epoch 394, cost 0.0293, m grad 0.0212, b grad -0.104\n",
            "Epoch 395, cost 0.0292, m grad 0.0211, b grad -0.104\n",
            "Epoch 396, cost 0.0291, m grad 0.021, b grad -0.103\n",
            "Epoch 397, cost 0.029, m grad 0.0209, b grad -0.103\n",
            "Epoch 398, cost 0.0289, m grad 0.0207, b grad -0.102\n",
            "Epoch 399, cost 0.0288, m grad 0.0206, b grad -0.101\n",
            "Epoch 400, cost 0.0286, m grad 0.0205, b grad -0.101\n",
            "Epoch 401, cost 0.0285, m grad 0.0204, b grad -0.1\n",
            "Epoch 402, cost 0.0284, m grad 0.0203, b grad -0.0997\n",
            "Epoch 403, cost 0.0283, m grad 0.0202, b grad -0.0991\n",
            "Epoch 404, cost 0.0282, m grad 0.02, b grad -0.0985\n",
            "Epoch 405, cost 0.0281, m grad 0.0199, b grad -0.098\n",
            "Epoch 406, cost 0.028, m grad 0.0198, b grad -0.0974\n",
            "Epoch 407, cost 0.0279, m grad 0.0197, b grad -0.0968\n",
            "Epoch 408, cost 0.0278, m grad 0.0196, b grad -0.0963\n",
            "Epoch 409, cost 0.0277, m grad 0.0195, b grad -0.0957\n",
            "Epoch 410, cost 0.0276, m grad 0.0194, b grad -0.0952\n",
            "Epoch 411, cost 0.0276, m grad 0.0192, b grad -0.0946\n",
            "Epoch 412, cost 0.0275, m grad 0.0191, b grad -0.0941\n",
            "Epoch 413, cost 0.0274, m grad 0.019, b grad -0.0935\n",
            "Epoch 414, cost 0.0273, m grad 0.0189, b grad -0.093\n",
            "Epoch 415, cost 0.0272, m grad 0.0188, b grad -0.0925\n",
            "Epoch 416, cost 0.0271, m grad 0.0187, b grad -0.0919\n",
            "Epoch 417, cost 0.027, m grad 0.0186, b grad -0.0914\n",
            "Epoch 418, cost 0.0269, m grad 0.0185, b grad -0.0909\n",
            "Epoch 419, cost 0.0268, m grad 0.0184, b grad -0.0903\n",
            "Epoch 420, cost 0.0268, m grad 0.0183, b grad -0.0898\n",
            "Epoch 421, cost 0.0267, m grad 0.0182, b grad -0.0893\n",
            "Epoch 422, cost 0.0266, m grad 0.0181, b grad -0.0888\n",
            "Epoch 423, cost 0.0265, m grad 0.018, b grad -0.0883\n",
            "Epoch 424, cost 0.0264, m grad 0.0178, b grad -0.0878\n",
            "Epoch 425, cost 0.0263, m grad 0.0177, b grad -0.0873\n",
            "Epoch 426, cost 0.0263, m grad 0.0176, b grad -0.0868\n",
            "Epoch 427, cost 0.0262, m grad 0.0175, b grad -0.0863\n",
            "Epoch 428, cost 0.0261, m grad 0.0174, b grad -0.0858\n",
            "Epoch 429, cost 0.026, m grad 0.0173, b grad -0.0853\n",
            "Epoch 430, cost 0.026, m grad 0.0172, b grad -0.0848\n",
            "Epoch 431, cost 0.0259, m grad 0.0171, b grad -0.0843\n",
            "Epoch 432, cost 0.0258, m grad 0.017, b grad -0.0838\n",
            "Epoch 433, cost 0.0257, m grad 0.0169, b grad -0.0833\n",
            "Epoch 434, cost 0.0257, m grad 0.0168, b grad -0.0828\n",
            "Epoch 435, cost 0.0256, m grad 0.0167, b grad -0.0824\n",
            "Epoch 436, cost 0.0255, m grad 0.0167, b grad -0.0819\n",
            "Epoch 437, cost 0.0255, m grad 0.0166, b grad -0.0814\n",
            "Epoch 438, cost 0.0254, m grad 0.0165, b grad -0.0809\n",
            "Epoch 439, cost 0.0253, m grad 0.0164, b grad -0.0805\n",
            "Epoch 440, cost 0.0252, m grad 0.0163, b grad -0.08\n",
            "Epoch 441, cost 0.0252, m grad 0.0162, b grad -0.0796\n",
            "Epoch 442, cost 0.0251, m grad 0.0161, b grad -0.0791\n",
            "Epoch 443, cost 0.0251, m grad 0.016, b grad -0.0786\n",
            "Epoch 444, cost 0.025, m grad 0.0159, b grad -0.0782\n",
            "Epoch 445, cost 0.0249, m grad 0.0158, b grad -0.0777\n",
            "Epoch 446, cost 0.0249, m grad 0.0157, b grad -0.0773\n",
            "Epoch 447, cost 0.0248, m grad 0.0156, b grad -0.0768\n",
            "Epoch 448, cost 0.0247, m grad 0.0155, b grad -0.0764\n",
            "Epoch 449, cost 0.0247, m grad 0.0154, b grad -0.076\n",
            "Epoch 450, cost 0.0246, m grad 0.0154, b grad -0.0755\n",
            "Epoch 451, cost 0.0246, m grad 0.0153, b grad -0.0751\n",
            "Epoch 452, cost 0.0245, m grad 0.0152, b grad -0.0747\n",
            "Epoch 453, cost 0.0244, m grad 0.0151, b grad -0.0742\n",
            "Epoch 454, cost 0.0244, m grad 0.015, b grad -0.0738\n",
            "Epoch 455, cost 0.0243, m grad 0.0149, b grad -0.0734\n",
            "Epoch 456, cost 0.0243, m grad 0.0148, b grad -0.0729\n",
            "Epoch 457, cost 0.0242, m grad 0.0147, b grad -0.0725\n",
            "Epoch 458, cost 0.0242, m grad 0.0147, b grad -0.0721\n",
            "Epoch 459, cost 0.0241, m grad 0.0146, b grad -0.0717\n",
            "Epoch 460, cost 0.0241, m grad 0.0145, b grad -0.0713\n",
            "Epoch 461, cost 0.024, m grad 0.0144, b grad -0.0709\n",
            "Epoch 462, cost 0.0239, m grad 0.0143, b grad -0.0705\n",
            "Epoch 463, cost 0.0239, m grad 0.0142, b grad -0.0701\n",
            "Epoch 464, cost 0.0238, m grad 0.0142, b grad -0.0696\n",
            "Epoch 465, cost 0.0238, m grad 0.0141, b grad -0.0692\n",
            "Epoch 466, cost 0.0237, m grad 0.014, b grad -0.0688\n",
            "Epoch 467, cost 0.0237, m grad 0.0139, b grad -0.0685\n",
            "Epoch 468, cost 0.0236, m grad 0.0138, b grad -0.0681\n",
            "Epoch 469, cost 0.0236, m grad 0.0138, b grad -0.0677\n",
            "Epoch 470, cost 0.0236, m grad 0.0137, b grad -0.0673\n",
            "Epoch 471, cost 0.0235, m grad 0.0136, b grad -0.0669\n",
            "Epoch 472, cost 0.0235, m grad 0.0135, b grad -0.0665\n",
            "Epoch 473, cost 0.0234, m grad 0.0134, b grad -0.0661\n",
            "Epoch 474, cost 0.0234, m grad 0.0134, b grad -0.0657\n",
            "Epoch 475, cost 0.0233, m grad 0.0133, b grad -0.0654\n",
            "Epoch 476, cost 0.0233, m grad 0.0132, b grad -0.065\n",
            "Epoch 477, cost 0.0232, m grad 0.0131, b grad -0.0646\n",
            "Epoch 478, cost 0.0232, m grad 0.0131, b grad -0.0642\n",
            "Epoch 479, cost 0.0231, m grad 0.013, b grad -0.0639\n",
            "Epoch 480, cost 0.0231, m grad 0.0129, b grad -0.0635\n",
            "Epoch 481, cost 0.0231, m grad 0.0128, b grad -0.0631\n",
            "Epoch 482, cost 0.023, m grad 0.0128, b grad -0.0628\n",
            "Epoch 483, cost 0.023, m grad 0.0127, b grad -0.0624\n",
            "Epoch 484, cost 0.0229, m grad 0.0126, b grad -0.062\n",
            "Epoch 485, cost 0.0229, m grad 0.0125, b grad -0.0617\n",
            "Epoch 486, cost 0.0229, m grad 0.0125, b grad -0.0613\n",
            "Epoch 487, cost 0.0228, m grad 0.0124, b grad -0.061\n",
            "Epoch 488, cost 0.0228, m grad 0.0123, b grad -0.0606\n",
            "Epoch 489, cost 0.0227, m grad 0.0123, b grad -0.0603\n",
            "Epoch 490, cost 0.0227, m grad 0.0122, b grad -0.0599\n",
            "Epoch 491, cost 0.0227, m grad 0.0121, b grad -0.0596\n",
            "Epoch 492, cost 0.0226, m grad 0.012, b grad -0.0592\n",
            "Epoch 493, cost 0.0226, m grad 0.012, b grad -0.0589\n",
            "Epoch 494, cost 0.0226, m grad 0.0119, b grad -0.0586\n",
            "Epoch 495, cost 0.0225, m grad 0.0118, b grad -0.0582\n",
            "Epoch 496, cost 0.0225, m grad 0.0118, b grad -0.0579\n",
            "Epoch 497, cost 0.0225, m grad 0.0117, b grad -0.0575\n",
            "Epoch 498, cost 0.0224, m grad 0.0116, b grad -0.0572\n",
            "Epoch 499, cost 0.0224, m grad 0.0116, b grad -0.0569\n",
            "Epoch 500, cost 0.0224, m grad 0.0115, b grad -0.0566\n",
            "Epoch 501, cost 0.0223, m grad 0.0114, b grad -0.0562\n",
            "Epoch 502, cost 0.0223, m grad 0.0114, b grad -0.0559\n",
            "Epoch 503, cost 0.0223, m grad 0.0113, b grad -0.0556\n",
            "Epoch 504, cost 0.0222, m grad 0.0112, b grad -0.0553\n",
            "Epoch 505, cost 0.0222, m grad 0.0112, b grad -0.0549\n",
            "Epoch 506, cost 0.0222, m grad 0.0111, b grad -0.0546\n",
            "Epoch 507, cost 0.0221, m grad 0.011, b grad -0.0543\n",
            "Epoch 508, cost 0.0221, m grad 0.011, b grad -0.054\n",
            "Epoch 509, cost 0.0221, m grad 0.0109, b grad -0.0537\n",
            "Epoch 510, cost 0.022, m grad 0.0109, b grad -0.0534\n",
            "Epoch 511, cost 0.022, m grad 0.0108, b grad -0.0531\n",
            "Epoch 512, cost 0.022, m grad 0.0107, b grad -0.0528\n",
            "Epoch 513, cost 0.022, m grad 0.0107, b grad -0.0525\n",
            "Epoch 514, cost 0.0219, m grad 0.0106, b grad -0.0522\n",
            "Epoch 515, cost 0.0219, m grad 0.0105, b grad -0.0519\n",
            "Epoch 516, cost 0.0219, m grad 0.0105, b grad -0.0516\n",
            "Epoch 517, cost 0.0218, m grad 0.0104, b grad -0.0513\n",
            "Epoch 518, cost 0.0218, m grad 0.0104, b grad -0.051\n",
            "Epoch 519, cost 0.0218, m grad 0.0103, b grad -0.0507\n",
            "Epoch 520, cost 0.0218, m grad 0.0102, b grad -0.0504\n",
            "Epoch 521, cost 0.0217, m grad 0.0102, b grad -0.0501\n",
            "Epoch 522, cost 0.0217, m grad 0.0101, b grad -0.0498\n",
            "Epoch 523, cost 0.0217, m grad 0.0101, b grad -0.0495\n",
            "Epoch 524, cost 0.0217, m grad 0.01, b grad -0.0492\n",
            "Epoch 525, cost 0.0216, m grad 0.00995, b grad -0.0489\n",
            "Epoch 526, cost 0.0216, m grad 0.0099, b grad -0.0487\n",
            "Epoch 527, cost 0.0216, m grad 0.00984, b grad -0.0484\n",
            "Epoch 528, cost 0.0216, m grad 0.00978, b grad -0.0481\n",
            "Epoch 529, cost 0.0215, m grad 0.00973, b grad -0.0478\n",
            "Epoch 530, cost 0.0215, m grad 0.00967, b grad -0.0476\n",
            "Epoch 531, cost 0.0215, m grad 0.00961, b grad -0.0473\n",
            "Epoch 532, cost 0.0215, m grad 0.00956, b grad -0.047\n",
            "Epoch 533, cost 0.0214, m grad 0.0095, b grad -0.0467\n",
            "Epoch 534, cost 0.0214, m grad 0.00945, b grad -0.0465\n",
            "Epoch 535, cost 0.0214, m grad 0.00939, b grad -0.0462\n",
            "Epoch 536, cost 0.0214, m grad 0.00934, b grad -0.0459\n",
            "Epoch 537, cost 0.0213, m grad 0.00929, b grad -0.0457\n",
            "Epoch 538, cost 0.0213, m grad 0.00923, b grad -0.0454\n",
            "Epoch 539, cost 0.0213, m grad 0.00918, b grad -0.0451\n",
            "Epoch 540, cost 0.0213, m grad 0.00913, b grad -0.0449\n",
            "Epoch 541, cost 0.0213, m grad 0.00907, b grad -0.0446\n",
            "Epoch 542, cost 0.0212, m grad 0.00902, b grad -0.0444\n",
            "Epoch 543, cost 0.0212, m grad 0.00897, b grad -0.0441\n",
            "Epoch 544, cost 0.0212, m grad 0.00892, b grad -0.0439\n",
            "Epoch 545, cost 0.0212, m grad 0.00887, b grad -0.0436\n",
            "Epoch 546, cost 0.0212, m grad 0.00882, b grad -0.0433\n",
            "Epoch 547, cost 0.0211, m grad 0.00876, b grad -0.0431\n",
            "Epoch 548, cost 0.0211, m grad 0.00872, b grad -0.0429\n",
            "Epoch 549, cost 0.0211, m grad 0.00866, b grad -0.0426\n",
            "Epoch 550, cost 0.0211, m grad 0.00862, b grad -0.0424\n",
            "Epoch 551, cost 0.0211, m grad 0.00856, b grad -0.0421\n",
            "Epoch 552, cost 0.021, m grad 0.00851, b grad -0.0419\n",
            "Epoch 553, cost 0.021, m grad 0.00847, b grad -0.0416\n",
            "Epoch 554, cost 0.021, m grad 0.00842, b grad -0.0414\n",
            "Epoch 555, cost 0.021, m grad 0.00837, b grad -0.0412\n",
            "Epoch 556, cost 0.021, m grad 0.00832, b grad -0.0409\n",
            "Epoch 557, cost 0.021, m grad 0.00827, b grad -0.0407\n",
            "Epoch 558, cost 0.0209, m grad 0.00822, b grad -0.0404\n",
            "Epoch 559, cost 0.0209, m grad 0.00818, b grad -0.0402\n",
            "Epoch 560, cost 0.0209, m grad 0.00813, b grad -0.04\n",
            "Epoch 561, cost 0.0209, m grad 0.00808, b grad -0.0397\n",
            "Epoch 562, cost 0.0209, m grad 0.00804, b grad -0.0395\n",
            "Epoch 563, cost 0.0209, m grad 0.00799, b grad -0.0393\n",
            "Epoch 564, cost 0.0208, m grad 0.00794, b grad -0.0391\n",
            "Epoch 565, cost 0.0208, m grad 0.0079, b grad -0.0388\n",
            "Epoch 566, cost 0.0208, m grad 0.00785, b grad -0.0386\n",
            "Epoch 567, cost 0.0208, m grad 0.00781, b grad -0.0384\n",
            "Epoch 568, cost 0.0208, m grad 0.00776, b grad -0.0382\n",
            "Epoch 569, cost 0.0208, m grad 0.00772, b grad -0.038\n",
            "Epoch 570, cost 0.0208, m grad 0.00767, b grad -0.0377\n",
            "Epoch 571, cost 0.0207, m grad 0.00763, b grad -0.0375\n",
            "Epoch 572, cost 0.0207, m grad 0.00758, b grad -0.0373\n",
            "Epoch 573, cost 0.0207, m grad 0.00754, b grad -0.0371\n",
            "Epoch 574, cost 0.0207, m grad 0.0075, b grad -0.0369\n",
            "Epoch 575, cost 0.0207, m grad 0.00745, b grad -0.0367\n",
            "Epoch 576, cost 0.0207, m grad 0.00741, b grad -0.0364\n",
            "Epoch 577, cost 0.0207, m grad 0.00737, b grad -0.0362\n",
            "Epoch 578, cost 0.0206, m grad 0.00733, b grad -0.036\n",
            "Epoch 579, cost 0.0206, m grad 0.00728, b grad -0.0358\n",
            "Epoch 580, cost 0.0206, m grad 0.00724, b grad -0.0356\n",
            "Epoch 581, cost 0.0206, m grad 0.0072, b grad -0.0354\n",
            "Epoch 582, cost 0.0206, m grad 0.00716, b grad -0.0352\n",
            "Epoch 583, cost 0.0206, m grad 0.00712, b grad -0.035\n",
            "Epoch 584, cost 0.0206, m grad 0.00708, b grad -0.0348\n",
            "Epoch 585, cost 0.0205, m grad 0.00704, b grad -0.0346\n",
            "Epoch 586, cost 0.0205, m grad 0.00699, b grad -0.0344\n",
            "Epoch 587, cost 0.0205, m grad 0.00695, b grad -0.0342\n",
            "Epoch 588, cost 0.0205, m grad 0.00691, b grad -0.034\n",
            "Epoch 589, cost 0.0205, m grad 0.00687, b grad -0.0338\n",
            "Epoch 590, cost 0.0205, m grad 0.00684, b grad -0.0336\n",
            "Epoch 591, cost 0.0205, m grad 0.0068, b grad -0.0334\n",
            "Epoch 592, cost 0.0205, m grad 0.00676, b grad -0.0332\n",
            "Epoch 593, cost 0.0205, m grad 0.00672, b grad -0.033\n",
            "Epoch 594, cost 0.0204, m grad 0.00668, b grad -0.0328\n",
            "Epoch 595, cost 0.0204, m grad 0.00664, b grad -0.0327\n",
            "Epoch 596, cost 0.0204, m grad 0.0066, b grad -0.0325\n",
            "Epoch 597, cost 0.0204, m grad 0.00656, b grad -0.0323\n",
            "Epoch 598, cost 0.0204, m grad 0.00653, b grad -0.0321\n",
            "Epoch 599, cost 0.0204, m grad 0.00649, b grad -0.0319\n",
            "Epoch 600, cost 0.0204, m grad 0.00645, b grad -0.0317\n",
            "Epoch 601, cost 0.0204, m grad 0.00641, b grad -0.0315\n",
            "Epoch 602, cost 0.0204, m grad 0.00638, b grad -0.0314\n",
            "Epoch 603, cost 0.0203, m grad 0.00634, b grad -0.0312\n",
            "Epoch 604, cost 0.0203, m grad 0.0063, b grad -0.031\n",
            "Epoch 605, cost 0.0203, m grad 0.00627, b grad -0.0308\n",
            "Epoch 606, cost 0.0203, m grad 0.00623, b grad -0.0306\n",
            "Epoch 607, cost 0.0203, m grad 0.00619, b grad -0.0305\n",
            "Epoch 608, cost 0.0203, m grad 0.00616, b grad -0.0303\n",
            "Epoch 609, cost 0.0203, m grad 0.00612, b grad -0.0301\n",
            "Epoch 610, cost 0.0203, m grad 0.00609, b grad -0.0299\n",
            "Epoch 611, cost 0.0203, m grad 0.00605, b grad -0.0298\n",
            "Epoch 612, cost 0.0203, m grad 0.00602, b grad -0.0296\n",
            "Epoch 613, cost 0.0202, m grad 0.00598, b grad -0.0294\n",
            "Epoch 614, cost 0.0202, m grad 0.00595, b grad -0.0293\n",
            "Epoch 615, cost 0.0202, m grad 0.00592, b grad -0.0291\n",
            "Epoch 616, cost 0.0202, m grad 0.00588, b grad -0.0289\n",
            "Epoch 617, cost 0.0202, m grad 0.00585, b grad -0.0288\n",
            "Epoch 618, cost 0.0202, m grad 0.00581, b grad -0.0286\n",
            "Epoch 619, cost 0.0202, m grad 0.00578, b grad -0.0284\n",
            "Epoch 620, cost 0.0202, m grad 0.00575, b grad -0.0283\n",
            "Epoch 621, cost 0.0202, m grad 0.00571, b grad -0.0281\n",
            "Epoch 622, cost 0.0202, m grad 0.00568, b grad -0.0279\n",
            "Epoch 623, cost 0.0202, m grad 0.00565, b grad -0.0278\n",
            "Epoch 624, cost 0.0202, m grad 0.00562, b grad -0.0276\n",
            "Epoch 625, cost 0.0201, m grad 0.00558, b grad -0.0275\n",
            "Epoch 626, cost 0.0201, m grad 0.00555, b grad -0.0273\n",
            "Epoch 627, cost 0.0201, m grad 0.00552, b grad -0.0271\n",
            "Epoch 628, cost 0.0201, m grad 0.00549, b grad -0.027\n",
            "Epoch 629, cost 0.0201, m grad 0.00545, b grad -0.0268\n",
            "Epoch 630, cost 0.0201, m grad 0.00542, b grad -0.0267\n",
            "Epoch 631, cost 0.0201, m grad 0.00539, b grad -0.0265\n",
            "Epoch 632, cost 0.0201, m grad 0.00536, b grad -0.0264\n",
            "Epoch 633, cost 0.0201, m grad 0.00533, b grad -0.0262\n",
            "Epoch 634, cost 0.0201, m grad 0.0053, b grad -0.0261\n",
            "Epoch 635, cost 0.0201, m grad 0.00527, b grad -0.0259\n",
            "Epoch 636, cost 0.0201, m grad 0.00524, b grad -0.0258\n",
            "Epoch 637, cost 0.0201, m grad 0.00521, b grad -0.0256\n",
            "Epoch 638, cost 0.0201, m grad 0.00518, b grad -0.0255\n",
            "Epoch 639, cost 0.02, m grad 0.00515, b grad -0.0253\n",
            "Epoch 640, cost 0.02, m grad 0.00512, b grad -0.0252\n",
            "Epoch 641, cost 0.02, m grad 0.00509, b grad -0.025\n",
            "Epoch 642, cost 0.02, m grad 0.00506, b grad -0.0249\n",
            "Epoch 643, cost 0.02, m grad 0.00503, b grad -0.0247\n",
            "Epoch 644, cost 0.02, m grad 0.005, b grad -0.0246\n",
            "Epoch 645, cost 0.02, m grad 0.00497, b grad -0.0245\n",
            "Epoch 646, cost 0.02, m grad 0.00495, b grad -0.0243\n",
            "Epoch 647, cost 0.02, m grad 0.00492, b grad -0.0242\n",
            "Epoch 648, cost 0.02, m grad 0.00489, b grad -0.024\n",
            "Epoch 649, cost 0.02, m grad 0.00486, b grad -0.0239\n",
            "Epoch 650, cost 0.02, m grad 0.00483, b grad -0.0238\n",
            "Epoch 651, cost 0.02, m grad 0.0048, b grad -0.0236\n",
            "Epoch 652, cost 0.02, m grad 0.00478, b grad -0.0235\n",
            "Epoch 653, cost 0.02, m grad 0.00475, b grad -0.0234\n",
            "Epoch 654, cost 0.02, m grad 0.00472, b grad -0.0232\n",
            "Epoch 655, cost 0.0199, m grad 0.00469, b grad -0.0231\n",
            "Epoch 656, cost 0.0199, m grad 0.00467, b grad -0.0229\n",
            "Epoch 657, cost 0.0199, m grad 0.00464, b grad -0.0228\n",
            "Epoch 658, cost 0.0199, m grad 0.00461, b grad -0.0227\n",
            "Epoch 659, cost 0.0199, m grad 0.00459, b grad -0.0226\n",
            "Epoch 660, cost 0.0199, m grad 0.00456, b grad -0.0224\n",
            "Epoch 661, cost 0.0199, m grad 0.00453, b grad -0.0223\n",
            "Epoch 662, cost 0.0199, m grad 0.00451, b grad -0.0222\n",
            "Epoch 663, cost 0.0199, m grad 0.00448, b grad -0.022\n",
            "Epoch 664, cost 0.0199, m grad 0.00445, b grad -0.0219\n",
            "Epoch 665, cost 0.0199, m grad 0.00443, b grad -0.0218\n",
            "Epoch 666, cost 0.0199, m grad 0.00441, b grad -0.0217\n",
            "Epoch 667, cost 0.0199, m grad 0.00438, b grad -0.0215\n",
            "Epoch 668, cost 0.0199, m grad 0.00435, b grad -0.0214\n",
            "Epoch 669, cost 0.0199, m grad 0.00433, b grad -0.0213\n",
            "Epoch 670, cost 0.0199, m grad 0.0043, b grad -0.0212\n",
            "Epoch 671, cost 0.0199, m grad 0.00428, b grad -0.021\n",
            "Epoch 672, cost 0.0199, m grad 0.00425, b grad -0.0209\n",
            "Epoch 673, cost 0.0199, m grad 0.00423, b grad -0.0208\n",
            "Epoch 674, cost 0.0199, m grad 0.00421, b grad -0.0207\n",
            "Epoch 675, cost 0.0198, m grad 0.00418, b grad -0.0206\n",
            "Epoch 676, cost 0.0198, m grad 0.00416, b grad -0.0204\n",
            "Epoch 677, cost 0.0198, m grad 0.00413, b grad -0.0203\n",
            "Epoch 678, cost 0.0198, m grad 0.00411, b grad -0.0202\n",
            "Epoch 679, cost 0.0198, m grad 0.00409, b grad -0.0201\n",
            "Epoch 680, cost 0.0198, m grad 0.00406, b grad -0.02\n",
            "Epoch 681, cost 0.0198, m grad 0.00404, b grad -0.0199\n",
            "Epoch 682, cost 0.0198, m grad 0.00402, b grad -0.0197\n",
            "Epoch 683, cost 0.0198, m grad 0.00399, b grad -0.0196\n",
            "Epoch 684, cost 0.0198, m grad 0.00397, b grad -0.0195\n",
            "Epoch 685, cost 0.0198, m grad 0.00395, b grad -0.0194\n",
            "Epoch 686, cost 0.0198, m grad 0.00392, b grad -0.0193\n",
            "Epoch 687, cost 0.0198, m grad 0.0039, b grad -0.0192\n",
            "Epoch 688, cost 0.0198, m grad 0.00388, b grad -0.0191\n",
            "Epoch 689, cost 0.0198, m grad 0.00386, b grad -0.019\n",
            "Epoch 690, cost 0.0198, m grad 0.00383, b grad -0.0189\n",
            "Epoch 691, cost 0.0198, m grad 0.00381, b grad -0.0187\n",
            "Epoch 692, cost 0.0198, m grad 0.00379, b grad -0.0186\n",
            "Epoch 693, cost 0.0198, m grad 0.00377, b grad -0.0185\n",
            "Epoch 694, cost 0.0198, m grad 0.00375, b grad -0.0184\n",
            "Epoch 695, cost 0.0198, m grad 0.00372, b grad -0.0183\n",
            "Epoch 696, cost 0.0198, m grad 0.0037, b grad -0.0182\n",
            "Epoch 697, cost 0.0198, m grad 0.00368, b grad -0.0181\n",
            "Epoch 698, cost 0.0198, m grad 0.00366, b grad -0.018\n",
            "Epoch 699, cost 0.0198, m grad 0.00364, b grad -0.0179\n",
            "Epoch 700, cost 0.0198, m grad 0.00362, b grad -0.0178\n",
            "Epoch 701, cost 0.0197, m grad 0.0036, b grad -0.0177\n",
            "Epoch 702, cost 0.0197, m grad 0.00358, b grad -0.0176\n",
            "Epoch 703, cost 0.0197, m grad 0.00356, b grad -0.0175\n",
            "Epoch 704, cost 0.0197, m grad 0.00354, b grad -0.0174\n",
            "Epoch 705, cost 0.0197, m grad 0.00352, b grad -0.0173\n",
            "Epoch 706, cost 0.0197, m grad 0.00349, b grad -0.0172\n",
            "Epoch 707, cost 0.0197, m grad 0.00347, b grad -0.0171\n",
            "Epoch 708, cost 0.0197, m grad 0.00345, b grad -0.017\n",
            "Epoch 709, cost 0.0197, m grad 0.00343, b grad -0.0169\n",
            "Epoch 710, cost 0.0197, m grad 0.00341, b grad -0.0168\n",
            "Epoch 711, cost 0.0197, m grad 0.0034, b grad -0.0167\n",
            "Epoch 712, cost 0.0197, m grad 0.00338, b grad -0.0166\n",
            "Epoch 713, cost 0.0197, m grad 0.00336, b grad -0.0165\n",
            "Epoch 714, cost 0.0197, m grad 0.00334, b grad -0.0164\n",
            "Epoch 715, cost 0.0197, m grad 0.00332, b grad -0.0163\n",
            "Epoch 716, cost 0.0197, m grad 0.0033, b grad -0.0162\n",
            "Epoch 717, cost 0.0197, m grad 0.00328, b grad -0.0161\n",
            "Epoch 718, cost 0.0197, m grad 0.00326, b grad -0.016\n",
            "Epoch 719, cost 0.0197, m grad 0.00324, b grad -0.0159\n",
            "Epoch 720, cost 0.0197, m grad 0.00322, b grad -0.0159\n",
            "Epoch 721, cost 0.0197, m grad 0.00321, b grad -0.0158\n",
            "Epoch 722, cost 0.0197, m grad 0.00319, b grad -0.0157\n",
            "Epoch 723, cost 0.0197, m grad 0.00317, b grad -0.0156\n",
            "Epoch 724, cost 0.0197, m grad 0.00315, b grad -0.0155\n",
            "Epoch 725, cost 0.0197, m grad 0.00313, b grad -0.0154\n",
            "Epoch 726, cost 0.0197, m grad 0.00311, b grad -0.0153\n",
            "Epoch 727, cost 0.0197, m grad 0.0031, b grad -0.0152\n",
            "Epoch 728, cost 0.0197, m grad 0.00308, b grad -0.0151\n",
            "Epoch 729, cost 0.0197, m grad 0.00306, b grad -0.015\n",
            "Epoch 730, cost 0.0197, m grad 0.00304, b grad -0.015\n",
            "Epoch 731, cost 0.0197, m grad 0.00302, b grad -0.0149\n",
            "Epoch 732, cost 0.0197, m grad 0.00301, b grad -0.0148\n",
            "Epoch 733, cost 0.0197, m grad 0.00299, b grad -0.0147\n",
            "Epoch 734, cost 0.0197, m grad 0.00297, b grad -0.0146\n",
            "Epoch 735, cost 0.0197, m grad 0.00296, b grad -0.0145\n",
            "Epoch 736, cost 0.0197, m grad 0.00294, b grad -0.0145\n",
            "Epoch 737, cost 0.0197, m grad 0.00292, b grad -0.0144\n",
            "Epoch 738, cost 0.0197, m grad 0.0029, b grad -0.0143\n",
            "Epoch 739, cost 0.0196, m grad 0.00289, b grad -0.0142\n",
            "Epoch 740, cost 0.0196, m grad 0.00287, b grad -0.0141\n",
            "Epoch 741, cost 0.0196, m grad 0.00285, b grad -0.014\n",
            "Epoch 742, cost 0.0196, m grad 0.00284, b grad -0.014\n",
            "Epoch 743, cost 0.0196, m grad 0.00282, b grad -0.0139\n",
            "Epoch 744, cost 0.0196, m grad 0.00281, b grad -0.0138\n",
            "Epoch 745, cost 0.0196, m grad 0.00279, b grad -0.0137\n",
            "Epoch 746, cost 0.0196, m grad 0.00277, b grad -0.0136\n",
            "Epoch 747, cost 0.0196, m grad 0.00276, b grad -0.0136\n",
            "Epoch 748, cost 0.0196, m grad 0.00274, b grad -0.0135\n",
            "Epoch 749, cost 0.0196, m grad 0.00273, b grad -0.0134\n",
            "Epoch 750, cost 0.0196, m grad 0.00271, b grad -0.0133\n",
            "Epoch 751, cost 0.0196, m grad 0.00269, b grad -0.0132\n",
            "Epoch 752, cost 0.0196, m grad 0.00268, b grad -0.0132\n",
            "Epoch 753, cost 0.0196, m grad 0.00266, b grad -0.0131\n",
            "Epoch 754, cost 0.0196, m grad 0.00265, b grad -0.013\n",
            "Epoch 755, cost 0.0196, m grad 0.00263, b grad -0.0129\n",
            "Epoch 756, cost 0.0196, m grad 0.00262, b grad -0.0129\n",
            "Epoch 757, cost 0.0196, m grad 0.0026, b grad -0.0128\n",
            "Epoch 758, cost 0.0196, m grad 0.00259, b grad -0.0127\n",
            "Epoch 759, cost 0.0196, m grad 0.00257, b grad -0.0127\n",
            "Epoch 760, cost 0.0196, m grad 0.00256, b grad -0.0126\n",
            "Epoch 761, cost 0.0196, m grad 0.00254, b grad -0.0125\n",
            "Epoch 762, cost 0.0196, m grad 0.00253, b grad -0.0124\n",
            "Epoch 763, cost 0.0196, m grad 0.00251, b grad -0.0124\n",
            "Epoch 764, cost 0.0196, m grad 0.0025, b grad -0.0123\n",
            "Epoch 765, cost 0.0196, m grad 0.00248, b grad -0.0122\n",
            "Epoch 766, cost 0.0196, m grad 0.00247, b grad -0.0121\n",
            "Epoch 767, cost 0.0196, m grad 0.00246, b grad -0.0121\n",
            "Epoch 768, cost 0.0196, m grad 0.00244, b grad -0.012\n",
            "Epoch 769, cost 0.0196, m grad 0.00243, b grad -0.0119\n",
            "Epoch 770, cost 0.0196, m grad 0.00241, b grad -0.0119\n",
            "Epoch 771, cost 0.0196, m grad 0.0024, b grad -0.0118\n",
            "Epoch 772, cost 0.0196, m grad 0.00239, b grad -0.0117\n",
            "Epoch 773, cost 0.0196, m grad 0.00237, b grad -0.0117\n",
            "Epoch 774, cost 0.0196, m grad 0.00236, b grad -0.0116\n",
            "Epoch 775, cost 0.0196, m grad 0.00235, b grad -0.0115\n",
            "Epoch 776, cost 0.0196, m grad 0.00233, b grad -0.0115\n",
            "Epoch 777, cost 0.0196, m grad 0.00232, b grad -0.0114\n",
            "Epoch 778, cost 0.0196, m grad 0.0023, b grad -0.0113\n",
            "Epoch 779, cost 0.0196, m grad 0.00229, b grad -0.0113\n",
            "Epoch 780, cost 0.0196, m grad 0.00228, b grad -0.0112\n",
            "Epoch 781, cost 0.0196, m grad 0.00227, b grad -0.0111\n",
            "Epoch 782, cost 0.0196, m grad 0.00225, b grad -0.0111\n",
            "Epoch 783, cost 0.0196, m grad 0.00224, b grad -0.011\n",
            "Epoch 784, cost 0.0196, m grad 0.00223, b grad -0.0109\n",
            "Epoch 785, cost 0.0196, m grad 0.00221, b grad -0.0109\n",
            "Epoch 786, cost 0.0196, m grad 0.0022, b grad -0.0108\n",
            "Epoch 787, cost 0.0196, m grad 0.00219, b grad -0.0108\n",
            "Epoch 788, cost 0.0196, m grad 0.00218, b grad -0.0107\n",
            "Epoch 789, cost 0.0196, m grad 0.00216, b grad -0.0106\n",
            "Epoch 790, cost 0.0196, m grad 0.00215, b grad -0.0106\n",
            "Epoch 791, cost 0.0196, m grad 0.00214, b grad -0.0105\n",
            "Epoch 792, cost 0.0196, m grad 0.00213, b grad -0.0105\n",
            "Epoch 793, cost 0.0196, m grad 0.00211, b grad -0.0104\n",
            "Epoch 794, cost 0.0196, m grad 0.0021, b grad -0.0103\n",
            "Epoch 795, cost 0.0196, m grad 0.00209, b grad -0.0103\n",
            "Epoch 796, cost 0.0196, m grad 0.00208, b grad -0.0102\n",
            "Epoch 797, cost 0.0196, m grad 0.00207, b grad -0.0102\n",
            "Epoch 798, cost 0.0196, m grad 0.00205, b grad -0.0101\n",
            "Epoch 799, cost 0.0196, m grad 0.00204, b grad -0.01\n",
            "Epoch 800, cost 0.0196, m grad 0.00203, b grad -0.00998\n",
            "Epoch 801, cost 0.0196, m grad 0.00202, b grad -0.00992\n",
            "Epoch 802, cost 0.0196, m grad 0.00201, b grad -0.00987\n",
            "Epoch 803, cost 0.0196, m grad 0.002, b grad -0.00981\n",
            "Epoch 804, cost 0.0196, m grad 0.00198, b grad -0.00975\n",
            "Epoch 805, cost 0.0196, m grad 0.00197, b grad -0.0097\n",
            "Epoch 806, cost 0.0195, m grad 0.00196, b grad -0.00964\n",
            "Epoch 807, cost 0.0195, m grad 0.00195, b grad -0.00958\n",
            "Epoch 808, cost 0.0195, m grad 0.00194, b grad -0.00953\n",
            "Epoch 809, cost 0.0195, m grad 0.00193, b grad -0.00947\n",
            "Epoch 810, cost 0.0195, m grad 0.00192, b grad -0.00942\n",
            "Epoch 811, cost 0.0195, m grad 0.0019, b grad -0.00937\n",
            "Epoch 812, cost 0.0195, m grad 0.00189, b grad -0.00931\n",
            "Epoch 813, cost 0.0195, m grad 0.00188, b grad -0.00926\n",
            "Epoch 814, cost 0.0195, m grad 0.00187, b grad -0.0092\n",
            "Epoch 815, cost 0.0195, m grad 0.00186, b grad -0.00915\n",
            "Epoch 816, cost 0.0195, m grad 0.00185, b grad -0.0091\n",
            "Epoch 817, cost 0.0195, m grad 0.00184, b grad -0.00905\n",
            "Epoch 818, cost 0.0195, m grad 0.00183, b grad -0.00899\n",
            "Epoch 819, cost 0.0195, m grad 0.00182, b grad -0.00894\n",
            "Epoch 820, cost 0.0195, m grad 0.00181, b grad -0.00889\n",
            "Epoch 821, cost 0.0195, m grad 0.0018, b grad -0.00884\n",
            "Epoch 822, cost 0.0195, m grad 0.00179, b grad -0.00879\n",
            "Epoch 823, cost 0.0195, m grad 0.00178, b grad -0.00874\n",
            "Epoch 824, cost 0.0195, m grad 0.00177, b grad -0.00869\n",
            "Epoch 825, cost 0.0195, m grad 0.00176, b grad -0.00864\n",
            "Epoch 826, cost 0.0195, m grad 0.00175, b grad -0.00859\n",
            "Epoch 827, cost 0.0195, m grad 0.00174, b grad -0.00854\n",
            "Epoch 828, cost 0.0195, m grad 0.00173, b grad -0.00849\n",
            "Epoch 829, cost 0.0195, m grad 0.00172, b grad -0.00844\n",
            "Epoch 830, cost 0.0195, m grad 0.00171, b grad -0.00839\n",
            "Epoch 831, cost 0.0195, m grad 0.0017, b grad -0.00834\n",
            "Epoch 832, cost 0.0195, m grad 0.00169, b grad -0.00829\n",
            "Epoch 833, cost 0.0195, m grad 0.00168, b grad -0.00825\n",
            "Epoch 834, cost 0.0195, m grad 0.00167, b grad -0.0082\n",
            "Epoch 835, cost 0.0195, m grad 0.00166, b grad -0.00815\n",
            "Epoch 836, cost 0.0195, m grad 0.00165, b grad -0.0081\n",
            "Epoch 837, cost 0.0195, m grad 0.00164, b grad -0.00806\n",
            "Epoch 838, cost 0.0195, m grad 0.00163, b grad -0.00801\n",
            "Epoch 839, cost 0.0195, m grad 0.00162, b grad -0.00797\n",
            "Epoch 840, cost 0.0195, m grad 0.00161, b grad -0.00792\n",
            "Epoch 841, cost 0.0195, m grad 0.0016, b grad -0.00787\n",
            "Epoch 842, cost 0.0195, m grad 0.00159, b grad -0.00783\n",
            "Epoch 843, cost 0.0195, m grad 0.00158, b grad -0.00778\n",
            "Epoch 844, cost 0.0195, m grad 0.00157, b grad -0.00774\n",
            "Epoch 845, cost 0.0195, m grad 0.00157, b grad -0.00769\n",
            "Epoch 846, cost 0.0195, m grad 0.00156, b grad -0.00765\n",
            "Epoch 847, cost 0.0195, m grad 0.00155, b grad -0.00761\n",
            "Epoch 848, cost 0.0195, m grad 0.00154, b grad -0.00756\n",
            "Epoch 849, cost 0.0195, m grad 0.00153, b grad -0.00752\n",
            "Epoch 850, cost 0.0195, m grad 0.00152, b grad -0.00747\n",
            "Epoch 851, cost 0.0195, m grad 0.00151, b grad -0.00743\n",
            "Epoch 852, cost 0.0195, m grad 0.0015, b grad -0.00739\n",
            "Epoch 853, cost 0.0195, m grad 0.00149, b grad -0.00735\n",
            "Epoch 854, cost 0.0195, m grad 0.00149, b grad -0.0073\n",
            "Epoch 855, cost 0.0195, m grad 0.00148, b grad -0.00726\n",
            "Epoch 856, cost 0.0195, m grad 0.00147, b grad -0.00722\n",
            "Epoch 857, cost 0.0195, m grad 0.00146, b grad -0.00718\n",
            "Epoch 858, cost 0.0195, m grad 0.00145, b grad -0.00714\n",
            "Epoch 859, cost 0.0195, m grad 0.00144, b grad -0.0071\n",
            "Epoch 860, cost 0.0195, m grad 0.00143, b grad -0.00705\n",
            "Epoch 861, cost 0.0195, m grad 0.00143, b grad -0.00701\n",
            "Epoch 862, cost 0.0195, m grad 0.00142, b grad -0.00697\n",
            "Epoch 863, cost 0.0195, m grad 0.00141, b grad -0.00693\n",
            "Epoch 864, cost 0.0195, m grad 0.0014, b grad -0.00689\n",
            "Epoch 865, cost 0.0195, m grad 0.00139, b grad -0.00685\n",
            "Epoch 866, cost 0.0195, m grad 0.00138, b grad -0.00681\n",
            "Epoch 867, cost 0.0195, m grad 0.00138, b grad -0.00678\n",
            "Epoch 868, cost 0.0195, m grad 0.00137, b grad -0.00674\n",
            "Epoch 869, cost 0.0195, m grad 0.00136, b grad -0.0067\n",
            "Epoch 870, cost 0.0195, m grad 0.00135, b grad -0.00666\n",
            "Epoch 871, cost 0.0195, m grad 0.00135, b grad -0.00662\n",
            "Epoch 872, cost 0.0195, m grad 0.00134, b grad -0.00658\n",
            "Epoch 873, cost 0.0195, m grad 0.00133, b grad -0.00654\n",
            "Epoch 874, cost 0.0195, m grad 0.00132, b grad -0.00651\n",
            "Epoch 875, cost 0.0195, m grad 0.00132, b grad -0.00647\n",
            "Epoch 876, cost 0.0195, m grad 0.00131, b grad -0.00643\n",
            "Epoch 877, cost 0.0195, m grad 0.0013, b grad -0.00639\n",
            "Epoch 878, cost 0.0195, m grad 0.00129, b grad -0.00636\n",
            "Epoch 879, cost 0.0195, m grad 0.00128, b grad -0.00632\n",
            "Epoch 880, cost 0.0195, m grad 0.00128, b grad -0.00628\n",
            "Epoch 881, cost 0.0195, m grad 0.00127, b grad -0.00625\n",
            "Epoch 882, cost 0.0195, m grad 0.00126, b grad -0.00621\n",
            "Epoch 883, cost 0.0195, m grad 0.00126, b grad -0.00618\n",
            "Epoch 884, cost 0.0195, m grad 0.00125, b grad -0.00614\n",
            "Epoch 885, cost 0.0195, m grad 0.00124, b grad -0.00611\n",
            "Epoch 886, cost 0.0195, m grad 0.00123, b grad -0.00607\n",
            "Epoch 887, cost 0.0195, m grad 0.00123, b grad -0.00604\n",
            "Epoch 888, cost 0.0195, m grad 0.00122, b grad -0.006\n",
            "Epoch 889, cost 0.0195, m grad 0.00121, b grad -0.00597\n",
            "Epoch 890, cost 0.0195, m grad 0.00121, b grad -0.00593\n",
            "Epoch 891, cost 0.0195, m grad 0.0012, b grad -0.0059\n",
            "Epoch 892, cost 0.0195, m grad 0.00119, b grad -0.00586\n",
            "Epoch 893, cost 0.0195, m grad 0.00119, b grad -0.00583\n",
            "Epoch 894, cost 0.0195, m grad 0.00118, b grad -0.0058\n",
            "Epoch 895, cost 0.0195, m grad 0.00117, b grad -0.00576\n",
            "Epoch 896, cost 0.0195, m grad 0.00116, b grad -0.00573\n",
            "Epoch 897, cost 0.0195, m grad 0.00116, b grad -0.0057\n",
            "Epoch 898, cost 0.0195, m grad 0.00115, b grad -0.00566\n",
            "Epoch 899, cost 0.0195, m grad 0.00114, b grad -0.00563\n",
            "Epoch 900, cost 0.0195, m grad 0.00114, b grad -0.0056\n",
            "Epoch 901, cost 0.0195, m grad 0.00113, b grad -0.00557\n",
            "Epoch 902, cost 0.0195, m grad 0.00113, b grad -0.00553\n",
            "Epoch 903, cost 0.0195, m grad 0.00112, b grad -0.0055\n",
            "Epoch 904, cost 0.0195, m grad 0.00111, b grad -0.00547\n",
            "Epoch 905, cost 0.0195, m grad 0.00111, b grad -0.00544\n",
            "Epoch 906, cost 0.0195, m grad 0.0011, b grad -0.00541\n",
            "Epoch 907, cost 0.0195, m grad 0.00109, b grad -0.00538\n",
            "Epoch 908, cost 0.0195, m grad 0.00109, b grad -0.00535\n",
            "Epoch 909, cost 0.0195, m grad 0.00108, b grad -0.00531\n",
            "Epoch 910, cost 0.0195, m grad 0.00107, b grad -0.00528\n",
            "Epoch 911, cost 0.0195, m grad 0.00107, b grad -0.00525\n",
            "Epoch 912, cost 0.0195, m grad 0.00106, b grad -0.00522\n",
            "Epoch 913, cost 0.0195, m grad 0.00106, b grad -0.00519\n",
            "Epoch 914, cost 0.0195, m grad 0.00105, b grad -0.00516\n",
            "Epoch 915, cost 0.0195, m grad 0.00104, b grad -0.00513\n",
            "Epoch 916, cost 0.0195, m grad 0.00104, b grad -0.0051\n",
            "Epoch 917, cost 0.0195, m grad 0.00103, b grad -0.00507\n",
            "Epoch 918, cost 0.0195, m grad 0.00103, b grad -0.00504\n",
            "Epoch 919, cost 0.0195, m grad 0.00102, b grad -0.00502\n",
            "Epoch 920, cost 0.0195, m grad 0.00101, b grad -0.00499\n",
            "Epoch 921, cost 0.0195, m grad 0.00101, b grad -0.00496\n",
            "Epoch 922, cost 0.0195, m grad 0.001, b grad -0.00493\n",
            "Epoch 923, cost 0.0195, m grad 0.000997, b grad -0.0049\n",
            "Epoch 924, cost 0.0195, m grad 0.000991, b grad -0.00487\n",
            "Epoch 925, cost 0.0195, m grad 0.000986, b grad -0.00484\n",
            "Epoch 926, cost 0.0195, m grad 0.000979, b grad -0.00482\n",
            "Epoch 927, cost 0.0195, m grad 0.000973, b grad -0.00479\n",
            "Epoch 928, cost 0.0195, m grad 0.000968, b grad -0.00476\n",
            "Epoch 929, cost 0.0195, m grad 0.000962, b grad -0.00473\n",
            "Epoch 930, cost 0.0195, m grad 0.000956, b grad -0.00471\n",
            "Epoch 931, cost 0.0195, m grad 0.000951, b grad -0.00468\n",
            "Epoch 932, cost 0.0195, m grad 0.000946, b grad -0.00465\n",
            "Epoch 933, cost 0.0195, m grad 0.000941, b grad -0.00463\n",
            "Epoch 934, cost 0.0195, m grad 0.000935, b grad -0.0046\n",
            "Epoch 935, cost 0.0195, m grad 0.00093, b grad -0.00457\n",
            "Epoch 936, cost 0.0195, m grad 0.000925, b grad -0.00455\n",
            "Epoch 937, cost 0.0195, m grad 0.000919, b grad -0.00452\n",
            "Epoch 938, cost 0.0195, m grad 0.000914, b grad -0.00449\n",
            "Epoch 939, cost 0.0195, m grad 0.000908, b grad -0.00447\n",
            "Epoch 940, cost 0.0195, m grad 0.000903, b grad -0.00444\n",
            "Epoch 941, cost 0.0195, m grad 0.000898, b grad -0.00442\n",
            "Epoch 942, cost 0.0195, m grad 0.000893, b grad -0.00439\n",
            "Epoch 943, cost 0.0195, m grad 0.000887, b grad -0.00437\n",
            "Epoch 944, cost 0.0195, m grad 0.000882, b grad -0.00434\n",
            "Epoch 945, cost 0.0195, m grad 0.000877, b grad -0.00432\n",
            "Epoch 946, cost 0.0195, m grad 0.000872, b grad -0.00429\n",
            "Epoch 947, cost 0.0195, m grad 0.000867, b grad -0.00427\n",
            "Epoch 948, cost 0.0195, m grad 0.000862, b grad -0.00424\n",
            "Epoch 949, cost 0.0195, m grad 0.000858, b grad -0.00422\n",
            "Epoch 950, cost 0.0195, m grad 0.000853, b grad -0.00419\n",
            "Epoch 951, cost 0.0195, m grad 0.000848, b grad -0.00417\n",
            "Epoch 952, cost 0.0195, m grad 0.000843, b grad -0.00414\n",
            "Epoch 953, cost 0.0195, m grad 0.000838, b grad -0.00412\n",
            "Epoch 954, cost 0.0195, m grad 0.000834, b grad -0.0041\n",
            "Epoch 955, cost 0.0195, m grad 0.000829, b grad -0.00407\n",
            "Epoch 956, cost 0.0195, m grad 0.000824, b grad -0.00405\n",
            "Epoch 957, cost 0.0195, m grad 0.000819, b grad -0.00403\n",
            "Epoch 958, cost 0.0195, m grad 0.000814, b grad -0.004\n",
            "Epoch 959, cost 0.0195, m grad 0.00081, b grad -0.00398\n",
            "Epoch 960, cost 0.0195, m grad 0.000805, b grad -0.00396\n",
            "Epoch 961, cost 0.0195, m grad 0.0008, b grad -0.00393\n",
            "Epoch 962, cost 0.0195, m grad 0.000796, b grad -0.00391\n",
            "Epoch 963, cost 0.0195, m grad 0.000791, b grad -0.00389\n",
            "Epoch 964, cost 0.0195, m grad 0.000786, b grad -0.00387\n",
            "Epoch 965, cost 0.0195, m grad 0.000781, b grad -0.00384\n",
            "Epoch 966, cost 0.0195, m grad 0.000776, b grad -0.00382\n",
            "Epoch 967, cost 0.0195, m grad 0.000772, b grad -0.0038\n",
            "Epoch 968, cost 0.0195, m grad 0.000768, b grad -0.00378\n",
            "Epoch 969, cost 0.0195, m grad 0.000763, b grad -0.00376\n",
            "Epoch 970, cost 0.0195, m grad 0.000759, b grad -0.00373\n",
            "Epoch 971, cost 0.0195, m grad 0.000754, b grad -0.00371\n",
            "Epoch 972, cost 0.0195, m grad 0.00075, b grad -0.00369\n",
            "Epoch 973, cost 0.0195, m grad 0.000746, b grad -0.00367\n",
            "Epoch 974, cost 0.0195, m grad 0.000742, b grad -0.00365\n",
            "Epoch 975, cost 0.0195, m grad 0.000738, b grad -0.00363\n",
            "Epoch 976, cost 0.0195, m grad 0.000733, b grad -0.00361\n",
            "Epoch 977, cost 0.0195, m grad 0.000729, b grad -0.00359\n",
            "Epoch 978, cost 0.0195, m grad 0.000725, b grad -0.00357\n",
            "Epoch 979, cost 0.0195, m grad 0.000721, b grad -0.00355\n",
            "Epoch 980, cost 0.0195, m grad 0.000716, b grad -0.00352\n",
            "Epoch 981, cost 0.0195, m grad 0.000713, b grad -0.0035\n",
            "Epoch 982, cost 0.0195, m grad 0.000709, b grad -0.00348\n",
            "Epoch 983, cost 0.0195, m grad 0.000704, b grad -0.00346\n",
            "Epoch 984, cost 0.0195, m grad 0.000701, b grad -0.00344\n",
            "Epoch 985, cost 0.0195, m grad 0.000697, b grad -0.00342\n",
            "Epoch 986, cost 0.0195, m grad 0.000692, b grad -0.0034\n",
            "Epoch 987, cost 0.0195, m grad 0.000689, b grad -0.00338\n",
            "Epoch 988, cost 0.0195, m grad 0.000685, b grad -0.00337\n",
            "Epoch 989, cost 0.0195, m grad 0.00068, b grad -0.00335\n",
            "Epoch 990, cost 0.0195, m grad 0.000677, b grad -0.00333\n",
            "Epoch 991, cost 0.0195, m grad 0.000673, b grad -0.00331\n"
          ]
        }
      ],
      "source": [
        "epochs = 992 # accounts for rounds above to match 1000 epochs of regression-in-pytorch.ipynb\n",
        "for epoch in range(epochs):\n",
        "\n",
        "    yhats = regression(xs, m, b) # Step 1\n",
        "    C = mse(yhats, ys) # Step 2\n",
        "\n",
        "    C.backward() # Step 3\n",
        "\n",
        "    print('Epoch {}, cost {}, m grad {}, b grad {}'.format(epoch, '%.3g' % C.item(), '%.3g' % m.grad.item(), '%.3g' % b.grad.item()))\n",
        "\n",
        "    gradient = torch.tensor([[b.grad.item(), m.grad.item()]]).T\n",
        "    theta = torch.tensor([[b, m]]).T\n",
        "\n",
        "    new_theta = theta - lr*gradient # Step 4\n",
        "\n",
        "    b = new_theta[0].requires_grad_()\n",
        "    m = new_theta[1].requires_grad_()"
      ]
    },
    {
      "cell_type": "code",
      "execution_count": null,
      "id": "34dd27dc-8858-4427-bfec-3f725e36ed47",
      "metadata": {
        "colab": {
          "base_uri": "https://localhost:8080/",
          "height": 295
        },
        "id": "34dd27dc-8858-4427-bfec-3f725e36ed47",
        "outputId": "955bd43f-43d6-4ec0-a58a-f1475f668bdc"
      },
      "outputs": [
        {
          "output_type": "display_data",
          "data": {
            "text/plain": [
              "<Figure size 432x288 with 1 Axes>"
            ],
            "image/png": "[encoded data removed]"
          },
          "metadata": {
            "needs_background": "light"
          }
        }
      ],
      "source": [
        "labeled_regression_plot(xs, ys, m, b, C, include_grad=False)"
      ]
    },
    {
      "cell_type": "code",
      "execution_count": null,
      "id": "833da3d7-cb50-4f7f-a270-5e5eb5af1757",
      "metadata": {
        "id": "833da3d7-cb50-4f7f-a270-5e5eb5af1757"
      },
      "outputs": [],
      "source": []
    },
    {
      "cell_type": "code",
      "execution_count": null,
      "id": "6cf6907d-f619-4cb8-9803-f644937a27dc",
      "metadata": {
        "id": "6cf6907d-f619-4cb8-9803-f644937a27dc"
      },
      "outputs": [],
      "source": []
    }
  ],
  "metadata": {
    "kernelspec": {
      "display_name": "Python 3 (ipykernel)",
      "language": "python",
      "name": "python3"
    },
    "language_info": {
      "codemirror_mode": {
        "name": "ipython",
        "version": 3
      },
      "file_extension": ".py",
      "mimetype": "text/x-python",
      "name": "python",
      "nbconvert_exporter": "python",
      "pygments_lexer": "ipython3",
      "version": "3.9.5"
    },
    "colab": {
      "provenance": []
    },
    "accelerator": "GPU",
    "gpuClass": "standard"
  },
  "nbformat": 4,
  "nbformat_minor": 5
}