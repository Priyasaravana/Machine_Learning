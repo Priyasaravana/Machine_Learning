{
  "nbformat": 4,
  "nbformat_minor": 0,
  "metadata": {
    "colab": {
      "provenance": [],
      "toc_visible": true
    },
    "kernelspec": {
      "name": "python3",
      "display_name": "Python 3"
    },
    "language_info": {
      "name": "python"
    }
  },
  "cells": [
    {
      "cell_type": "markdown",
      "source": [
        "<H1 style=\"text-align: center\">EEEM066 - Fundamentals of Machine Learning</H1>\n",
        "<H1 style=\"text-align: center\">Week - 1: Introduction to NumPy</H1>\n",
        "\n",
        "\n",
        "> Dr. Xiatian (Eddy) Zhu, Dr Syed Sameed Husain\n",
        "\n",
        "> xiatian.zhu@surrey.ac.uk, sameed.husain@surrey.ac.uk\n",
        "\n",
        "\n",
        "\n",
        "\n",
        "Intended Audience: We assume you now have a basic hands-on experience of programming in MATLAB. The objective of this lab (and the upcoming sessions) is to introduce you to the Python programming language which will eventually assist you in completing your coursework.\n",
        "\n",
        "Many of you might already have some prior experience using Python and its libraries for instance, numpy, scipy etc. (as a part of EEEM071),hence, please feel free to rather have a quick glance through this notebook, and jumpstart with your coursework project.\n",
        "\n",
        "Happy Programming!⚡⚡"
      ],
      "metadata": {
        "id": "a7GxengBWpKf"
      }
    },
    {
      "cell_type": "markdown",
      "source": [
        "# Python Programming Language\n",
        "\n",
        "An **interpreted**, **Object-oriented**, **garbage-collected** programming language.\n",
        "\n",
        "* \"**interpreted**\": Two types of languages -interpreted or compiled. Former, compiles (translates) the entire code into a machine level code before execution, whereas the latter tends to translate each line one by one at run-time and hence is comparatively slower but supports platform independence since binary code is not pre-compiled.\n",
        "\n",
        "* \"**Object-oriented**\": Provision for Classes and Objects and hence supports all fundamental OOPs concepts - encapsulation, abstraction, inheritance, and polymorphism.\n",
        "\n",
        "* \"**Grabage-collected**\": Consists of a dedicated engine, which frees up memory for objects no longer needed by the program (have gone out-of-scope)."
      ],
      "metadata": {
        "id": "ithYS_xZWuvM"
      }
    },
    {
      "cell_type": "markdown",
      "source": [
        "## Contents\n",
        "\n",
        "\n",
        "*   [Hello World!](https://colab.research.google.com/drive/1f4jmfmnrCsJZKdXl97J6h-DHk4eLuXKo#scrollTo=3bHr4IHjeEsf)\n",
        "*   [Datatypes](https://colab.research.google.com/drive/1f4jmfmnrCsJZKdXl97J6h-DHk4eLuXKo#scrollTo=Jl23IEWGfEaV)\n",
        "*   [Containers (or Collections)](https://colab.research.google.com/drive/1f4jmfmnrCsJZKdXl97J6h-DHk4eLuXKo#scrollTo=ixpuMWu-fKPv&line=7&uniqifier=1)\n",
        "*   [Condtional Statements](https://colab.research.google.com/drive/1f4jmfmnrCsJZKdXl97J6h-DHk4eLuXKo#scrollTo=SWcqgwNXGemx&line=12&uniqifier=1)\n",
        "*   [Control Statements](https://colab.research.google.com/drive/1f4jmfmnrCsJZKdXl97J6h-DHk4eLuXKo#scrollTo=YVxYeEkcRXbm&line=28&uniqifier=1)\n",
        "*   [Loops](https://colab.research.google.com/drive/1f4jmfmnrCsJZKdXl97J6h-DHk4eLuXKo#scrollTo=hSOufTuWLPPO&line=25&uniqifier=1)\n",
        "*   [Functions](https://colab.research.google.com/drive/1f4jmfmnrCsJZKdXl97J6h-DHk4eLuXKo#scrollTo=60LONgviO4px&line=13&uniqifier=1)\n",
        "*   [Classes and Objects](https://colab.research.google.com/drive/1f4jmfmnrCsJZKdXl97J6h-DHk4eLuXKo#scrollTo=QSDSvIEjPmUa&line=6&uniqifier=1)\n",
        "*   [Modules and Packages](https://colab.research.google.com/drive/1f4jmfmnrCsJZKdXl97J6h-DHk4eLuXKo#scrollTo=Modules_and_Packages)\n",
        "*   [References](https://colab.research.google.com/drive/1f4jmfmnrCsJZKdXl97J6h-DHk4eLuXKo#scrollTo=Epc2J0BLdyJo&line=7&uniqifier=1)\n",
        "\n"
      ],
      "metadata": {
        "id": "klM1LTmwfGSj"
      }
    },
    {
      "cell_type": "markdown",
      "source": [
        "## Hello World!\n",
        "\n",
        "\n"
      ],
      "metadata": {
        "id": "3bHr4IHjeEsf"
      }
    },
    {
      "cell_type": "code",
      "execution_count": null,
      "metadata": {
        "colab": {
          "base_uri": "https://localhost:8080/"
        },
        "id": "vNALhKZFWq28",
        "outputId": "34ea67d2-db49-4c67-9de3-fce417c112ef"
      },
      "outputs": [
        {
          "output_type": "stream",
          "name": "stdout",
          "text": [
            "Hello World!\n",
            "Hello World!\n"
          ]
        }
      ],
      "source": [
        "#Basic print command\n",
        "print(\"Hello World!\")\n",
        "\n",
        "#String formatting, string.format(x1, x2...)\n",
        "print('{} {}{}'.format(\"Hello\", \"World\", \"!\"))\n"
      ]
    },
    {
      "cell_type": "markdown",
      "source": [
        "## Datatypes\n",
        "\n"
      ],
      "metadata": {
        "id": "Jl23IEWGfEaV"
      }
    },
    {
      "cell_type": "markdown",
      "source": [
        "There are four main datatypes in Python,\n",
        "\n",
        "\n",
        "*   Integer ('int') - All integer values.\n",
        "*   Float ('float') - All floating point decimal values.\n",
        "*   String ('str') - Strings or single characters.\n",
        "*   Boolean ('bool') - True/False\n",
        "\n"
      ],
      "metadata": {
        "id": "1-wkL2hqbFAr"
      }
    },
    {
      "cell_type": "code",
      "source": [
        "x1 = 100\n",
        "x2 = 100.0\n",
        "x3 = 'University of Surrey'\n",
        "x4 = \"University of Surrey\" #in python both single quotes and double quotes are used to denote strings. ('' == \"\")\n",
        "x5 = True\n",
        "\n",
        "print(str(x1) + ' is stored as type: ' + str(type(x1)))\n",
        "print(str(x2) + ' is stored as type: ' + str(type(x2)))\n",
        "print(str(x3) + ' is stored as type: ' + str(type(x3)))\n",
        "print(str(x4) + ' is stored as type: ' + str(type(x4)))\n",
        "print(str(x5) + ' is stored as type: ' + str(type(x5)))"
      ],
      "metadata": {
        "colab": {
          "base_uri": "https://localhost:8080/"
        },
        "id": "htf5ZlftZd7O",
        "outputId": "25a2c3f3-4ba5-420b-8ff0-062f9487240b"
      },
      "execution_count": null,
      "outputs": [
        {
          "output_type": "stream",
          "name": "stdout",
          "text": [
            "100 is stored as type: <class 'int'>\n",
            "100.0 is stored as type: <class 'float'>\n",
            "University of Surrey is stored as type: <class 'str'>\n",
            "University of Surrey is stored as type: <class 'str'>\n",
            "True is stored as type: <class 'bool'>\n"
          ]
        }
      ]
    },
    {
      "cell_type": "markdown",
      "source": [
        "## Typecasting in Python\n",
        "\n",
        "Python provides a convenient way to typecast or change existing datatypes using constructor functions: int(), str(), float()"
      ],
      "metadata": {
        "id": "mZWIMJ4YbqGu"
      }
    },
    {
      "cell_type": "code",
      "source": [
        "x1 = 100\n",
        "x2 = int(100.0)\n",
        "x3 = int(\"2\")\n",
        "\n",
        "print(type(x1))\n",
        "print(type(x2))\n",
        "print(type(x3))"
      ],
      "metadata": {
        "colab": {
          "base_uri": "https://localhost:8080/"
        },
        "id": "kHuU3cybbnmM",
        "outputId": "2ef26cdc-e7a5-49f5-8979-e07561650322"
      },
      "execution_count": null,
      "outputs": [
        {
          "output_type": "stream",
          "name": "stdout",
          "text": [
            "<class 'int'>\n",
            "<class 'int'>\n",
            "<class 'int'>\n"
          ]
        }
      ]
    },
    {
      "cell_type": "code",
      "source": [
        "x1 = 100.0\n",
        "x2 = float(100)\n",
        "x3 = float(\"100\")\n",
        "\n",
        "print(type(x1))\n",
        "print(type(x2))\n",
        "print(type(x3))"
      ],
      "metadata": {
        "colab": {
          "base_uri": "https://localhost:8080/"
        },
        "id": "af_4-GAQeMC8",
        "outputId": "081a6250-d28f-4523-a50d-6e002e662151"
      },
      "execution_count": null,
      "outputs": [
        {
          "output_type": "stream",
          "name": "stdout",
          "text": [
            "<class 'float'>\n",
            "<class 'float'>\n",
            "<class 'float'>\n"
          ]
        }
      ]
    },
    {
      "cell_type": "code",
      "source": [
        "x1 = \"100\"\n",
        "x2 = str(100)\n",
        "x3 = str(100.0)\n",
        "\n",
        "print(type(x1))\n",
        "print(type(x2))\n",
        "print(type(x3))"
      ],
      "metadata": {
        "colab": {
          "base_uri": "https://localhost:8080/"
        },
        "id": "_l8URmvXd9tZ",
        "outputId": "8605f18e-2ad3-40e1-c9f8-a8f84c46eed5"
      },
      "execution_count": null,
      "outputs": [
        {
          "output_type": "stream",
          "name": "stdout",
          "text": [
            "<class 'str'>\n",
            "<class 'str'>\n",
            "<class 'str'>\n"
          ]
        }
      ]
    },
    {
      "cell_type": "markdown",
      "source": [
        "## Containers (or Collections)\n",
        "\n",
        "Apart from the basic datatypes discussed above, Python also provides container dataypes, which are essentially wrappers around the basic datatypes which serve a common functionality.\n",
        "* Lists - list([..., ])\n",
        "* Tuple - tuple(..., )\n",
        "* Dictionary - dict{key: value, ..., }\n",
        "* Set - set(..., )"
      ],
      "metadata": {
        "id": "ixpuMWu-fKPv"
      }
    },
    {
      "cell_type": "code",
      "source": [
        "#Lists : Ordered, mutable/dynamic, heterogeneous collection.\n",
        "'''\n",
        "Ordered: Sequence of insertion/deletion is maintained through integer indices.\n",
        "Mutable: Modifiable, addition, insertion within the same list.\n",
        "Heterogeneous: A single list can contain object of different datatypes, ex: int, str, object.\n",
        "'''\n",
        "\n",
        "#Creating new list\n",
        "x = [] #empty list\n",
        "x = list() #empty list using the list constructor\n",
        "print('Empty list, x: ', x)\n",
        "\n",
        "#Adding new values to the list\n",
        "x.append(1)\n",
        "print('After appending value in x: ', x)\n",
        "\n",
        "#Concatenating two lists\n",
        "x1 = [1, 1, 1]\n",
        "x2 = [2, 2, 2]\n",
        "x3 = x1+x2\n",
        "\n",
        "print(\"x1: \", x1)\n",
        "print(\"x2: \", x2)\n",
        "print(\"x1+x2: \", x3)\n",
        "\n",
        "# you can check the length/number of elements of a list with the len() function\n",
        "print(\"x1 length: \", len(x1))\n",
        "print(\"x1+x2 length: \", len(x3))"
      ],
      "metadata": {
        "colab": {
          "base_uri": "https://localhost:8080/"
        },
        "id": "lmxWHl_vjHob",
        "outputId": "ad928c1a-8b1f-4537-aedd-373972ff0f78"
      },
      "execution_count": null,
      "outputs": [
        {
          "output_type": "stream",
          "name": "stdout",
          "text": [
            "Empty list, x:  []\n",
            "After appending value in x:  [1]\n",
            "x1:  [1, 1, 1]\n",
            "x2:  [2, 2, 2]\n",
            "x1+x2:  [1, 1, 1, 2, 2, 2]\n",
            "x1 length:  3\n",
            "x1+x2 length:  6\n"
          ]
        }
      ]
    },
    {
      "cell_type": "code",
      "source": [
        "#Tuples : Same as lists except immutable/static!\n",
        "'''\n",
        "'''\n",
        "\n",
        "#Creating new tuple\n",
        "x = () #empty tuple\n",
        "x = tuple() #empty tuple using the tuple constructor\n",
        "print('Empty tuple, x: ', x)\n",
        "\n",
        "#Adding new values to a tuple\n",
        "# x.append(1) --> NOT ALLOWED, IMMUTABLE!!\n",
        "\n",
        "#Concatenating two tuples\n",
        "x1 = (1, 1, 1)\n",
        "x2 = (2, 2, 2)\n",
        "x3 = x1+x2\n",
        "\n",
        "print(\"x1: \", x1)\n",
        "print(\"x2: \", x2)\n",
        "print(\"x1+x2: \", x3)\n",
        "\n",
        "##Why use a tuple though??\n",
        "# Apart from being immutable, tuples are more memory efficient compared to lists (of particular interest when no. of elements > 10^5).\n",
        "x_list = list(range(100000))\n",
        "x_tuple = tuple(range(100000))\n",
        "\n",
        "print('\\n In case of huge number of elements ...')\n",
        "print('size of list: ', x_list.__sizeof__())\n",
        "print('size of tuple: ', x_tuple.__sizeof__())"
      ],
      "metadata": {
        "colab": {
          "base_uri": "https://localhost:8080/"
        },
        "id": "nGykBq-gkivG",
        "outputId": "3f322a15-41e4-4ee5-828a-8caf28134dbc"
      },
      "execution_count": null,
      "outputs": [
        {
          "output_type": "stream",
          "name": "stdout",
          "text": [
            "Empty tuple, x:  ()\n",
            "x1:  (1, 1, 1)\n",
            "x2:  (2, 2, 2)\n",
            "x1+x2:  (1, 1, 1, 2, 2, 2)\n",
            "\n",
            " In case of huge number of elements ...\n",
            "size of list:  800040\n",
            "size of tuple:  800024\n"
          ]
        }
      ]
    },
    {
      "cell_type": "code",
      "source": [
        "#Dictionary : Mutable/dynamic, wherein each element is defined by a key-value pair.\n",
        "'''\n",
        "dict - {key_1: value_1, key_2: value_2, ...}\n",
        "'''\n",
        "\n",
        "#Creating new dictionary\n",
        "x = {} #empty dictionary\n",
        "x = dict() #empty dictionary using the dictionary constructor\n",
        "print('Empty dictionary, x: ', x)\n",
        "\n",
        "# A sample dictionary with key-value pairs\n",
        "x = {'a': 1, 'b': 2, 'c': 3}\n",
        "print('x: ', x)\n",
        "\n",
        "#Accessing keys in a dict\n",
        "print('Keys: ', x.keys())\n",
        "\n",
        "#Accessing values in a dict\n",
        "print('Values: ', x.values())\n",
        "\n",
        "#Iterating through a dicitonary\n",
        "for k, v in x.items():\n",
        "    print('Key: ', k, ' --> ', 'Value: ', v)\n",
        "\n",
        "#Accessing elements using keys\n",
        "print('Value in the dictionary for key = a, ', x['a'])\n",
        "print('Value in the dictionary for key = b, ', x['b'])\n"
      ],
      "metadata": {
        "colab": {
          "base_uri": "https://localhost:8080/"
        },
        "id": "G6WR5umiod3b",
        "outputId": "393074a2-ac24-4ea5-f737-36d33aca9c3b"
      },
      "execution_count": null,
      "outputs": [
        {
          "output_type": "stream",
          "name": "stdout",
          "text": [
            "Empty dictionary, x:  {}\n",
            "x:  {'a': 1, 'b': 2, 'c': 3}\n",
            "Keys:  dict_keys(['a', 'b', 'c'])\n",
            "Values:  dict_values([1, 2, 3])\n",
            "Key:  a  -->  Value:  1\n",
            "Key:  b  -->  Value:  2\n",
            "Key:  c  -->  Value:  3\n",
            "Value in the dictionary for key = a,  1\n",
            "Value in the dictionary for key = b,  2\n"
          ]
        }
      ]
    },
    {
      "cell_type": "code",
      "source": [
        "#Sets : unordered, Mutable/dynamic but \"unique\" collection of objects.\n",
        "'''\n",
        "set - {value_1, value_2, ...}\n",
        "'''\n",
        "\n",
        "#Creating new set\n",
        "x = set() #empty set using the set constructor\n",
        "print('Empty set, x: ', x)\n",
        "\n",
        "# A sample dictionary with key-value pairs\n",
        "x = {'a', 'b', 'c'}\n",
        "print('x: ', x)\n"
      ],
      "metadata": {
        "id": "kzlYS2LF4eXD"
      },
      "execution_count": null,
      "outputs": []
    },
    {
      "cell_type": "markdown",
      "source": [
        "## Condtional Statements\n",
        "The if-else statements in python is used for decision making. Similar to any other programming language, Python follows the below basic syntax,\n",
        "\n",
        "\n",
        "```\n",
        "if <condition>:\n",
        "    <execute true block>\n",
        "else:\n",
        "    <execute false block>\n",
        "  ```\n",
        "\n"
      ],
      "metadata": {
        "id": "SWcqgwNXGemx"
      }
    },
    {
      "cell_type": "code",
      "source": [
        "def conditional_sample(key):\n",
        "    print('\\nSearch key: '+key)\n",
        "    if key in ['as', 'sa', 'vd']: #condition: <s in [...]>\n",
        "        print(' Executing true block ...')\n",
        "        print(' '+key+' exists in the list.')\n",
        "    else:\n",
        "        print(' Executing false block ...')\n",
        "        print(' '+key+' does not exist in the list.')\n",
        "    print('Conditional block execution complete.')\n",
        "    print('-'*10)\n",
        "\n",
        "s = 'as'\n",
        "conditional_sample(s)\n",
        "\n",
        "s = 'ad'\n",
        "conditional_sample(s)"
      ],
      "metadata": {
        "colab": {
          "base_uri": "https://localhost:8080/"
        },
        "id": "La5oGj7UJdoK",
        "outputId": "7cc96d6c-ac7c-4b6c-8e2e-c26ff7d59857"
      },
      "execution_count": null,
      "outputs": [
        {
          "output_type": "stream",
          "name": "stdout",
          "text": [
            "\n",
            "Search key: as\n",
            " Executing true block ...\n",
            " as exists in the list.\n",
            "Conditional block execution complete.\n",
            "----------\n",
            "\n",
            "Search key: ad\n",
            " Executing false block ...\n",
            " ad does not exist in the list.\n",
            "Conditional block execution complete.\n",
            "----------\n"
          ]
        }
      ]
    },
    {
      "cell_type": "markdown",
      "source": [
        "## Control Statements - break, continue\n",
        "\n",
        "Control the flow of execution of a program. Make decisions, repeat code, control order of execution.\n",
        "\n",
        "\n",
        "\n",
        "*   break statement - allows to exit a loop prematurely.\n",
        "\n",
        "\n",
        "```\n",
        "while condition:\n",
        "    # code to be executed as long as condition is true\n",
        "    if some_condition:\n",
        "        break\n",
        "```\n",
        "\n",
        "\n",
        "*   continue statement - allows you to skip over an iteration of a loop.\n",
        "\n",
        "\n",
        "\n",
        "```\n",
        "for var in iterable:\n",
        "    if some_condition:\n",
        "        continue\n",
        "    # code to be executed for each item in iterable, except for items where some_condition is true\n",
        "\n",
        "```\n",
        "\n"
      ],
      "metadata": {
        "id": "YVxYeEkcRXbm"
      }
    },
    {
      "cell_type": "code",
      "source": [
        "#example of a break statement\n",
        "fruits = [\"apple\", \"banana\", \"cherry\", \"orange\", \"kiwi\"]\n",
        "\n",
        "for fruit in fruits:\n",
        "    if fruit == \"orange\":\n",
        "        break   # stop the loop if we find the fruit we're looking for\n",
        "    print(fruit) # avoid printing out any more fruits after \"orange\"."
      ],
      "metadata": {
        "colab": {
          "base_uri": "https://localhost:8080/"
        },
        "id": "kCLRcmAvcaVj",
        "outputId": "73380abd-38c0-43be-83ba-5e53686945d0"
      },
      "execution_count": null,
      "outputs": [
        {
          "output_type": "stream",
          "name": "stdout",
          "text": [
            "apple\n",
            "banana\n",
            "cherry\n"
          ]
        }
      ]
    },
    {
      "cell_type": "code",
      "source": [
        "#example of a continue statement\n",
        "numbers = [1, 2, 3, 4, 5, 6, 7, 8, 9, 10]\n",
        "\n",
        "for num in numbers:\n",
        "    if num % 2 == 0:\n",
        "        continue   # skip over even numbers\n",
        "    print(num) #avoid printing out any even numbers and only print out the odd ones."
      ],
      "metadata": {
        "colab": {
          "base_uri": "https://localhost:8080/"
        },
        "id": "ckPcfaAgdSPn",
        "outputId": "bb39af8e-daa5-4e6e-db8b-65e1dea5a194"
      },
      "execution_count": null,
      "outputs": [
        {
          "output_type": "stream",
          "name": "stdout",
          "text": [
            "1\n",
            "3\n",
            "5\n",
            "7\n",
            "9\n"
          ]
        }
      ]
    },
    {
      "cell_type": "markdown",
      "source": [
        "## Loops\n",
        "Programming constructs that allow for a repeated execution of a block of code based on certain conditions.\n",
        "\n",
        "\n",
        "*   for loop\n",
        "  Iterate over a sequence (ex: list, tuple, string, or range) for a specific number of times.\n",
        "\n",
        "\n",
        "```\n",
        "for variable in sequence:\n",
        "    # code block to be executed\n",
        "```\n",
        "\n",
        "\n",
        "*   while loop\n",
        "  Repeatedly execute a block of code as long as a certain condition is true.\n",
        "\n",
        "\n",
        "```\n",
        "while condition:\n",
        "    # code block to be executed\n",
        "```\n",
        "\n",
        "\n",
        "\n",
        "\n",
        "\n"
      ],
      "metadata": {
        "id": "hSOufTuWLPPO"
      }
    },
    {
      "cell_type": "code",
      "source": [
        "print('\\nIterating over a list ... ')\n",
        "fruits = [\"apple\", \"banana\", \"cherry\"]\n",
        "for fruit in fruits:\n",
        "    print(fruit)\n",
        "\n",
        "print('\\nIterating over a string ... ')\n",
        "name = \"John\"\n",
        "for letter in name:\n",
        "    print(letter)\n",
        "\n",
        "print('\\nIterating over a range of numbers ... ')\n",
        "for i in range(1, 6):\n",
        "    print(i)"
      ],
      "metadata": {
        "colab": {
          "base_uri": "https://localhost:8080/"
        },
        "id": "1toU67iaN4zq",
        "outputId": "de0e68c9-f41d-483a-be25-536a59629484"
      },
      "execution_count": null,
      "outputs": [
        {
          "output_type": "stream",
          "name": "stdout",
          "text": [
            "\n",
            "Iterating over a list ... \n",
            "apple\n",
            "banana\n",
            "cherry\n",
            "\n",
            "Iterating over a string ... \n",
            "J\n",
            "o\n",
            "h\n",
            "n\n",
            "\n",
            "Iterating over a range of numbers ... \n",
            "1\n",
            "2\n",
            "3\n",
            "4\n",
            "5\n"
          ]
        }
      ]
    },
    {
      "cell_type": "code",
      "source": [
        "print('Summation using a while loop ...')\n",
        "sum = 0\n",
        "i = 1\n",
        "while i <= 5:\n",
        "    print('\\nIterating over '+str(i))\n",
        "    sum += i\n",
        "    i += 1\n",
        "    print('Current sum: '+str(sum))\n",
        "\n",
        "print(\"\\n\\nFinal sum is:\", sum)"
      ],
      "metadata": {
        "colab": {
          "base_uri": "https://localhost:8080/"
        },
        "id": "_mUYea7COT4P",
        "outputId": "7d4d42ba-3246-465f-9b5d-12434dc40387"
      },
      "execution_count": null,
      "outputs": [
        {
          "output_type": "stream",
          "name": "stdout",
          "text": [
            "Summation using a while loop ...\n",
            "\n",
            "Iterating over 1\n",
            "Current sum: 1\n",
            "\n",
            "Iterating over 2\n",
            "Current sum: 3\n",
            "\n",
            "Iterating over 3\n",
            "Current sum: 6\n",
            "\n",
            "Iterating over 4\n",
            "Current sum: 10\n",
            "\n",
            "Iterating over 5\n",
            "Current sum: 15\n",
            "\n",
            "\n",
            "Final sum is: 15\n"
          ]
        }
      ]
    },
    {
      "cell_type": "markdown",
      "source": [
        "### How can container and loop be used together?\n",
        "\n",
        "Ans: a simple application in machine learning is matrix multiplication.\n",
        "\n",
        "Matrix multiplication is a mathematical operation that involves multiplying two matrices together to produce a third matrix. When performing matrix multiplication in Python, you can use **containers** like `numpy` arrays to represent the matrices. This involves creating two-dimensional arrays that hold the values of the matrices.\n",
        "\n",
        "To perform matrix multiplication, you can use a naive approach that involves using nested **loops** to iterate over the rows and columns of the matrices. The **loops** compute the products of the corresponding elements and store them in the appropriate positions in the resulting matrix. This approach is simple and easy to understand, but can be computationally expensive for large matrices."
      ],
      "metadata": {
        "id": "Jhh1XdNSNjye"
      }
    },
    {
      "cell_type": "code",
      "source": [
        "# Define the 2x2 matrices (in python it is a list of lists)\n",
        "A = [[1, 2], [3, 4]]\n",
        "B = [[5, 6], [7, 8]]\n",
        "\n",
        "# Create an empty 2x2 matrix to store the result\n",
        "C = [[0, 0], [0, 0]]\n",
        "\n",
        "# Iterate over the rows of A\n",
        "for i in range(len(A)):\n",
        "    # Iterate over the columns of B\n",
        "    for j in range(len(B[0])):\n",
        "        # Iterate over the rows of B\n",
        "        for k in range(len(B)):\n",
        "            # Compute the product of corresponding elements and add to the result matrix\n",
        "            C[i][j] += A[i][k] * B[k][j]\n",
        "\n",
        "# Print the result\n",
        "print(C)"
      ],
      "metadata": {
        "colab": {
          "base_uri": "https://localhost:8080/"
        },
        "id": "O-gYQw-cUz1F",
        "outputId": "4d5404a3-4dc2-4b6d-fcf8-2505c0b2987d"
      },
      "execution_count": null,
      "outputs": [
        {
          "output_type": "stream",
          "name": "stdout",
          "text": [
            "[[19, 22], [43, 50]]\n"
          ]
        }
      ]
    },
    {
      "cell_type": "markdown",
      "source": [
        "While this approach is simple to understand, it can be inefficient for large matrices. In practice, optimized linear algebra libraries like `numpy` use more efficient algorithms and techniques to perform matrix multiplication, resulting in faster computation times."
      ],
      "metadata": {
        "id": "i2lZsXctWELv"
      }
    },
    {
      "cell_type": "markdown",
      "source": [
        "## Functions\n",
        "Reusable blocks of code that perform specific tasks, that help in making the code more modular (easy to read and maintain).\n",
        "\n",
        "\n",
        "```\n",
        "def function_name(argument1, argument2, ...):\n",
        "    # function body\n",
        "    statement1\n",
        "    statement2\n",
        "    ...\n",
        "    return value\n",
        "\n",
        "```\n",
        "\n"
      ],
      "metadata": {
        "id": "60LONgviO4px"
      }
    },
    {
      "cell_type": "code",
      "source": [
        "#a simple function definition that adds two numbers\n",
        "def add_numbers(x, y):\n",
        "    sum = x + y\n",
        "    return sum\n",
        "\n",
        "#passing in values for x and y\n",
        "result = add_numbers(5, 3)\n",
        "print(result) # Output: 8\n"
      ],
      "metadata": {
        "colab": {
          "base_uri": "https://localhost:8080/"
        },
        "id": "PLxwnuKEPOWL",
        "outputId": "9b6a9963-4afc-4825-e50d-adad5eea26ce"
      },
      "execution_count": null,
      "outputs": [
        {
          "output_type": "stream",
          "name": "stdout",
          "text": [
            "8\n"
          ]
        }
      ]
    },
    {
      "cell_type": "markdown",
      "source": [
        "# Classes and Objects\n",
        "\n",
        "Classes define a set of attributes (i.e., variables) and methods (i.e., functions) that are shared by all instances of the class.\n",
        "\n",
        "An Object is an instance of a class, with its own set of attribute values.\n",
        "\n",
        "\n"
      ],
      "metadata": {
        "id": "QSDSvIEjPmUa"
      }
    },
    {
      "cell_type": "code",
      "source": [
        "class Person:\n",
        "    '''\n",
        "    a Person class with two attributes (name and age) and one method (get_details)\n",
        "    '''\n",
        "    def __init__(self, name, age): #called when an object is created from the class\n",
        "        self.name = name\n",
        "        self.age = age\n",
        "\n",
        "    def get_details(self):\n",
        "        print(\"Name: \", self.name, \"\\t Age: \", self.age)"
      ],
      "metadata": {
        "id": "LX1lECuOP-Mt"
      },
      "execution_count": null,
      "outputs": []
    },
    {
      "cell_type": "markdown",
      "source": [
        "In this example, the Person class has two attributes, `name` and `age`, which are passed in as parameters to the constructor method `__init__`. The class also has a method called `get_details`, which prints a message using the `name` and `age` attributes."
      ],
      "metadata": {
        "id": "UQEgihrFeruh"
      }
    },
    {
      "cell_type": "code",
      "source": [
        "# To create an object of the Person class, you can call the constructor method like this:\n",
        "person1 = Person(\"John\", 22)\n",
        "person2 = Person(\"Harry\", 23)"
      ],
      "metadata": {
        "id": "jY2VMlqeQAyo"
      },
      "execution_count": null,
      "outputs": []
    },
    {
      "cell_type": "markdown",
      "source": [
        "This creates a new object of the Person class and assigns it to the variable `person1`/`person2`."
      ],
      "metadata": {
        "id": "JihIBYBcfpg2"
      }
    },
    {
      "cell_type": "markdown",
      "source": [
        "You can access the object's attributes and methods using dot notation, like this:"
      ],
      "metadata": {
        "id": "933K1djQfJ7-"
      }
    },
    {
      "cell_type": "code",
      "source": [
        "print(person1.name) #accessing the name attribute for object person1\n",
        "person2.get_details() # calling the get_details() method for object person2"
      ],
      "metadata": {
        "colab": {
          "base_uri": "https://localhost:8080/"
        },
        "id": "lrL0nj4ZQY2D",
        "outputId": "7371f56f-76dd-4101-f137-8480936bcde7"
      },
      "execution_count": null,
      "outputs": [
        {
          "output_type": "stream",
          "name": "stdout",
          "text": [
            "John\n",
            "Name:  Harry \t Age:  23\n"
          ]
        }
      ]
    },
    {
      "cell_type": "markdown",
      "source": [
        "When you print an object in Python, the output you see is the default string representation of the object."
      ],
      "metadata": {
        "id": "HPcK2vjtfmfL"
      }
    },
    {
      "cell_type": "code",
      "source": [
        "print(person1)\n",
        "print(person2)"
      ],
      "metadata": {
        "colab": {
          "base_uri": "https://localhost:8080/"
        },
        "id": "9GL2W715QQLg",
        "outputId": "dbb5100b-e33f-491c-d914-53cd6780d751"
      },
      "execution_count": null,
      "outputs": [
        {
          "output_type": "stream",
          "name": "stdout",
          "text": [
            "<__main__.Person object at 0x7fc7323ce3d0>\n",
            "<__main__.Person object at 0x7fc7323ce2e0>\n"
          ]
        }
      ]
    },
    {
      "cell_type": "markdown",
      "source": [
        "This representation is typically the class name, followed by the memory address of the object in hexadecimal format. This output tells you that you have an object of the Person class located at memory address `0x7fc7323ce3d0`. The `__main__` part of the output refers to the name of the module in which the class is defined. If you want to provide a custom string representation for your objects, you can define a special method called `__str__` in your class. This method should return a string that represents the object in a more human-readable format."
      ],
      "metadata": {
        "id": "l7ugmYCjf_o6"
      }
    },
    {
      "cell_type": "code",
      "source": [
        "class Person:\n",
        "    def __init__(self, name, age):\n",
        "        self.name = name\n",
        "        self.age = age\n",
        "\n",
        "    def get_details(self):\n",
        "        print(\"Name: \", self.name, \"\\t Age: \", self.age)\n",
        "\n",
        "    def __str__(self):\n",
        "        return \"Person(name={}, age={})\".format(self.name, self.age)"
      ],
      "metadata": {
        "id": "bPsLXO8LgCTa"
      },
      "execution_count": null,
      "outputs": []
    },
    {
      "cell_type": "markdown",
      "source": [
        "In this example, the `__str__` method returns a string that includes the name and age attributes of the object. Now when you print the object, you'll see output like this:"
      ],
      "metadata": {
        "id": "9RwP1G63gInO"
      }
    },
    {
      "cell_type": "code",
      "source": [
        "person1 = Person(\"Alice\", 30)\n",
        "print(person1)\n",
        "\n",
        "# Output: Person(name=Alice, age=30)"
      ],
      "metadata": {
        "id": "tOpPzD9agM2-"
      },
      "execution_count": null,
      "outputs": []
    },
    {
      "cell_type": "markdown",
      "source": [
        "This is a more informative string representation of the person1 object."
      ],
      "metadata": {
        "id": "y8VNMfAZgSBo"
      }
    },
    {
      "cell_type": "markdown",
      "source": [
        "# Modules and Packages"
      ],
      "metadata": {
        "id": "WrSSfeypgfLs"
      }
    },
    {
      "cell_type": "markdown",
      "source": [
        "In Python, a module is a file containing Python code. A module can define functions, classes, and variables, which can be used in other Python programs. When you want to use code from a module in your program, you can import the module using the `import` statement."
      ],
      "metadata": {
        "id": "kbNYJEe7g1vS"
      }
    },
    {
      "cell_type": "code",
      "source": [
        "# Here's an example of how to import a module called \"math\":\n",
        "\n",
        "import math\n",
        "\n",
        "result = math.sqrt(25)\n",
        "print(result)  # Output: 5.0"
      ],
      "metadata": {
        "id": "R_DrAnxzgecK"
      },
      "execution_count": null,
      "outputs": []
    },
    {
      "cell_type": "markdown",
      "source": [
        "In this example, we import the math module and use its sqrt function to compute the square root of 25."
      ],
      "metadata": {
        "id": "ZEcG5CjqhEfE"
      }
    },
    {
      "cell_type": "markdown",
      "source": [
        "A package is a collection of modules that are organized in a directory hierarchy. Packages are used to organize related modules and provide a namespace to avoid naming conflicts. A package can contain subpackages, which are themselves packages, and modules. To use a module from a package, you need to specify the package name and the module name, separated by a dot. For example, to use the numpy package's linspace function, you would write:"
      ],
      "metadata": {
        "id": "bpwNBAQuhFqt"
      }
    },
    {
      "cell_type": "code",
      "source": [
        "import numpy\n",
        "\n",
        "result = numpy.linspace(0, 10, 5)\n",
        "print(result)  # Output: [ 0.   2.5  5.   7.5 10. ]"
      ],
      "metadata": {
        "id": "dyXaqNRAhMf9"
      },
      "execution_count": null,
      "outputs": []
    },
    {
      "cell_type": "markdown",
      "source": [
        "When you install Python packages using a package manager like `pip`, the packages are downloaded and installed from a repository of pre-built packages called the Python Package Index (PyPI). There are thousands of third-party packages available on PyPI that you can use to extend Python's functionality, ranging from data analysis libraries like `pandas` and `numpy`, to image processing libraries like `opencv` and `scikit-image`, to deep learning frameworks like `tensorflow` and `pytorch`, and to web frameworks like `Django` and `Flask`."
      ],
      "metadata": {
        "id": "K32OZkSuhTrO"
      }
    },
    {
      "cell_type": "markdown",
      "source": [
        "# References:\n",
        "\n",
        "\n",
        "*   https://www.learnpython.org/\n",
        "*   https://www.tutorialspoint.com/python/index.htm\n",
        "*   https://www.w3schools.com/python/\n",
        "\n",
        "\n",
        "\n"
      ],
      "metadata": {
        "id": "Epc2J0BLdyJo"
      }
    }
  ]
}